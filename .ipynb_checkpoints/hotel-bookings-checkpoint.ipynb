{
 "cells": [
  {
   "cell_type": "markdown",
   "metadata": {},
   "source": [
    "# Progetto: Hotel Bookings\n",
    "\n",
    "**Programmazione di Applicazioni Data Intensive**  \n",
    "Laurea in Ingegneria e Scienze Informatiche  \n",
    "DISI - Università di Bologna, Cesena\n",
    "\n",
    "Studente: Alessandro Lombardini  \n",
    "alessandr.lombardin3@unibo.it\n"
   ]
  },
  {
   "cell_type": "code",
   "execution_count": 216,
   "metadata": {},
   "outputs": [],
   "source": [
    "# Setup librerie\n",
    "%matplotlib inline\n",
    "import numpy as np\n",
    "import pandas as pd\n",
    "import matplotlib.pyplot as plt\n",
    "import sklearn"
   ]
  },
  {
   "cell_type": "markdown",
   "metadata": {},
   "source": [
    "## Caso di studio\n",
    "\n",
    "- Data una prenotazione di un cliente presso un hotel, si vuole valutare se questa verrà cancellata\n",
    "- Da ciascuna prenotazione possono essere estratte delle caratteristiche\n",
    "  - numero di adulti, giorno di arrivo, numero di posti auto richiesti, ...\n",
    "- Vogliamo addestrare un modello a classificare ciascuna prenotazione sulla base di queste caratteristiche"
   ]
  },
  {
   "cell_type": "markdown",
   "metadata": {},
   "source": [
    "- Utilizziamo [Hotel booking demand](https://www.kaggle.com/jessemostipak/hotel-booking-demand), in cui ogni osservazione contiene le caratteristiche estratte da una prenotazione\n",
    "- Con `read_csv` possiamo importare il dataset direttamente in un frame pandas dato il suo URL"
   ]
  },
  {
   "cell_type": "code",
   "execution_count": 217,
   "metadata": {},
   "outputs": [],
   "source": [
    "HBD_URL = \"https://bitbucket.org/alessandrolombardini/hotel-bookings/raw/d5130f7e47e3e943886c1ab5266197202e6fe9af/hotel_bookings.csv\"\n",
    "hbd_complete = pd.read_csv(HBD_URL)"
   ]
  },
  {
   "cell_type": "code",
   "execution_count": 218,
   "metadata": {
    "scrolled": false
   },
   "outputs": [
    {
     "data": {
      "text/html": [
       "<div>\n",
       "<style scoped>\n",
       "    .dataframe tbody tr th:only-of-type {\n",
       "        vertical-align: middle;\n",
       "    }\n",
       "\n",
       "    .dataframe tbody tr th {\n",
       "        vertical-align: top;\n",
       "    }\n",
       "\n",
       "    .dataframe thead th {\n",
       "        text-align: right;\n",
       "    }\n",
       "</style>\n",
       "<table border=\"1\" class=\"dataframe\">\n",
       "  <thead>\n",
       "    <tr style=\"text-align: right;\">\n",
       "      <th></th>\n",
       "      <th>hotel</th>\n",
       "      <th>is_canceled</th>\n",
       "      <th>lead_time</th>\n",
       "      <th>arrival_date_year</th>\n",
       "      <th>arrival_date_month</th>\n",
       "      <th>arrival_date_week_number</th>\n",
       "      <th>arrival_date_day_of_month</th>\n",
       "      <th>stays_in_weekend_nights</th>\n",
       "      <th>stays_in_week_nights</th>\n",
       "      <th>adults</th>\n",
       "      <th>children</th>\n",
       "      <th>babies</th>\n",
       "      <th>meal</th>\n",
       "      <th>country</th>\n",
       "      <th>market_segment</th>\n",
       "      <th>distribution_channel</th>\n",
       "      <th>is_repeated_guest</th>\n",
       "      <th>previous_cancellations</th>\n",
       "      <th>previous_bookings_not_canceled</th>\n",
       "      <th>reserved_room_type</th>\n",
       "      <th>assigned_room_type</th>\n",
       "      <th>booking_changes</th>\n",
       "      <th>deposit_type</th>\n",
       "      <th>agent</th>\n",
       "      <th>company</th>\n",
       "      <th>days_in_waiting_list</th>\n",
       "      <th>customer_type</th>\n",
       "      <th>adr</th>\n",
       "      <th>required_car_parking_spaces</th>\n",
       "      <th>total_of_special_requests</th>\n",
       "      <th>reservation_status</th>\n",
       "      <th>reservation_status_date</th>\n",
       "    </tr>\n",
       "  </thead>\n",
       "  <tbody>\n",
       "    <tr>\n",
       "      <td>0</td>\n",
       "      <td>Resort Hotel</td>\n",
       "      <td>0</td>\n",
       "      <td>342</td>\n",
       "      <td>2015</td>\n",
       "      <td>July</td>\n",
       "      <td>27</td>\n",
       "      <td>1</td>\n",
       "      <td>0</td>\n",
       "      <td>0</td>\n",
       "      <td>2</td>\n",
       "      <td>0.0</td>\n",
       "      <td>0</td>\n",
       "      <td>BB</td>\n",
       "      <td>PRT</td>\n",
       "      <td>Direct</td>\n",
       "      <td>Direct</td>\n",
       "      <td>0</td>\n",
       "      <td>0</td>\n",
       "      <td>0</td>\n",
       "      <td>C</td>\n",
       "      <td>C</td>\n",
       "      <td>3</td>\n",
       "      <td>No Deposit</td>\n",
       "      <td>NaN</td>\n",
       "      <td>NaN</td>\n",
       "      <td>0</td>\n",
       "      <td>Transient</td>\n",
       "      <td>0.0</td>\n",
       "      <td>0</td>\n",
       "      <td>0</td>\n",
       "      <td>Check-Out</td>\n",
       "      <td>2015-07-01</td>\n",
       "    </tr>\n",
       "    <tr>\n",
       "      <td>1</td>\n",
       "      <td>Resort Hotel</td>\n",
       "      <td>0</td>\n",
       "      <td>737</td>\n",
       "      <td>2015</td>\n",
       "      <td>July</td>\n",
       "      <td>27</td>\n",
       "      <td>1</td>\n",
       "      <td>0</td>\n",
       "      <td>0</td>\n",
       "      <td>2</td>\n",
       "      <td>0.0</td>\n",
       "      <td>0</td>\n",
       "      <td>BB</td>\n",
       "      <td>PRT</td>\n",
       "      <td>Direct</td>\n",
       "      <td>Direct</td>\n",
       "      <td>0</td>\n",
       "      <td>0</td>\n",
       "      <td>0</td>\n",
       "      <td>C</td>\n",
       "      <td>C</td>\n",
       "      <td>4</td>\n",
       "      <td>No Deposit</td>\n",
       "      <td>NaN</td>\n",
       "      <td>NaN</td>\n",
       "      <td>0</td>\n",
       "      <td>Transient</td>\n",
       "      <td>0.0</td>\n",
       "      <td>0</td>\n",
       "      <td>0</td>\n",
       "      <td>Check-Out</td>\n",
       "      <td>2015-07-01</td>\n",
       "    </tr>\n",
       "    <tr>\n",
       "      <td>2</td>\n",
       "      <td>Resort Hotel</td>\n",
       "      <td>0</td>\n",
       "      <td>7</td>\n",
       "      <td>2015</td>\n",
       "      <td>July</td>\n",
       "      <td>27</td>\n",
       "      <td>1</td>\n",
       "      <td>0</td>\n",
       "      <td>1</td>\n",
       "      <td>1</td>\n",
       "      <td>0.0</td>\n",
       "      <td>0</td>\n",
       "      <td>BB</td>\n",
       "      <td>GBR</td>\n",
       "      <td>Direct</td>\n",
       "      <td>Direct</td>\n",
       "      <td>0</td>\n",
       "      <td>0</td>\n",
       "      <td>0</td>\n",
       "      <td>A</td>\n",
       "      <td>C</td>\n",
       "      <td>0</td>\n",
       "      <td>No Deposit</td>\n",
       "      <td>NaN</td>\n",
       "      <td>NaN</td>\n",
       "      <td>0</td>\n",
       "      <td>Transient</td>\n",
       "      <td>75.0</td>\n",
       "      <td>0</td>\n",
       "      <td>0</td>\n",
       "      <td>Check-Out</td>\n",
       "      <td>2015-07-02</td>\n",
       "    </tr>\n",
       "  </tbody>\n",
       "</table>\n",
       "</div>"
      ],
      "text/plain": [
       "          hotel  is_canceled  lead_time  arrival_date_year arrival_date_month  \\\n",
       "0  Resort Hotel            0        342               2015               July   \n",
       "1  Resort Hotel            0        737               2015               July   \n",
       "2  Resort Hotel            0          7               2015               July   \n",
       "\n",
       "   arrival_date_week_number  arrival_date_day_of_month  \\\n",
       "0                        27                          1   \n",
       "1                        27                          1   \n",
       "2                        27                          1   \n",
       "\n",
       "   stays_in_weekend_nights  stays_in_week_nights  adults  children  babies  \\\n",
       "0                        0                     0       2       0.0       0   \n",
       "1                        0                     0       2       0.0       0   \n",
       "2                        0                     1       1       0.0       0   \n",
       "\n",
       "  meal country market_segment distribution_channel  is_repeated_guest  \\\n",
       "0   BB     PRT         Direct               Direct                  0   \n",
       "1   BB     PRT         Direct               Direct                  0   \n",
       "2   BB     GBR         Direct               Direct                  0   \n",
       "\n",
       "   previous_cancellations  previous_bookings_not_canceled reserved_room_type  \\\n",
       "0                       0                               0                  C   \n",
       "1                       0                               0                  C   \n",
       "2                       0                               0                  A   \n",
       "\n",
       "  assigned_room_type  booking_changes deposit_type  agent  company  \\\n",
       "0                  C                3   No Deposit    NaN      NaN   \n",
       "1                  C                4   No Deposit    NaN      NaN   \n",
       "2                  C                0   No Deposit    NaN      NaN   \n",
       "\n",
       "   days_in_waiting_list customer_type   adr  required_car_parking_spaces  \\\n",
       "0                     0     Transient   0.0                            0   \n",
       "1                     0     Transient   0.0                            0   \n",
       "2                     0     Transient  75.0                            0   \n",
       "\n",
       "   total_of_special_requests reservation_status reservation_status_date  \n",
       "0                          0          Check-Out              2015-07-01  \n",
       "1                          0          Check-Out              2015-07-01  \n",
       "2                          0          Check-Out              2015-07-02  "
      ]
     },
     "execution_count": 218,
     "metadata": {},
     "output_type": "execute_result"
    }
   ],
   "source": [
    "hbd_complete.head(3)"
   ]
  },
  {
   "cell_type": "markdown",
   "metadata": {},
   "source": [
    "- `Hotel booking demand` prevede al suo interno due dataset, uno per _Resort Hotel_ e uno per _City Hotel_. Entrambi i dataset condividono la stessa struttura, e comprendono prenotazioni effettuate dal 1 Luglio 2015 al 31 Agosto 2017. Poichè questi sono dati reali, tutti i dati personali dei clienti sono stati eliminati oppore sostiuiti con identificativi anonimi. "
   ]
  },
  {
   "cell_type": "markdown",
   "metadata": {},
   "source": [
    "- Si tratta di classificazione binaria, ovvero con due possibili classi\n",
    "- La colonna `is_canceled` indica la classificazione delle prenotazioni \n",
    "    - 0 = non cancellata, 1 = cancellata\n",
    "- Le altre 31 colonne corrispondono alle altre variabili estratte dalla prenotazione\n",
    "\n",
    "- Il dataset presenta le seguenti dimensioni:\n",
    "    - 119390 istanze \n",
    "    - 32 feature"
   ]
  },
  {
   "cell_type": "code",
   "execution_count": 219,
   "metadata": {
    "scrolled": true
   },
   "outputs": [
    {
     "data": {
      "text/plain": [
       "(119390, 32)"
      ]
     },
     "execution_count": 219,
     "metadata": {},
     "output_type": "execute_result"
    }
   ],
   "source": [
    "hbd_complete.shape"
   ]
  },
  {
   "cell_type": "markdown",
   "metadata": {},
   "source": [
    "### Lista delle variabili\n",
    "\n",
    "- `hotel`: hotel prenotato dal cliente (H1 = Resort Hotel o H2 = City Hotel)\n",
    "- `lead_time`: numero di giorni che intercorrono dal giorno di prenotazione al giorno di arrivo in hotel del cliente\n",
    "- `arrival_date_year`: anno di arrivo del cliente in hotel\n",
    "- `arrival_date_month`: mese di arrivo del cliente in hotel\n",
    "- `arrival_date_week_number`: numero della settimana dell'anno di arrivo del cliente in hotel\n",
    "- `arrival_date_day_of_month`: numero del giorno del mese di arrivo del cliente in hotel\n",
    "- `stays_in_weekend_nights`: numero di notti di finesettimana (Sabato e Domenica) prenotate del cliente\n",
    "- `stays_in_week_nights`:  numero di notti non di finesettimana (da Lunedi a Venerdi) prenotate del cliente\n",
    "- `adults`: numero di adulti \n",
    "- `children`: numero di bambini \n",
    "- `babies`: numero di neonati\n",
    "- `meal`: pacchetto pasti richiesto dal cliente\n",
    "    - Undefined/SC – nessuno pacchetto\n",
    "    - BB – Bed & Breakfast \n",
    "    - HB – Mezza pensione (colazione ed un altro pasto – solitamente cena); \n",
    "    - FB – Pensione completa (colazione, pranzo e cena)\n",
    "- `country`: stato di provenienza\n",
    "- `market_segment`: segmento di mercato associato alla prenotazione (utile per raggruppare le prenotazioni in gruppi, al fine di adottare stategie di marketing adeguate)\n",
    "- `distribution_channel`: canale per tramite del quale il cliente ha effettuato la prenotazione (TA/TO: il cliente si è appoggiato ad un agente di viaggio, Direct: la prenotazione è stata fatta dal cliente direttamente, ed altri)\n",
    "- `is_repeated_guest`: indica se la prenotazione è fatta da un cliente che aveva già prenotato in passato\n",
    "    - 1: Si, aveva già prenotato\n",
    "    - 0: No, non aveva mai prenotato\n",
    "- `previous_cancellations`: numero di prenotazioni cancellate in passato dal cliente\n",
    "- `previous_bookings_not_canceled`: numero di prenotazioni effettuate in passato dal cliente e non cancellate\n",
    "- `reserved_room_type`: codice del tipo di stanza richiesta dal cliente\n",
    "- `assigned_room_type`: codice del tipo di stanza assegnata alla prenotazione. A volte vengono assegnate stanze diverse da quelle riservate per motivi legati all'Hotel (es. overbooking) o per richiesta del cliente. \n",
    "- `booking_changes`: numero di cambiamenti apportati alla prenotazione fino al momento del Check-In o della cancellazione\n",
    "- `deposit_type`: indica se il cliente ha effettuato un deposito per garantirsi la prenotazione\n",
    "    - No Deposit: nessun deposito è stato fatto\n",
    "    - Non Refund: è stato pagato l'intero importo del soggiorno\n",
    "    - Refundable: è stata pagata solo una parte dell'importo dell'intero soggiorno\n",
    "- `agent`: ID dell'agente di viaggio che ha effettuato la prenotazione\n",
    "- `company`: ID della compagnia che ha effettuato la prenotazione o che ha pagato la prenotazione. \n",
    "- `days_in_waiting_list`: numero di giorni in cui la prenotazione è rimasta in lista di attesa prima di essere confermata al cliente\n",
    "- `customer_type`: tipologia di prenotazione\n",
    "    - Contract: la prenotazione è associata ad un contratto\n",
    "    - Group: la prenotazione è associata ad un gruppo\n",
    "    - Transient: la prenotazione non è parte ne di un gruppo ne di un contratto, e non è associata ad altre prenotazione Transient \n",
    "    - Transient-party: la prenotazione è Transient ed è associata ad altre prenotazioni Transient (Transient è un termine utilizzato per indicare quelle prenotazioni effettuate da soggetti prevalentemente in movimento che effettuano brevi soggiorni in hotel, spesso last minute)\n",
    "- `adr`: Avarage Daily Rate, definito come il costo del soggiorno diviso il numero di notti\n",
    "- `required_car_parking_spaces`: numero di spazi macchina richiesti dal cliente\n",
    "- `total_of_special_requests`: numero di richieste speciali effettuate dal cliente\n",
    "- `reservation_status`: ultimo stato registrato della prenotazione\n",
    "    - Canceled: la prenotazione è stata cancellata dal cliente\n",
    "    - Check-Out: il client ha effettuato il Check-In e la sua permanenza è terminata\n",
    "    - No-Show: il cliente non ha effettuato il Check-In e ha informato l'hotel del motivo\n",
    "- `reservation_status_date`: data dell'ultima modifica alla variabile `reservation_status` \n",
    "- **`is_canceled`**: indica se la prenotazione è stata cancellata o no\n",
    "    - 0: Non cancellata\n",
    "    - 1: Cancellata"
   ]
  },
  {
   "cell_type": "markdown",
   "metadata": {},
   "source": [
    "- La variabile **is_canceled** indica la classificazione della prenotazione, vogliamo stabilire il valore di questa variabile in funzione delle altre"
   ]
  },
  {
   "cell_type": "markdown",
   "metadata": {},
   "source": [
    "- Aumentiamo il limite di colonne che pandas di default ci consente di visualizzare"
   ]
  },
  {
   "cell_type": "code",
   "execution_count": 220,
   "metadata": {},
   "outputs": [],
   "source": [
    "pd.options.display.max_columns = 32"
   ]
  },
  {
   "cell_type": "code",
   "execution_count": 221,
   "metadata": {},
   "outputs": [
    {
     "data": {
      "text/html": [
       "<div>\n",
       "<style scoped>\n",
       "    .dataframe tbody tr th:only-of-type {\n",
       "        vertical-align: middle;\n",
       "    }\n",
       "\n",
       "    .dataframe tbody tr th {\n",
       "        vertical-align: top;\n",
       "    }\n",
       "\n",
       "    .dataframe thead th {\n",
       "        text-align: right;\n",
       "    }\n",
       "</style>\n",
       "<table border=\"1\" class=\"dataframe\">\n",
       "  <thead>\n",
       "    <tr style=\"text-align: right;\">\n",
       "      <th></th>\n",
       "      <th>hotel</th>\n",
       "      <th>is_canceled</th>\n",
       "      <th>lead_time</th>\n",
       "      <th>arrival_date_year</th>\n",
       "      <th>arrival_date_month</th>\n",
       "      <th>arrival_date_week_number</th>\n",
       "      <th>arrival_date_day_of_month</th>\n",
       "      <th>stays_in_weekend_nights</th>\n",
       "      <th>stays_in_week_nights</th>\n",
       "      <th>adults</th>\n",
       "      <th>children</th>\n",
       "      <th>babies</th>\n",
       "      <th>meal</th>\n",
       "      <th>country</th>\n",
       "      <th>market_segment</th>\n",
       "      <th>distribution_channel</th>\n",
       "      <th>is_repeated_guest</th>\n",
       "      <th>previous_cancellations</th>\n",
       "      <th>previous_bookings_not_canceled</th>\n",
       "      <th>reserved_room_type</th>\n",
       "      <th>assigned_room_type</th>\n",
       "      <th>booking_changes</th>\n",
       "      <th>deposit_type</th>\n",
       "      <th>agent</th>\n",
       "      <th>company</th>\n",
       "      <th>days_in_waiting_list</th>\n",
       "      <th>customer_type</th>\n",
       "      <th>adr</th>\n",
       "      <th>required_car_parking_spaces</th>\n",
       "      <th>total_of_special_requests</th>\n",
       "      <th>reservation_status</th>\n",
       "      <th>reservation_status_date</th>\n",
       "    </tr>\n",
       "  </thead>\n",
       "  <tbody>\n",
       "    <tr>\n",
       "      <td>0</td>\n",
       "      <td>Resort Hotel</td>\n",
       "      <td>0</td>\n",
       "      <td>342</td>\n",
       "      <td>2015</td>\n",
       "      <td>July</td>\n",
       "      <td>27</td>\n",
       "      <td>1</td>\n",
       "      <td>0</td>\n",
       "      <td>0</td>\n",
       "      <td>2</td>\n",
       "      <td>0.0</td>\n",
       "      <td>0</td>\n",
       "      <td>BB</td>\n",
       "      <td>PRT</td>\n",
       "      <td>Direct</td>\n",
       "      <td>Direct</td>\n",
       "      <td>0</td>\n",
       "      <td>0</td>\n",
       "      <td>0</td>\n",
       "      <td>C</td>\n",
       "      <td>C</td>\n",
       "      <td>3</td>\n",
       "      <td>No Deposit</td>\n",
       "      <td>NaN</td>\n",
       "      <td>NaN</td>\n",
       "      <td>0</td>\n",
       "      <td>Transient</td>\n",
       "      <td>0.0</td>\n",
       "      <td>0</td>\n",
       "      <td>0</td>\n",
       "      <td>Check-Out</td>\n",
       "      <td>2015-07-01</td>\n",
       "    </tr>\n",
       "    <tr>\n",
       "      <td>1</td>\n",
       "      <td>Resort Hotel</td>\n",
       "      <td>0</td>\n",
       "      <td>737</td>\n",
       "      <td>2015</td>\n",
       "      <td>July</td>\n",
       "      <td>27</td>\n",
       "      <td>1</td>\n",
       "      <td>0</td>\n",
       "      <td>0</td>\n",
       "      <td>2</td>\n",
       "      <td>0.0</td>\n",
       "      <td>0</td>\n",
       "      <td>BB</td>\n",
       "      <td>PRT</td>\n",
       "      <td>Direct</td>\n",
       "      <td>Direct</td>\n",
       "      <td>0</td>\n",
       "      <td>0</td>\n",
       "      <td>0</td>\n",
       "      <td>C</td>\n",
       "      <td>C</td>\n",
       "      <td>4</td>\n",
       "      <td>No Deposit</td>\n",
       "      <td>NaN</td>\n",
       "      <td>NaN</td>\n",
       "      <td>0</td>\n",
       "      <td>Transient</td>\n",
       "      <td>0.0</td>\n",
       "      <td>0</td>\n",
       "      <td>0</td>\n",
       "      <td>Check-Out</td>\n",
       "      <td>2015-07-01</td>\n",
       "    </tr>\n",
       "    <tr>\n",
       "      <td>2</td>\n",
       "      <td>Resort Hotel</td>\n",
       "      <td>0</td>\n",
       "      <td>7</td>\n",
       "      <td>2015</td>\n",
       "      <td>July</td>\n",
       "      <td>27</td>\n",
       "      <td>1</td>\n",
       "      <td>0</td>\n",
       "      <td>1</td>\n",
       "      <td>1</td>\n",
       "      <td>0.0</td>\n",
       "      <td>0</td>\n",
       "      <td>BB</td>\n",
       "      <td>GBR</td>\n",
       "      <td>Direct</td>\n",
       "      <td>Direct</td>\n",
       "      <td>0</td>\n",
       "      <td>0</td>\n",
       "      <td>0</td>\n",
       "      <td>A</td>\n",
       "      <td>C</td>\n",
       "      <td>0</td>\n",
       "      <td>No Deposit</td>\n",
       "      <td>NaN</td>\n",
       "      <td>NaN</td>\n",
       "      <td>0</td>\n",
       "      <td>Transient</td>\n",
       "      <td>75.0</td>\n",
       "      <td>0</td>\n",
       "      <td>0</td>\n",
       "      <td>Check-Out</td>\n",
       "      <td>2015-07-02</td>\n",
       "    </tr>\n",
       "  </tbody>\n",
       "</table>\n",
       "</div>"
      ],
      "text/plain": [
       "          hotel  is_canceled  lead_time  arrival_date_year arrival_date_month  \\\n",
       "0  Resort Hotel            0        342               2015               July   \n",
       "1  Resort Hotel            0        737               2015               July   \n",
       "2  Resort Hotel            0          7               2015               July   \n",
       "\n",
       "   arrival_date_week_number  arrival_date_day_of_month  \\\n",
       "0                        27                          1   \n",
       "1                        27                          1   \n",
       "2                        27                          1   \n",
       "\n",
       "   stays_in_weekend_nights  stays_in_week_nights  adults  children  babies  \\\n",
       "0                        0                     0       2       0.0       0   \n",
       "1                        0                     0       2       0.0       0   \n",
       "2                        0                     1       1       0.0       0   \n",
       "\n",
       "  meal country market_segment distribution_channel  is_repeated_guest  \\\n",
       "0   BB     PRT         Direct               Direct                  0   \n",
       "1   BB     PRT         Direct               Direct                  0   \n",
       "2   BB     GBR         Direct               Direct                  0   \n",
       "\n",
       "   previous_cancellations  previous_bookings_not_canceled reserved_room_type  \\\n",
       "0                       0                               0                  C   \n",
       "1                       0                               0                  C   \n",
       "2                       0                               0                  A   \n",
       "\n",
       "  assigned_room_type  booking_changes deposit_type  agent  company  \\\n",
       "0                  C                3   No Deposit    NaN      NaN   \n",
       "1                  C                4   No Deposit    NaN      NaN   \n",
       "2                  C                0   No Deposit    NaN      NaN   \n",
       "\n",
       "   days_in_waiting_list customer_type   adr  required_car_parking_spaces  \\\n",
       "0                     0     Transient   0.0                            0   \n",
       "1                     0     Transient   0.0                            0   \n",
       "2                     0     Transient  75.0                            0   \n",
       "\n",
       "   total_of_special_requests reservation_status reservation_status_date  \n",
       "0                          0          Check-Out              2015-07-01  \n",
       "1                          0          Check-Out              2015-07-01  \n",
       "2                          0          Check-Out              2015-07-02  "
      ]
     },
     "execution_count": 221,
     "metadata": {},
     "output_type": "execute_result"
    }
   ],
   "source": [
    "hbd_complete.head(3)"
   ]
  },
  {
   "cell_type": "markdown",
   "metadata": {},
   "source": [
    "## Preparazione dei dati"
   ]
  },
  {
   "cell_type": "markdown",
   "metadata": {},
   "source": [
    "- Il nostro obiettivo è realizzare un modello di classificazione per una specificia struttura ospitante, l'hotel _City Hotel_\n",
    "\n",
    "- Il dataset prevede istanze di due strutture: _Resort Hotel_ e _City Hotel_"
   ]
  },
  {
   "cell_type": "code",
   "execution_count": 222,
   "metadata": {},
   "outputs": [
    {
     "data": {
      "text/plain": [
       "array(['Resort Hotel', 'City Hotel'], dtype=object)"
      ]
     },
     "execution_count": 222,
     "metadata": {},
     "output_type": "execute_result"
    }
   ],
   "source": [
    "hbd_complete[\"hotel\"].unique()"
   ]
  },
  {
   "cell_type": "markdown",
   "metadata": {},
   "source": [
    "- Vengono quindi rimosse le istanze del _Resort Hotel_"
   ]
  },
  {
   "cell_type": "code",
   "execution_count": 223,
   "metadata": {},
   "outputs": [
    {
     "data": {
      "text/plain": [
       "array(['City Hotel'], dtype=object)"
      ]
     },
     "execution_count": 223,
     "metadata": {},
     "output_type": "execute_result"
    }
   ],
   "source": [
    "hbd = hbd_complete[hbd_complete[\"hotel\"] == \"City Hotel\"].copy()\n",
    "hbd[\"hotel\"].unique()"
   ]
  },
  {
   "cell_type": "markdown",
   "metadata": {},
   "source": [
    "- Il dataset ora presenta:\n",
    "    - 79330 istanze"
   ]
  },
  {
   "cell_type": "code",
   "execution_count": 224,
   "metadata": {},
   "outputs": [
    {
     "data": {
      "text/plain": [
       "79330"
      ]
     },
     "execution_count": 224,
     "metadata": {},
     "output_type": "execute_result"
    }
   ],
   "source": [
    "hbd.shape[0]"
   ]
  },
  {
   "cell_type": "markdown",
   "metadata": {},
   "source": [
    "- La variabile `hotel` è diventata inutile, è quindi rimossa"
   ]
  },
  {
   "cell_type": "code",
   "execution_count": 225,
   "metadata": {},
   "outputs": [],
   "source": [
    "hbd.drop(inplace=True, axis=1, labels=['hotel'])"
   ]
  },
  {
   "cell_type": "markdown",
   "metadata": {},
   "source": [
    "- Visualizziamo le statistiche principali (media, dev, standard, ...) delle variabili"
   ]
  },
  {
   "cell_type": "code",
   "execution_count": 226,
   "metadata": {},
   "outputs": [
    {
     "data": {
      "text/html": [
       "<div>\n",
       "<style scoped>\n",
       "    .dataframe tbody tr th:only-of-type {\n",
       "        vertical-align: middle;\n",
       "    }\n",
       "\n",
       "    .dataframe tbody tr th {\n",
       "        vertical-align: top;\n",
       "    }\n",
       "\n",
       "    .dataframe thead th {\n",
       "        text-align: right;\n",
       "    }\n",
       "</style>\n",
       "<table border=\"1\" class=\"dataframe\">\n",
       "  <thead>\n",
       "    <tr style=\"text-align: right;\">\n",
       "      <th></th>\n",
       "      <th>count</th>\n",
       "      <th>mean</th>\n",
       "      <th>std</th>\n",
       "      <th>min</th>\n",
       "      <th>25%</th>\n",
       "      <th>50%</th>\n",
       "      <th>75%</th>\n",
       "      <th>max</th>\n",
       "    </tr>\n",
       "  </thead>\n",
       "  <tbody>\n",
       "    <tr>\n",
       "      <td>is_canceled</td>\n",
       "      <td>79330.0</td>\n",
       "      <td>0.417270</td>\n",
       "      <td>0.493111</td>\n",
       "      <td>0.0</td>\n",
       "      <td>0.0</td>\n",
       "      <td>0.0</td>\n",
       "      <td>1.0</td>\n",
       "      <td>1.0</td>\n",
       "    </tr>\n",
       "    <tr>\n",
       "      <td>lead_time</td>\n",
       "      <td>79330.0</td>\n",
       "      <td>109.735724</td>\n",
       "      <td>110.948526</td>\n",
       "      <td>0.0</td>\n",
       "      <td>23.0</td>\n",
       "      <td>74.0</td>\n",
       "      <td>163.0</td>\n",
       "      <td>629.0</td>\n",
       "    </tr>\n",
       "    <tr>\n",
       "      <td>arrival_date_year</td>\n",
       "      <td>79330.0</td>\n",
       "      <td>2016.174285</td>\n",
       "      <td>0.699181</td>\n",
       "      <td>2015.0</td>\n",
       "      <td>2016.0</td>\n",
       "      <td>2016.0</td>\n",
       "      <td>2017.0</td>\n",
       "      <td>2017.0</td>\n",
       "    </tr>\n",
       "    <tr>\n",
       "      <td>arrival_date_week_number</td>\n",
       "      <td>79330.0</td>\n",
       "      <td>27.177449</td>\n",
       "      <td>13.398523</td>\n",
       "      <td>1.0</td>\n",
       "      <td>17.0</td>\n",
       "      <td>27.0</td>\n",
       "      <td>38.0</td>\n",
       "      <td>53.0</td>\n",
       "    </tr>\n",
       "    <tr>\n",
       "      <td>arrival_date_day_of_month</td>\n",
       "      <td>79330.0</td>\n",
       "      <td>15.786625</td>\n",
       "      <td>8.728451</td>\n",
       "      <td>1.0</td>\n",
       "      <td>8.0</td>\n",
       "      <td>16.0</td>\n",
       "      <td>23.0</td>\n",
       "      <td>31.0</td>\n",
       "    </tr>\n",
       "    <tr>\n",
       "      <td>stays_in_weekend_nights</td>\n",
       "      <td>79330.0</td>\n",
       "      <td>0.795185</td>\n",
       "      <td>0.885026</td>\n",
       "      <td>0.0</td>\n",
       "      <td>0.0</td>\n",
       "      <td>1.0</td>\n",
       "      <td>2.0</td>\n",
       "      <td>16.0</td>\n",
       "    </tr>\n",
       "    <tr>\n",
       "      <td>stays_in_week_nights</td>\n",
       "      <td>79330.0</td>\n",
       "      <td>2.182957</td>\n",
       "      <td>1.456416</td>\n",
       "      <td>0.0</td>\n",
       "      <td>1.0</td>\n",
       "      <td>2.0</td>\n",
       "      <td>3.0</td>\n",
       "      <td>41.0</td>\n",
       "    </tr>\n",
       "    <tr>\n",
       "      <td>adults</td>\n",
       "      <td>79330.0</td>\n",
       "      <td>1.850977</td>\n",
       "      <td>0.509292</td>\n",
       "      <td>0.0</td>\n",
       "      <td>2.0</td>\n",
       "      <td>2.0</td>\n",
       "      <td>2.0</td>\n",
       "      <td>4.0</td>\n",
       "    </tr>\n",
       "    <tr>\n",
       "      <td>children</td>\n",
       "      <td>79326.0</td>\n",
       "      <td>0.091370</td>\n",
       "      <td>0.372177</td>\n",
       "      <td>0.0</td>\n",
       "      <td>0.0</td>\n",
       "      <td>0.0</td>\n",
       "      <td>0.0</td>\n",
       "      <td>3.0</td>\n",
       "    </tr>\n",
       "    <tr>\n",
       "      <td>babies</td>\n",
       "      <td>79330.0</td>\n",
       "      <td>0.004941</td>\n",
       "      <td>0.084323</td>\n",
       "      <td>0.0</td>\n",
       "      <td>0.0</td>\n",
       "      <td>0.0</td>\n",
       "      <td>0.0</td>\n",
       "      <td>10.0</td>\n",
       "    </tr>\n",
       "    <tr>\n",
       "      <td>is_repeated_guest</td>\n",
       "      <td>79330.0</td>\n",
       "      <td>0.025615</td>\n",
       "      <td>0.157983</td>\n",
       "      <td>0.0</td>\n",
       "      <td>0.0</td>\n",
       "      <td>0.0</td>\n",
       "      <td>0.0</td>\n",
       "      <td>1.0</td>\n",
       "    </tr>\n",
       "    <tr>\n",
       "      <td>previous_cancellations</td>\n",
       "      <td>79330.0</td>\n",
       "      <td>0.079743</td>\n",
       "      <td>0.415472</td>\n",
       "      <td>0.0</td>\n",
       "      <td>0.0</td>\n",
       "      <td>0.0</td>\n",
       "      <td>0.0</td>\n",
       "      <td>21.0</td>\n",
       "    </tr>\n",
       "    <tr>\n",
       "      <td>previous_bookings_not_canceled</td>\n",
       "      <td>79330.0</td>\n",
       "      <td>0.132371</td>\n",
       "      <td>1.693411</td>\n",
       "      <td>0.0</td>\n",
       "      <td>0.0</td>\n",
       "      <td>0.0</td>\n",
       "      <td>0.0</td>\n",
       "      <td>72.0</td>\n",
       "    </tr>\n",
       "    <tr>\n",
       "      <td>booking_changes</td>\n",
       "      <td>79330.0</td>\n",
       "      <td>0.187369</td>\n",
       "      <td>0.608620</td>\n",
       "      <td>0.0</td>\n",
       "      <td>0.0</td>\n",
       "      <td>0.0</td>\n",
       "      <td>0.0</td>\n",
       "      <td>21.0</td>\n",
       "    </tr>\n",
       "    <tr>\n",
       "      <td>agent</td>\n",
       "      <td>71199.0</td>\n",
       "      <td>28.144721</td>\n",
       "      <td>56.432181</td>\n",
       "      <td>1.0</td>\n",
       "      <td>9.0</td>\n",
       "      <td>9.0</td>\n",
       "      <td>17.0</td>\n",
       "      <td>509.0</td>\n",
       "    </tr>\n",
       "    <tr>\n",
       "      <td>company</td>\n",
       "      <td>3689.0</td>\n",
       "      <td>145.271618</td>\n",
       "      <td>119.774134</td>\n",
       "      <td>8.0</td>\n",
       "      <td>40.0</td>\n",
       "      <td>91.0</td>\n",
       "      <td>219.0</td>\n",
       "      <td>497.0</td>\n",
       "    </tr>\n",
       "    <tr>\n",
       "      <td>days_in_waiting_list</td>\n",
       "      <td>79330.0</td>\n",
       "      <td>3.226774</td>\n",
       "      <td>20.870890</td>\n",
       "      <td>0.0</td>\n",
       "      <td>0.0</td>\n",
       "      <td>0.0</td>\n",
       "      <td>0.0</td>\n",
       "      <td>391.0</td>\n",
       "    </tr>\n",
       "    <tr>\n",
       "      <td>adr</td>\n",
       "      <td>79330.0</td>\n",
       "      <td>105.304465</td>\n",
       "      <td>43.602954</td>\n",
       "      <td>0.0</td>\n",
       "      <td>79.2</td>\n",
       "      <td>99.9</td>\n",
       "      <td>126.0</td>\n",
       "      <td>5400.0</td>\n",
       "    </tr>\n",
       "    <tr>\n",
       "      <td>required_car_parking_spaces</td>\n",
       "      <td>79330.0</td>\n",
       "      <td>0.024367</td>\n",
       "      <td>0.154919</td>\n",
       "      <td>0.0</td>\n",
       "      <td>0.0</td>\n",
       "      <td>0.0</td>\n",
       "      <td>0.0</td>\n",
       "      <td>3.0</td>\n",
       "    </tr>\n",
       "    <tr>\n",
       "      <td>total_of_special_requests</td>\n",
       "      <td>79330.0</td>\n",
       "      <td>0.546918</td>\n",
       "      <td>0.780776</td>\n",
       "      <td>0.0</td>\n",
       "      <td>0.0</td>\n",
       "      <td>0.0</td>\n",
       "      <td>1.0</td>\n",
       "      <td>5.0</td>\n",
       "    </tr>\n",
       "  </tbody>\n",
       "</table>\n",
       "</div>"
      ],
      "text/plain": [
       "                                  count         mean         std     min  \\\n",
       "is_canceled                     79330.0     0.417270    0.493111     0.0   \n",
       "lead_time                       79330.0   109.735724  110.948526     0.0   \n",
       "arrival_date_year               79330.0  2016.174285    0.699181  2015.0   \n",
       "arrival_date_week_number        79330.0    27.177449   13.398523     1.0   \n",
       "arrival_date_day_of_month       79330.0    15.786625    8.728451     1.0   \n",
       "stays_in_weekend_nights         79330.0     0.795185    0.885026     0.0   \n",
       "stays_in_week_nights            79330.0     2.182957    1.456416     0.0   \n",
       "adults                          79330.0     1.850977    0.509292     0.0   \n",
       "children                        79326.0     0.091370    0.372177     0.0   \n",
       "babies                          79330.0     0.004941    0.084323     0.0   \n",
       "is_repeated_guest               79330.0     0.025615    0.157983     0.0   \n",
       "previous_cancellations          79330.0     0.079743    0.415472     0.0   \n",
       "previous_bookings_not_canceled  79330.0     0.132371    1.693411     0.0   \n",
       "booking_changes                 79330.0     0.187369    0.608620     0.0   \n",
       "agent                           71199.0    28.144721   56.432181     1.0   \n",
       "company                          3689.0   145.271618  119.774134     8.0   \n",
       "days_in_waiting_list            79330.0     3.226774   20.870890     0.0   \n",
       "adr                             79330.0   105.304465   43.602954     0.0   \n",
       "required_car_parking_spaces     79330.0     0.024367    0.154919     0.0   \n",
       "total_of_special_requests       79330.0     0.546918    0.780776     0.0   \n",
       "\n",
       "                                   25%     50%     75%     max  \n",
       "is_canceled                        0.0     0.0     1.0     1.0  \n",
       "lead_time                         23.0    74.0   163.0   629.0  \n",
       "arrival_date_year               2016.0  2016.0  2017.0  2017.0  \n",
       "arrival_date_week_number          17.0    27.0    38.0    53.0  \n",
       "arrival_date_day_of_month          8.0    16.0    23.0    31.0  \n",
       "stays_in_weekend_nights            0.0     1.0     2.0    16.0  \n",
       "stays_in_week_nights               1.0     2.0     3.0    41.0  \n",
       "adults                             2.0     2.0     2.0     4.0  \n",
       "children                           0.0     0.0     0.0     3.0  \n",
       "babies                             0.0     0.0     0.0    10.0  \n",
       "is_repeated_guest                  0.0     0.0     0.0     1.0  \n",
       "previous_cancellations             0.0     0.0     0.0    21.0  \n",
       "previous_bookings_not_canceled     0.0     0.0     0.0    72.0  \n",
       "booking_changes                    0.0     0.0     0.0    21.0  \n",
       "agent                              9.0     9.0    17.0   509.0  \n",
       "company                           40.0    91.0   219.0   497.0  \n",
       "days_in_waiting_list               0.0     0.0     0.0   391.0  \n",
       "adr                               79.2    99.9   126.0  5400.0  \n",
       "required_car_parking_spaces        0.0     0.0     0.0     3.0  \n",
       "total_of_special_requests          0.0     0.0     1.0     5.0  "
      ]
     },
     "execution_count": 226,
     "metadata": {},
     "output_type": "execute_result"
    }
   ],
   "source": [
    "hbd.describe().T"
   ]
  },
  {
   "cell_type": "markdown",
   "metadata": {},
   "source": [
    "- I valori non presentano la stessa scala, la standardizzazione potrà quindi essere certamente utile.\n",
    "\n",
    "- Visualizziamo il numero di valori distinti per ciascuna feature"
   ]
  },
  {
   "cell_type": "code",
   "execution_count": 227,
   "metadata": {},
   "outputs": [
    {
     "data": {
      "text/plain": [
       "is_canceled                          2\n",
       "lead_time                          453\n",
       "arrival_date_year                    3\n",
       "arrival_date_month                  12\n",
       "arrival_date_week_number            53\n",
       "arrival_date_day_of_month           31\n",
       "stays_in_weekend_nights             14\n",
       "stays_in_week_nights                29\n",
       "adults                               5\n",
       "children                             4\n",
       "babies                               5\n",
       "meal                                 4\n",
       "country                            166\n",
       "market_segment                       8\n",
       "distribution_channel                 5\n",
       "is_repeated_guest                    2\n",
       "previous_cancellations              10\n",
       "previous_bookings_not_canceled      73\n",
       "reserved_room_type                   8\n",
       "assigned_room_type                   9\n",
       "booking_changes                     21\n",
       "deposit_type                         3\n",
       "agent                              223\n",
       "company                            207\n",
       "days_in_waiting_list               115\n",
       "customer_type                        4\n",
       "adr                               5405\n",
       "required_car_parking_spaces          4\n",
       "total_of_special_requests            6\n",
       "reservation_status                   3\n",
       "reservation_status_date            864\n",
       "dtype: int64"
      ]
     },
     "execution_count": 227,
     "metadata": {},
     "output_type": "execute_result"
    }
   ],
   "source": [
    "hbd.nunique()"
   ]
  },
  {
   "cell_type": "markdown",
   "metadata": {},
   "source": [
    "- La variabili temporali associate all' arrivo del cliente all'hotel possono essere sostituite con altre variabili che presentano maggiore correlazione con ciò che stiamo cercando di prevedere\n",
    "\n",
    "\n",
    "- Le variabili attualmente in nostro possesso sono:\n",
    "    - `arrival_date_year` \n",
    "    - `arrival_date_month` \n",
    "    - `arrival_date_week_number`\n",
    "    - `arrival_date_day_of_month`"
   ]
  },
  {
   "cell_type": "markdown",
   "metadata": {},
   "source": [
    "- Per prima cosa vogliamo aggiungere il giorno della settimana (Lunedi, Martedi, ...)\n",
    "\n",
    "- In questo contesto è infatti più rilevante il giorno della settimana piuttosto che il giorno del mese\n",
    "    - Per fare questo è necessario avere a nostra disposizione un dizionario che ci consenta di ottenere, dato il nome del mese, il suo indice (1. Gennaio, 2. Febbrario, ...)"
   ]
  },
  {
   "cell_type": "code",
   "execution_count": 228,
   "metadata": {},
   "outputs": [],
   "source": [
    "import calendar\n",
    "dict_month_convertion = dict((v,k) for k,v in enumerate(calendar.month_name))"
   ]
  },
  {
   "cell_type": "code",
   "execution_count": 229,
   "metadata": {},
   "outputs": [
    {
     "data": {
      "text/plain": [
       "40060    July\n",
       "Name: arrival_date_month, dtype: object"
      ]
     },
     "execution_count": 229,
     "metadata": {},
     "output_type": "execute_result"
    }
   ],
   "source": [
    "hbd[\"arrival_date_month\"].head(1)"
   ]
  },
  {
   "cell_type": "code",
   "execution_count": 230,
   "metadata": {},
   "outputs": [
    {
     "data": {
      "text/plain": [
       "40060    7\n",
       "Name: arrival_date_month, dtype: int64"
      ]
     },
     "execution_count": 230,
     "metadata": {},
     "output_type": "execute_result"
    }
   ],
   "source": [
    "hbd[\"arrival_date_month\"].map(dict_month_convertion).head(1)"
   ]
  },
  {
   "cell_type": "markdown",
   "metadata": {},
   "source": [
    "- Utilizziamo questo dizionario per ottenere una serie che mappa la variabile `arrival_date_month`"
   ]
  },
  {
   "cell_type": "code",
   "execution_count": 231,
   "metadata": {},
   "outputs": [],
   "source": [
    "arrival_date_month_number = hbd[\"arrival_date_month\"].map(dict_month_convertion)"
   ]
  },
  {
   "cell_type": "markdown",
   "metadata": {},
   "source": [
    "- E' inoltre necessaria una funzione che da una data in formato (giorno, mese, anno) ci restituisca il nome del giorno "
   ]
  },
  {
   "cell_type": "code",
   "execution_count": 232,
   "metadata": {},
   "outputs": [],
   "source": [
    "import datetime \n",
    "  \n",
    "def findDay(date): \n",
    "    day = datetime.datetime.strptime(date, '%d %m %Y').weekday() \n",
    "    return (calendar.day_name[day]) "
   ]
  },
  {
   "cell_type": "markdown",
   "metadata": {},
   "source": [
    "\n",
    "- Ora possiamo ottenere la nuova variabile `arrival_date_day`"
   ]
  },
  {
   "cell_type": "code",
   "execution_count": 233,
   "metadata": {},
   "outputs": [],
   "source": [
    "arrival_date_day = []\n",
    "for index, row in hbd.iterrows():\n",
    "    arrival_date_day.append(findDay(\"{0} {1} {2}\".format(row[\"arrival_date_day_of_month\"], arrival_date_month_number[index], row[\"arrival_date_year\"])))\n",
    "\n",
    "hbd.insert(2, \"arrival_date_day\", arrival_date_day)"
   ]
  },
  {
   "cell_type": "markdown",
   "metadata": {},
   "source": [
    "- Eliminiamo quindi la variabile `arrival_date_day_of_month`, ovvero il giorno del mese di arrivo in hotel\n",
    "\n",
    "- Eliminiamo anche la variabile `arrival_date_year`, in quanto non particolarmente utile"
   ]
  },
  {
   "cell_type": "code",
   "execution_count": 234,
   "metadata": {},
   "outputs": [],
   "source": [
    "hbd.drop(inplace=True, axis=1, labels=['arrival_date_year', 'arrival_date_day_of_month'])"
   ]
  },
  {
   "cell_type": "markdown",
   "metadata": {},
   "source": [
    "- La variabile `assigned_room_type` non è disponibile al momento della prenotazione, ma solo al momento del Check-In. Rappresenta la camera che viene assegnata al cliente al momento del suo arrivo in hotel, e non la camera prenotata. \n",
    "    - E' dunque da rimuovere."
   ]
  },
  {
   "cell_type": "code",
   "execution_count": 235,
   "metadata": {},
   "outputs": [],
   "source": [
    "hbd.drop(inplace=True, axis=1, labels=['assigned_room_type'])"
   ]
  },
  {
   "cell_type": "markdown",
   "metadata": {},
   "source": [
    "- Osservando la descrizione delle variabili è possibile notare come vi sia una grossa dipendenza tra le variabili `is_canceled` e `reservation_status`\n",
    "\n",
    "- I possibili valori di `reservation_status` sono:"
   ]
  },
  {
   "cell_type": "code",
   "execution_count": 236,
   "metadata": {},
   "outputs": [
    {
     "data": {
      "text/plain": [
       "array(['Check-Out', 'Canceled', 'No-Show'], dtype=object)"
      ]
     },
     "execution_count": 236,
     "metadata": {},
     "output_type": "execute_result"
    }
   ],
   "source": [
    "hbd[\"reservation_status\"].unique()"
   ]
  },
  {
   "cell_type": "markdown",
   "metadata": {},
   "source": [
    "- Il valore _Check-Out_ potrebbe corrispondere alla mancata cancellazione, mentre il valore _Canceled_ alla effettiva cancellazione. Anche il campo _No-Show_ potrebbe essere considerato come prenotazione cancellata.\n",
    "\n",
    "- Contiamo le istanze dei possibili valori di `reservation_status`, al fine di determinare se la variabile coincice con la variabile `is_canceled`. "
   ]
  },
  {
   "cell_type": "code",
   "execution_count": 237,
   "metadata": {},
   "outputs": [
    {
     "data": {
      "text/plain": [
       "Canceled     32186\n",
       "Check-Out    46228\n",
       "No-Show        916\n",
       "Name: reservation_status, dtype: int64"
      ]
     },
     "execution_count": 237,
     "metadata": {},
     "output_type": "execute_result"
    }
   ],
   "source": [
    "hbd[\"reservation_status\"].value_counts().sort_index()"
   ]
  },
  {
   "cell_type": "markdown",
   "metadata": {},
   "source": [
    "- Contiamo ora, per ciascun valore di `reservation_status`, quante prenotazioni sono state cancellate"
   ]
  },
  {
   "cell_type": "code",
   "execution_count": 238,
   "metadata": {},
   "outputs": [
    {
     "data": {
      "text/plain": [
       "reservation_status\n",
       "Canceled     32186\n",
       "Check-Out        0\n",
       "No-Show        916\n",
       "Name: is_canceled, dtype: int64"
      ]
     },
     "execution_count": 238,
     "metadata": {},
     "output_type": "execute_result"
    }
   ],
   "source": [
    "hbd.groupby(['reservation_status']).sum()[\"is_canceled\"]"
   ]
  },
  {
   "cell_type": "markdown",
   "metadata": {},
   "source": [
    "- Notiamo subito che la considerazione è corretta, le variabili `is_canceled` e `reservation_status` coincidono.\n",
    "    - Il valore _Check-Out_ viene utilizzato quando la prenotazione non è stata cancellata\n",
    "    - I valori _Canceled_ e _No-Shown_ vengono invece utilizzati quando la prenotazione è stata cancellata.\n",
    "\n",
    "\n",
    "- Questa variabile va dunque rimossa in quanto coincide con la variabile da predire\n",
    "    - Rimuoviamo anche `reservation_status_date`, in quanto inutile senza `reservation_status`"
   ]
  },
  {
   "cell_type": "code",
   "execution_count": 239,
   "metadata": {},
   "outputs": [],
   "source": [
    "hbd.drop(inplace=True, axis=1, labels=['reservation_status', 'reservation_status_date'])"
   ]
  },
  {
   "cell_type": "markdown",
   "metadata": {},
   "source": [
    "- Ora verifichiamo la presenza del valore `nan` nelle istanze"
   ]
  },
  {
   "cell_type": "code",
   "execution_count": 240,
   "metadata": {},
   "outputs": [
    {
     "data": {
      "text/plain": [
       "is_canceled                           0\n",
       "lead_time                             0\n",
       "arrival_date_day                      0\n",
       "arrival_date_month                    0\n",
       "arrival_date_week_number              0\n",
       "stays_in_weekend_nights               0\n",
       "stays_in_week_nights                  0\n",
       "adults                                0\n",
       "children                              4\n",
       "babies                                0\n",
       "meal                                  0\n",
       "country                              24\n",
       "market_segment                        0\n",
       "distribution_channel                  0\n",
       "is_repeated_guest                     0\n",
       "previous_cancellations                0\n",
       "previous_bookings_not_canceled        0\n",
       "reserved_room_type                    0\n",
       "booking_changes                       0\n",
       "deposit_type                          0\n",
       "agent                              8131\n",
       "company                           75641\n",
       "days_in_waiting_list                  0\n",
       "customer_type                         0\n",
       "adr                                   0\n",
       "required_car_parking_spaces           0\n",
       "total_of_special_requests             0\n",
       "dtype: int64"
      ]
     },
     "execution_count": 240,
     "metadata": {},
     "output_type": "execute_result"
    }
   ],
   "source": [
    "hbd.isnull().sum()"
   ]
  },
  {
   "cell_type": "markdown",
   "metadata": {},
   "source": [
    "- Noto la presenza di valori `nan` li nelle variabili: \n",
    "    - `children` \n",
    "    - `country`\n",
    "    - `agent`\n",
    "    - `company`\n",
    "    \n",
    "    \n",
    "- Per le variabili `children` e `country` tale valore non è accettabile, per cui rimuovo quelle istanze "
   ]
  },
  {
   "cell_type": "code",
   "execution_count": 241,
   "metadata": {},
   "outputs": [],
   "source": [
    "hbd.dropna(subset=[\"country\", \"children\"], inplace=True)"
   ]
  },
  {
   "cell_type": "markdown",
   "metadata": {},
   "source": [
    "- La variabile `company` è nulla in quasi tutte le istanze, mentre `agent` per una buona parte di esse. \n",
    "\n",
    "- Il valore nullo in questo caso è però di nostro interesse, in quanto implica che per quella prenotazione non è presente, rispettivamente, una company e un agent\n",
    "    - Sostituiamo i valori di queste due variabili con 0 e 1\n",
    "        - 0, se il valore è nullo\n",
    "        - 1, altrimenti\n",
    "    - In questo modo siamo a conoscenza se la prenotazione è avvenuta per tramite di un agent e/o di una company\n",
    "        - Non è di particolare interesse sapere esattamente chi sia il soggetto interessato, ci interessa sapere se c'era o no"
   ]
  },
  {
   "cell_type": "code",
   "execution_count": 242,
   "metadata": {},
   "outputs": [],
   "source": [
    "hbd.loc[hbd[\"agent\"].isnull(), \"agent\"] = 0 \n",
    "hbd.loc[hbd[\"agent\"] != 0, \"agent\"] = 1\n",
    "hbd.loc[hbd[\"company\"].isnull(), \"company\"] = 0 \n",
    "hbd.loc[hbd[\"company\"] != 0, \"company\"] = 1"
   ]
  },
  {
   "cell_type": "markdown",
   "metadata": {},
   "source": [
    "- Un' alternativa era quella di selezionare solo parte dei possibili valori di `agent` e `company`, i più frequenti e non considerarli come interi, ma come etichette. A quelle selezionate ne andavano aggiunte due: 'Nessuno' per sostituire tutti i valori `nan`, e 'Altro' per sostituire tutti i valori non presenti fra i più frequenti.\n",
    "    - Si è optato di non seguire questa strada"
   ]
  },
  {
   "cell_type": "markdown",
   "metadata": {},
   "source": [
    "- Non sono più presenti valori  `nan`"
   ]
  },
  {
   "cell_type": "code",
   "execution_count": 243,
   "metadata": {},
   "outputs": [
    {
     "data": {
      "text/plain": [
       "is_canceled                       0\n",
       "lead_time                         0\n",
       "arrival_date_day                  0\n",
       "arrival_date_month                0\n",
       "arrival_date_week_number          0\n",
       "stays_in_weekend_nights           0\n",
       "stays_in_week_nights              0\n",
       "adults                            0\n",
       "children                          0\n",
       "babies                            0\n",
       "meal                              0\n",
       "country                           0\n",
       "market_segment                    0\n",
       "distribution_channel              0\n",
       "is_repeated_guest                 0\n",
       "previous_cancellations            0\n",
       "previous_bookings_not_canceled    0\n",
       "reserved_room_type                0\n",
       "booking_changes                   0\n",
       "deposit_type                      0\n",
       "agent                             0\n",
       "company                           0\n",
       "days_in_waiting_list              0\n",
       "customer_type                     0\n",
       "adr                               0\n",
       "required_car_parking_spaces       0\n",
       "total_of_special_requests         0\n",
       "dtype: int64"
      ]
     },
     "execution_count": 243,
     "metadata": {},
     "output_type": "execute_result"
    }
   ],
   "source": [
    "hbd.isnull().sum()"
   ]
  },
  {
   "cell_type": "markdown",
   "metadata": {},
   "source": [
    "- Verifichiamo ora la tipologia di dato delle variabili in nostro possesso"
   ]
  },
  {
   "cell_type": "code",
   "execution_count": 244,
   "metadata": {},
   "outputs": [
    {
     "data": {
      "text/plain": [
       "is_canceled                         int64\n",
       "lead_time                           int64\n",
       "arrival_date_day                   object\n",
       "arrival_date_month                 object\n",
       "arrival_date_week_number            int64\n",
       "stays_in_weekend_nights             int64\n",
       "stays_in_week_nights                int64\n",
       "adults                              int64\n",
       "children                          float64\n",
       "babies                              int64\n",
       "meal                               object\n",
       "country                            object\n",
       "market_segment                     object\n",
       "distribution_channel               object\n",
       "is_repeated_guest                   int64\n",
       "previous_cancellations              int64\n",
       "previous_bookings_not_canceled      int64\n",
       "reserved_room_type                 object\n",
       "booking_changes                     int64\n",
       "deposit_type                       object\n",
       "agent                             float64\n",
       "company                           float64\n",
       "days_in_waiting_list                int64\n",
       "customer_type                      object\n",
       "adr                               float64\n",
       "required_car_parking_spaces         int64\n",
       "total_of_special_requests           int64\n",
       "dtype: object"
      ]
     },
     "execution_count": 244,
     "metadata": {},
     "output_type": "execute_result"
    }
   ],
   "source": [
    "hbd.dtypes"
   ]
  },
  {
   "cell_type": "markdown",
   "metadata": {},
   "source": [
    "- Converto ad intero le variabili\n",
    "    - `children`\n",
    "    - `agent`\n",
    "    - `company`"
   ]
  },
  {
   "cell_type": "code",
   "execution_count": 245,
   "metadata": {},
   "outputs": [],
   "source": [
    "hbd[\"agent\"] = hbd[\"agent\"].astype(\"int64\")\n",
    "hbd[\"company\"] = hbd[\"company\"].astype(\"int64\")\n",
    "hbd[\"children\"] = hbd[\"children\"].astype(\"int64\")"
   ]
  },
  {
   "cell_type": "code",
   "execution_count": 246,
   "metadata": {},
   "outputs": [
    {
     "name": "stdout",
     "output_type": "stream",
     "text": [
      "children:  int64\n",
      "agent:  int64\n",
      "company:  int64\n"
     ]
    }
   ],
   "source": [
    "print(\"children: \", hbd[\"children\"].dtype)\n",
    "print(\"agent: \", hbd[\"children\"].dtype)\n",
    "print(\"company: \", hbd[\"children\"].dtype)"
   ]
  },
  {
   "cell_type": "markdown",
   "metadata": {},
   "source": [
    "## Analisi esplorativa"
   ]
  },
  {
   "cell_type": "markdown",
   "metadata": {},
   "source": [
    "- In un problema di classificazione, è utile visualizzare quanto le variabili predittive siano correlate con la classe da predire\n",
    "\n",
    "- Vengono quindi ora mostrati sia grafici con la distribuzione delle variabili, ignorando la classe di appartenenza, sia grafici in cui  integriamo la classe di appertenenza, per valutare quanto le variabili siano utili nella predizione della classe. Questo ci consentirà di avere una visione completa sul contesto analizzato.\n",
    "    - Le prime variabili mostrate sono leggermente più approfondite rispetto alle ultime, consentendoci di comprendere il contesto senza dilungarci eccessivamente\n",
    "   "
   ]
  },
  {
   "cell_type": "markdown",
   "metadata": {},
   "source": [
    "- Per iniziare calcoliamo la correlazione tra le coppie di features"
   ]
  },
  {
   "cell_type": "code",
   "execution_count": 247,
   "metadata": {
    "scrolled": false
   },
   "outputs": [
    {
     "data": {
      "text/html": [
       "<style  type=\"text/css\" >\n",
       "    #T_477b0d0c_a69e_11ea_be2c_74d4359cf509row0_col0 {\n",
       "            background-color:  #5e4fa2;\n",
       "            color:  #f1f1f1;\n",
       "        }    #T_477b0d0c_a69e_11ea_be2c_74d4359cf509row0_col1 {\n",
       "            background-color:  #fee08b;\n",
       "            color:  #000000;\n",
       "        }    #T_477b0d0c_a69e_11ea_be2c_74d4359cf509row0_col2 {\n",
       "            background-color:  #af1446;\n",
       "            color:  #f1f1f1;\n",
       "        }    #T_477b0d0c_a69e_11ea_be2c_74d4359cf509row0_col3 {\n",
       "            background-color:  #c72e4c;\n",
       "            color:  #f1f1f1;\n",
       "        }    #T_477b0d0c_a69e_11ea_be2c_74d4359cf509row0_col4 {\n",
       "            background-color:  #de4c4b;\n",
       "            color:  #000000;\n",
       "        }    #T_477b0d0c_a69e_11ea_be2c_74d4359cf509row0_col5 {\n",
       "            background-color:  #f99153;\n",
       "            color:  #000000;\n",
       "        }    #T_477b0d0c_a69e_11ea_be2c_74d4359cf509row0_col6 {\n",
       "            background-color:  #ab0f45;\n",
       "            color:  #f1f1f1;\n",
       "        }    #T_477b0d0c_a69e_11ea_be2c_74d4359cf509row0_col7 {\n",
       "            background-color:  #9e0142;\n",
       "            color:  #f1f1f1;\n",
       "        }    #T_477b0d0c_a69e_11ea_be2c_74d4359cf509row0_col8 {\n",
       "            background-color:  #eb6046;\n",
       "            color:  #000000;\n",
       "        }    #T_477b0d0c_a69e_11ea_be2c_74d4359cf509row0_col9 {\n",
       "            background-color:  #fa9656;\n",
       "            color:  #000000;\n",
       "        }    #T_477b0d0c_a69e_11ea_be2c_74d4359cf509row0_col10 {\n",
       "            background-color:  #dd4a4c;\n",
       "            color:  #000000;\n",
       "        }    #T_477b0d0c_a69e_11ea_be2c_74d4359cf509row0_col11 {\n",
       "            background-color:  #9e0142;\n",
       "            color:  #f1f1f1;\n",
       "        }    #T_477b0d0c_a69e_11ea_be2c_74d4359cf509row0_col12 {\n",
       "            background-color:  #feea9b;\n",
       "            color:  #000000;\n",
       "        }    #T_477b0d0c_a69e_11ea_be2c_74d4359cf509row0_col13 {\n",
       "            background-color:  #fdbf6f;\n",
       "            color:  #000000;\n",
       "        }    #T_477b0d0c_a69e_11ea_be2c_74d4359cf509row0_col14 {\n",
       "            background-color:  #e2514a;\n",
       "            color:  #000000;\n",
       "        }    #T_477b0d0c_a69e_11ea_be2c_74d4359cf509row0_col15 {\n",
       "            background-color:  #dc484c;\n",
       "            color:  #f1f1f1;\n",
       "        }    #T_477b0d0c_a69e_11ea_be2c_74d4359cf509row0_col16 {\n",
       "            background-color:  #9e0142;\n",
       "            color:  #f1f1f1;\n",
       "        }    #T_477b0d0c_a69e_11ea_be2c_74d4359cf509row0_col17 {\n",
       "            background-color:  #9e0142;\n",
       "            color:  #f1f1f1;\n",
       "        }    #T_477b0d0c_a69e_11ea_be2c_74d4359cf509row1_col0 {\n",
       "            background-color:  #fff5ae;\n",
       "            color:  #000000;\n",
       "        }    #T_477b0d0c_a69e_11ea_be2c_74d4359cf509row1_col1 {\n",
       "            background-color:  #5e4fa2;\n",
       "            color:  #f1f1f1;\n",
       "        }    #T_477b0d0c_a69e_11ea_be2c_74d4359cf509row1_col2 {\n",
       "            background-color:  #e75948;\n",
       "            color:  #000000;\n",
       "        }    #T_477b0d0c_a69e_11ea_be2c_74d4359cf509row1_col3 {\n",
       "            background-color:  #be254a;\n",
       "            color:  #f1f1f1;\n",
       "        }    #T_477b0d0c_a69e_11ea_be2c_74d4359cf509row1_col4 {\n",
       "            background-color:  #e1504b;\n",
       "            color:  #000000;\n",
       "        }    #T_477b0d0c_a69e_11ea_be2c_74d4359cf509row1_col5 {\n",
       "            background-color:  #fdaf62;\n",
       "            color:  #000000;\n",
       "        }    #T_477b0d0c_a69e_11ea_be2c_74d4359cf509row1_col6 {\n",
       "            background-color:  #9e0142;\n",
       "            color:  #f1f1f1;\n",
       "        }    #T_477b0d0c_a69e_11ea_be2c_74d4359cf509row1_col7 {\n",
       "            background-color:  #9e0142;\n",
       "            color:  #f1f1f1;\n",
       "        }    #T_477b0d0c_a69e_11ea_be2c_74d4359cf509row1_col8 {\n",
       "            background-color:  #e2514a;\n",
       "            color:  #000000;\n",
       "        }    #T_477b0d0c_a69e_11ea_be2c_74d4359cf509row1_col9 {\n",
       "            background-color:  #f67c4a;\n",
       "            color:  #000000;\n",
       "        }    #T_477b0d0c_a69e_11ea_be2c_74d4359cf509row1_col10 {\n",
       "            background-color:  #da464d;\n",
       "            color:  #f1f1f1;\n",
       "        }    #T_477b0d0c_a69e_11ea_be2c_74d4359cf509row1_col11 {\n",
       "            background-color:  #d63f4f;\n",
       "            color:  #f1f1f1;\n",
       "        }    #T_477b0d0c_a69e_11ea_be2c_74d4359cf509row1_col12 {\n",
       "            background-color:  #fefebd;\n",
       "            color:  #000000;\n",
       "        }    #T_477b0d0c_a69e_11ea_be2c_74d4359cf509row1_col13 {\n",
       "            background-color:  #fdad60;\n",
       "            color:  #000000;\n",
       "        }    #T_477b0d0c_a69e_11ea_be2c_74d4359cf509row1_col14 {\n",
       "            background-color:  #f99153;\n",
       "            color:  #000000;\n",
       "        }    #T_477b0d0c_a69e_11ea_be2c_74d4359cf509row1_col15 {\n",
       "            background-color:  #a40844;\n",
       "            color:  #f1f1f1;\n",
       "        }    #T_477b0d0c_a69e_11ea_be2c_74d4359cf509row1_col16 {\n",
       "            background-color:  #b81e48;\n",
       "            color:  #f1f1f1;\n",
       "        }    #T_477b0d0c_a69e_11ea_be2c_74d4359cf509row1_col17 {\n",
       "            background-color:  #dc484c;\n",
       "            color:  #f1f1f1;\n",
       "        }    #T_477b0d0c_a69e_11ea_be2c_74d4359cf509row2_col0 {\n",
       "            background-color:  #f67f4b;\n",
       "            color:  #000000;\n",
       "        }    #T_477b0d0c_a69e_11ea_be2c_74d4359cf509row2_col1 {\n",
       "            background-color:  #f88c51;\n",
       "            color:  #000000;\n",
       "        }    #T_477b0d0c_a69e_11ea_be2c_74d4359cf509row2_col2 {\n",
       "            background-color:  #5e4fa2;\n",
       "            color:  #f1f1f1;\n",
       "        }    #T_477b0d0c_a69e_11ea_be2c_74d4359cf509row2_col3 {\n",
       "            background-color:  #c9314c;\n",
       "            color:  #f1f1f1;\n",
       "        }    #T_477b0d0c_a69e_11ea_be2c_74d4359cf509row2_col4 {\n",
       "            background-color:  #c72e4c;\n",
       "            color:  #f1f1f1;\n",
       "        }    #T_477b0d0c_a69e_11ea_be2c_74d4359cf509row2_col5 {\n",
       "            background-color:  #f57748;\n",
       "            color:  #000000;\n",
       "        }    #T_477b0d0c_a69e_11ea_be2c_74d4359cf509row2_col6 {\n",
       "            background-color:  #b81e48;\n",
       "            color:  #f1f1f1;\n",
       "        }    #T_477b0d0c_a69e_11ea_be2c_74d4359cf509row2_col7 {\n",
       "            background-color:  #af1446;\n",
       "            color:  #f1f1f1;\n",
       "        }    #T_477b0d0c_a69e_11ea_be2c_74d4359cf509row2_col8 {\n",
       "            background-color:  #f67f4b;\n",
       "            color:  #000000;\n",
       "        }    #T_477b0d0c_a69e_11ea_be2c_74d4359cf509row2_col9 {\n",
       "            background-color:  #e3534a;\n",
       "            color:  #000000;\n",
       "        }    #T_477b0d0c_a69e_11ea_be2c_74d4359cf509row2_col10 {\n",
       "            background-color:  #e85b48;\n",
       "            color:  #000000;\n",
       "        }    #T_477b0d0c_a69e_11ea_be2c_74d4359cf509row2_col11 {\n",
       "            background-color:  #de4c4b;\n",
       "            color:  #000000;\n",
       "        }    #T_477b0d0c_a69e_11ea_be2c_74d4359cf509row2_col12 {\n",
       "            background-color:  #fee491;\n",
       "            color:  #000000;\n",
       "        }    #T_477b0d0c_a69e_11ea_be2c_74d4359cf509row2_col13 {\n",
       "            background-color:  #fed27f;\n",
       "            color:  #000000;\n",
       "        }    #T_477b0d0c_a69e_11ea_be2c_74d4359cf509row2_col14 {\n",
       "            background-color:  #d63f4f;\n",
       "            color:  #f1f1f1;\n",
       "        }    #T_477b0d0c_a69e_11ea_be2c_74d4359cf509row2_col15 {\n",
       "            background-color:  #e3534a;\n",
       "            color:  #000000;\n",
       "        }    #T_477b0d0c_a69e_11ea_be2c_74d4359cf509row2_col16 {\n",
       "            background-color:  #d9444d;\n",
       "            color:  #f1f1f1;\n",
       "        }    #T_477b0d0c_a69e_11ea_be2c_74d4359cf509row2_col17 {\n",
       "            background-color:  #f8864f;\n",
       "            color:  #000000;\n",
       "        }    #T_477b0d0c_a69e_11ea_be2c_74d4359cf509row3_col0 {\n",
       "            background-color:  #f67a49;\n",
       "            color:  #000000;\n",
       "        }    #T_477b0d0c_a69e_11ea_be2c_74d4359cf509row3_col1 {\n",
       "            background-color:  #d8434e;\n",
       "            color:  #f1f1f1;\n",
       "        }    #T_477b0d0c_a69e_11ea_be2c_74d4359cf509row3_col2 {\n",
       "            background-color:  #ad1246;\n",
       "            color:  #f1f1f1;\n",
       "        }    #T_477b0d0c_a69e_11ea_be2c_74d4359cf509row3_col3 {\n",
       "            background-color:  #5e4fa2;\n",
       "            color:  #f1f1f1;\n",
       "        }    #T_477b0d0c_a69e_11ea_be2c_74d4359cf509row3_col4 {\n",
       "            background-color:  #fca55d;\n",
       "            color:  #000000;\n",
       "        }    #T_477b0d0c_a69e_11ea_be2c_74d4359cf509row3_col5 {\n",
       "            background-color:  #fba05b;\n",
       "            color:  #000000;\n",
       "        }    #T_477b0d0c_a69e_11ea_be2c_74d4359cf509row3_col6 {\n",
       "            background-color:  #cd364d;\n",
       "            color:  #f1f1f1;\n",
       "        }    #T_477b0d0c_a69e_11ea_be2c_74d4359cf509row3_col7 {\n",
       "            background-color:  #b11747;\n",
       "            color:  #f1f1f1;\n",
       "        }    #T_477b0d0c_a69e_11ea_be2c_74d4359cf509row3_col8 {\n",
       "            background-color:  #e85b48;\n",
       "            color:  #000000;\n",
       "        }    #T_477b0d0c_a69e_11ea_be2c_74d4359cf509row3_col9 {\n",
       "            background-color:  #c9314c;\n",
       "            color:  #f1f1f1;\n",
       "        }    #T_477b0d0c_a69e_11ea_be2c_74d4359cf509row3_col10 {\n",
       "            background-color:  #e45549;\n",
       "            color:  #000000;\n",
       "        }    #T_477b0d0c_a69e_11ea_be2c_74d4359cf509row3_col11 {\n",
       "            background-color:  #ea5e47;\n",
       "            color:  #000000;\n",
       "        }    #T_477b0d0c_a69e_11ea_be2c_74d4359cf509row3_col12 {\n",
       "            background-color:  #feefa3;\n",
       "            color:  #000000;\n",
       "        }    #T_477b0d0c_a69e_11ea_be2c_74d4359cf509row3_col13 {\n",
       "            background-color:  #fdc171;\n",
       "            color:  #000000;\n",
       "        }    #T_477b0d0c_a69e_11ea_be2c_74d4359cf509row3_col14 {\n",
       "            background-color:  #af1446;\n",
       "            color:  #f1f1f1;\n",
       "        }    #T_477b0d0c_a69e_11ea_be2c_74d4359cf509row3_col15 {\n",
       "            background-color:  #e95c47;\n",
       "            color:  #000000;\n",
       "        }    #T_477b0d0c_a69e_11ea_be2c_74d4359cf509row3_col16 {\n",
       "            background-color:  #d23a4e;\n",
       "            color:  #f1f1f1;\n",
       "        }    #T_477b0d0c_a69e_11ea_be2c_74d4359cf509row3_col17 {\n",
       "            background-color:  #fba05b;\n",
       "            color:  #000000;\n",
       "        }    #T_477b0d0c_a69e_11ea_be2c_74d4359cf509row4_col0 {\n",
       "            background-color:  #fa9656;\n",
       "            color:  #000000;\n",
       "        }    #T_477b0d0c_a69e_11ea_be2c_74d4359cf509row4_col1 {\n",
       "            background-color:  #ef6645;\n",
       "            color:  #000000;\n",
       "        }    #T_477b0d0c_a69e_11ea_be2c_74d4359cf509row4_col2 {\n",
       "            background-color:  #a90d45;\n",
       "            color:  #f1f1f1;\n",
       "        }    #T_477b0d0c_a69e_11ea_be2c_74d4359cf509row4_col3 {\n",
       "            background-color:  #fba35c;\n",
       "            color:  #000000;\n",
       "        }    #T_477b0d0c_a69e_11ea_be2c_74d4359cf509row4_col4 {\n",
       "            background-color:  #5e4fa2;\n",
       "            color:  #f1f1f1;\n",
       "        }    #T_477b0d0c_a69e_11ea_be2c_74d4359cf509row4_col5 {\n",
       "            background-color:  #fba35c;\n",
       "            color:  #000000;\n",
       "        }    #T_477b0d0c_a69e_11ea_be2c_74d4359cf509row4_col6 {\n",
       "            background-color:  #cd364d;\n",
       "            color:  #f1f1f1;\n",
       "        }    #T_477b0d0c_a69e_11ea_be2c_74d4359cf509row4_col7 {\n",
       "            background-color:  #af1446;\n",
       "            color:  #f1f1f1;\n",
       "        }    #T_477b0d0c_a69e_11ea_be2c_74d4359cf509row4_col8 {\n",
       "            background-color:  #e55749;\n",
       "            color:  #000000;\n",
       "        }    #T_477b0d0c_a69e_11ea_be2c_74d4359cf509row4_col9 {\n",
       "            background-color:  #c32a4b;\n",
       "            color:  #f1f1f1;\n",
       "        }    #T_477b0d0c_a69e_11ea_be2c_74d4359cf509row4_col10 {\n",
       "            background-color:  #e1504b;\n",
       "            color:  #000000;\n",
       "        }    #T_477b0d0c_a69e_11ea_be2c_74d4359cf509row4_col11 {\n",
       "            background-color:  #f46d43;\n",
       "            color:  #000000;\n",
       "        }    #T_477b0d0c_a69e_11ea_be2c_74d4359cf509row4_col12 {\n",
       "            background-color:  #fff1a8;\n",
       "            color:  #000000;\n",
       "        }    #T_477b0d0c_a69e_11ea_be2c_74d4359cf509row4_col13 {\n",
       "            background-color:  #fdc372;\n",
       "            color:  #000000;\n",
       "        }    #T_477b0d0c_a69e_11ea_be2c_74d4359cf509row4_col14 {\n",
       "            background-color:  #d43d4f;\n",
       "            color:  #f1f1f1;\n",
       "        }    #T_477b0d0c_a69e_11ea_be2c_74d4359cf509row4_col15 {\n",
       "            background-color:  #ee6445;\n",
       "            color:  #000000;\n",
       "        }    #T_477b0d0c_a69e_11ea_be2c_74d4359cf509row4_col16 {\n",
       "            background-color:  #cb334d;\n",
       "            color:  #f1f1f1;\n",
       "        }    #T_477b0d0c_a69e_11ea_be2c_74d4359cf509row4_col17 {\n",
       "            background-color:  #fb9d59;\n",
       "            color:  #000000;\n",
       "        }    #T_477b0d0c_a69e_11ea_be2c_74d4359cf509row5_col0 {\n",
       "            background-color:  #fa9857;\n",
       "            color:  #000000;\n",
       "        }    #T_477b0d0c_a69e_11ea_be2c_74d4359cf509row5_col1 {\n",
       "            background-color:  #f7814c;\n",
       "            color:  #000000;\n",
       "        }    #T_477b0d0c_a69e_11ea_be2c_74d4359cf509row5_col2 {\n",
       "            background-color:  #b11747;\n",
       "            color:  #f1f1f1;\n",
       "        }    #T_477b0d0c_a69e_11ea_be2c_74d4359cf509row5_col3 {\n",
       "            background-color:  #e75948;\n",
       "            color:  #000000;\n",
       "        }    #T_477b0d0c_a69e_11ea_be2c_74d4359cf509row5_col4 {\n",
       "            background-color:  #e95c47;\n",
       "            color:  #000000;\n",
       "        }    #T_477b0d0c_a69e_11ea_be2c_74d4359cf509row5_col5 {\n",
       "            background-color:  #5e4fa2;\n",
       "            color:  #f1f1f1;\n",
       "        }    #T_477b0d0c_a69e_11ea_be2c_74d4359cf509row5_col6 {\n",
       "            background-color:  #b61b48;\n",
       "            color:  #f1f1f1;\n",
       "        }    #T_477b0d0c_a69e_11ea_be2c_74d4359cf509row5_col7 {\n",
       "            background-color:  #b41947;\n",
       "            color:  #f1f1f1;\n",
       "        }    #T_477b0d0c_a69e_11ea_be2c_74d4359cf509row5_col8 {\n",
       "            background-color:  #d23a4e;\n",
       "            color:  #f1f1f1;\n",
       "        }    #T_477b0d0c_a69e_11ea_be2c_74d4359cf509row5_col9 {\n",
       "            background-color:  #c9314c;\n",
       "            color:  #f1f1f1;\n",
       "        }    #T_477b0d0c_a69e_11ea_be2c_74d4359cf509row5_col10 {\n",
       "            background-color:  #c9314c;\n",
       "            color:  #f1f1f1;\n",
       "        }    #T_477b0d0c_a69e_11ea_be2c_74d4359cf509row5_col11 {\n",
       "            background-color:  #ba2049;\n",
       "            color:  #f1f1f1;\n",
       "        }    #T_477b0d0c_a69e_11ea_be2c_74d4359cf509row5_col12 {\n",
       "            background-color:  #f6fbb0;\n",
       "            color:  #000000;\n",
       "        }    #T_477b0d0c_a69e_11ea_be2c_74d4359cf509row5_col13 {\n",
       "            background-color:  #f67f4b;\n",
       "            color:  #000000;\n",
       "        }    #T_477b0d0c_a69e_11ea_be2c_74d4359cf509row5_col14 {\n",
       "            background-color:  #c9314c;\n",
       "            color:  #f1f1f1;\n",
       "        }    #T_477b0d0c_a69e_11ea_be2c_74d4359cf509row5_col15 {\n",
       "            background-color:  #fecc7b;\n",
       "            color:  #000000;\n",
       "        }    #T_477b0d0c_a69e_11ea_be2c_74d4359cf509row5_col16 {\n",
       "            background-color:  #dd4a4c;\n",
       "            color:  #000000;\n",
       "        }    #T_477b0d0c_a69e_11ea_be2c_74d4359cf509row5_col17 {\n",
       "            background-color:  #fdc574;\n",
       "            color:  #000000;\n",
       "        }    #T_477b0d0c_a69e_11ea_be2c_74d4359cf509row6_col0 {\n",
       "            background-color:  #f47044;\n",
       "            color:  #000000;\n",
       "        }    #T_477b0d0c_a69e_11ea_be2c_74d4359cf509row6_col1 {\n",
       "            background-color:  #cd364d;\n",
       "            color:  #f1f1f1;\n",
       "        }    #T_477b0d0c_a69e_11ea_be2c_74d4359cf509row6_col2 {\n",
       "            background-color:  #ad1246;\n",
       "            color:  #f1f1f1;\n",
       "        }    #T_477b0d0c_a69e_11ea_be2c_74d4359cf509row6_col3 {\n",
       "            background-color:  #d9444d;\n",
       "            color:  #f1f1f1;\n",
       "        }    #T_477b0d0c_a69e_11ea_be2c_74d4359cf509row6_col4 {\n",
       "            background-color:  #da464d;\n",
       "            color:  #f1f1f1;\n",
       "        }    #T_477b0d0c_a69e_11ea_be2c_74d4359cf509row6_col5 {\n",
       "            background-color:  #f57245;\n",
       "            color:  #000000;\n",
       "        }    #T_477b0d0c_a69e_11ea_be2c_74d4359cf509row6_col6 {\n",
       "            background-color:  #5e4fa2;\n",
       "            color:  #f1f1f1;\n",
       "        }    #T_477b0d0c_a69e_11ea_be2c_74d4359cf509row6_col7 {\n",
       "            background-color:  #ba2049;\n",
       "            color:  #f1f1f1;\n",
       "        }    #T_477b0d0c_a69e_11ea_be2c_74d4359cf509row6_col8 {\n",
       "            background-color:  #f47044;\n",
       "            color:  #000000;\n",
       "        }    #T_477b0d0c_a69e_11ea_be2c_74d4359cf509row6_col9 {\n",
       "            background-color:  #c72e4c;\n",
       "            color:  #f1f1f1;\n",
       "        }    #T_477b0d0c_a69e_11ea_be2c_74d4359cf509row6_col10 {\n",
       "            background-color:  #e75948;\n",
       "            color:  #000000;\n",
       "        }    #T_477b0d0c_a69e_11ea_be2c_74d4359cf509row6_col11 {\n",
       "            background-color:  #ea5e47;\n",
       "            color:  #000000;\n",
       "        }    #T_477b0d0c_a69e_11ea_be2c_74d4359cf509row6_col12 {\n",
       "            background-color:  #fee491;\n",
       "            color:  #000000;\n",
       "        }    #T_477b0d0c_a69e_11ea_be2c_74d4359cf509row6_col13 {\n",
       "            background-color:  #fecc7b;\n",
       "            color:  #000000;\n",
       "        }    #T_477b0d0c_a69e_11ea_be2c_74d4359cf509row6_col14 {\n",
       "            background-color:  #ba2049;\n",
       "            color:  #f1f1f1;\n",
       "        }    #T_477b0d0c_a69e_11ea_be2c_74d4359cf509row6_col15 {\n",
       "            background-color:  #fee18d;\n",
       "            color:  #000000;\n",
       "        }    #T_477b0d0c_a69e_11ea_be2c_74d4359cf509row6_col16 {\n",
       "            background-color:  #e95c47;\n",
       "            color:  #000000;\n",
       "        }    #T_477b0d0c_a69e_11ea_be2c_74d4359cf509row6_col17 {\n",
       "            background-color:  #fdb567;\n",
       "            color:  #000000;\n",
       "        }    #T_477b0d0c_a69e_11ea_be2c_74d4359cf509row7_col0 {\n",
       "            background-color:  #f47044;\n",
       "            color:  #000000;\n",
       "        }    #T_477b0d0c_a69e_11ea_be2c_74d4359cf509row7_col1 {\n",
       "            background-color:  #d7414e;\n",
       "            color:  #f1f1f1;\n",
       "        }    #T_477b0d0c_a69e_11ea_be2c_74d4359cf509row7_col2 {\n",
       "            background-color:  #b11747;\n",
       "            color:  #f1f1f1;\n",
       "        }    #T_477b0d0c_a69e_11ea_be2c_74d4359cf509row7_col3 {\n",
       "            background-color:  #cd364d;\n",
       "            color:  #f1f1f1;\n",
       "        }    #T_477b0d0c_a69e_11ea_be2c_74d4359cf509row7_col4 {\n",
       "            background-color:  #d0384e;\n",
       "            color:  #f1f1f1;\n",
       "        }    #T_477b0d0c_a69e_11ea_be2c_74d4359cf509row7_col5 {\n",
       "            background-color:  #f67a49;\n",
       "            color:  #000000;\n",
       "        }    #T_477b0d0c_a69e_11ea_be2c_74d4359cf509row7_col6 {\n",
       "            background-color:  #c52c4b;\n",
       "            color:  #f1f1f1;\n",
       "        }    #T_477b0d0c_a69e_11ea_be2c_74d4359cf509row7_col7 {\n",
       "            background-color:  #5e4fa2;\n",
       "            color:  #f1f1f1;\n",
       "        }    #T_477b0d0c_a69e_11ea_be2c_74d4359cf509row7_col8 {\n",
       "            background-color:  #f67c4a;\n",
       "            color:  #000000;\n",
       "        }    #T_477b0d0c_a69e_11ea_be2c_74d4359cf509row7_col9 {\n",
       "            background-color:  #d7414e;\n",
       "            color:  #f1f1f1;\n",
       "        }    #T_477b0d0c_a69e_11ea_be2c_74d4359cf509row7_col10 {\n",
       "            background-color:  #ea5e47;\n",
       "            color:  #000000;\n",
       "        }    #T_477b0d0c_a69e_11ea_be2c_74d4359cf509row7_col11 {\n",
       "            background-color:  #f06744;\n",
       "            color:  #000000;\n",
       "        }    #T_477b0d0c_a69e_11ea_be2c_74d4359cf509row7_col12 {\n",
       "            background-color:  #fed884;\n",
       "            color:  #000000;\n",
       "        }    #T_477b0d0c_a69e_11ea_be2c_74d4359cf509row7_col13 {\n",
       "            background-color:  #fed884;\n",
       "            color:  #000000;\n",
       "        }    #T_477b0d0c_a69e_11ea_be2c_74d4359cf509row7_col14 {\n",
       "            background-color:  #c72e4c;\n",
       "            color:  #f1f1f1;\n",
       "        }    #T_477b0d0c_a69e_11ea_be2c_74d4359cf509row7_col15 {\n",
       "            background-color:  #e2514a;\n",
       "            color:  #000000;\n",
       "        }    #T_477b0d0c_a69e_11ea_be2c_74d4359cf509row7_col16 {\n",
       "            background-color:  #df4e4b;\n",
       "            color:  #000000;\n",
       "        }    #T_477b0d0c_a69e_11ea_be2c_74d4359cf509row7_col17 {\n",
       "            background-color:  #fba35c;\n",
       "            color:  #000000;\n",
       "        }    #T_477b0d0c_a69e_11ea_be2c_74d4359cf509row8_col0 {\n",
       "            background-color:  #ed6246;\n",
       "            color:  #000000;\n",
       "        }    #T_477b0d0c_a69e_11ea_be2c_74d4359cf509row8_col1 {\n",
       "            background-color:  #b41947;\n",
       "            color:  #f1f1f1;\n",
       "        }    #T_477b0d0c_a69e_11ea_be2c_74d4359cf509row8_col2 {\n",
       "            background-color:  #af1446;\n",
       "            color:  #f1f1f1;\n",
       "        }    #T_477b0d0c_a69e_11ea_be2c_74d4359cf509row8_col3 {\n",
       "            background-color:  #a00343;\n",
       "            color:  #f1f1f1;\n",
       "        }    #T_477b0d0c_a69e_11ea_be2c_74d4359cf509row8_col4 {\n",
       "            background-color:  #9e0142;\n",
       "            color:  #f1f1f1;\n",
       "        }    #T_477b0d0c_a69e_11ea_be2c_74d4359cf509row8_col5 {\n",
       "            background-color:  #c9314c;\n",
       "            color:  #f1f1f1;\n",
       "        }    #T_477b0d0c_a69e_11ea_be2c_74d4359cf509row8_col6 {\n",
       "            background-color:  #a90d45;\n",
       "            color:  #f1f1f1;\n",
       "        }    #T_477b0d0c_a69e_11ea_be2c_74d4359cf509row8_col7 {\n",
       "            background-color:  #ad1246;\n",
       "            color:  #f1f1f1;\n",
       "        }    #T_477b0d0c_a69e_11ea_be2c_74d4359cf509row8_col8 {\n",
       "            background-color:  #5e4fa2;\n",
       "            color:  #f1f1f1;\n",
       "        }    #T_477b0d0c_a69e_11ea_be2c_74d4359cf509row8_col9 {\n",
       "            background-color:  #fec877;\n",
       "            color:  #000000;\n",
       "        }    #T_477b0d0c_a69e_11ea_be2c_74d4359cf509row8_col10 {\n",
       "            background-color:  #f4faad;\n",
       "            color:  #000000;\n",
       "        }    #T_477b0d0c_a69e_11ea_be2c_74d4359cf509row8_col11 {\n",
       "            background-color:  #e2514a;\n",
       "            color:  #000000;\n",
       "        }    #T_477b0d0c_a69e_11ea_be2c_74d4359cf509row8_col12 {\n",
       "            background-color:  #f57547;\n",
       "            color:  #000000;\n",
       "        }    #T_477b0d0c_a69e_11ea_be2c_74d4359cf509row8_col13 {\n",
       "            background-color:  #d3ed9c;\n",
       "            color:  #000000;\n",
       "        }    #T_477b0d0c_a69e_11ea_be2c_74d4359cf509row8_col14 {\n",
       "            background-color:  #c1274a;\n",
       "            color:  #f1f1f1;\n",
       "        }    #T_477b0d0c_a69e_11ea_be2c_74d4359cf509row8_col15 {\n",
       "            background-color:  #9e0142;\n",
       "            color:  #f1f1f1;\n",
       "        }    #T_477b0d0c_a69e_11ea_be2c_74d4359cf509row8_col16 {\n",
       "            background-color:  #f46d43;\n",
       "            color:  #000000;\n",
       "        }    #T_477b0d0c_a69e_11ea_be2c_74d4359cf509row8_col17 {\n",
       "            background-color:  #f8864f;\n",
       "            color:  #000000;\n",
       "        }    #T_477b0d0c_a69e_11ea_be2c_74d4359cf509row9_col0 {\n",
       "            background-color:  #feca79;\n",
       "            color:  #000000;\n",
       "        }    #T_477b0d0c_a69e_11ea_be2c_74d4359cf509row9_col1 {\n",
       "            background-color:  #f8864f;\n",
       "            color:  #000000;\n",
       "        }    #T_477b0d0c_a69e_11ea_be2c_74d4359cf509row9_col2 {\n",
       "            background-color:  #c1274a;\n",
       "            color:  #f1f1f1;\n",
       "        }    #T_477b0d0c_a69e_11ea_be2c_74d4359cf509row9_col3 {\n",
       "            background-color:  #b61b48;\n",
       "            color:  #f1f1f1;\n",
       "        }    #T_477b0d0c_a69e_11ea_be2c_74d4359cf509row9_col4 {\n",
       "            background-color:  #b41947;\n",
       "            color:  #f1f1f1;\n",
       "        }    #T_477b0d0c_a69e_11ea_be2c_74d4359cf509row9_col5 {\n",
       "            background-color:  #ee6445;\n",
       "            color:  #000000;\n",
       "        }    #T_477b0d0c_a69e_11ea_be2c_74d4359cf509row9_col6 {\n",
       "            background-color:  #a20643;\n",
       "            color:  #f1f1f1;\n",
       "        }    #T_477b0d0c_a69e_11ea_be2c_74d4359cf509row9_col7 {\n",
       "            background-color:  #a90d45;\n",
       "            color:  #f1f1f1;\n",
       "        }    #T_477b0d0c_a69e_11ea_be2c_74d4359cf509row9_col8 {\n",
       "            background-color:  #feea9b;\n",
       "            color:  #000000;\n",
       "        }    #T_477b0d0c_a69e_11ea_be2c_74d4359cf509row9_col9 {\n",
       "            background-color:  #5e4fa2;\n",
       "            color:  #f1f1f1;\n",
       "        }    #T_477b0d0c_a69e_11ea_be2c_74d4359cf509row9_col10 {\n",
       "            background-color:  #fffebe;\n",
       "            color:  #000000;\n",
       "        }    #T_477b0d0c_a69e_11ea_be2c_74d4359cf509row9_col11 {\n",
       "            background-color:  #d23a4e;\n",
       "            color:  #f1f1f1;\n",
       "        }    #T_477b0d0c_a69e_11ea_be2c_74d4359cf509row9_col12 {\n",
       "            background-color:  #fece7c;\n",
       "            color:  #000000;\n",
       "        }    #T_477b0d0c_a69e_11ea_be2c_74d4359cf509row9_col13 {\n",
       "            background-color:  #feec9f;\n",
       "            color:  #000000;\n",
       "        }    #T_477b0d0c_a69e_11ea_be2c_74d4359cf509row9_col14 {\n",
       "            background-color:  #d63f4f;\n",
       "            color:  #f1f1f1;\n",
       "        }    #T_477b0d0c_a69e_11ea_be2c_74d4359cf509row9_col15 {\n",
       "            background-color:  #a90d45;\n",
       "            color:  #f1f1f1;\n",
       "        }    #T_477b0d0c_a69e_11ea_be2c_74d4359cf509row9_col16 {\n",
       "            background-color:  #d9444d;\n",
       "            color:  #f1f1f1;\n",
       "        }    #T_477b0d0c_a69e_11ea_be2c_74d4359cf509row9_col17 {\n",
       "            background-color:  #e95c47;\n",
       "            color:  #000000;\n",
       "        }    #T_477b0d0c_a69e_11ea_be2c_74d4359cf509row10_col0 {\n",
       "            background-color:  #ef6645;\n",
       "            color:  #000000;\n",
       "        }    #T_477b0d0c_a69e_11ea_be2c_74d4359cf509row10_col1 {\n",
       "            background-color:  #c72e4c;\n",
       "            color:  #f1f1f1;\n",
       "        }    #T_477b0d0c_a69e_11ea_be2c_74d4359cf509row10_col2 {\n",
       "            background-color:  #a70b44;\n",
       "            color:  #f1f1f1;\n",
       "        }    #T_477b0d0c_a69e_11ea_be2c_74d4359cf509row10_col3 {\n",
       "            background-color:  #bc2249;\n",
       "            color:  #f1f1f1;\n",
       "        }    #T_477b0d0c_a69e_11ea_be2c_74d4359cf509row10_col4 {\n",
       "            background-color:  #b81e48;\n",
       "            color:  #f1f1f1;\n",
       "        }    #T_477b0d0c_a69e_11ea_be2c_74d4359cf509row10_col5 {\n",
       "            background-color:  #dd4a4c;\n",
       "            color:  #000000;\n",
       "        }    #T_477b0d0c_a69e_11ea_be2c_74d4359cf509row10_col6 {\n",
       "            background-color:  #af1446;\n",
       "            color:  #f1f1f1;\n",
       "        }    #T_477b0d0c_a69e_11ea_be2c_74d4359cf509row10_col7 {\n",
       "            background-color:  #ab0f45;\n",
       "            color:  #f1f1f1;\n",
       "        }    #T_477b0d0c_a69e_11ea_be2c_74d4359cf509row10_col8 {\n",
       "            background-color:  #ecf7a1;\n",
       "            color:  #000000;\n",
       "        }    #T_477b0d0c_a69e_11ea_be2c_74d4359cf509row10_col9 {\n",
       "            background-color:  #fff3ac;\n",
       "            color:  #000000;\n",
       "        }    #T_477b0d0c_a69e_11ea_be2c_74d4359cf509row10_col10 {\n",
       "            background-color:  #5e4fa2;\n",
       "            color:  #f1f1f1;\n",
       "        }    #T_477b0d0c_a69e_11ea_be2c_74d4359cf509row10_col11 {\n",
       "            background-color:  #e3534a;\n",
       "            color:  #000000;\n",
       "        }    #T_477b0d0c_a69e_11ea_be2c_74d4359cf509row10_col12 {\n",
       "            background-color:  #fa9656;\n",
       "            color:  #000000;\n",
       "        }    #T_477b0d0c_a69e_11ea_be2c_74d4359cf509row10_col13 {\n",
       "            background-color:  #ecf7a1;\n",
       "            color:  #000000;\n",
       "        }    #T_477b0d0c_a69e_11ea_be2c_74d4359cf509row10_col14 {\n",
       "            background-color:  #c72e4c;\n",
       "            color:  #f1f1f1;\n",
       "        }    #T_477b0d0c_a69e_11ea_be2c_74d4359cf509row10_col15 {\n",
       "            background-color:  #c32a4b;\n",
       "            color:  #f1f1f1;\n",
       "        }    #T_477b0d0c_a69e_11ea_be2c_74d4359cf509row10_col16 {\n",
       "            background-color:  #ed6246;\n",
       "            color:  #000000;\n",
       "        }    #T_477b0d0c_a69e_11ea_be2c_74d4359cf509row10_col17 {\n",
       "            background-color:  #fa9656;\n",
       "            color:  #000000;\n",
       "        }    #T_477b0d0c_a69e_11ea_be2c_74d4359cf509row11_col0 {\n",
       "            background-color:  #d8434e;\n",
       "            color:  #f1f1f1;\n",
       "        }    #T_477b0d0c_a69e_11ea_be2c_74d4359cf509row11_col1 {\n",
       "            background-color:  #d7414e;\n",
       "            color:  #f1f1f1;\n",
       "        }    #T_477b0d0c_a69e_11ea_be2c_74d4359cf509row11_col2 {\n",
       "            background-color:  #af1446;\n",
       "            color:  #f1f1f1;\n",
       "        }    #T_477b0d0c_a69e_11ea_be2c_74d4359cf509row11_col3 {\n",
       "            background-color:  #dc484c;\n",
       "            color:  #f1f1f1;\n",
       "        }    #T_477b0d0c_a69e_11ea_be2c_74d4359cf509row11_col4 {\n",
       "            background-color:  #e75948;\n",
       "            color:  #000000;\n",
       "        }    #T_477b0d0c_a69e_11ea_be2c_74d4359cf509row11_col5 {\n",
       "            background-color:  #e2514a;\n",
       "            color:  #000000;\n",
       "        }    #T_477b0d0c_a69e_11ea_be2c_74d4359cf509row11_col6 {\n",
       "            background-color:  #d23a4e;\n",
       "            color:  #f1f1f1;\n",
       "        }    #T_477b0d0c_a69e_11ea_be2c_74d4359cf509row11_col7 {\n",
       "            background-color:  #d0384e;\n",
       "            color:  #f1f1f1;\n",
       "        }    #T_477b0d0c_a69e_11ea_be2c_74d4359cf509row11_col8 {\n",
       "            background-color:  #f7844e;\n",
       "            color:  #000000;\n",
       "        }    #T_477b0d0c_a69e_11ea_be2c_74d4359cf509row11_col9 {\n",
       "            background-color:  #c9314c;\n",
       "            color:  #f1f1f1;\n",
       "        }    #T_477b0d0c_a69e_11ea_be2c_74d4359cf509row11_col10 {\n",
       "            background-color:  #ef6645;\n",
       "            color:  #000000;\n",
       "        }    #T_477b0d0c_a69e_11ea_be2c_74d4359cf509row11_col11 {\n",
       "            background-color:  #5e4fa2;\n",
       "            color:  #f1f1f1;\n",
       "        }    #T_477b0d0c_a69e_11ea_be2c_74d4359cf509row11_col12 {\n",
       "            background-color:  #fecc7b;\n",
       "            color:  #000000;\n",
       "        }    #T_477b0d0c_a69e_11ea_be2c_74d4359cf509row11_col13 {\n",
       "            background-color:  #fee593;\n",
       "            color:  #000000;\n",
       "        }    #T_477b0d0c_a69e_11ea_be2c_74d4359cf509row11_col14 {\n",
       "            background-color:  #c72e4c;\n",
       "            color:  #f1f1f1;\n",
       "        }    #T_477b0d0c_a69e_11ea_be2c_74d4359cf509row11_col15 {\n",
       "            background-color:  #e55749;\n",
       "            color:  #000000;\n",
       "        }    #T_477b0d0c_a69e_11ea_be2c_74d4359cf509row11_col16 {\n",
       "            background-color:  #e55749;\n",
       "            color:  #000000;\n",
       "        }    #T_477b0d0c_a69e_11ea_be2c_74d4359cf509row11_col17 {\n",
       "            background-color:  #fb9d59;\n",
       "            color:  #000000;\n",
       "        }    #T_477b0d0c_a69e_11ea_be2c_74d4359cf509row12_col0 {\n",
       "            background-color:  #fba05b;\n",
       "            color:  #000000;\n",
       "        }    #T_477b0d0c_a69e_11ea_be2c_74d4359cf509row12_col1 {\n",
       "            background-color:  #fdad60;\n",
       "            color:  #000000;\n",
       "        }    #T_477b0d0c_a69e_11ea_be2c_74d4359cf509row12_col2 {\n",
       "            background-color:  #c1274a;\n",
       "            color:  #f1f1f1;\n",
       "        }    #T_477b0d0c_a69e_11ea_be2c_74d4359cf509row12_col3 {\n",
       "            background-color:  #e95c47;\n",
       "            color:  #000000;\n",
       "        }    #T_477b0d0c_a69e_11ea_be2c_74d4359cf509row12_col4 {\n",
       "            background-color:  #ee6445;\n",
       "            color:  #000000;\n",
       "        }    #T_477b0d0c_a69e_11ea_be2c_74d4359cf509row12_col5 {\n",
       "            background-color:  #fee08b;\n",
       "            color:  #000000;\n",
       "        }    #T_477b0d0c_a69e_11ea_be2c_74d4359cf509row12_col6 {\n",
       "            background-color:  #c9314c;\n",
       "            color:  #f1f1f1;\n",
       "        }    #T_477b0d0c_a69e_11ea_be2c_74d4359cf509row12_col7 {\n",
       "            background-color:  #a70b44;\n",
       "            color:  #f1f1f1;\n",
       "        }    #T_477b0d0c_a69e_11ea_be2c_74d4359cf509row12_col8 {\n",
       "            background-color:  #9e0142;\n",
       "            color:  #f1f1f1;\n",
       "        }    #T_477b0d0c_a69e_11ea_be2c_74d4359cf509row12_col9 {\n",
       "            background-color:  #c52c4b;\n",
       "            color:  #f1f1f1;\n",
       "        }    #T_477b0d0c_a69e_11ea_be2c_74d4359cf509row12_col10 {\n",
       "            background-color:  #9e0142;\n",
       "            color:  #f1f1f1;\n",
       "        }    #T_477b0d0c_a69e_11ea_be2c_74d4359cf509row12_col11 {\n",
       "            background-color:  #cb334d;\n",
       "            color:  #f1f1f1;\n",
       "        }    #T_477b0d0c_a69e_11ea_be2c_74d4359cf509row12_col12 {\n",
       "            background-color:  #5e4fa2;\n",
       "            color:  #f1f1f1;\n",
       "        }    #T_477b0d0c_a69e_11ea_be2c_74d4359cf509row12_col13 {\n",
       "            background-color:  #9e0142;\n",
       "            color:  #f1f1f1;\n",
       "        }    #T_477b0d0c_a69e_11ea_be2c_74d4359cf509row12_col14 {\n",
       "            background-color:  #dd4a4c;\n",
       "            color:  #000000;\n",
       "        }    #T_477b0d0c_a69e_11ea_be2c_74d4359cf509row12_col15 {\n",
       "            background-color:  #f57748;\n",
       "            color:  #000000;\n",
       "        }    #T_477b0d0c_a69e_11ea_be2c_74d4359cf509row12_col16 {\n",
       "            background-color:  #bc2249;\n",
       "            color:  #f1f1f1;\n",
       "        }    #T_477b0d0c_a69e_11ea_be2c_74d4359cf509row12_col17 {\n",
       "            background-color:  #fca55d;\n",
       "            color:  #000000;\n",
       "        }    #T_477b0d0c_a69e_11ea_be2c_74d4359cf509row13_col0 {\n",
       "            background-color:  #e55749;\n",
       "            color:  #000000;\n",
       "        }    #T_477b0d0c_a69e_11ea_be2c_74d4359cf509row13_col1 {\n",
       "            background-color:  #9e0142;\n",
       "            color:  #f1f1f1;\n",
       "        }    #T_477b0d0c_a69e_11ea_be2c_74d4359cf509row13_col2 {\n",
       "            background-color:  #9e0142;\n",
       "            color:  #f1f1f1;\n",
       "        }    #T_477b0d0c_a69e_11ea_be2c_74d4359cf509row13_col3 {\n",
       "            background-color:  #9e0142;\n",
       "            color:  #f1f1f1;\n",
       "        }    #T_477b0d0c_a69e_11ea_be2c_74d4359cf509row13_col4 {\n",
       "            background-color:  #a20643;\n",
       "            color:  #f1f1f1;\n",
       "        }    #T_477b0d0c_a69e_11ea_be2c_74d4359cf509row13_col5 {\n",
       "            background-color:  #9e0142;\n",
       "            color:  #f1f1f1;\n",
       "        }    #T_477b0d0c_a69e_11ea_be2c_74d4359cf509row13_col6 {\n",
       "            background-color:  #a00343;\n",
       "            color:  #f1f1f1;\n",
       "        }    #T_477b0d0c_a69e_11ea_be2c_74d4359cf509row13_col7 {\n",
       "            background-color:  #a90d45;\n",
       "            color:  #f1f1f1;\n",
       "        }    #T_477b0d0c_a69e_11ea_be2c_74d4359cf509row13_col8 {\n",
       "            background-color:  #f7fcb2;\n",
       "            color:  #000000;\n",
       "        }    #T_477b0d0c_a69e_11ea_be2c_74d4359cf509row13_col9 {\n",
       "            background-color:  #ee6445;\n",
       "            color:  #000000;\n",
       "        }    #T_477b0d0c_a69e_11ea_be2c_74d4359cf509row13_col10 {\n",
       "            background-color:  #fee797;\n",
       "            color:  #000000;\n",
       "        }    #T_477b0d0c_a69e_11ea_be2c_74d4359cf509row13_col11 {\n",
       "            background-color:  #e95c47;\n",
       "            color:  #000000;\n",
       "        }    #T_477b0d0c_a69e_11ea_be2c_74d4359cf509row13_col12 {\n",
       "            background-color:  #9e0142;\n",
       "            color:  #f1f1f1;\n",
       "        }    #T_477b0d0c_a69e_11ea_be2c_74d4359cf509row13_col13 {\n",
       "            background-color:  #5e4fa2;\n",
       "            color:  #f1f1f1;\n",
       "        }    #T_477b0d0c_a69e_11ea_be2c_74d4359cf509row13_col14 {\n",
       "            background-color:  #bc2249;\n",
       "            color:  #f1f1f1;\n",
       "        }    #T_477b0d0c_a69e_11ea_be2c_74d4359cf509row13_col15 {\n",
       "            background-color:  #a40844;\n",
       "            color:  #f1f1f1;\n",
       "        }    #T_477b0d0c_a69e_11ea_be2c_74d4359cf509row13_col16 {\n",
       "            background-color:  #ef6645;\n",
       "            color:  #000000;\n",
       "        }    #T_477b0d0c_a69e_11ea_be2c_74d4359cf509row13_col17 {\n",
       "            background-color:  #ee6445;\n",
       "            color:  #000000;\n",
       "        }    #T_477b0d0c_a69e_11ea_be2c_74d4359cf509row14_col0 {\n",
       "            background-color:  #fb9d59;\n",
       "            color:  #000000;\n",
       "        }    #T_477b0d0c_a69e_11ea_be2c_74d4359cf509row14_col1 {\n",
       "            background-color:  #fcaa5f;\n",
       "            color:  #000000;\n",
       "        }    #T_477b0d0c_a69e_11ea_be2c_74d4359cf509row14_col2 {\n",
       "            background-color:  #b81e48;\n",
       "            color:  #f1f1f1;\n",
       "        }    #T_477b0d0c_a69e_11ea_be2c_74d4359cf509row14_col3 {\n",
       "            background-color:  #ad1246;\n",
       "            color:  #f1f1f1;\n",
       "        }    #T_477b0d0c_a69e_11ea_be2c_74d4359cf509row14_col4 {\n",
       "            background-color:  #d43d4f;\n",
       "            color:  #f1f1f1;\n",
       "        }    #T_477b0d0c_a69e_11ea_be2c_74d4359cf509row14_col5 {\n",
       "            background-color:  #f47044;\n",
       "            color:  #000000;\n",
       "        }    #T_477b0d0c_a69e_11ea_be2c_74d4359cf509row14_col6 {\n",
       "            background-color:  #a70b44;\n",
       "            color:  #f1f1f1;\n",
       "        }    #T_477b0d0c_a69e_11ea_be2c_74d4359cf509row14_col7 {\n",
       "            background-color:  #a90d45;\n",
       "            color:  #f1f1f1;\n",
       "        }    #T_477b0d0c_a69e_11ea_be2c_74d4359cf509row14_col8 {\n",
       "            background-color:  #f57245;\n",
       "            color:  #000000;\n",
       "        }    #T_477b0d0c_a69e_11ea_be2c_74d4359cf509row14_col9 {\n",
       "            background-color:  #df4e4b;\n",
       "            color:  #000000;\n",
       "        }    #T_477b0d0c_a69e_11ea_be2c_74d4359cf509row14_col10 {\n",
       "            background-color:  #e95c47;\n",
       "            color:  #000000;\n",
       "        }    #T_477b0d0c_a69e_11ea_be2c_74d4359cf509row14_col11 {\n",
       "            background-color:  #da464d;\n",
       "            color:  #f1f1f1;\n",
       "        }    #T_477b0d0c_a69e_11ea_be2c_74d4359cf509row14_col12 {\n",
       "            background-color:  #fee695;\n",
       "            color:  #000000;\n",
       "        }    #T_477b0d0c_a69e_11ea_be2c_74d4359cf509row14_col13 {\n",
       "            background-color:  #fed27f;\n",
       "            color:  #000000;\n",
       "        }    #T_477b0d0c_a69e_11ea_be2c_74d4359cf509row14_col14 {\n",
       "            background-color:  #5e4fa2;\n",
       "            color:  #f1f1f1;\n",
       "        }    #T_477b0d0c_a69e_11ea_be2c_74d4359cf509row14_col15 {\n",
       "            background-color:  #c72e4c;\n",
       "            color:  #f1f1f1;\n",
       "        }    #T_477b0d0c_a69e_11ea_be2c_74d4359cf509row14_col16 {\n",
       "            background-color:  #d23a4e;\n",
       "            color:  #f1f1f1;\n",
       "        }    #T_477b0d0c_a69e_11ea_be2c_74d4359cf509row14_col17 {\n",
       "            background-color:  #e55749;\n",
       "            color:  #000000;\n",
       "        }    #T_477b0d0c_a69e_11ea_be2c_74d4359cf509row15_col0 {\n",
       "            background-color:  #f57748;\n",
       "            color:  #000000;\n",
       "        }    #T_477b0d0c_a69e_11ea_be2c_74d4359cf509row15_col1 {\n",
       "            background-color:  #a40844;\n",
       "            color:  #f1f1f1;\n",
       "        }    #T_477b0d0c_a69e_11ea_be2c_74d4359cf509row15_col2 {\n",
       "            background-color:  #b81e48;\n",
       "            color:  #f1f1f1;\n",
       "        }    #T_477b0d0c_a69e_11ea_be2c_74d4359cf509row15_col3 {\n",
       "            background-color:  #d9444d;\n",
       "            color:  #f1f1f1;\n",
       "        }    #T_477b0d0c_a69e_11ea_be2c_74d4359cf509row15_col4 {\n",
       "            background-color:  #e1504b;\n",
       "            color:  #000000;\n",
       "        }    #T_477b0d0c_a69e_11ea_be2c_74d4359cf509row15_col5 {\n",
       "            background-color:  #fee695;\n",
       "            color:  #000000;\n",
       "        }    #T_477b0d0c_a69e_11ea_be2c_74d4359cf509row15_col6 {\n",
       "            background-color:  #fdc574;\n",
       "            color:  #000000;\n",
       "        }    #T_477b0d0c_a69e_11ea_be2c_74d4359cf509row15_col7 {\n",
       "            background-color:  #b41947;\n",
       "            color:  #f1f1f1;\n",
       "        }    #T_477b0d0c_a69e_11ea_be2c_74d4359cf509row15_col8 {\n",
       "            background-color:  #d7414e;\n",
       "            color:  #f1f1f1;\n",
       "        }    #T_477b0d0c_a69e_11ea_be2c_74d4359cf509row15_col9 {\n",
       "            background-color:  #9e0142;\n",
       "            color:  #f1f1f1;\n",
       "        }    #T_477b0d0c_a69e_11ea_be2c_74d4359cf509row15_col10 {\n",
       "            background-color:  #d8434e;\n",
       "            color:  #f1f1f1;\n",
       "        }    #T_477b0d0c_a69e_11ea_be2c_74d4359cf509row15_col11 {\n",
       "            background-color:  #e45549;\n",
       "            color:  #000000;\n",
       "        }    #T_477b0d0c_a69e_11ea_be2c_74d4359cf509row15_col12 {\n",
       "            background-color:  #fff0a6;\n",
       "            color:  #000000;\n",
       "        }    #T_477b0d0c_a69e_11ea_be2c_74d4359cf509row15_col13 {\n",
       "            background-color:  #fdb365;\n",
       "            color:  #000000;\n",
       "        }    #T_477b0d0c_a69e_11ea_be2c_74d4359cf509row15_col14 {\n",
       "            background-color:  #ab0f45;\n",
       "            color:  #f1f1f1;\n",
       "        }    #T_477b0d0c_a69e_11ea_be2c_74d4359cf509row15_col15 {\n",
       "            background-color:  #5e4fa2;\n",
       "            color:  #f1f1f1;\n",
       "        }    #T_477b0d0c_a69e_11ea_be2c_74d4359cf509row15_col16 {\n",
       "            background-color:  #ea5e47;\n",
       "            color:  #000000;\n",
       "        }    #T_477b0d0c_a69e_11ea_be2c_74d4359cf509row15_col17 {\n",
       "            background-color:  #fecc7b;\n",
       "            color:  #000000;\n",
       "        }    #T_477b0d0c_a69e_11ea_be2c_74d4359cf509row16_col0 {\n",
       "            background-color:  #dc484c;\n",
       "            color:  #f1f1f1;\n",
       "        }    #T_477b0d0c_a69e_11ea_be2c_74d4359cf509row16_col1 {\n",
       "            background-color:  #c1274a;\n",
       "            color:  #f1f1f1;\n",
       "        }    #T_477b0d0c_a69e_11ea_be2c_74d4359cf509row16_col2 {\n",
       "            background-color:  #ab0f45;\n",
       "            color:  #f1f1f1;\n",
       "        }    #T_477b0d0c_a69e_11ea_be2c_74d4359cf509row16_col3 {\n",
       "            background-color:  #be254a;\n",
       "            color:  #f1f1f1;\n",
       "        }    #T_477b0d0c_a69e_11ea_be2c_74d4359cf509row16_col4 {\n",
       "            background-color:  #ba2049;\n",
       "            color:  #f1f1f1;\n",
       "        }    #T_477b0d0c_a69e_11ea_be2c_74d4359cf509row16_col5 {\n",
       "            background-color:  #f67a49;\n",
       "            color:  #000000;\n",
       "        }    #T_477b0d0c_a69e_11ea_be2c_74d4359cf509row16_col6 {\n",
       "            background-color:  #d63f4f;\n",
       "            color:  #f1f1f1;\n",
       "        }    #T_477b0d0c_a69e_11ea_be2c_74d4359cf509row16_col7 {\n",
       "            background-color:  #b81e48;\n",
       "            color:  #f1f1f1;\n",
       "        }    #T_477b0d0c_a69e_11ea_be2c_74d4359cf509row16_col8 {\n",
       "            background-color:  #fdad60;\n",
       "            color:  #000000;\n",
       "        }    #T_477b0d0c_a69e_11ea_be2c_74d4359cf509row16_col9 {\n",
       "            background-color:  #d8434e;\n",
       "            color:  #f1f1f1;\n",
       "        }    #T_477b0d0c_a69e_11ea_be2c_74d4359cf509row16_col10 {\n",
       "            background-color:  #f67f4b;\n",
       "            color:  #000000;\n",
       "        }    #T_477b0d0c_a69e_11ea_be2c_74d4359cf509row16_col11 {\n",
       "            background-color:  #e95c47;\n",
       "            color:  #000000;\n",
       "        }    #T_477b0d0c_a69e_11ea_be2c_74d4359cf509row16_col12 {\n",
       "            background-color:  #fdc776;\n",
       "            color:  #000000;\n",
       "        }    #T_477b0d0c_a69e_11ea_be2c_74d4359cf509row16_col13 {\n",
       "            background-color:  #feec9f;\n",
       "            color:  #000000;\n",
       "        }    #T_477b0d0c_a69e_11ea_be2c_74d4359cf509row16_col14 {\n",
       "            background-color:  #c1274a;\n",
       "            color:  #f1f1f1;\n",
       "        }    #T_477b0d0c_a69e_11ea_be2c_74d4359cf509row16_col15 {\n",
       "            background-color:  #ef6645;\n",
       "            color:  #000000;\n",
       "        }    #T_477b0d0c_a69e_11ea_be2c_74d4359cf509row16_col16 {\n",
       "            background-color:  #5e4fa2;\n",
       "            color:  #f1f1f1;\n",
       "        }    #T_477b0d0c_a69e_11ea_be2c_74d4359cf509row16_col17 {\n",
       "            background-color:  #fcaa5f;\n",
       "            color:  #000000;\n",
       "        }    #T_477b0d0c_a69e_11ea_be2c_74d4359cf509row17_col0 {\n",
       "            background-color:  #9e0142;\n",
       "            color:  #f1f1f1;\n",
       "        }    #T_477b0d0c_a69e_11ea_be2c_74d4359cf509row17_col1 {\n",
       "            background-color:  #a70b44;\n",
       "            color:  #f1f1f1;\n",
       "        }    #T_477b0d0c_a69e_11ea_be2c_74d4359cf509row17_col2 {\n",
       "            background-color:  #b61b48;\n",
       "            color:  #f1f1f1;\n",
       "        }    #T_477b0d0c_a69e_11ea_be2c_74d4359cf509row17_col3 {\n",
       "            background-color:  #e2514a;\n",
       "            color:  #000000;\n",
       "        }    #T_477b0d0c_a69e_11ea_be2c_74d4359cf509row17_col4 {\n",
       "            background-color:  #e3534a;\n",
       "            color:  #000000;\n",
       "        }    #T_477b0d0c_a69e_11ea_be2c_74d4359cf509row17_col5 {\n",
       "            background-color:  #fdbf6f;\n",
       "            color:  #000000;\n",
       "        }    #T_477b0d0c_a69e_11ea_be2c_74d4359cf509row17_col6 {\n",
       "            background-color:  #e75948;\n",
       "            color:  #000000;\n",
       "        }    #T_477b0d0c_a69e_11ea_be2c_74d4359cf509row17_col7 {\n",
       "            background-color:  #d43d4f;\n",
       "            color:  #f1f1f1;\n",
       "        }    #T_477b0d0c_a69e_11ea_be2c_74d4359cf509row17_col8 {\n",
       "            background-color:  #f8864f;\n",
       "            color:  #000000;\n",
       "        }    #T_477b0d0c_a69e_11ea_be2c_74d4359cf509row17_col9 {\n",
       "            background-color:  #b61b48;\n",
       "            color:  #f1f1f1;\n",
       "        }    #T_477b0d0c_a69e_11ea_be2c_74d4359cf509row17_col10 {\n",
       "            background-color:  #f57245;\n",
       "            color:  #000000;\n",
       "        }    #T_477b0d0c_a69e_11ea_be2c_74d4359cf509row17_col11 {\n",
       "            background-color:  #ef6645;\n",
       "            color:  #000000;\n",
       "        }    #T_477b0d0c_a69e_11ea_be2c_74d4359cf509row17_col12 {\n",
       "            background-color:  #feec9f;\n",
       "            color:  #000000;\n",
       "        }    #T_477b0d0c_a69e_11ea_be2c_74d4359cf509row17_col13 {\n",
       "            background-color:  #feca79;\n",
       "            color:  #000000;\n",
       "        }    #T_477b0d0c_a69e_11ea_be2c_74d4359cf509row17_col14 {\n",
       "            background-color:  #9e0142;\n",
       "            color:  #f1f1f1;\n",
       "        }    #T_477b0d0c_a69e_11ea_be2c_74d4359cf509row17_col15 {\n",
       "            background-color:  #fba35c;\n",
       "            color:  #000000;\n",
       "        }    #T_477b0d0c_a69e_11ea_be2c_74d4359cf509row17_col16 {\n",
       "            background-color:  #f26944;\n",
       "            color:  #000000;\n",
       "        }    #T_477b0d0c_a69e_11ea_be2c_74d4359cf509row17_col17 {\n",
       "            background-color:  #5e4fa2;\n",
       "            color:  #f1f1f1;\n",
       "        }</style><table id=\"T_477b0d0c_a69e_11ea_be2c_74d4359cf509\" ><thead>    <tr>        <th class=\"blank level0\" ></th>        <th class=\"col_heading level0 col0\" >is_canceled</th>        <th class=\"col_heading level0 col1\" >lead_time</th>        <th class=\"col_heading level0 col2\" >arrival_date_week_number</th>        <th class=\"col_heading level0 col3\" >stays_in_weekend_nights</th>        <th class=\"col_heading level0 col4\" >stays_in_week_nights</th>        <th class=\"col_heading level0 col5\" >adults</th>        <th class=\"col_heading level0 col6\" >children</th>        <th class=\"col_heading level0 col7\" >babies</th>        <th class=\"col_heading level0 col8\" >is_repeated_guest</th>        <th class=\"col_heading level0 col9\" >previous_cancellations</th>        <th class=\"col_heading level0 col10\" >previous_bookings_not_canceled</th>        <th class=\"col_heading level0 col11\" >booking_changes</th>        <th class=\"col_heading level0 col12\" >agent</th>        <th class=\"col_heading level0 col13\" >company</th>        <th class=\"col_heading level0 col14\" >days_in_waiting_list</th>        <th class=\"col_heading level0 col15\" >adr</th>        <th class=\"col_heading level0 col16\" >required_car_parking_spaces</th>        <th class=\"col_heading level0 col17\" >total_of_special_requests</th>    </tr></thead><tbody>\n",
       "                <tr>\n",
       "                        <th id=\"T_477b0d0c_a69e_11ea_be2c_74d4359cf509level0_row0\" class=\"row_heading level0 row0\" >is_canceled</th>\n",
       "                        <td id=\"T_477b0d0c_a69e_11ea_be2c_74d4359cf509row0_col0\" class=\"data row0 col0\" >1</td>\n",
       "                        <td id=\"T_477b0d0c_a69e_11ea_be2c_74d4359cf509row0_col1\" class=\"data row0 col1\" >0.31</td>\n",
       "                        <td id=\"T_477b0d0c_a69e_11ea_be2c_74d4359cf509row0_col2\" class=\"data row0 col2\" >0.0013</td>\n",
       "                        <td id=\"T_477b0d0c_a69e_11ea_be2c_74d4359cf509row0_col3\" class=\"data row0 col3\" >-0.0071</td>\n",
       "                        <td id=\"T_477b0d0c_a69e_11ea_be2c_74d4359cf509row0_col4\" class=\"data row0 col4\" >0.049</td>\n",
       "                        <td id=\"T_477b0d0c_a69e_11ea_be2c_74d4359cf509row0_col5\" class=\"data row0 col5\" >0.053</td>\n",
       "                        <td id=\"T_477b0d0c_a69e_11ea_be2c_74d4359cf509row0_col6\" class=\"data row0 col6\" >-0.027</td>\n",
       "                        <td id=\"T_477b0d0c_a69e_11ea_be2c_74d4359cf509row0_col7\" class=\"data row0 col7\" >-0.03</td>\n",
       "                        <td id=\"T_477b0d0c_a69e_11ea_be2c_74d4359cf509row0_col8\" class=\"data row0 col8\" >-0.066</td>\n",
       "                        <td id=\"T_477b0d0c_a69e_11ea_be2c_74d4359cf509row0_col9\" class=\"data row0 col9\" >0.17</td>\n",
       "                        <td id=\"T_477b0d0c_a69e_11ea_be2c_74d4359cf509row0_col10\" class=\"data row0 col10\" >-0.053</td>\n",
       "                        <td id=\"T_477b0d0c_a69e_11ea_be2c_74d4359cf509row0_col11\" class=\"data row0 col11\" >-0.15</td>\n",
       "                        <td id=\"T_477b0d0c_a69e_11ea_be2c_74d4359cf509row0_col12\" class=\"data row0 col12\" >0.066</td>\n",
       "                        <td id=\"T_477b0d0c_a69e_11ea_be2c_74d4359cf509row0_col13\" class=\"data row0 col13\" >-0.092</td>\n",
       "                        <td id=\"T_477b0d0c_a69e_11ea_be2c_74d4359cf509row0_col14\" class=\"data row0 col14\" >0.061</td>\n",
       "                        <td id=\"T_477b0d0c_a69e_11ea_be2c_74d4359cf509row0_col15\" class=\"data row0 col15\" >-0.011</td>\n",
       "                        <td id=\"T_477b0d0c_a69e_11ea_be2c_74d4359cf509row0_col16\" class=\"data row0 col16\" >-0.13</td>\n",
       "                        <td id=\"T_477b0d0c_a69e_11ea_be2c_74d4359cf509row0_col17\" class=\"data row0 col17\" >-0.29</td>\n",
       "            </tr>\n",
       "            <tr>\n",
       "                        <th id=\"T_477b0d0c_a69e_11ea_be2c_74d4359cf509level0_row1\" class=\"row_heading level0 row1\" >lead_time</th>\n",
       "                        <td id=\"T_477b0d0c_a69e_11ea_be2c_74d4359cf509row1_col0\" class=\"data row1 col0\" >0.31</td>\n",
       "                        <td id=\"T_477b0d0c_a69e_11ea_be2c_74d4359cf509row1_col1\" class=\"data row1 col1\" >1</td>\n",
       "                        <td id=\"T_477b0d0c_a69e_11ea_be2c_74d4359cf509row1_col2\" class=\"data row1 col2\" >0.13</td>\n",
       "                        <td id=\"T_477b0d0c_a69e_11ea_be2c_74d4359cf509row1_col3\" class=\"data row1 col3\" >-0.024</td>\n",
       "                        <td id=\"T_477b0d0c_a69e_11ea_be2c_74d4359cf509row1_col4\" class=\"data row1 col4\" >0.058</td>\n",
       "                        <td id=\"T_477b0d0c_a69e_11ea_be2c_74d4359cf509row1_col5\" class=\"data row1 col5\" >0.12</td>\n",
       "                        <td id=\"T_477b0d0c_a69e_11ea_be2c_74d4359cf509row1_col6\" class=\"data row1 col6\" >-0.054</td>\n",
       "                        <td id=\"T_477b0d0c_a69e_11ea_be2c_74d4359cf509row1_col7\" class=\"data row1 col7\" >-0.03</td>\n",
       "                        <td id=\"T_477b0d0c_a69e_11ea_be2c_74d4359cf509row1_col8\" class=\"data row1 col8\" >-0.11</td>\n",
       "                        <td id=\"T_477b0d0c_a69e_11ea_be2c_74d4359cf509row1_col9\" class=\"data row1 col9\" >0.12</td>\n",
       "                        <td id=\"T_477b0d0c_a69e_11ea_be2c_74d4359cf509row1_col10\" class=\"data row1 col10\" >-0.065</td>\n",
       "                        <td id=\"T_477b0d0c_a69e_11ea_be2c_74d4359cf509row1_col11\" class=\"data row1 col11\" >-0.031</td>\n",
       "                        <td id=\"T_477b0d0c_a69e_11ea_be2c_74d4359cf509row1_col12\" class=\"data row1 col12\" >0.19</td>\n",
       "                        <td id=\"T_477b0d0c_a69e_11ea_be2c_74d4359cf509row1_col13\" class=\"data row1 col13\" >-0.15</td>\n",
       "                        <td id=\"T_477b0d0c_a69e_11ea_be2c_74d4359cf509row1_col14\" class=\"data row1 col14\" >0.19</td>\n",
       "                        <td id=\"T_477b0d0c_a69e_11ea_be2c_74d4359cf509row1_col15\" class=\"data row1 col15\" >-0.14</td>\n",
       "                        <td id=\"T_477b0d0c_a69e_11ea_be2c_74d4359cf509row1_col16\" class=\"data row1 col16\" >-0.078</td>\n",
       "                        <td id=\"T_477b0d0c_a69e_11ea_be2c_74d4359cf509row1_col17\" class=\"data row1 col17\" >-0.13</td>\n",
       "            </tr>\n",
       "            <tr>\n",
       "                        <th id=\"T_477b0d0c_a69e_11ea_be2c_74d4359cf509level0_row2\" class=\"row_heading level0 row2\" >arrival_date_week_number</th>\n",
       "                        <td id=\"T_477b0d0c_a69e_11ea_be2c_74d4359cf509row2_col0\" class=\"data row2 col0\" >0.0013</td>\n",
       "                        <td id=\"T_477b0d0c_a69e_11ea_be2c_74d4359cf509row2_col1\" class=\"data row2 col1\" >0.13</td>\n",
       "                        <td id=\"T_477b0d0c_a69e_11ea_be2c_74d4359cf509row2_col2\" class=\"data row2 col2\" >1</td>\n",
       "                        <td id=\"T_477b0d0c_a69e_11ea_be2c_74d4359cf509row2_col3\" class=\"data row2 col3\" >-0.00095</td>\n",
       "                        <td id=\"T_477b0d0c_a69e_11ea_be2c_74d4359cf509row2_col4\" class=\"data row2 col4\" >-0.0088</td>\n",
       "                        <td id=\"T_477b0d0c_a69e_11ea_be2c_74d4359cf509row2_col5\" class=\"data row2 col5\" >0.007</td>\n",
       "                        <td id=\"T_477b0d0c_a69e_11ea_be2c_74d4359cf509row2_col6\" class=\"data row2 col6\" >-0.0012</td>\n",
       "                        <td id=\"T_477b0d0c_a69e_11ea_be2c_74d4359cf509row2_col7\" class=\"data row2 col7\" >0.0055</td>\n",
       "                        <td id=\"T_477b0d0c_a69e_11ea_be2c_74d4359cf509row2_col8\" class=\"data row2 col8\" >0.0028</td>\n",
       "                        <td id=\"T_477b0d0c_a69e_11ea_be2c_74d4359cf509row2_col9\" class=\"data row2 col9\" >0.037</td>\n",
       "                        <td id=\"T_477b0d0c_a69e_11ea_be2c_74d4359cf509row2_col10\" class=\"data row2 col10\" >-0.012</td>\n",
       "                        <td id=\"T_477b0d0c_a69e_11ea_be2c_74d4359cf509row2_col11\" class=\"data row2 col11\" >0.0026</td>\n",
       "                        <td id=\"T_477b0d0c_a69e_11ea_be2c_74d4359cf509row2_col12\" class=\"data row2 col12\" >0.034</td>\n",
       "                        <td id=\"T_477b0d0c_a69e_11ea_be2c_74d4359cf509row2_col13\" class=\"data row2 col13\" >-0.031</td>\n",
       "                        <td id=\"T_477b0d0c_a69e_11ea_be2c_74d4359cf509row2_col14\" class=\"data row2 col14\" >0.018</td>\n",
       "                        <td id=\"T_477b0d0c_a69e_11ea_be2c_74d4359cf509row2_col15\" class=\"data row2 col15\" >0.018</td>\n",
       "                        <td id=\"T_477b0d0c_a69e_11ea_be2c_74d4359cf509row2_col16\" class=\"data row2 col16\" >-0.0038</td>\n",
       "                        <td id=\"T_477b0d0c_a69e_11ea_be2c_74d4359cf509row2_col17\" class=\"data row2 col17\" >0.016</td>\n",
       "            </tr>\n",
       "            <tr>\n",
       "                        <th id=\"T_477b0d0c_a69e_11ea_be2c_74d4359cf509level0_row3\" class=\"row_heading level0 row3\" >stays_in_weekend_nights</th>\n",
       "                        <td id=\"T_477b0d0c_a69e_11ea_be2c_74d4359cf509row3_col0\" class=\"data row3 col0\" >-0.0071</td>\n",
       "                        <td id=\"T_477b0d0c_a69e_11ea_be2c_74d4359cf509row3_col1\" class=\"data row3 col1\" >-0.024</td>\n",
       "                        <td id=\"T_477b0d0c_a69e_11ea_be2c_74d4359cf509row3_col2\" class=\"data row3 col2\" >-0.00095</td>\n",
       "                        <td id=\"T_477b0d0c_a69e_11ea_be2c_74d4359cf509row3_col3\" class=\"data row3 col3\" >1</td>\n",
       "                        <td id=\"T_477b0d0c_a69e_11ea_be2c_74d4359cf509row3_col4\" class=\"data row3 col4\" >0.22</td>\n",
       "                        <td id=\"T_477b0d0c_a69e_11ea_be2c_74d4359cf509row3_col5\" class=\"data row3 col5\" >0.082</td>\n",
       "                        <td id=\"T_477b0d0c_a69e_11ea_be2c_74d4359cf509row3_col6\" class=\"data row3 col6\" >0.037</td>\n",
       "                        <td id=\"T_477b0d0c_a69e_11ea_be2c_74d4359cf509row3_col7\" class=\"data row3 col7\" >0.0065</td>\n",
       "                        <td id=\"T_477b0d0c_a69e_11ea_be2c_74d4359cf509row3_col8\" class=\"data row3 col8\" >-0.081</td>\n",
       "                        <td id=\"T_477b0d0c_a69e_11ea_be2c_74d4359cf509row3_col9\" class=\"data row3 col9\" >-0.039</td>\n",
       "                        <td id=\"T_477b0d0c_a69e_11ea_be2c_74d4359cf509row3_col10\" class=\"data row3 col10\" >-0.028</td>\n",
       "                        <td id=\"T_477b0d0c_a69e_11ea_be2c_74d4359cf509row3_col11\" class=\"data row3 col11\" >0.046</td>\n",
       "                        <td id=\"T_477b0d0c_a69e_11ea_be2c_74d4359cf509row3_col12\" class=\"data row3 col12\" >0.092</td>\n",
       "                        <td id=\"T_477b0d0c_a69e_11ea_be2c_74d4359cf509row3_col13\" class=\"data row3 col13\" >-0.089</td>\n",
       "                        <td id=\"T_477b0d0c_a69e_11ea_be2c_74d4359cf509row3_col14\" class=\"data row3 col14\" >-0.056</td>\n",
       "                        <td id=\"T_477b0d0c_a69e_11ea_be2c_74d4359cf509row3_col15\" class=\"data row3 col15\" >0.037</td>\n",
       "                        <td id=\"T_477b0d0c_a69e_11ea_be2c_74d4359cf509row3_col16\" class=\"data row3 col16\" >-0.024</td>\n",
       "                        <td id=\"T_477b0d0c_a69e_11ea_be2c_74d4359cf509row3_col17\" class=\"data row3 col17\" >0.069</td>\n",
       "            </tr>\n",
       "            <tr>\n",
       "                        <th id=\"T_477b0d0c_a69e_11ea_be2c_74d4359cf509level0_row4\" class=\"row_heading level0 row4\" >stays_in_week_nights</th>\n",
       "                        <td id=\"T_477b0d0c_a69e_11ea_be2c_74d4359cf509row4_col0\" class=\"data row4 col0\" >0.049</td>\n",
       "                        <td id=\"T_477b0d0c_a69e_11ea_be2c_74d4359cf509row4_col1\" class=\"data row4 col1\" >0.058</td>\n",
       "                        <td id=\"T_477b0d0c_a69e_11ea_be2c_74d4359cf509row4_col2\" class=\"data row4 col2\" >-0.0088</td>\n",
       "                        <td id=\"T_477b0d0c_a69e_11ea_be2c_74d4359cf509row4_col3\" class=\"data row4 col3\" >0.22</td>\n",
       "                        <td id=\"T_477b0d0c_a69e_11ea_be2c_74d4359cf509row4_col4\" class=\"data row4 col4\" >1</td>\n",
       "                        <td id=\"T_477b0d0c_a69e_11ea_be2c_74d4359cf509row4_col5\" class=\"data row4 col5\" >0.088</td>\n",
       "                        <td id=\"T_477b0d0c_a69e_11ea_be2c_74d4359cf509row4_col6\" class=\"data row4 col6\" >0.037</td>\n",
       "                        <td id=\"T_477b0d0c_a69e_11ea_be2c_74d4359cf509row4_col7\" class=\"data row4 col7\" >0.0055</td>\n",
       "                        <td id=\"T_477b0d0c_a69e_11ea_be2c_74d4359cf509row4_col8\" class=\"data row4 col8\" >-0.094</td>\n",
       "                        <td id=\"T_477b0d0c_a69e_11ea_be2c_74d4359cf509row4_col9\" class=\"data row4 col9\" >-0.051</td>\n",
       "                        <td id=\"T_477b0d0c_a69e_11ea_be2c_74d4359cf509row4_col10\" class=\"data row4 col10\" >-0.041</td>\n",
       "                        <td id=\"T_477b0d0c_a69e_11ea_be2c_74d4359cf509row4_col11\" class=\"data row4 col11\" >0.08</td>\n",
       "                        <td id=\"T_477b0d0c_a69e_11ea_be2c_74d4359cf509row4_col12\" class=\"data row4 col12\" >0.1</td>\n",
       "                        <td id=\"T_477b0d0c_a69e_11ea_be2c_74d4359cf509row4_col13\" class=\"data row4 col13\" >-0.085</td>\n",
       "                        <td id=\"T_477b0d0c_a69e_11ea_be2c_74d4359cf509row4_col14\" class=\"data row4 col14\" >0.016</td>\n",
       "                        <td id=\"T_477b0d0c_a69e_11ea_be2c_74d4359cf509row4_col15\" class=\"data row4 col15\" >0.057</td>\n",
       "                        <td id=\"T_477b0d0c_a69e_11ea_be2c_74d4359cf509row4_col16\" class=\"data row4 col16\" >-0.038</td>\n",
       "                        <td id=\"T_477b0d0c_a69e_11ea_be2c_74d4359cf509row4_col17\" class=\"data row4 col17\" >0.064</td>\n",
       "            </tr>\n",
       "            <tr>\n",
       "                        <th id=\"T_477b0d0c_a69e_11ea_be2c_74d4359cf509level0_row5\" class=\"row_heading level0 row5\" >adults</th>\n",
       "                        <td id=\"T_477b0d0c_a69e_11ea_be2c_74d4359cf509row5_col0\" class=\"data row5 col0\" >0.053</td>\n",
       "                        <td id=\"T_477b0d0c_a69e_11ea_be2c_74d4359cf509row5_col1\" class=\"data row5 col1\" >0.12</td>\n",
       "                        <td id=\"T_477b0d0c_a69e_11ea_be2c_74d4359cf509row5_col2\" class=\"data row5 col2\" >0.007</td>\n",
       "                        <td id=\"T_477b0d0c_a69e_11ea_be2c_74d4359cf509row5_col3\" class=\"data row5 col3\" >0.082</td>\n",
       "                        <td id=\"T_477b0d0c_a69e_11ea_be2c_74d4359cf509row5_col4\" class=\"data row5 col4\" >0.088</td>\n",
       "                        <td id=\"T_477b0d0c_a69e_11ea_be2c_74d4359cf509row5_col5\" class=\"data row5 col5\" >1</td>\n",
       "                        <td id=\"T_477b0d0c_a69e_11ea_be2c_74d4359cf509row5_col6\" class=\"data row5 col6\" >-0.0059</td>\n",
       "                        <td id=\"T_477b0d0c_a69e_11ea_be2c_74d4359cf509row5_col7\" class=\"data row5 col7\" >0.012</td>\n",
       "                        <td id=\"T_477b0d0c_a69e_11ea_be2c_74d4359cf509row5_col8\" class=\"data row5 col8\" >-0.17</td>\n",
       "                        <td id=\"T_477b0d0c_a69e_11ea_be2c_74d4359cf509row5_col9\" class=\"data row5 col9\" >-0.038</td>\n",
       "                        <td id=\"T_477b0d0c_a69e_11ea_be2c_74d4359cf509row5_col10\" class=\"data row5 col10\" >-0.11</td>\n",
       "                        <td id=\"T_477b0d0c_a69e_11ea_be2c_74d4359cf509row5_col11\" class=\"data row5 col11\" >-0.088</td>\n",
       "                        <td id=\"T_477b0d0c_a69e_11ea_be2c_74d4359cf509row5_col12\" class=\"data row5 col12\" >0.24</td>\n",
       "                        <td id=\"T_477b0d0c_a69e_11ea_be2c_74d4359cf509row5_col13\" class=\"data row5 col13\" >-0.27</td>\n",
       "                        <td id=\"T_477b0d0c_a69e_11ea_be2c_74d4359cf509row5_col14\" class=\"data row5 col14\" >-0.0078</td>\n",
       "                        <td id=\"T_477b0d0c_a69e_11ea_be2c_74d4359cf509row5_col15\" class=\"data row5 col15\" >0.26</td>\n",
       "                        <td id=\"T_477b0d0c_a69e_11ea_be2c_74d4359cf509row5_col16\" class=\"data row5 col16\" >0.011</td>\n",
       "                        <td id=\"T_477b0d0c_a69e_11ea_be2c_74d4359cf509row5_col17\" class=\"data row5 col17\" >0.16</td>\n",
       "            </tr>\n",
       "            <tr>\n",
       "                        <th id=\"T_477b0d0c_a69e_11ea_be2c_74d4359cf509level0_row6\" class=\"row_heading level0 row6\" >children</th>\n",
       "                        <td id=\"T_477b0d0c_a69e_11ea_be2c_74d4359cf509row6_col0\" class=\"data row6 col0\" >-0.027</td>\n",
       "                        <td id=\"T_477b0d0c_a69e_11ea_be2c_74d4359cf509row6_col1\" class=\"data row6 col1\" >-0.054</td>\n",
       "                        <td id=\"T_477b0d0c_a69e_11ea_be2c_74d4359cf509row6_col2\" class=\"data row6 col2\" >-0.0012</td>\n",
       "                        <td id=\"T_477b0d0c_a69e_11ea_be2c_74d4359cf509row6_col3\" class=\"data row6 col3\" >0.037</td>\n",
       "                        <td id=\"T_477b0d0c_a69e_11ea_be2c_74d4359cf509row6_col4\" class=\"data row6 col4\" >0.037</td>\n",
       "                        <td id=\"T_477b0d0c_a69e_11ea_be2c_74d4359cf509row6_col5\" class=\"data row6 col5\" >-0.0059</td>\n",
       "                        <td id=\"T_477b0d0c_a69e_11ea_be2c_74d4359cf509row6_col6\" class=\"data row6 col6\" >1</td>\n",
       "                        <td id=\"T_477b0d0c_a69e_11ea_be2c_74d4359cf509row6_col7\" class=\"data row6 col7\" >0.024</td>\n",
       "                        <td id=\"T_477b0d0c_a69e_11ea_be2c_74d4359cf509row6_col8\" class=\"data row6 col8\" >-0.029</td>\n",
       "                        <td id=\"T_477b0d0c_a69e_11ea_be2c_74d4359cf509row6_col9\" class=\"data row6 col9\" >-0.044</td>\n",
       "                        <td id=\"T_477b0d0c_a69e_11ea_be2c_74d4359cf509row6_col10\" class=\"data row6 col10\" >-0.017</td>\n",
       "                        <td id=\"T_477b0d0c_a69e_11ea_be2c_74d4359cf509row6_col11\" class=\"data row6 col11\" >0.047</td>\n",
       "                        <td id=\"T_477b0d0c_a69e_11ea_be2c_74d4359cf509row6_col12\" class=\"data row6 col12\" >0.031</td>\n",
       "                        <td id=\"T_477b0d0c_a69e_11ea_be2c_74d4359cf509row6_col13\" class=\"data row6 col13\" >-0.047</td>\n",
       "                        <td id=\"T_477b0d0c_a69e_11ea_be2c_74d4359cf509row6_col14\" class=\"data row6 col14\" >-0.036</td>\n",
       "                        <td id=\"T_477b0d0c_a69e_11ea_be2c_74d4359cf509row6_col15\" class=\"data row6 col15\" >0.31</td>\n",
       "                        <td id=\"T_477b0d0c_a69e_11ea_be2c_74d4359cf509row6_col16\" class=\"data row6 col16\" >0.055</td>\n",
       "                        <td id=\"T_477b0d0c_a69e_11ea_be2c_74d4359cf509row6_col17\" class=\"data row6 col17\" >0.11</td>\n",
       "            </tr>\n",
       "            <tr>\n",
       "                        <th id=\"T_477b0d0c_a69e_11ea_be2c_74d4359cf509level0_row7\" class=\"row_heading level0 row7\" >babies</th>\n",
       "                        <td id=\"T_477b0d0c_a69e_11ea_be2c_74d4359cf509row7_col0\" class=\"data row7 col0\" >-0.03</td>\n",
       "                        <td id=\"T_477b0d0c_a69e_11ea_be2c_74d4359cf509row7_col1\" class=\"data row7 col1\" >-0.03</td>\n",
       "                        <td id=\"T_477b0d0c_a69e_11ea_be2c_74d4359cf509row7_col2\" class=\"data row7 col2\" >0.0055</td>\n",
       "                        <td id=\"T_477b0d0c_a69e_11ea_be2c_74d4359cf509row7_col3\" class=\"data row7 col3\" >0.0065</td>\n",
       "                        <td id=\"T_477b0d0c_a69e_11ea_be2c_74d4359cf509row7_col4\" class=\"data row7 col4\" >0.0055</td>\n",
       "                        <td id=\"T_477b0d0c_a69e_11ea_be2c_74d4359cf509row7_col5\" class=\"data row7 col5\" >0.012</td>\n",
       "                        <td id=\"T_477b0d0c_a69e_11ea_be2c_74d4359cf509row7_col6\" class=\"data row7 col6\" >0.024</td>\n",
       "                        <td id=\"T_477b0d0c_a69e_11ea_be2c_74d4359cf509row7_col7\" class=\"data row7 col7\" >1</td>\n",
       "                        <td id=\"T_477b0d0c_a69e_11ea_be2c_74d4359cf509row7_col8\" class=\"data row7 col8\" >-0.0019</td>\n",
       "                        <td id=\"T_477b0d0c_a69e_11ea_be2c_74d4359cf509row7_col9\" class=\"data row7 col9\" >-0.0087</td>\n",
       "                        <td id=\"T_477b0d0c_a69e_11ea_be2c_74d4359cf509row7_col10\" class=\"data row7 col10\" >-0.0033</td>\n",
       "                        <td id=\"T_477b0d0c_a69e_11ea_be2c_74d4359cf509row7_col11\" class=\"data row7 col11\" >0.066</td>\n",
       "                        <td id=\"T_477b0d0c_a69e_11ea_be2c_74d4359cf509row7_col12\" class=\"data row7 col12\" >-0.014</td>\n",
       "                        <td id=\"T_477b0d0c_a69e_11ea_be2c_74d4359cf509row7_col13\" class=\"data row7 col13\" >-0.0087</td>\n",
       "                        <td id=\"T_477b0d0c_a69e_11ea_be2c_74d4359cf509row7_col14\" class=\"data row7 col14\" >-0.0091</td>\n",
       "                        <td id=\"T_477b0d0c_a69e_11ea_be2c_74d4359cf509row7_col15\" class=\"data row7 col15\" >0.014</td>\n",
       "                        <td id=\"T_477b0d0c_a69e_11ea_be2c_74d4359cf509row7_col16\" class=\"data row7 col16\" >0.02</td>\n",
       "                        <td id=\"T_477b0d0c_a69e_11ea_be2c_74d4359cf509row7_col17\" class=\"data row7 col17\" >0.072</td>\n",
       "            </tr>\n",
       "            <tr>\n",
       "                        <th id=\"T_477b0d0c_a69e_11ea_be2c_74d4359cf509level0_row8\" class=\"row_heading level0 row8\" >is_repeated_guest</th>\n",
       "                        <td id=\"T_477b0d0c_a69e_11ea_be2c_74d4359cf509row8_col0\" class=\"data row8 col0\" >-0.066</td>\n",
       "                        <td id=\"T_477b0d0c_a69e_11ea_be2c_74d4359cf509row8_col1\" class=\"data row8 col1\" >-0.11</td>\n",
       "                        <td id=\"T_477b0d0c_a69e_11ea_be2c_74d4359cf509row8_col2\" class=\"data row8 col2\" >0.0028</td>\n",
       "                        <td id=\"T_477b0d0c_a69e_11ea_be2c_74d4359cf509row8_col3\" class=\"data row8 col3\" >-0.081</td>\n",
       "                        <td id=\"T_477b0d0c_a69e_11ea_be2c_74d4359cf509row8_col4\" class=\"data row8 col4\" >-0.094</td>\n",
       "                        <td id=\"T_477b0d0c_a69e_11ea_be2c_74d4359cf509row8_col5\" class=\"data row8 col5\" >-0.17</td>\n",
       "                        <td id=\"T_477b0d0c_a69e_11ea_be2c_74d4359cf509row8_col6\" class=\"data row8 col6\" >-0.029</td>\n",
       "                        <td id=\"T_477b0d0c_a69e_11ea_be2c_74d4359cf509row8_col7\" class=\"data row8 col7\" >-0.0019</td>\n",
       "                        <td id=\"T_477b0d0c_a69e_11ea_be2c_74d4359cf509row8_col8\" class=\"data row8 col8\" >1</td>\n",
       "                        <td id=\"T_477b0d0c_a69e_11ea_be2c_74d4359cf509row8_col9\" class=\"data row8 col9\" >0.27</td>\n",
       "                        <td id=\"T_477b0d0c_a69e_11ea_be2c_74d4359cf509row8_col10\" class=\"data row8 col10\" >0.45</td>\n",
       "                        <td id=\"T_477b0d0c_a69e_11ea_be2c_74d4359cf509row8_col11\" class=\"data row8 col11\" >0.014</td>\n",
       "                        <td id=\"T_477b0d0c_a69e_11ea_be2c_74d4359cf509row8_col12\" class=\"data row8 col12\" >-0.29</td>\n",
       "                        <td id=\"T_477b0d0c_a69e_11ea_be2c_74d4359cf509row8_col13\" class=\"data row8 col13\" >0.4</td>\n",
       "                        <td id=\"T_477b0d0c_a69e_11ea_be2c_74d4359cf509row8_col14\" class=\"data row8 col14\" >-0.024</td>\n",
       "                        <td id=\"T_477b0d0c_a69e_11ea_be2c_74d4359cf509row8_col15\" class=\"data row8 col15\" >-0.15</td>\n",
       "                        <td id=\"T_477b0d0c_a69e_11ea_be2c_74d4359cf509row8_col16\" class=\"data row8 col16\" >0.093</td>\n",
       "                        <td id=\"T_477b0d0c_a69e_11ea_be2c_74d4359cf509row8_col17\" class=\"data row8 col17\" >0.018</td>\n",
       "            </tr>\n",
       "            <tr>\n",
       "                        <th id=\"T_477b0d0c_a69e_11ea_be2c_74d4359cf509level0_row9\" class=\"row_heading level0 row9\" >previous_cancellations</th>\n",
       "                        <td id=\"T_477b0d0c_a69e_11ea_be2c_74d4359cf509row9_col0\" class=\"data row9 col0\" >0.17</td>\n",
       "                        <td id=\"T_477b0d0c_a69e_11ea_be2c_74d4359cf509row9_col1\" class=\"data row9 col1\" >0.12</td>\n",
       "                        <td id=\"T_477b0d0c_a69e_11ea_be2c_74d4359cf509row9_col2\" class=\"data row9 col2\" >0.037</td>\n",
       "                        <td id=\"T_477b0d0c_a69e_11ea_be2c_74d4359cf509row9_col3\" class=\"data row9 col3\" >-0.039</td>\n",
       "                        <td id=\"T_477b0d0c_a69e_11ea_be2c_74d4359cf509row9_col4\" class=\"data row9 col4\" >-0.051</td>\n",
       "                        <td id=\"T_477b0d0c_a69e_11ea_be2c_74d4359cf509row9_col5\" class=\"data row9 col5\" >-0.038</td>\n",
       "                        <td id=\"T_477b0d0c_a69e_11ea_be2c_74d4359cf509row9_col6\" class=\"data row9 col6\" >-0.044</td>\n",
       "                        <td id=\"T_477b0d0c_a69e_11ea_be2c_74d4359cf509row9_col7\" class=\"data row9 col7\" >-0.0087</td>\n",
       "                        <td id=\"T_477b0d0c_a69e_11ea_be2c_74d4359cf509row9_col8\" class=\"data row9 col8\" >0.27</td>\n",
       "                        <td id=\"T_477b0d0c_a69e_11ea_be2c_74d4359cf509row9_col9\" class=\"data row9 col9\" >1</td>\n",
       "                        <td id=\"T_477b0d0c_a69e_11ea_be2c_74d4359cf509row9_col10\" class=\"data row9 col10\" >0.39</td>\n",
       "                        <td id=\"T_477b0d0c_a69e_11ea_be2c_74d4359cf509row9_col11\" class=\"data row9 col11\" >-0.04</td>\n",
       "                        <td id=\"T_477b0d0c_a69e_11ea_be2c_74d4359cf509row9_col12\" class=\"data row9 col12\" >-0.047</td>\n",
       "                        <td id=\"T_477b0d0c_a69e_11ea_be2c_74d4359cf509row9_col13\" class=\"data row9 col13\" >0.076</td>\n",
       "                        <td id=\"T_477b0d0c_a69e_11ea_be2c_74d4359cf509row9_col14\" class=\"data row9 col14\" >0.021</td>\n",
       "                        <td id=\"T_477b0d0c_a69e_11ea_be2c_74d4359cf509row9_col15\" class=\"data row9 col15\" >-0.13</td>\n",
       "                        <td id=\"T_477b0d0c_a69e_11ea_be2c_74d4359cf509row9_col16\" class=\"data row9 col16\" >-0.0034</td>\n",
       "                        <td id=\"T_477b0d0c_a69e_11ea_be2c_74d4359cf509row9_col17\" class=\"data row9 col17\" >-0.077</td>\n",
       "            </tr>\n",
       "            <tr>\n",
       "                        <th id=\"T_477b0d0c_a69e_11ea_be2c_74d4359cf509level0_row10\" class=\"row_heading level0 row10\" >previous_bookings_not_canceled</th>\n",
       "                        <td id=\"T_477b0d0c_a69e_11ea_be2c_74d4359cf509row10_col0\" class=\"data row10 col0\" >-0.053</td>\n",
       "                        <td id=\"T_477b0d0c_a69e_11ea_be2c_74d4359cf509row10_col1\" class=\"data row10 col1\" >-0.065</td>\n",
       "                        <td id=\"T_477b0d0c_a69e_11ea_be2c_74d4359cf509row10_col2\" class=\"data row10 col2\" >-0.012</td>\n",
       "                        <td id=\"T_477b0d0c_a69e_11ea_be2c_74d4359cf509row10_col3\" class=\"data row10 col3\" >-0.028</td>\n",
       "                        <td id=\"T_477b0d0c_a69e_11ea_be2c_74d4359cf509row10_col4\" class=\"data row10 col4\" >-0.041</td>\n",
       "                        <td id=\"T_477b0d0c_a69e_11ea_be2c_74d4359cf509row10_col5\" class=\"data row10 col5\" >-0.11</td>\n",
       "                        <td id=\"T_477b0d0c_a69e_11ea_be2c_74d4359cf509row10_col6\" class=\"data row10 col6\" >-0.017</td>\n",
       "                        <td id=\"T_477b0d0c_a69e_11ea_be2c_74d4359cf509row10_col7\" class=\"data row10 col7\" >-0.0033</td>\n",
       "                        <td id=\"T_477b0d0c_a69e_11ea_be2c_74d4359cf509row10_col8\" class=\"data row10 col8\" >0.45</td>\n",
       "                        <td id=\"T_477b0d0c_a69e_11ea_be2c_74d4359cf509row10_col9\" class=\"data row10 col9\" >0.39</td>\n",
       "                        <td id=\"T_477b0d0c_a69e_11ea_be2c_74d4359cf509row10_col10\" class=\"data row10 col10\" >1</td>\n",
       "                        <td id=\"T_477b0d0c_a69e_11ea_be2c_74d4359cf509row10_col11\" class=\"data row10 col11\" >0.017</td>\n",
       "                        <td id=\"T_477b0d0c_a69e_11ea_be2c_74d4359cf509row10_col12\" class=\"data row10 col12\" >-0.21</td>\n",
       "                        <td id=\"T_477b0d0c_a69e_11ea_be2c_74d4359cf509row10_col13\" class=\"data row10 col13\" >0.3</td>\n",
       "                        <td id=\"T_477b0d0c_a69e_11ea_be2c_74d4359cf509row10_col14\" class=\"data row10 col14\" >-0.0093</td>\n",
       "                        <td id=\"T_477b0d0c_a69e_11ea_be2c_74d4359cf509row10_col15\" class=\"data row10 col15\" >-0.075</td>\n",
       "                        <td id=\"T_477b0d0c_a69e_11ea_be2c_74d4359cf509row10_col16\" class=\"data row10 col16\" >0.068</td>\n",
       "                        <td id=\"T_477b0d0c_a69e_11ea_be2c_74d4359cf509row10_col17\" class=\"data row10 col17\" >0.046</td>\n",
       "            </tr>\n",
       "            <tr>\n",
       "                        <th id=\"T_477b0d0c_a69e_11ea_be2c_74d4359cf509level0_row11\" class=\"row_heading level0 row11\" >booking_changes</th>\n",
       "                        <td id=\"T_477b0d0c_a69e_11ea_be2c_74d4359cf509row11_col0\" class=\"data row11 col0\" >-0.15</td>\n",
       "                        <td id=\"T_477b0d0c_a69e_11ea_be2c_74d4359cf509row11_col1\" class=\"data row11 col1\" >-0.031</td>\n",
       "                        <td id=\"T_477b0d0c_a69e_11ea_be2c_74d4359cf509row11_col2\" class=\"data row11 col2\" >0.0026</td>\n",
       "                        <td id=\"T_477b0d0c_a69e_11ea_be2c_74d4359cf509row11_col3\" class=\"data row11 col3\" >0.046</td>\n",
       "                        <td id=\"T_477b0d0c_a69e_11ea_be2c_74d4359cf509row11_col4\" class=\"data row11 col4\" >0.08</td>\n",
       "                        <td id=\"T_477b0d0c_a69e_11ea_be2c_74d4359cf509row11_col5\" class=\"data row11 col5\" >-0.088</td>\n",
       "                        <td id=\"T_477b0d0c_a69e_11ea_be2c_74d4359cf509row11_col6\" class=\"data row11 col6\" >0.047</td>\n",
       "                        <td id=\"T_477b0d0c_a69e_11ea_be2c_74d4359cf509row11_col7\" class=\"data row11 col7\" >0.066</td>\n",
       "                        <td id=\"T_477b0d0c_a69e_11ea_be2c_74d4359cf509row11_col8\" class=\"data row11 col8\" >0.014</td>\n",
       "                        <td id=\"T_477b0d0c_a69e_11ea_be2c_74d4359cf509row11_col9\" class=\"data row11 col9\" >-0.04</td>\n",
       "                        <td id=\"T_477b0d0c_a69e_11ea_be2c_74d4359cf509row11_col10\" class=\"data row11 col10\" >0.017</td>\n",
       "                        <td id=\"T_477b0d0c_a69e_11ea_be2c_74d4359cf509row11_col11\" class=\"data row11 col11\" >1</td>\n",
       "                        <td id=\"T_477b0d0c_a69e_11ea_be2c_74d4359cf509row11_col12\" class=\"data row11 col12\" >-0.051</td>\n",
       "                        <td id=\"T_477b0d0c_a69e_11ea_be2c_74d4359cf509row11_col13\" class=\"data row11 col13\" >0.043</td>\n",
       "                        <td id=\"T_477b0d0c_a69e_11ea_be2c_74d4359cf509row11_col14\" class=\"data row11 col14\" >-0.012</td>\n",
       "                        <td id=\"T_477b0d0c_a69e_11ea_be2c_74d4359cf509row11_col15\" class=\"data row11 col15\" >0.024</td>\n",
       "                        <td id=\"T_477b0d0c_a69e_11ea_be2c_74d4359cf509row11_col16\" class=\"data row11 col16\" >0.042</td>\n",
       "                        <td id=\"T_477b0d0c_a69e_11ea_be2c_74d4359cf509row11_col17\" class=\"data row11 col17\" >0.063</td>\n",
       "            </tr>\n",
       "            <tr>\n",
       "                        <th id=\"T_477b0d0c_a69e_11ea_be2c_74d4359cf509level0_row12\" class=\"row_heading level0 row12\" >agent</th>\n",
       "                        <td id=\"T_477b0d0c_a69e_11ea_be2c_74d4359cf509row12_col0\" class=\"data row12 col0\" >0.066</td>\n",
       "                        <td id=\"T_477b0d0c_a69e_11ea_be2c_74d4359cf509row12_col1\" class=\"data row12 col1\" >0.19</td>\n",
       "                        <td id=\"T_477b0d0c_a69e_11ea_be2c_74d4359cf509row12_col2\" class=\"data row12 col2\" >0.034</td>\n",
       "                        <td id=\"T_477b0d0c_a69e_11ea_be2c_74d4359cf509row12_col3\" class=\"data row12 col3\" >0.092</td>\n",
       "                        <td id=\"T_477b0d0c_a69e_11ea_be2c_74d4359cf509row12_col4\" class=\"data row12 col4\" >0.1</td>\n",
       "                        <td id=\"T_477b0d0c_a69e_11ea_be2c_74d4359cf509row12_col5\" class=\"data row12 col5\" >0.24</td>\n",
       "                        <td id=\"T_477b0d0c_a69e_11ea_be2c_74d4359cf509row12_col6\" class=\"data row12 col6\" >0.031</td>\n",
       "                        <td id=\"T_477b0d0c_a69e_11ea_be2c_74d4359cf509row12_col7\" class=\"data row12 col7\" >-0.014</td>\n",
       "                        <td id=\"T_477b0d0c_a69e_11ea_be2c_74d4359cf509row12_col8\" class=\"data row12 col8\" >-0.29</td>\n",
       "                        <td id=\"T_477b0d0c_a69e_11ea_be2c_74d4359cf509row12_col9\" class=\"data row12 col9\" >-0.047</td>\n",
       "                        <td id=\"T_477b0d0c_a69e_11ea_be2c_74d4359cf509row12_col10\" class=\"data row12 col10\" >-0.21</td>\n",
       "                        <td id=\"T_477b0d0c_a69e_11ea_be2c_74d4359cf509row12_col11\" class=\"data row12 col11\" >-0.051</td>\n",
       "                        <td id=\"T_477b0d0c_a69e_11ea_be2c_74d4359cf509row12_col12\" class=\"data row12 col12\" >1</td>\n",
       "                        <td id=\"T_477b0d0c_a69e_11ea_be2c_74d4359cf509row12_col13\" class=\"data row12 col13\" >-0.64</td>\n",
       "                        <td id=\"T_477b0d0c_a69e_11ea_be2c_74d4359cf509row12_col14\" class=\"data row12 col14\" >0.046</td>\n",
       "                        <td id=\"T_477b0d0c_a69e_11ea_be2c_74d4359cf509row12_col15\" class=\"data row12 col15\" >0.095</td>\n",
       "                        <td id=\"T_477b0d0c_a69e_11ea_be2c_74d4359cf509row12_col16\" class=\"data row12 col16\" >-0.067</td>\n",
       "                        <td id=\"T_477b0d0c_a69e_11ea_be2c_74d4359cf509row12_col17\" class=\"data row12 col17\" >0.076</td>\n",
       "            </tr>\n",
       "            <tr>\n",
       "                        <th id=\"T_477b0d0c_a69e_11ea_be2c_74d4359cf509level0_row13\" class=\"row_heading level0 row13\" >company</th>\n",
       "                        <td id=\"T_477b0d0c_a69e_11ea_be2c_74d4359cf509row13_col0\" class=\"data row13 col0\" >-0.092</td>\n",
       "                        <td id=\"T_477b0d0c_a69e_11ea_be2c_74d4359cf509row13_col1\" class=\"data row13 col1\" >-0.15</td>\n",
       "                        <td id=\"T_477b0d0c_a69e_11ea_be2c_74d4359cf509row13_col2\" class=\"data row13 col2\" >-0.031</td>\n",
       "                        <td id=\"T_477b0d0c_a69e_11ea_be2c_74d4359cf509row13_col3\" class=\"data row13 col3\" >-0.089</td>\n",
       "                        <td id=\"T_477b0d0c_a69e_11ea_be2c_74d4359cf509row13_col4\" class=\"data row13 col4\" >-0.085</td>\n",
       "                        <td id=\"T_477b0d0c_a69e_11ea_be2c_74d4359cf509row13_col5\" class=\"data row13 col5\" >-0.27</td>\n",
       "                        <td id=\"T_477b0d0c_a69e_11ea_be2c_74d4359cf509row13_col6\" class=\"data row13 col6\" >-0.047</td>\n",
       "                        <td id=\"T_477b0d0c_a69e_11ea_be2c_74d4359cf509row13_col7\" class=\"data row13 col7\" >-0.0087</td>\n",
       "                        <td id=\"T_477b0d0c_a69e_11ea_be2c_74d4359cf509row13_col8\" class=\"data row13 col8\" >0.4</td>\n",
       "                        <td id=\"T_477b0d0c_a69e_11ea_be2c_74d4359cf509row13_col9\" class=\"data row13 col9\" >0.076</td>\n",
       "                        <td id=\"T_477b0d0c_a69e_11ea_be2c_74d4359cf509row13_col10\" class=\"data row13 col10\" >0.3</td>\n",
       "                        <td id=\"T_477b0d0c_a69e_11ea_be2c_74d4359cf509row13_col11\" class=\"data row13 col11\" >0.043</td>\n",
       "                        <td id=\"T_477b0d0c_a69e_11ea_be2c_74d4359cf509row13_col12\" class=\"data row13 col12\" >-0.64</td>\n",
       "                        <td id=\"T_477b0d0c_a69e_11ea_be2c_74d4359cf509row13_col13\" class=\"data row13 col13\" >1</td>\n",
       "                        <td id=\"T_477b0d0c_a69e_11ea_be2c_74d4359cf509row13_col14\" class=\"data row13 col14\" >-0.031</td>\n",
       "                        <td id=\"T_477b0d0c_a69e_11ea_be2c_74d4359cf509row13_col15\" class=\"data row13 col15\" >-0.13</td>\n",
       "                        <td id=\"T_477b0d0c_a69e_11ea_be2c_74d4359cf509row13_col16\" class=\"data row13 col16\" >0.078</td>\n",
       "                        <td id=\"T_477b0d0c_a69e_11ea_be2c_74d4359cf509row13_col17\" class=\"data row13 col17\" >-0.06</td>\n",
       "            </tr>\n",
       "            <tr>\n",
       "                        <th id=\"T_477b0d0c_a69e_11ea_be2c_74d4359cf509level0_row14\" class=\"row_heading level0 row14\" >days_in_waiting_list</th>\n",
       "                        <td id=\"T_477b0d0c_a69e_11ea_be2c_74d4359cf509row14_col0\" class=\"data row14 col0\" >0.061</td>\n",
       "                        <td id=\"T_477b0d0c_a69e_11ea_be2c_74d4359cf509row14_col1\" class=\"data row14 col1\" >0.19</td>\n",
       "                        <td id=\"T_477b0d0c_a69e_11ea_be2c_74d4359cf509row14_col2\" class=\"data row14 col2\" >0.018</td>\n",
       "                        <td id=\"T_477b0d0c_a69e_11ea_be2c_74d4359cf509row14_col3\" class=\"data row14 col3\" >-0.056</td>\n",
       "                        <td id=\"T_477b0d0c_a69e_11ea_be2c_74d4359cf509row14_col4\" class=\"data row14 col4\" >0.016</td>\n",
       "                        <td id=\"T_477b0d0c_a69e_11ea_be2c_74d4359cf509row14_col5\" class=\"data row14 col5\" >-0.0078</td>\n",
       "                        <td id=\"T_477b0d0c_a69e_11ea_be2c_74d4359cf509row14_col6\" class=\"data row14 col6\" >-0.036</td>\n",
       "                        <td id=\"T_477b0d0c_a69e_11ea_be2c_74d4359cf509row14_col7\" class=\"data row14 col7\" >-0.0091</td>\n",
       "                        <td id=\"T_477b0d0c_a69e_11ea_be2c_74d4359cf509row14_col8\" class=\"data row14 col8\" >-0.024</td>\n",
       "                        <td id=\"T_477b0d0c_a69e_11ea_be2c_74d4359cf509row14_col9\" class=\"data row14 col9\" >0.021</td>\n",
       "                        <td id=\"T_477b0d0c_a69e_11ea_be2c_74d4359cf509row14_col10\" class=\"data row14 col10\" >-0.0093</td>\n",
       "                        <td id=\"T_477b0d0c_a69e_11ea_be2c_74d4359cf509row14_col11\" class=\"data row14 col11\" >-0.012</td>\n",
       "                        <td id=\"T_477b0d0c_a69e_11ea_be2c_74d4359cf509row14_col12\" class=\"data row14 col12\" >0.046</td>\n",
       "                        <td id=\"T_477b0d0c_a69e_11ea_be2c_74d4359cf509row14_col13\" class=\"data row14 col13\" >-0.031</td>\n",
       "                        <td id=\"T_477b0d0c_a69e_11ea_be2c_74d4359cf509row14_col14\" class=\"data row14 col14\" >1</td>\n",
       "                        <td id=\"T_477b0d0c_a69e_11ea_be2c_74d4359cf509row14_col15\" class=\"data row14 col15\" >-0.067</td>\n",
       "                        <td id=\"T_477b0d0c_a69e_11ea_be2c_74d4359cf509row14_col16\" class=\"data row14 col16\" >-0.024</td>\n",
       "                        <td id=\"T_477b0d0c_a69e_11ea_be2c_74d4359cf509row14_col17\" class=\"data row14 col17\" >-0.093</td>\n",
       "            </tr>\n",
       "            <tr>\n",
       "                        <th id=\"T_477b0d0c_a69e_11ea_be2c_74d4359cf509level0_row15\" class=\"row_heading level0 row15\" >adr</th>\n",
       "                        <td id=\"T_477b0d0c_a69e_11ea_be2c_74d4359cf509row15_col0\" class=\"data row15 col0\" >-0.011</td>\n",
       "                        <td id=\"T_477b0d0c_a69e_11ea_be2c_74d4359cf509row15_col1\" class=\"data row15 col1\" >-0.14</td>\n",
       "                        <td id=\"T_477b0d0c_a69e_11ea_be2c_74d4359cf509row15_col2\" class=\"data row15 col2\" >0.018</td>\n",
       "                        <td id=\"T_477b0d0c_a69e_11ea_be2c_74d4359cf509row15_col3\" class=\"data row15 col3\" >0.037</td>\n",
       "                        <td id=\"T_477b0d0c_a69e_11ea_be2c_74d4359cf509row15_col4\" class=\"data row15 col4\" >0.057</td>\n",
       "                        <td id=\"T_477b0d0c_a69e_11ea_be2c_74d4359cf509row15_col5\" class=\"data row15 col5\" >0.26</td>\n",
       "                        <td id=\"T_477b0d0c_a69e_11ea_be2c_74d4359cf509row15_col6\" class=\"data row15 col6\" >0.31</td>\n",
       "                        <td id=\"T_477b0d0c_a69e_11ea_be2c_74d4359cf509row15_col7\" class=\"data row15 col7\" >0.014</td>\n",
       "                        <td id=\"T_477b0d0c_a69e_11ea_be2c_74d4359cf509row15_col8\" class=\"data row15 col8\" >-0.15</td>\n",
       "                        <td id=\"T_477b0d0c_a69e_11ea_be2c_74d4359cf509row15_col9\" class=\"data row15 col9\" >-0.13</td>\n",
       "                        <td id=\"T_477b0d0c_a69e_11ea_be2c_74d4359cf509row15_col10\" class=\"data row15 col10\" >-0.075</td>\n",
       "                        <td id=\"T_477b0d0c_a69e_11ea_be2c_74d4359cf509row15_col11\" class=\"data row15 col11\" >0.024</td>\n",
       "                        <td id=\"T_477b0d0c_a69e_11ea_be2c_74d4359cf509row15_col12\" class=\"data row15 col12\" >0.095</td>\n",
       "                        <td id=\"T_477b0d0c_a69e_11ea_be2c_74d4359cf509row15_col13\" class=\"data row15 col13\" >-0.13</td>\n",
       "                        <td id=\"T_477b0d0c_a69e_11ea_be2c_74d4359cf509row15_col14\" class=\"data row15 col14\" >-0.067</td>\n",
       "                        <td id=\"T_477b0d0c_a69e_11ea_be2c_74d4359cf509row15_col15\" class=\"data row15 col15\" >1</td>\n",
       "                        <td id=\"T_477b0d0c_a69e_11ea_be2c_74d4359cf509row15_col16\" class=\"data row15 col16\" >0.06</td>\n",
       "                        <td id=\"T_477b0d0c_a69e_11ea_be2c_74d4359cf509row15_col17\" class=\"data row15 col17\" >0.17</td>\n",
       "            </tr>\n",
       "            <tr>\n",
       "                        <th id=\"T_477b0d0c_a69e_11ea_be2c_74d4359cf509level0_row16\" class=\"row_heading level0 row16\" >required_car_parking_spaces</th>\n",
       "                        <td id=\"T_477b0d0c_a69e_11ea_be2c_74d4359cf509row16_col0\" class=\"data row16 col0\" >-0.13</td>\n",
       "                        <td id=\"T_477b0d0c_a69e_11ea_be2c_74d4359cf509row16_col1\" class=\"data row16 col1\" >-0.078</td>\n",
       "                        <td id=\"T_477b0d0c_a69e_11ea_be2c_74d4359cf509row16_col2\" class=\"data row16 col2\" >-0.0038</td>\n",
       "                        <td id=\"T_477b0d0c_a69e_11ea_be2c_74d4359cf509row16_col3\" class=\"data row16 col3\" >-0.024</td>\n",
       "                        <td id=\"T_477b0d0c_a69e_11ea_be2c_74d4359cf509row16_col4\" class=\"data row16 col4\" >-0.038</td>\n",
       "                        <td id=\"T_477b0d0c_a69e_11ea_be2c_74d4359cf509row16_col5\" class=\"data row16 col5\" >0.011</td>\n",
       "                        <td id=\"T_477b0d0c_a69e_11ea_be2c_74d4359cf509row16_col6\" class=\"data row16 col6\" >0.055</td>\n",
       "                        <td id=\"T_477b0d0c_a69e_11ea_be2c_74d4359cf509row16_col7\" class=\"data row16 col7\" >0.02</td>\n",
       "                        <td id=\"T_477b0d0c_a69e_11ea_be2c_74d4359cf509row16_col8\" class=\"data row16 col8\" >0.093</td>\n",
       "                        <td id=\"T_477b0d0c_a69e_11ea_be2c_74d4359cf509row16_col9\" class=\"data row16 col9\" >-0.0034</td>\n",
       "                        <td id=\"T_477b0d0c_a69e_11ea_be2c_74d4359cf509row16_col10\" class=\"data row16 col10\" >0.068</td>\n",
       "                        <td id=\"T_477b0d0c_a69e_11ea_be2c_74d4359cf509row16_col11\" class=\"data row16 col11\" >0.042</td>\n",
       "                        <td id=\"T_477b0d0c_a69e_11ea_be2c_74d4359cf509row16_col12\" class=\"data row16 col12\" >-0.067</td>\n",
       "                        <td id=\"T_477b0d0c_a69e_11ea_be2c_74d4359cf509row16_col13\" class=\"data row16 col13\" >0.078</td>\n",
       "                        <td id=\"T_477b0d0c_a69e_11ea_be2c_74d4359cf509row16_col14\" class=\"data row16 col14\" >-0.024</td>\n",
       "                        <td id=\"T_477b0d0c_a69e_11ea_be2c_74d4359cf509row16_col15\" class=\"data row16 col15\" >0.06</td>\n",
       "                        <td id=\"T_477b0d0c_a69e_11ea_be2c_74d4359cf509row16_col16\" class=\"data row16 col16\" >1</td>\n",
       "                        <td id=\"T_477b0d0c_a69e_11ea_be2c_74d4359cf509row16_col17\" class=\"data row16 col17\" >0.088</td>\n",
       "            </tr>\n",
       "            <tr>\n",
       "                        <th id=\"T_477b0d0c_a69e_11ea_be2c_74d4359cf509level0_row17\" class=\"row_heading level0 row17\" >total_of_special_requests</th>\n",
       "                        <td id=\"T_477b0d0c_a69e_11ea_be2c_74d4359cf509row17_col0\" class=\"data row17 col0\" >-0.29</td>\n",
       "                        <td id=\"T_477b0d0c_a69e_11ea_be2c_74d4359cf509row17_col1\" class=\"data row17 col1\" >-0.13</td>\n",
       "                        <td id=\"T_477b0d0c_a69e_11ea_be2c_74d4359cf509row17_col2\" class=\"data row17 col2\" >0.016</td>\n",
       "                        <td id=\"T_477b0d0c_a69e_11ea_be2c_74d4359cf509row17_col3\" class=\"data row17 col3\" >0.069</td>\n",
       "                        <td id=\"T_477b0d0c_a69e_11ea_be2c_74d4359cf509row17_col4\" class=\"data row17 col4\" >0.064</td>\n",
       "                        <td id=\"T_477b0d0c_a69e_11ea_be2c_74d4359cf509row17_col5\" class=\"data row17 col5\" >0.16</td>\n",
       "                        <td id=\"T_477b0d0c_a69e_11ea_be2c_74d4359cf509row17_col6\" class=\"data row17 col6\" >0.11</td>\n",
       "                        <td id=\"T_477b0d0c_a69e_11ea_be2c_74d4359cf509row17_col7\" class=\"data row17 col7\" >0.072</td>\n",
       "                        <td id=\"T_477b0d0c_a69e_11ea_be2c_74d4359cf509row17_col8\" class=\"data row17 col8\" >0.018</td>\n",
       "                        <td id=\"T_477b0d0c_a69e_11ea_be2c_74d4359cf509row17_col9\" class=\"data row17 col9\" >-0.077</td>\n",
       "                        <td id=\"T_477b0d0c_a69e_11ea_be2c_74d4359cf509row17_col10\" class=\"data row17 col10\" >0.046</td>\n",
       "                        <td id=\"T_477b0d0c_a69e_11ea_be2c_74d4359cf509row17_col11\" class=\"data row17 col11\" >0.063</td>\n",
       "                        <td id=\"T_477b0d0c_a69e_11ea_be2c_74d4359cf509row17_col12\" class=\"data row17 col12\" >0.076</td>\n",
       "                        <td id=\"T_477b0d0c_a69e_11ea_be2c_74d4359cf509row17_col13\" class=\"data row17 col13\" >-0.06</td>\n",
       "                        <td id=\"T_477b0d0c_a69e_11ea_be2c_74d4359cf509row17_col14\" class=\"data row17 col14\" >-0.093</td>\n",
       "                        <td id=\"T_477b0d0c_a69e_11ea_be2c_74d4359cf509row17_col15\" class=\"data row17 col15\" >0.17</td>\n",
       "                        <td id=\"T_477b0d0c_a69e_11ea_be2c_74d4359cf509row17_col16\" class=\"data row17 col16\" >0.088</td>\n",
       "                        <td id=\"T_477b0d0c_a69e_11ea_be2c_74d4359cf509row17_col17\" class=\"data row17 col17\" >1</td>\n",
       "            </tr>\n",
       "    </tbody></table>"
      ],
      "text/plain": [
       "<pandas.io.formats.style.Styler at 0x14a8df745c8>"
      ]
     },
     "execution_count": 247,
     "metadata": {},
     "output_type": "execute_result"
    }
   ],
   "source": [
    "hbd.corr().style.background_gradient(cmap='Spectral').set_precision(2)"
   ]
  },
  {
   "cell_type": "markdown",
   "metadata": {},
   "source": [
    "- A noi interessano particolarmente i valori della correlazione tra la variabile dipendendente e tutte le indipendendenti"
   ]
  },
  {
   "cell_type": "code",
   "execution_count": 302,
   "metadata": {
    "scrolled": true
   },
   "outputs": [
    {
     "data": {
      "text/plain": [
       "lead_time                         0.309355\n",
       "total_of_special_requests         0.293814\n",
       "previous_cancellations            0.166754\n",
       "booking_changes                   0.149425\n",
       "required_car_parking_spaces       0.133071\n",
       "company                           0.092299\n",
       "agent                             0.066485\n",
       "is_repeated_guest                 0.065797\n",
       "days_in_waiting_list              0.061036\n",
       "adults                            0.053416\n",
       "previous_bookings_not_canceled    0.053118\n",
       "stays_in_week_nights              0.048678\n",
       "babies                            0.030172\n",
       "children                          0.027006\n",
       "adr                               0.011398\n",
       "stays_in_weekend_nights           0.007099\n",
       "arrival_date_week_number          0.001316\n",
       "Name: is_canceled, dtype: float64"
      ]
     },
     "execution_count": 302,
     "metadata": {},
     "output_type": "execute_result"
    }
   ],
   "source": [
    "cancel_corr = hbd.corr()[\"is_canceled\"]\n",
    "cancel_corr.abs().sort_values(ascending=False)[1:]"
   ]
  },
  {
   "cell_type": "markdown",
   "metadata": {},
   "source": [
    "- Apprendiamo che le variabili numeriche più importanti sono:\n",
    "    - `lead_time`\n",
    "    - `total_of_special_requests`\n",
    "    - `required_car_parking_spaces`\n",
    "    - `previous_cancellations`\n",
    "    - `booking_changes`"
   ]
  },
  {
   "cell_type": "markdown",
   "metadata": {},
   "source": [
    "- Visualizziamo inoltre i valori di correlazione più alti ottenuti\n",
    "    - Sono indice di collinearità è quindi opportuno tenerne conto\n",
    "    - La matrice con i valori di correlazione è simmetrica, estraiamo dunque solo una parte di essa"
   ]
  },
  {
   "cell_type": "code",
   "execution_count": 250,
   "metadata": {},
   "outputs": [
    {
     "data": {
      "text/plain": [
       "agent                           company                           0.643898\n",
       "is_repeated_guest               previous_bookings_not_canceled    0.451963\n",
       "                                company                           0.395516\n",
       "previous_cancellations          previous_bookings_not_canceled    0.392139\n",
       "children                        adr                               0.311978\n",
       "is_canceled                     lead_time                         0.309355\n",
       "previous_bookings_not_canceled  company                           0.304077\n",
       "is_canceled                     total_of_special_requests         0.293814\n",
       "is_repeated_guest               agent                             0.291369\n",
       "adults                          company                           0.270712\n",
       "is_repeated_guest               previous_cancellations            0.268279\n",
       "adults                          adr                               0.262426\n",
       "                                agent                             0.239171\n",
       "stays_in_weekend_nights         stays_in_week_nights              0.219401\n",
       "previous_bookings_not_canceled  agent                             0.208137\n",
       "dtype: float64"
      ]
     },
     "execution_count": 250,
     "metadata": {},
     "output_type": "execute_result"
    }
   ],
   "source": [
    "(hbd.corr().abs().where(np.triu(np.ones(corr_matrix.shape), k=1).astype(np.bool))\n",
    "                .stack()\n",
    "                .sort_values(ascending=False)\n",
    "                .head(15))"
   ]
  },
  {
   "cell_type": "markdown",
   "metadata": {},
   "source": [
    "- Visulizziamo il comportamento delle coppie di variabili con valore di correlazione più elevato\n",
    "    - Coloro nei grafici a dispersione i punti appartenenti alle diverse classi con colori diversi\n",
    "        - Blu: non cancellata\n",
    "        - Arancione: cancellata"
   ]
  },
  {
   "cell_type": "code",
   "execution_count": 96,
   "metadata": {},
   "outputs": [],
   "source": [
    "diagnosis_color_map = {0: \"blue\", 1: \"orange\"}\n",
    "diagnosis_colors = hbd[\"is_canceled\"].map(diagnosis_color_map)"
   ]
  },
  {
   "cell_type": "markdown",
   "metadata": {},
   "source": [
    "- Visualizzo la coppia (`agent`, `company`)"
   ]
  },
  {
   "cell_type": "code",
   "execution_count": 97,
   "metadata": {
    "scrolled": true
   },
   "outputs": [
    {
     "data": {
      "text/plain": [
       "<matplotlib.axes._subplots.AxesSubplot at 0x14af8aaffc8>"
      ]
     },
     "execution_count": 97,
     "metadata": {},
     "output_type": "execute_result"
    },
    {
     "data": {
      "image/png": "[encoded data removed]",
      "text/plain": [
       "<Figure size 1152x360 with 2 Axes>"
      ]
     },
     "metadata": {
      "needs_background": "light"
     },
     "output_type": "display_data"
    }
   ],
   "source": [
    "fig = plt.figure(figsize=(16, 5))\n",
    "ax1 = fig.add_subplot(121)\n",
    "ax2 = fig.add_subplot(122)\n",
    "hbd.plot.scatter(\"agent\",\"company\", c=diagnosis_colors, ax=ax1);\n",
    "hbd.groupby(['agent','company']).size().plot.bar(ax=ax2, log=True)"
   ]
  },
  {
   "cell_type": "markdown",
   "metadata": {},
   "source": [
    "- Visualizzo la coppia (`is_repeated_guest`, `previous_bookings_not_canceled`)"
   ]
  },
  {
   "cell_type": "code",
   "execution_count": 208,
   "metadata": {},
   "outputs": [
    {
     "data": {
      "text/plain": [
       "<matplotlib.axes._subplots.AxesSubplot at 0x14a825093c8>"
      ]
     },
     "execution_count": 208,
     "metadata": {},
     "output_type": "execute_result"
    },
    {
     "data": {
      "image/png": "[encoded data removed]",
      "text/plain": [
       "<Figure size 1152x360 with 2 Axes>"
      ]
     },
     "metadata": {
      "needs_background": "light"
     },
     "output_type": "display_data"
    }
   ],
   "source": [
    "fig = plt.figure(figsize=(16, 5))\n",
    "ax1 = fig.add_subplot(121)\n",
    "ax2 = fig.add_subplot(122)\n",
    "hbd.plot.scatter(\"is_repeated_guest\",\"previous_bookings_not_canceled\", c=diagnosis_colors, ax=ax1);\n",
    "hbd.groupby(['is_repeated_guest', pd.cut(hbd.previous_bookings_not_canceled, 8)]).size().plot.bar(ax=ax2, log=True)"
   ]
  },
  {
   "cell_type": "markdown",
   "metadata": {},
   "source": [
    "- Visualizzo la coppia (`is_repeated_guest`, `company`)"
   ]
  },
  {
   "cell_type": "code",
   "execution_count": 99,
   "metadata": {},
   "outputs": [
    {
     "data": {
      "text/plain": [
       "<matplotlib.axes._subplots.AxesSubplot at 0x14a80273b08>"
      ]
     },
     "execution_count": 99,
     "metadata": {},
     "output_type": "execute_result"
    },
    {
     "data": {
      "image/png": "[encoded data removed]",
      "text/plain": [
       "<Figure size 1152x360 with 2 Axes>"
      ]
     },
     "metadata": {
      "needs_background": "light"
     },
     "output_type": "display_data"
    }
   ],
   "source": [
    "fig = plt.figure(figsize=(16, 5))\n",
    "ax1 = fig.add_subplot(121)\n",
    "ax2 = fig.add_subplot(122)\n",
    "hbd.plot.scatter(\"is_repeated_guest\",\"company\", c=diagnosis_colors, ax=ax1);\n",
    "hbd.groupby(['is_repeated_guest', 'company']).size().plot.bar(ax=ax2, log=True)"
   ]
  },
  {
   "cell_type": "markdown",
   "metadata": {},
   "source": [
    "- Visualizzo la coppia (`previous_bookings_not_canceled`, `previous_cancellations`)"
   ]
  },
  {
   "cell_type": "code",
   "execution_count": 212,
   "metadata": {
    "scrolled": true
   },
   "outputs": [
    {
     "data": {
      "text/plain": [
       "<matplotlib.axes._subplots.AxesSubplot at 0x14a83deaa88>"
      ]
     },
     "execution_count": 212,
     "metadata": {},
     "output_type": "execute_result"
    },
    {
     "data": {
      "image/png": "[encoded data removed]",
      "text/plain": [
       "<Figure size 1152x360 with 2 Axes>"
      ]
     },
     "metadata": {
      "needs_background": "light"
     },
     "output_type": "display_data"
    }
   ],
   "source": [
    "fig = plt.figure(figsize=(16, 5))\n",
    "ax1 = fig.add_subplot(121)\n",
    "ax2 = fig.add_subplot(122)\n",
    "hbd.plot.scatter(\"previous_bookings_not_canceled\",\"previous_cancellations\", c=diagnosis_colors, ax=ax1);\n",
    "hbd.groupby([pd.cut(hbd.previous_bookings_not_canceled, 8), pd.cut(hbd.previous_cancellations, 8)]).size().plot.bar(ax=ax2, log=True)"
   ]
  },
  {
   "cell_type": "markdown",
   "metadata": {},
   "source": [
    "- Analiziamo ora una serie di variabili che possono risultare essere interessanti per il nostro studio"
   ]
  },
  {
   "cell_type": "markdown",
   "metadata": {},
   "source": [
    "#### Variabile `is_canceled`"
   ]
  },
  {
   "cell_type": "markdown",
   "metadata": {},
   "source": [
    "- Stampiamo il numero di valori `0` e `1` della variabile `is_canceled`, e rappresentiamo la distribuzione di tali valori in un diagramma a torta"
   ]
  },
  {
   "cell_type": "code",
   "execution_count": 42,
   "metadata": {},
   "outputs": [
    {
     "data": {
      "text/plain": [
       "0    46226\n",
       "1    33076\n",
       "Name: is_canceled, dtype: int64"
      ]
     },
     "execution_count": 42,
     "metadata": {},
     "output_type": "execute_result"
    }
   ],
   "source": [
    "hbd[\"is_canceled\"].value_counts()"
   ]
  },
  {
   "cell_type": "code",
   "execution_count": 43,
   "metadata": {},
   "outputs": [
    {
     "data": {
      "image/png": "[encoded data removed]",
      "text/plain": [
       "<Figure size 432x288 with 1 Axes>"
      ]
     },
     "metadata": {},
     "output_type": "display_data"
    }
   ],
   "source": [
    "hbd[\"is_canceled\"].value_counts().plot.pie();"
   ]
  },
  {
   "cell_type": "markdown",
   "metadata": {},
   "source": [
    "- La suddivisione delle istanze nelle classi è abbastanza bilanciata, non siamo dunque soggetti ai problemi che un forte sblinciamento comporterebbe."
   ]
  },
  {
   "cell_type": "markdown",
   "metadata": {},
   "source": [
    "#### Variabile `lead_time`"
   ]
  },
  {
   "cell_type": "code",
   "execution_count": 115,
   "metadata": {},
   "outputs": [
    {
     "data": {
      "text/plain": [
       "Text(0, 0.5, 'Cancelations [%]')"
      ]
     },
     "execution_count": 115,
     "metadata": {},
     "output_type": "execute_result"
    },
    {
     "data": {
      "image/png": "[encoded data removed]",
      "text/plain": [
       "<Figure size 864x576 with 1 Axes>"
      ]
     },
     "metadata": {
      "needs_background": "light"
     },
     "output_type": "display_data"
    }
   ],
   "source": [
    "plt.figure(figsize=(12, 8))\n",
    "lead_time_describe = hbd.groupby(\"lead_time\")[\"is_canceled\"].describe()\n",
    "plt.scatter(lead_time_describe.index, lead_time_describe[\"mean\"] * 100)\n",
    "plt.xlabel(\"Lead time\")\n",
    "plt.ylabel(\"Cancelations [%]\")"
   ]
  },
  {
   "cell_type": "markdown",
   "metadata": {},
   "source": [
    "- Le prenotazione fatte qualche giorno prima dell'arrivo in struttura sono raramente cancellate, a differenza di prenotazioni fatte a distanza di mese (se non di anni)"
   ]
  },
  {
   "cell_type": "markdown",
   "metadata": {},
   "source": [
    "- Visualizziamo due grafici a barre di `lead_time`, per avere più chiaro il suo comportamento\n",
    "    - Nel primo in ogni intervallo è mostrato il numero di prenotazioni\n",
    "    - Nel secondo in ogni intervallo è mostrato il numero di cancellazioni"
   ]
  },
  {
   "cell_type": "code",
   "execution_count": 262,
   "metadata": {},
   "outputs": [
    {
     "data": {
      "text/plain": [
       "[Text(0, 0.5, 'Numero di cancellazioni'), Text(0.5, 0, 'Intervallo lead_time')]"
      ]
     },
     "execution_count": 262,
     "metadata": {},
     "output_type": "execute_result"
    },
    {
     "data": {
      "image/png": "[encoded data removed]",
      "text/plain": [
       "<Figure size 1152x360 with 2 Axes>"
      ]
     },
     "metadata": {
      "needs_background": "light"
     },
     "output_type": "display_data"
    }
   ],
   "source": [
    "fig = plt.figure(figsize=(16, 5))\n",
    "ax1 = fig.add_subplot(121)\n",
    "ax2 = fig.add_subplot(122)\n",
    "pd.cut(hbd[\"lead_time\"], 10).value_counts().plot.bar(ax=ax1)\n",
    "hbd.groupby(pd.cut(hbd[\"lead_time\"], 10)).sum()[\"is_canceled\"].plot.bar(ax=ax2)\n",
    "ax1.set(xlabel=\"Intervallo lead_time\", ylabel=\"Numero di prenotazioni\")\n",
    "ax2.set(xlabel=\"Intervallo lead_time\", ylabel=\"Numero di cancellazioni\")"
   ]
  },
  {
   "cell_type": "markdown",
   "metadata": {},
   "source": [
    "- Le prenotazioni più frequenti sono quelle a breve termine, ovvero senza lunghi periodi fra il momento della prenotazione e l'arrivo in hotel\n",
    "- Medesima cosa vale per le cancellazioni, anche essere maggiore nelle prenotazioni a breve termine\n"
   ]
  },
  {
   "cell_type": "markdown",
   "metadata": {},
   "source": [
    "#### Variabile `deposit_type`"
   ]
  },
  {
   "cell_type": "markdown",
   "metadata": {},
   "source": [
    "- Con il medesimo approccio di `lead_time` visualizziamo due grafici a barre\n",
    "    - Nel primo in ogni intervallo è mostrato il numero di prenotazioni\n",
    "    - Nel secondo in ogni intervallo è mostrato il numero di cancellazioni"
   ]
  },
  {
   "cell_type": "code",
   "execution_count": 263,
   "metadata": {},
   "outputs": [
    {
     "data": {
      "text/plain": [
       "[Text(0, 0.5, 'Numero di cancellazioni')]"
      ]
     },
     "execution_count": 263,
     "metadata": {},
     "output_type": "execute_result"
    },
    {
     "data": {
      "image/png": "[encoded data removed]",
      "text/plain": [
       "<Figure size 1152x360 with 2 Axes>"
      ]
     },
     "metadata": {
      "needs_background": "light"
     },
     "output_type": "display_data"
    }
   ],
   "source": [
    "fig = plt.figure(figsize=(16, 5))\n",
    "ax1 = fig.add_subplot(121)\n",
    "ax2 = fig.add_subplot(122)\n",
    "hbd[\"deposit_type\"].value_counts().plot.bar(log=True, ax=ax1)\n",
    "hbd.groupby(\"deposit_type\").sum()[\"is_canceled\"].plot.bar(log=True, ax=ax2)\n",
    "ax1.set(ylabel=\"Numero di prenotazioni\")\n",
    "ax2.set(ylabel=\"Numero di cancellazioni\")"
   ]
  },
  {
   "cell_type": "markdown",
   "metadata": {},
   "source": [
    "- Visualizziamo un ultimo grafico a barre di `deposit_type`, in cui in venga visualizzato per ciascuna possibilo valore il tasso di cancellazione \n",
    "    - Il tasso di cancellazione è inteso come il il numero di cancellazioni diviso il numero di prenotazioni"
   ]
  },
  {
   "cell_type": "code",
   "execution_count": 264,
   "metadata": {},
   "outputs": [
    {
     "data": {
      "text/plain": [
       "Text(0, 0.5, 'Tasso di cancellazione')"
      ]
     },
     "execution_count": 264,
     "metadata": {},
     "output_type": "execute_result"
    },
    {
     "data": {
      "image/png": "[encoded data removed]",
      "text/plain": [
       "<Figure size 432x288 with 1 Axes>"
      ]
     },
     "metadata": {
      "needs_background": "light"
     },
     "output_type": "display_data"
    }
   ],
   "source": [
    "(hbd.groupby(\"deposit_type\").sum()[\"is_canceled\"] / hbd[\"deposit_type\"].value_counts()).plot.bar()\n",
    "plt.ylabel(\"Tasso di cancellazione\")"
   ]
  },
  {
   "cell_type": "markdown",
   "metadata": {},
   "source": [
    "- Visualizziamo i valori esatti"
   ]
  },
  {
   "cell_type": "code",
   "execution_count": 265,
   "metadata": {},
   "outputs": [
    {
     "data": {
      "text/plain": [
       "deposit_type\n",
       "No Deposit    0.304570\n",
       "Non Refund    0.998133\n",
       "Refundable    0.700000\n",
       "dtype: float64"
      ]
     },
     "execution_count": 265,
     "metadata": {},
     "output_type": "execute_result"
    }
   ],
   "source": [
    "(hbd.groupby(\"deposit_type\").sum()[\"is_canceled\"] / hbd[\"deposit_type\"].value_counts())"
   ]
  },
  {
   "cell_type": "markdown",
   "metadata": {},
   "source": [
    "- Il grafico evidenzia che per il valore 'Non Refund' la percentuale di cancellazioni è pari quasi al 100%\n",
    "\n",
    "- E' un po controintuitivo, per cui verifichiamo le istanze per averne la certezza"
   ]
  },
  {
   "cell_type": "code",
   "execution_count": 266,
   "metadata": {},
   "outputs": [
    {
     "data": {
      "text/plain": [
       "1    12830\n",
       "0       24\n",
       "Name: is_canceled, dtype: int64"
      ]
     },
     "execution_count": 266,
     "metadata": {},
     "output_type": "execute_result"
    }
   ],
   "source": [
    "hbd[hbd[\"deposit_type\"] == \"Non Refund\"][\"is_canceled\"].value_counts()"
   ]
  },
  {
   "cell_type": "markdown",
   "metadata": {},
   "source": [
    "- Effettivamente pare che quasi tutte le prenotazioni _Non Refund_ siano state cancellate"
   ]
  },
  {
   "cell_type": "markdown",
   "metadata": {},
   "source": [
    "#### Variabile `total_of_special_requests`"
   ]
  },
  {
   "cell_type": "code",
   "execution_count": 308,
   "metadata": {},
   "outputs": [
    {
     "data": {
      "text/plain": [
       "Text(0, 0.5, 'Cancelations [%]')"
      ]
     },
     "execution_count": 308,
     "metadata": {},
     "output_type": "execute_result"
    },
    {
     "data": {
      "image/png": "[encoded data removed]",
      "text/plain": [
       "<Figure size 864x576 with 1 Axes>"
      ]
     },
     "metadata": {
      "needs_background": "light"
     },
     "output_type": "display_data"
    }
   ],
   "source": [
    "plt.figure(figsize=(12, 8))\n",
    "lead_time_describe = hbd.groupby(\"total_of_special_requests\")[\"is_canceled\"].describe()\n",
    "plt.plot(lead_time_describe.index, lead_time_describe[\"mean\"] * 100)\n",
    "plt.xlabel(\"Total of special request\")\n",
    "plt.ylabel(\"Cancelations [%]\")"
   ]
  },
  {
   "cell_type": "markdown",
   "metadata": {},
   "source": [
    "- Possiamo notare come all'aumentare del numero di richieste speciali la percentuale di cancellazioni diminuisca rapidamente"
   ]
  },
  {
   "cell_type": "markdown",
   "metadata": {},
   "source": [
    "#### Variabile `required_car_parking_spaces`"
   ]
  },
  {
   "cell_type": "code",
   "execution_count": 334,
   "metadata": {},
   "outputs": [
    {
     "data": {
      "text/plain": [
       "Text(0, 0.5, 'Cancelations [%]')"
      ]
     },
     "execution_count": 334,
     "metadata": {},
     "output_type": "execute_result"
    },
    {
     "data": {
      "image/png": "[encoded data removed]",
      "text/plain": [
       "<Figure size 864x576 with 1 Axes>"
      ]
     },
     "metadata": {
      "needs_background": "light"
     },
     "output_type": "display_data"
    }
   ],
   "source": [
    "plt.figure(figsize=(12, 8))\n",
    "lead_time_describe = hbd.groupby(\"required_car_parking_spaces\")[\"is_canceled\"].describe()\n",
    "plt.plot(lead_time_describe.index, lead_time_describe[\"mean\"] * 100)\n",
    "plt.xlabel(\"Required car parking spaces\")\n",
    "plt.ylabel(\"Cancelations [%]\")"
   ]
  },
  {
   "cell_type": "code",
   "execution_count": 315,
   "metadata": {},
   "outputs": [
    {
     "data": {
      "text/plain": [
       "is_canceled\n",
       "0    1933\n",
       "1       0\n",
       "Name: required_car_parking_spaces, dtype: int64"
      ]
     },
     "execution_count": 315,
     "metadata": {},
     "output_type": "execute_result"
    }
   ],
   "source": [
    "hbd.groupby(\"is_canceled\")[\"required_car_parking_spaces\"].sum()"
   ]
  },
  {
   "cell_type": "markdown",
   "metadata": {},
   "source": [
    "- Possiamo notare come non sia mai stata registrata nella nessuna cancellazioni di una prenotazione in cui fosse presente la richiesta di almeno un posto macchina"
   ]
  },
  {
   "cell_type": "markdown",
   "metadata": {},
   "source": [
    "#### Variabile `previous_cancellations`"
   ]
  },
  {
   "cell_type": "code",
   "execution_count": 337,
   "metadata": {},
   "outputs": [
    {
     "data": {
      "text/plain": [
       "<matplotlib.axes._subplots.AxesSubplot at 0x14aa9d46948>"
      ]
     },
     "execution_count": 337,
     "metadata": {},
     "output_type": "execute_result"
    },
    {
     "data": {
      "image/png": "[encoded data removed]",
      "text/plain": [
       "<Figure size 864x576 with 1 Axes>"
      ]
     },
     "metadata": {
      "needs_background": "light"
     },
     "output_type": "display_data"
    }
   ],
   "source": [
    "plt.figure(figsize=(12, 8))\n",
    "plt.xlabel(\"Previous cancellations\")\n",
    "plt.ylabel(\"Cancelations [%]\")\n",
    "((hbd.groupby(\"previous_cancellations\").sum()[\"is_canceled\"] / hbd[\"previous_cancellations\"].value_counts())*100).plot()"
   ]
  },
  {
   "cell_type": "markdown",
   "metadata": {},
   "source": [
    "- Eccetto inizialmente, all'aumentare delle prenotazioni pregresse cancellate aumenta anche la probabilità di cancellazioni"
   ]
  },
  {
   "cell_type": "markdown",
   "metadata": {},
   "source": [
    "#### Variabile `booking_changes`"
   ]
  },
  {
   "cell_type": "code",
   "execution_count": 335,
   "metadata": {},
   "outputs": [
    {
     "data": {
      "text/plain": [
       "<matplotlib.axes._subplots.AxesSubplot at 0x14aa94abc48>"
      ]
     },
     "execution_count": 335,
     "metadata": {},
     "output_type": "execute_result"
    },
    {
     "data": {
      "image/png": "[encoded data removed]",
      "text/plain": [
       "<Figure size 864x576 with 1 Axes>"
      ]
     },
     "metadata": {
      "needs_background": "light"
     },
     "output_type": "display_data"
    }
   ],
   "source": [
    "plt.figure(figsize=(12, 8))\n",
    "plt.xlabel(\"Booking changes\")\n",
    "plt.ylabel(\"Cancelations [%]\")\n",
    "((hbd.groupby(\"booking_changes\").sum()[\"is_canceled\"] / hbd[\"booking_changes\"].value_counts())*100).plot()"
   ]
  },
  {
   "cell_type": "markdown",
   "metadata": {},
   "source": [
    "- All'aumentare delle richieste di cambiamento sulla prenotazione la percentuale di cancellazioni tende a crescere"
   ]
  },
  {
   "cell_type": "markdown",
   "metadata": {},
   "source": [
    "#### Variabili `stays_in_weekend_nights`, `stays_in_week_nights`"
   ]
  },
  {
   "cell_type": "markdown",
   "metadata": {},
   "source": [
    "- Mostriamo due grafici a barre in cui visualizziamo per ogni valore delle variabili `stays_in_weekend_nights` e `stays_in_week_nights`, ovvero il numero di notti prenotate rispettivamente durante il finesettimana e non durante il finesettimana, il tasso di cancellazione"
   ]
  },
  {
   "cell_type": "code",
   "execution_count": 52,
   "metadata": {},
   "outputs": [
    {
     "data": {
      "text/plain": [
       "Text(0, 0.5, 'Tasso di cancellazione')"
      ]
     },
     "execution_count": 52,
     "metadata": {},
     "output_type": "execute_result"
    },
    {
     "data": {
      "image/png": "[encoded data removed]",
      "text/plain": [
       "<Figure size 1152x288 with 1 Axes>"
      ]
     },
     "metadata": {
      "needs_background": "light"
     },
     "output_type": "display_data"
    }
   ],
   "source": [
    "(hbd.groupby(\"stays_in_weekend_nights\").sum()[\"is_canceled\"] / hbd[\"stays_in_weekend_nights\"].value_counts()).plot.bar(figsize=(16,4))\n",
    "plt.ylabel(\"Tasso di cancellazione\")"
   ]
  },
  {
   "cell_type": "code",
   "execution_count": 53,
   "metadata": {},
   "outputs": [
    {
     "data": {
      "text/plain": [
       "Text(0, 0.5, 'Tasso di cancellazione')"
      ]
     },
     "execution_count": 53,
     "metadata": {},
     "output_type": "execute_result"
    },
    {
     "data": {
      "image/png": "[encoded data removed]",
      "text/plain": [
       "<Figure size 1152x288 with 1 Axes>"
      ]
     },
     "metadata": {
      "needs_background": "light"
     },
     "output_type": "display_data"
    }
   ],
   "source": [
    "(hbd.groupby(\"stays_in_week_nights\").sum()[\"is_canceled\"] / hbd[\"stays_in_week_nights\"].value_counts()).plot.bar(figsize=(16,4))\n",
    "plt.ylabel(\"Tasso di cancellazione\")"
   ]
  },
  {
   "cell_type": "markdown",
   "metadata": {},
   "source": [
    "- In entrambi i casi possiamo notare un tasso di cancellazione che cresce in modo considerevole all'aumentare del numero di notti prenotate"
   ]
  },
  {
   "cell_type": "markdown",
   "metadata": {},
   "source": [
    "#### Variabili `arrival_date_day`, `arrival_date_month`, `arrival_date_week_number` "
   ]
  },
  {
   "cell_type": "markdown",
   "metadata": {},
   "source": [
    "- Mostriamo un grafico a barre per le variabili `arrival_date_day`, `arrival_date_month`, `arrival_date_week_number` in cui visualizziamo per possibile valore di ciascuna il tasso di cancellazione"
   ]
  },
  {
   "cell_type": "code",
   "execution_count": 294,
   "metadata": {},
   "outputs": [
    {
     "data": {
      "text/plain": [
       "Text(0, 0.5, 'Tasso di cancellazione')"
      ]
     },
     "execution_count": 294,
     "metadata": {},
     "output_type": "execute_result"
    },
    {
     "data": {
      "image/png": "[encoded data removed]",
      "text/plain": [
       "<Figure size 1152x288 with 1 Axes>"
      ]
     },
     "metadata": {
      "needs_background": "light"
     },
     "output_type": "display_data"
    }
   ],
   "source": [
    "(hbd.groupby(\"arrival_date_day\").sum()[\"is_canceled\"] / hbd[\"arrival_date_day\"].value_counts()).plot.bar(figsize=(16,4))\n",
    "plt.ylabel(\"Tasso di cancellazione\")"
   ]
  },
  {
   "cell_type": "code",
   "execution_count": 295,
   "metadata": {},
   "outputs": [
    {
     "data": {
      "text/plain": [
       "Text(0, 0.5, 'Tasso di cancellazione')"
      ]
     },
     "execution_count": 295,
     "metadata": {},
     "output_type": "execute_result"
    },
    {
     "data": {
      "image/png": "[encoded data removed]",
      "text/plain": [
       "<Figure size 1152x288 with 1 Axes>"
      ]
     },
     "metadata": {
      "needs_background": "light"
     },
     "output_type": "display_data"
    }
   ],
   "source": [
    "(hbd.groupby(\"arrival_date_month\").sum()[\"is_canceled\"] / hbd[\"arrival_date_month\"].value_counts()).plot.bar(figsize=(16,4))\n",
    "plt.ylabel(\"Tasso di cancellazione\")"
   ]
  },
  {
   "cell_type": "code",
   "execution_count": 301,
   "metadata": {},
   "outputs": [
    {
     "data": {
      "text/plain": [
       "Text(0, 0.5, 'Tasso di cancellazione')"
      ]
     },
     "execution_count": 301,
     "metadata": {},
     "output_type": "execute_result"
    },
    {
     "data": {
      "image/png": "[encoded data removed]",
      "text/plain": [
       "<Figure size 1152x288 with 1 Axes>"
      ]
     },
     "metadata": {
      "needs_background": "light"
     },
     "output_type": "display_data"
    }
   ],
   "source": [
    "(hbd.groupby(\"arrival_date_week_number\").sum()[\"is_canceled\"] / hbd[\"arrival_date_week_number\"].value_counts()).plot(figsize=(16,4))\n",
    "plt.ylabel(\"Tasso di cancellazione\")"
   ]
  },
  {
   "cell_type": "markdown",
   "metadata": {},
   "source": [
    "#### Qualche altra variabile ..."
   ]
  },
  {
   "cell_type": "markdown",
   "metadata": {},
   "source": [
    "- Mostriamo infine rapidamente il tasso di cancellazione di qualche altra variabili, al fine di comprendere il dominio in cui lavoriamo correttamente"
   ]
  },
  {
   "cell_type": "code",
   "execution_count": 279,
   "metadata": {},
   "outputs": [
    {
     "data": {
      "text/plain": [
       "<matplotlib.axes._subplots.AxesSubplot at 0x14aa385afc8>"
      ]
     },
     "execution_count": 279,
     "metadata": {},
     "output_type": "execute_result"
    },
    {
     "data": {
      "image/png": "[encoded data removed]",
      "text/plain": [
       "<Figure size 1152x360 with 3 Axes>"
      ]
     },
     "metadata": {
      "needs_background": "light"
     },
     "output_type": "display_data"
    }
   ],
   "source": [
    "fig = plt.figure(figsize=(16, 5))\n",
    "ax1 = fig.add_subplot(131)\n",
    "ax2 = fig.add_subplot(132)\n",
    "ax3 = fig.add_subplot(133)\n",
    "ax1.set(ylabel=\"Tasso di cancellazione\")\n",
    "ax2.set(ylabel=\"Tasso di cancellazione\")\n",
    "ax3.set(ylabel=\"Tasso di cancellazione\")\n",
    "ax1.set_title('customer_type')\n",
    "ax2.set_title('distribution_channel')\n",
    "ax3.set_title('market_segment')\n",
    "(hbd.groupby(\"customer_type\").sum()[\"is_canceled\"] / hbd[\"customer_type\"].value_counts()).plot.bar(ax=ax1)\n",
    "(hbd.groupby(\"distribution_channel\").sum()[\"is_canceled\"] / hbd[\"distribution_channel\"].value_counts()).plot.bar(ax=ax2)\n",
    "(hbd.groupby(\"market_segment\").sum()[\"is_canceled\"] / hbd[\"market_segment\"].value_counts()).plot.bar(ax=ax3)"
   ]
  },
  {
   "cell_type": "code",
   "execution_count": 326,
   "metadata": {},
   "outputs": [
    {
     "data": {
      "text/plain": [
       "<matplotlib.axes._subplots.AxesSubplot at 0x14aa943ce48>"
      ]
     },
     "execution_count": 326,
     "metadata": {},
     "output_type": "execute_result"
    },
    {
     "data": {
      "image/png": "[encoded data removed]",
      "text/plain": [
       "<Figure size 1152x360 with 3 Axes>"
      ]
     },
     "metadata": {
      "needs_background": "light"
     },
     "output_type": "display_data"
    }
   ],
   "source": [
    "fig = plt.figure(figsize=(16, 5))\n",
    "ax4 = fig.add_subplot(131)\n",
    "ax5 = fig.add_subplot(132)\n",
    "ax6 = fig.add_subplot(133)\n",
    "ax4.set(ylabel=\"Tasso di cancellazione\")\n",
    "ax5.set(ylabel=\"Tasso di cancellazione\")\n",
    "ax6.set(ylabel=\"Tasso di cancellazione\")\n",
    "ax4.set(xlabel=\"Agent S/N (0: No, 1: Si\")\n",
    "ax4.set(xlabel=\"Company S/N (0: No, 1: Si)\")\n",
    "ax4.set_title('agent')\n",
    "ax5.set_title('company')\n",
    "ax6.set_title('meal')\n",
    "(hbd.groupby(\"agent\").sum()[\"is_canceled\"] / hbd[\"agent\"].value_counts()).plot.bar(ax=ax4)\n",
    "(hbd.groupby(\"company\").sum()[\"is_canceled\"] / hbd[\"company\"].value_counts()).plot.bar(ax=ax5)\n",
    "(hbd.groupby(\"meal\").sum()[\"is_canceled\"] / hbd[\"meal\"].value_counts()).plot.bar(ax=ax6)"
   ]
  },
  {
   "cell_type": "markdown",
   "metadata": {},
   "source": [
    "## Classificazione lineare"
   ]
  },
  {
   "cell_type": "markdown",
   "metadata": {},
   "source": [
    "- Convertiamo, per maggiore chiarezza, i valori della variabile `is_canceled` (ovvero 0 e 1) in `N` e `Y`:\n",
    "    - `0` diventa `N`, ovvero non cancellata\n",
    "    - `1` diventa `Y`, ovvero cancellata"
   ]
  },
  {
   "cell_type": "code",
   "execution_count": 118,
   "metadata": {},
   "outputs": [
    {
     "data": {
      "text/plain": [
       "array(['N', 'Y'], dtype=object)"
      ]
     },
     "execution_count": 118,
     "metadata": {},
     "output_type": "execute_result"
    }
   ],
   "source": [
    "hbd[\"is_canceled\"] = hbd[\"is_canceled\"].map(lambda value: \"N\" if value is 0 else \"Y\")\n",
    "hbd[\"is_canceled\"].unique()"
   ]
  },
  {
   "cell_type": "markdown",
   "metadata": {},
   "source": [
    "- Impostiamo come variabile da predire la classe `is_canceled` e come variabili predittive tutte le altre"
   ]
  },
  {
   "cell_type": "code",
   "execution_count": 119,
   "metadata": {},
   "outputs": [],
   "source": [
    "y = hbd[\"is_canceled\"]\n",
    "X = hbd.drop(columns=\"is_canceled\")"
   ]
  },
  {
   "cell_type": "markdown",
   "metadata": {},
   "source": [
    "- Molte variabili sono categoriche, è quindi necessario applicare la binarizzazione delle feature, ovvero convertire ciascuna di esse in più variabili binarie. \n",
    "\n",
    "- Le variabili da convertire sono:"
   ]
  },
  {
   "cell_type": "code",
   "execution_count": 120,
   "metadata": {},
   "outputs": [
    {
     "data": {
      "text/plain": [
       "arrival_date_day        object\n",
       "arrival_date_month      object\n",
       "meal                    object\n",
       "country                 object\n",
       "market_segment          object\n",
       "distribution_channel    object\n",
       "reserved_room_type      object\n",
       "deposit_type            object\n",
       "customer_type           object\n",
       "dtype: object"
      ]
     },
     "execution_count": 120,
     "metadata": {},
     "output_type": "execute_result"
    }
   ],
   "source": [
    "X.dtypes[hbd.dtypes == np.object]"
   ]
  },
  {
   "cell_type": "markdown",
   "metadata": {},
   "source": [
    "- La conversione viene eseguita, in modo molto basilare, dal comando `get_dummies`\n",
    "    - NB: non sono previste variabili per tutti quei valori non presenti nel dataset"
   ]
  },
  {
   "cell_type": "code",
   "execution_count": 121,
   "metadata": {},
   "outputs": [],
   "source": [
    "X = pd.get_dummies(X)"
   ]
  },
  {
   "cell_type": "code",
   "execution_count": 122,
   "metadata": {},
   "outputs": [
    {
     "data": {
      "text/plain": [
       "232"
      ]
     },
     "execution_count": 122,
     "metadata": {},
     "output_type": "execute_result"
    }
   ],
   "source": [
    "X.shape[1]"
   ]
  },
  {
   "cell_type": "code",
   "execution_count": 123,
   "metadata": {},
   "outputs": [
    {
     "data": {
      "text/plain": [
       "['lead_time',\n",
       " 'arrival_date_week_number',\n",
       " 'stays_in_weekend_nights',\n",
       " 'stays_in_week_nights',\n",
       " 'adults',\n",
       " 'children',\n",
       " 'babies',\n",
       " 'is_repeated_guest',\n",
       " 'previous_cancellations',\n",
       " 'previous_bookings_not_canceled',\n",
       " 'booking_changes',\n",
       " 'agent',\n",
       " 'company',\n",
       " 'days_in_waiting_list',\n",
       " 'adr',\n",
       " 'required_car_parking_spaces',\n",
       " 'total_of_special_requests',\n",
       " 'arrival_date_day_Friday',\n",
       " 'arrival_date_day_Monday',\n",
       " 'arrival_date_day_Saturday',\n",
       " 'arrival_date_day_Sunday',\n",
       " 'arrival_date_day_Thursday',\n",
       " 'arrival_date_day_Tuesday',\n",
       " 'arrival_date_day_Wednesday',\n",
       " 'arrival_date_month_April',\n",
       " 'arrival_date_month_August',\n",
       " 'arrival_date_month_December',\n",
       " 'arrival_date_month_February',\n",
       " 'arrival_date_month_January',\n",
       " 'arrival_date_month_July',\n",
       " 'arrival_date_month_June',\n",
       " 'arrival_date_month_March',\n",
       " 'arrival_date_month_May',\n",
       " 'arrival_date_month_November',\n",
       " 'arrival_date_month_October',\n",
       " 'arrival_date_month_September',\n",
       " 'meal_BB',\n",
       " 'meal_FB',\n",
       " 'meal_HB',\n",
       " 'meal_SC',\n",
       " 'country_ABW',\n",
       " 'country_AGO',\n",
       " 'country_AIA',\n",
       " 'country_ALB',\n",
       " 'country_AND',\n",
       " 'country_ARE',\n",
       " 'country_ARG',\n",
       " 'country_ARM',\n",
       " 'country_ASM',\n",
       " 'country_ATA',\n",
       " 'country_ATF',\n",
       " 'country_AUS',\n",
       " 'country_AUT',\n",
       " 'country_AZE',\n",
       " 'country_BEL',\n",
       " 'country_BEN',\n",
       " 'country_BFA',\n",
       " 'country_BGD',\n",
       " 'country_BGR',\n",
       " 'country_BHR',\n",
       " 'country_BIH',\n",
       " 'country_BLR',\n",
       " 'country_BOL',\n",
       " 'country_BRA',\n",
       " 'country_BRB',\n",
       " 'country_CAF',\n",
       " 'country_CHE',\n",
       " 'country_CHL',\n",
       " 'country_CHN',\n",
       " 'country_CIV',\n",
       " 'country_CMR',\n",
       " 'country_CN',\n",
       " 'country_COL',\n",
       " 'country_COM',\n",
       " 'country_CPV',\n",
       " 'country_CRI',\n",
       " 'country_CUB',\n",
       " 'country_CYP',\n",
       " 'country_CZE',\n",
       " 'country_DEU',\n",
       " 'country_DMA',\n",
       " 'country_DNK',\n",
       " 'country_DOM',\n",
       " 'country_DZA',\n",
       " 'country_ECU',\n",
       " 'country_EGY',\n",
       " 'country_ESP',\n",
       " 'country_EST',\n",
       " 'country_ETH',\n",
       " 'country_FIN',\n",
       " 'country_FRA',\n",
       " 'country_FRO',\n",
       " 'country_GAB',\n",
       " 'country_GBR',\n",
       " 'country_GEO',\n",
       " 'country_GGY',\n",
       " 'country_GHA',\n",
       " 'country_GIB',\n",
       " 'country_GLP',\n",
       " 'country_GNB',\n",
       " 'country_GRC',\n",
       " 'country_GTM',\n",
       " 'country_GUY',\n",
       " 'country_HKG',\n",
       " 'country_HND',\n",
       " 'country_HRV',\n",
       " 'country_HUN',\n",
       " 'country_IDN',\n",
       " 'country_IMN',\n",
       " 'country_IND',\n",
       " 'country_IRL',\n",
       " 'country_IRN',\n",
       " 'country_IRQ',\n",
       " 'country_ISL',\n",
       " 'country_ISR',\n",
       " 'country_ITA',\n",
       " 'country_JAM',\n",
       " 'country_JEY',\n",
       " 'country_JOR',\n",
       " 'country_JPN',\n",
       " 'country_KAZ',\n",
       " 'country_KEN',\n",
       " 'country_KHM',\n",
       " 'country_KIR',\n",
       " 'country_KNA',\n",
       " 'country_KOR',\n",
       " 'country_KWT',\n",
       " 'country_LAO',\n",
       " 'country_LBN',\n",
       " 'country_LBY',\n",
       " 'country_LCA',\n",
       " 'country_LIE',\n",
       " 'country_LKA',\n",
       " 'country_LTU',\n",
       " 'country_LUX',\n",
       " 'country_LVA',\n",
       " 'country_MAC',\n",
       " 'country_MAR',\n",
       " 'country_MCO',\n",
       " 'country_MDV',\n",
       " 'country_MEX',\n",
       " 'country_MKD',\n",
       " 'country_MLI',\n",
       " 'country_MLT',\n",
       " 'country_MMR',\n",
       " 'country_MNE',\n",
       " 'country_MOZ',\n",
       " 'country_MRT',\n",
       " 'country_MUS',\n",
       " 'country_MYS',\n",
       " 'country_MYT',\n",
       " 'country_NAM',\n",
       " 'country_NCL',\n",
       " 'country_NGA',\n",
       " 'country_NIC',\n",
       " 'country_NLD',\n",
       " 'country_NOR',\n",
       " 'country_NZL',\n",
       " 'country_OMN',\n",
       " 'country_PAK',\n",
       " 'country_PAN',\n",
       " 'country_PER',\n",
       " 'country_PHL',\n",
       " 'country_POL',\n",
       " 'country_PRI',\n",
       " 'country_PRT',\n",
       " 'country_PRY',\n",
       " 'country_PYF',\n",
       " 'country_QAT',\n",
       " 'country_ROU',\n",
       " 'country_RUS',\n",
       " 'country_RWA',\n",
       " 'country_SAU',\n",
       " 'country_SDN',\n",
       " 'country_SEN',\n",
       " 'country_SGP',\n",
       " 'country_SLE',\n",
       " 'country_SLV',\n",
       " 'country_SRB',\n",
       " 'country_STP',\n",
       " 'country_SUR',\n",
       " 'country_SVK',\n",
       " 'country_SVN',\n",
       " 'country_SWE',\n",
       " 'country_SYC',\n",
       " 'country_SYR',\n",
       " 'country_TGO',\n",
       " 'country_THA',\n",
       " 'country_TJK',\n",
       " 'country_TMP',\n",
       " 'country_TUN',\n",
       " 'country_TUR',\n",
       " 'country_TWN',\n",
       " 'country_TZA',\n",
       " 'country_UGA',\n",
       " 'country_UKR',\n",
       " 'country_UMI',\n",
       " 'country_URY',\n",
       " 'country_USA',\n",
       " 'country_UZB',\n",
       " 'country_VEN',\n",
       " 'country_VGB',\n",
       " 'country_VNM',\n",
       " 'country_ZAF',\n",
       " 'country_ZMB',\n",
       " 'country_ZWE',\n",
       " 'market_segment_Aviation',\n",
       " 'market_segment_Complementary',\n",
       " 'market_segment_Corporate',\n",
       " 'market_segment_Direct',\n",
       " 'market_segment_Groups',\n",
       " 'market_segment_Offline TA/TO',\n",
       " 'market_segment_Online TA',\n",
       " 'distribution_channel_Corporate',\n",
       " 'distribution_channel_Direct',\n",
       " 'distribution_channel_GDS',\n",
       " 'distribution_channel_TA/TO',\n",
       " 'reserved_room_type_A',\n",
       " 'reserved_room_type_B',\n",
       " 'reserved_room_type_C',\n",
       " 'reserved_room_type_D',\n",
       " 'reserved_room_type_E',\n",
       " 'reserved_room_type_F',\n",
       " 'reserved_room_type_G',\n",
       " 'reserved_room_type_P',\n",
       " 'deposit_type_No Deposit',\n",
       " 'deposit_type_Non Refund',\n",
       " 'deposit_type_Refundable',\n",
       " 'customer_type_Contract',\n",
       " 'customer_type_Group',\n",
       " 'customer_type_Transient',\n",
       " 'customer_type_Transient-Party']"
      ]
     },
     "execution_count": 123,
     "metadata": {},
     "output_type": "execute_result"
    }
   ],
   "source": [
    "X.columns.tolist()"
   ]
  },
  {
   "cell_type": "markdown",
   "metadata": {},
   "source": [
    "- Suddividiamo i dati in un training set e in un validation set con la funzione `train_test_split` con proporzione 66-33"
   ]
  },
  {
   "cell_type": "code",
   "execution_count": 124,
   "metadata": {},
   "outputs": [],
   "source": [
    "from sklearn.model_selection import train_test_split\n",
    "X_train, X_val, y_train, y_val = train_test_split(\n",
    "    X, y, \n",
    "    test_size=1/3, \n",
    "    random_state=42\n",
    ")"
   ]
  },
  {
   "cell_type": "markdown",
   "metadata": {},
   "source": [
    "- Definiamo un modello di regressione logistica più semplice possibile, configurandone l'implementazione e il seed per la casualità\n",
    "  - gli altri parametri sono lasciati ai valori di default, ad es. la regolarizzazione applicata è L2 con C=1"
   ]
  },
  {
   "cell_type": "code",
   "execution_count": 125,
   "metadata": {},
   "outputs": [],
   "source": [
    "from sklearn.linear_model import LogisticRegression\n",
    "from sklearn.pipeline import Pipeline\n",
    "\n",
    "model = LogisticRegression(solver=\"saga\", random_state=42)  "
   ]
  },
  {
   "cell_type": "markdown",
   "metadata": {},
   "source": [
    "- Addestriamo il modello sui dati"
   ]
  },
  {
   "cell_type": "code",
   "execution_count": 126,
   "metadata": {},
   "outputs": [
    {
     "name": "stderr",
     "output_type": "stream",
     "text": [
      "C:\\Users\\alessandr.lombardin3\\AppData\\Local\\Continuum\\anaconda3\\lib\\site-packages\\sklearn\\linear_model\\sag.py:337: ConvergenceWarning: The max_iter was reached which means the coef_ did not converge\n",
      "  \"the coef_ did not converge\", ConvergenceWarning)\n"
     ]
    },
    {
     "data": {
      "text/plain": [
       "LogisticRegression(C=1.0, class_weight=None, dual=False, fit_intercept=True,\n",
       "                   intercept_scaling=1, l1_ratio=None, max_iter=100,\n",
       "                   multi_class='warn', n_jobs=None, penalty='l2',\n",
       "                   random_state=42, solver='saga', tol=0.0001, verbose=0,\n",
       "                   warm_start=False)"
      ]
     },
     "execution_count": 126,
     "metadata": {},
     "output_type": "execute_result"
    }
   ],
   "source": [
    "model.fit(X_train, y_train)"
   ]
  },
  {
   "cell_type": "markdown",
   "metadata": {},
   "source": [
    "- Mostriamo le classi previste dal modello"
   ]
  },
  {
   "cell_type": "code",
   "execution_count": 127,
   "metadata": {},
   "outputs": [
    {
     "data": {
      "text/plain": [
       "array(['N', 'Y'], dtype=object)"
      ]
     },
     "execution_count": 127,
     "metadata": {},
     "output_type": "execute_result"
    }
   ],
   "source": [
    "model.classes_"
   ]
  },
  {
   "cell_type": "markdown",
   "metadata": {},
   "source": [
    "- NB: Quando effettuiamo una predizione di probabilità otteniamo due valori ([a, b])\n",
    "    - Il primo valore (a) si riferisce alla probabilità di ottenere la classe `N`\n",
    "    - Il secondo valore (b) si riferisce alla probabilità di ottenere la classe `Y`"
   ]
  },
  {
   "cell_type": "code",
   "execution_count": 128,
   "metadata": {},
   "outputs": [
    {
     "data": {
      "text/plain": [
       "array([[0.30420672, 0.69579328],\n",
       "       [0.10950688, 0.89049312],\n",
       "       [0.37674281, 0.62325719]])"
      ]
     },
     "execution_count": 128,
     "metadata": {},
     "output_type": "execute_result"
    }
   ],
   "source": [
    "model.predict_proba(X_val[:3])"
   ]
  },
  {
   "cell_type": "code",
   "execution_count": 129,
   "metadata": {},
   "outputs": [
    {
     "data": {
      "text/plain": [
       "array(['Y', 'Y', 'Y'], dtype=object)"
      ]
     },
     "execution_count": 129,
     "metadata": {},
     "output_type": "execute_result"
    }
   ],
   "source": [
    "model.predict(X_val[:3])"
   ]
  },
  {
   "cell_type": "markdown",
   "metadata": {},
   "source": [
    "- Definiamo una funzione per ottenere le informazioni più interessanti che ci possono essere utili per valutare il modello"
   ]
  },
  {
   "cell_type": "markdown",
   "metadata": {},
   "source": [
    "- Oltre all'accuratezza come percentuale di classificazioni corrette, esistono altri modi per valutare l'accuratezza di un classificatore\n",
    "    - Precision e recall sono particolarmente utili in caso di sbilanciamento tra le classi, per cui l'accuratezza può non essere un indicatore affidabile"
   ]
  },
  {
   "cell_type": "code",
   "execution_count": 130,
   "metadata": {},
   "outputs": [],
   "source": [
    "from sklearn.metrics import confusion_matrix\n",
    "from sklearn.metrics import precision_score, recall_score, f1_score\n",
    "\n",
    "def print_model_informations(model, X_val, y_val):\n",
    "    y_pred = model.predict(X_val)\n",
    "    print(\"Accuracy =\", model.score(X_val, y_val))\n",
    "    print(\"\\nPrecision (Y) =\", precision_score(y_val,y_pred, pos_label=\"Y\"))\n",
    "    print(\"Precision (N) =\", precision_score(y_val,y_pred, pos_label=\"N\"))\n",
    "    print(\"Precision =\", precision_score(y_val,y_pred, average=\"macro\"))\n",
    "    print(\"\\nRecall (Y) =\", recall_score(y_val,y_pred, pos_label=\"Y\"))\n",
    "    print(\"Recall (N) =\", recall_score(y_val,y_pred, pos_label=\"N\"))\n",
    "    print(\"Recall =\", recall_score(y_val,y_pred, average=\"macro\"))\n",
    "    print(\"\\nF1 Score (Y) =\", f1_score(y_val,y_pred, pos_label=\"Y\"))\n",
    "    print(\"F1 Score (N) =\", f1_score(y_val,y_pred, pos_label=\"N\"))\n",
    "    print(\"F1 Score =\", f1_score(y_val,y_pred, average=\"macro\"))\n",
    "    print(\"\\nMatrice di confusione:\")\n",
    "    cm = confusion_matrix(y_val, y_pred)\n",
    "    print(pd.DataFrame(cm, index=model.classes_, columns=model.classes_))"
   ]
  },
  {
   "cell_type": "markdown",
   "metadata": {},
   "source": [
    "- Calcoliamo le misure del nostro modello "
   ]
  },
  {
   "cell_type": "code",
   "execution_count": 131,
   "metadata": {},
   "outputs": [
    {
     "name": "stdout",
     "output_type": "stream",
     "text": [
      "Accuracy = 0.796247257320118\n",
      "\n",
      "Precision (Y) = 0.8480108387732479\n",
      "Precision (N) = 0.7733005733005733\n",
      "Precision = 0.8106557060369106\n",
      "\n",
      "Recall (Y) = 0.6238108181571079\n",
      "Recall (N) = 0.9198545171137235\n",
      "Recall = 0.7718326676354157\n",
      "\n",
      "F1 Score (Y) = 0.7188348298183337\n",
      "F1 Score (N) = 0.8402349311817751\n",
      "F1 Score = 0.7795348805000544\n",
      "\n",
      "Matrice di confusione:\n",
      "       N     Y\n",
      "N  14163  1234\n",
      "Y   4152  6885\n"
     ]
    }
   ],
   "source": [
    "print_model_informations(model, X_val, y_val)"
   ]
  },
  {
   "cell_type": "markdown",
   "metadata": {},
   "source": [
    "- Per avere una valutazione più completa del modello ottento, possiamo metterlo a confronto con quello che accadrebbe prendendo decisioni casuali\n",
    "    - Generiamo un serie di decisioni casuali (`Y` o `N`)"
   ]
  },
  {
   "cell_type": "code",
   "execution_count": 132,
   "metadata": {},
   "outputs": [],
   "source": [
    "import random\n",
    "randoms = pd.Series(np.random.choice([\"Y\", \"N\"], size=(y_val.index.shape[0],)), index = y_val.index) "
   ]
  },
  {
   "cell_type": "markdown",
   "metadata": {},
   "source": [
    "- Calcoliamo l'accuratezza di questo modello randomico"
   ]
  },
  {
   "cell_type": "code",
   "execution_count": 133,
   "metadata": {},
   "outputs": [
    {
     "data": {
      "text/plain": [
       "0.5051827192252403"
      ]
     },
     "execution_count": 133,
     "metadata": {},
     "output_type": "execute_result"
    }
   ],
   "source": [
    "(y_val == randoms).mean()"
   ]
  },
  {
   "cell_type": "markdown",
   "metadata": {},
   "source": [
    "- Abbiamo ottenuto un modello che ci consente di intraprendere decisioni più accurate di come le faremmo casualmente"
   ]
  },
  {
   "cell_type": "markdown",
   "metadata": {},
   "source": [
    "### Verifichiamo se la variabile deposit_type ha un grosso impatto sulla valutazione\n",
    "  "
   ]
  },
  {
   "cell_type": "markdown",
   "metadata": {},
   "source": [
    "- Rimuoviamo la variabile `deposit_type` da una copia dei dataset X_train e X_val appena utilizzati"
   ]
  },
  {
   "cell_type": "code",
   "execution_count": 353,
   "metadata": {},
   "outputs": [],
   "source": [
    "X_train_no_deposit = X_train.copy()\n",
    "X_val_no_deposit = X_val.copy()\n",
    "X_train_no_deposit.drop(columns=['deposit_type_No Deposit', 'deposit_type_Non Refund','deposit_type_Refundable'], inplace=True)\n",
    "X_val_no_deposit.drop(columns=['deposit_type_No Deposit', 'deposit_type_Non Refund','deposit_type_Refundable'], inplace=True)"
   ]
  },
  {
   "cell_type": "markdown",
   "metadata": {},
   "source": [
    "- Addestriamo un modello con la medesima configurazione appena utilizzata"
   ]
  },
  {
   "cell_type": "code",
   "execution_count": 355,
   "metadata": {},
   "outputs": [
    {
     "name": "stderr",
     "output_type": "stream",
     "text": [
      "C:\\Users\\alessandr.lombardin3\\AppData\\Local\\Continuum\\anaconda3\\lib\\site-packages\\sklearn\\linear_model\\sag.py:337: ConvergenceWarning: The max_iter was reached which means the coef_ did not converge\n",
      "  \"the coef_ did not converge\", ConvergenceWarning)\n"
     ]
    },
    {
     "data": {
      "text/plain": [
       "LogisticRegression(C=1.0, class_weight=None, dual=False, fit_intercept=True,\n",
       "                   intercept_scaling=1, l1_ratio=None, max_iter=100,\n",
       "                   multi_class='warn', n_jobs=None, penalty='l2',\n",
       "                   random_state=42, solver='saga', tol=0.0001, verbose=0,\n",
       "                   warm_start=False)"
      ]
     },
     "execution_count": 355,
     "metadata": {},
     "output_type": "execute_result"
    }
   ],
   "source": [
    "model = LogisticRegression(solver=\"saga\", random_state=42)  \n",
    "model.fit(X_train_no_deposit, y_train)"
   ]
  },
  {
   "cell_type": "markdown",
   "metadata": {},
   "source": [
    "- Verifichiamone l'accuratezza"
   ]
  },
  {
   "cell_type": "code",
   "execution_count": 356,
   "metadata": {},
   "outputs": [
    {
     "name": "stdout",
     "output_type": "stream",
     "text": [
      "Accuracy = 0.786562760081713\n",
      "\n",
      "Precision (Y) = 0.7882252377390747\n",
      "Precision (N) = 0.7856515373352855\n",
      "Precision = 0.78693838753718\n",
      "\n",
      "Recall (Y) = 0.66838814895352\n",
      "Recall (N) = 0.8712736247320907\n",
      "Recall = 0.7698308868428053\n",
      "\n",
      "F1 Score (Y) = 0.7233771327711316\n",
      "F1 Score (N) = 0.826250307957625\n",
      "F1 Score = 0.7748137203643783\n",
      "\n",
      "Matrice di confusione:\n",
      "       N     Y\n",
      "N  13415  1982\n",
      "Y   3660  7377\n"
     ]
    }
   ],
   "source": [
    "print_model_informations(model, X_val_no_deposit, y_val)"
   ]
  },
  {
   "cell_type": "markdown",
   "metadata": {},
   "source": [
    "- Sembra peggiorare ma, quello che più importa, è che ora sappiamo che il modello non peggiore drasticamente senza questa variabile"
   ]
  },
  {
   "cell_type": "markdown",
   "metadata": {},
   "source": [
    "## Regolarizzazione"
   ]
  },
  {
   "cell_type": "markdown",
   "metadata": {},
   "source": [
    "- Nella regressione logistica possiamo applicare le teniche di regolarizzazione\n",
    "    - In particolare vogliamo applicare la regolarizzazione L1 che permette di azzerare i pesi delle variabili meno significative\n",
    "    - Applichiamo una forte regolarizzazione al fine di annullare più valiabili possibili"
   ]
  },
  {
   "cell_type": "code",
   "execution_count": 143,
   "metadata": {},
   "outputs": [
    {
     "name": "stderr",
     "output_type": "stream",
     "text": [
      "C:\\Users\\alessandr.lombardin3\\AppData\\Local\\Continuum\\anaconda3\\lib\\site-packages\\sklearn\\linear_model\\sag.py:337: ConvergenceWarning: The max_iter was reached which means the coef_ did not converge\n",
      "  \"the coef_ did not converge\", ConvergenceWarning)\n"
     ]
    },
    {
     "data": {
      "text/plain": [
       "LogisticRegression(C=10, class_weight=None, dual=False, fit_intercept=True,\n",
       "                   intercept_scaling=1, l1_ratio=None, max_iter=100,\n",
       "                   multi_class='warn', n_jobs=None, penalty='l1',\n",
       "                   random_state=42, solver='saga', tol=0.0001, verbose=0,\n",
       "                   warm_start=False)"
      ]
     },
     "execution_count": 143,
     "metadata": {},
     "output_type": "execute_result"
    }
   ],
   "source": [
    "from sklearn.linear_model import LogisticRegression\n",
    "from sklearn.pipeline import Pipeline\n",
    "\n",
    "model = LogisticRegression(solver=\"saga\", random_state=42, penalty=\"l1\", C=100)  \n",
    "model.fit(X_train, y_train)"
   ]
  },
  {
   "cell_type": "markdown",
   "metadata": {},
   "source": [
    "- Andiamo a visualizzare i coefficienti più grandi in valore assoluto"
   ]
  },
  {
   "cell_type": "code",
   "execution_count": 148,
   "metadata": {},
   "outputs": [
    {
     "data": {
      "text/plain": [
       "country_PRT                    0.777396\n",
       "deposit_type_Non Refund        0.732781\n",
       "previous_cancellations         0.368407\n",
       "customer_type_Transient        0.307675\n",
       "market_segment_Online TA       0.231952\n",
       "market_segment_Groups          0.163888\n",
       "distribution_channel_TA/TO     0.124428\n",
       "arrival_date_month_December    0.089841\n",
       "stays_in_week_nights           0.083946\n",
       "meal_SC                        0.058953\n",
       "dtype: float64"
      ]
     },
     "execution_count": 148,
     "metadata": {},
     "output_type": "execute_result"
    }
   ],
   "source": [
    "pd.Series(model.coef_[0], index=X.columns).sort_values(ascending=False).head(10)"
   ]
  },
  {
   "cell_type": "code",
   "execution_count": 149,
   "metadata": {},
   "outputs": [
    {
     "data": {
      "text/plain": [
       "required_car_parking_spaces     -0.173216\n",
       "market_segment_Direct           -0.206676\n",
       "distribution_channel_Direct     -0.222695\n",
       "market_segment_Offline TA/TO    -0.261850\n",
       "country_FRA                     -0.277665\n",
       "country_DEU                     -0.328674\n",
       "booking_changes                 -0.393963\n",
       "customer_type_Transient-Party   -0.515777\n",
       "total_of_special_requests       -0.700450\n",
       "deposit_type_No Deposit         -0.927112\n",
       "dtype: float64"
      ]
     },
     "execution_count": 149,
     "metadata": {},
     "output_type": "execute_result"
    }
   ],
   "source": [
    "pd.Series(model.coef_[0], index=X.columns).sort_values(ascending=False).tail(10)"
   ]
  },
  {
   "cell_type": "markdown",
   "metadata": {},
   "source": [
    "- Visualizziamo anche l'intercetta"
   ]
  },
  {
   "cell_type": "code",
   "execution_count": 177,
   "metadata": {},
   "outputs": [
    {
     "data": {
      "text/plain": [
       "array([-0.19381644])"
      ]
     },
     "execution_count": 177,
     "metadata": {},
     "output_type": "execute_result"
    }
   ],
   "source": [
    "model.intercept_"
   ]
  },
  {
   "cell_type": "markdown",
   "metadata": {},
   "source": [
    "- La gran parte dei coefficienti mostrati sono di variabili binarie dunque, nonostante il loro valore sia alto, possono incidere sull'esito al più di una unità in valore assoluto\n"
   ]
  },
  {
   "cell_type": "markdown",
   "metadata": {},
   "source": [
    "## Cross-validation su classificazione"
   ]
  },
  {
   "cell_type": "markdown",
   "metadata": {},
   "source": [
    "- Quello che vogliamo fare ora è applicare la GridSearch per trovare gli iperparametri migliori\n",
    " \n",
    "- Poichè il dataset è molto ampio e la variabili sono molte, la ricerca degli iperparametri ottimali risulta essere molto dispendiosa.\n",
    "\n",
    "- Riduciamo la dimensione del dataset in termini di variabili \n",
    "    - Ottenuti i pesi della regolarizzazione L1, poniamo una soglia del +- 0.1 affinchè un coefficiente possa essere tenuto in considerazione. Se inferiore rimuoviamo quella variabile dal dataframe. "
   ]
  },
  {
   "cell_type": "markdown",
   "metadata": {},
   "source": [
    "- Realizzo una copia dei dataset di training ed validation a cui andrò a rimuovere parte delle variabili"
   ]
  },
  {
   "cell_type": "code",
   "execution_count": 118,
   "metadata": {},
   "outputs": [],
   "source": [
    "X_train_v2 = X_train.copy()\n",
    "y_train_v2 = y_train.copy()\n",
    "X_val_v2 = X_val.copy()\n",
    "y_val_v2 = y_val.copy()"
   ]
  },
  {
   "cell_type": "code",
   "execution_count": 119,
   "metadata": {},
   "outputs": [
    {
     "data": {
      "text/plain": [
       "((52868, 232), (26434, 232))"
      ]
     },
     "execution_count": 119,
     "metadata": {},
     "output_type": "execute_result"
    }
   ],
   "source": [
    "X_train_v2.shape, X_val_v2.shape"
   ]
  },
  {
   "cell_type": "markdown",
   "metadata": {},
   "source": [
    "- Rimuoviamo ora parte delle variabili, quelle meno significative, sia dal dataset di training che di validation\n",
    "\n",
    "- Definiamo un vettore `coeff` contenente tutte le variabili da eliminare"
   ]
  },
  {
   "cell_type": "code",
   "execution_count": 120,
   "metadata": {},
   "outputs": [],
   "source": [
    "coeff = pd.Series(model.coef_[0], index=X.columns)\n",
    "coeff = coeff[(coeff < 0.3) & (coeff > -0.3)]"
   ]
  },
  {
   "cell_type": "markdown",
   "metadata": {},
   "source": [
    "- Viene quindi utilizzato `coeff` per rimuovere le variabili dal training set e dal validation set"
   ]
  },
  {
   "cell_type": "code",
   "execution_count": 121,
   "metadata": {},
   "outputs": [
    {
     "name": "stdout",
     "output_type": "stream",
     "text": [
      "Ho scartato 225 variabili\n"
     ]
    }
   ],
   "source": [
    "X_train_v2.drop(axis=1,columns=coeff.index, inplace=True)\n",
    "X_val_v2.drop(axis=1,columns=coeff.index, inplace=True)\n",
    "print(\"Ho scartato\", coeff.shape[0], \"variabili\")"
   ]
  },
  {
   "cell_type": "code",
   "execution_count": 122,
   "metadata": {
    "scrolled": true
   },
   "outputs": [
    {
     "data": {
      "text/plain": [
       "((52868, 7), (26434, 7))"
      ]
     },
     "execution_count": 122,
     "metadata": {},
     "output_type": "execute_result"
    }
   ],
   "source": [
    "X_train_v2.shape, X_val_v2.shape"
   ]
  },
  {
   "cell_type": "markdown",
   "metadata": {},
   "source": [
    "- Addestriamo un nuovo modello con la prima configurazione adottata su questo nuovo training set"
   ]
  },
  {
   "cell_type": "code",
   "execution_count": 123,
   "metadata": {},
   "outputs": [
    {
     "data": {
      "text/plain": [
       "LogisticRegression(C=1.0, class_weight=None, dual=False, fit_intercept=True,\n",
       "                   intercept_scaling=1, l1_ratio=None, max_iter=100,\n",
       "                   multi_class='warn', n_jobs=None, penalty='l2',\n",
       "                   random_state=42, solver='saga', tol=0.0001, verbose=0,\n",
       "                   warm_start=False)"
      ]
     },
     "execution_count": 123,
     "metadata": {},
     "output_type": "execute_result"
    }
   ],
   "source": [
    "model_v2 = LogisticRegression(solver=\"saga\", random_state=42)  \n",
    "model_v2.fit(X_train_v2, y_train_v2)"
   ]
  },
  {
   "cell_type": "code",
   "execution_count": 124,
   "metadata": {},
   "outputs": [
    {
     "name": "stdout",
     "output_type": "stream",
     "text": [
      "Accuracy = 0.7384429144283877\n",
      "\n",
      "Precision (Y) = 0.8367913739585036\n",
      "Precision (N) = 0.7088071678235612\n",
      "Precision = 0.7727992708910324\n",
      "\n",
      "Recall (Y) = 0.464075382803298\n",
      "Recall (N) = 0.9351172306293434\n",
      "Recall = 0.6995963067163207\n",
      "\n",
      "F1 Score (Y) = 0.5970392819675954\n",
      "F1 Score (N) = 0.8063847661719405\n",
      "F1 Score = 0.701712024069768\n",
      "\n",
      "Matrice di confusione:\n",
      "       N     Y\n",
      "N  14398   999\n",
      "Y   5915  5122\n"
     ]
    }
   ],
   "source": [
    "print_model_informations(model_v2, X_val_v2, y_val_v2)"
   ]
  },
  {
   "cell_type": "markdown",
   "metadata": {},
   "source": [
    "- Confrontiamolo con la stessa configurazione addestrata però sul dataset completo di tutte le variabili (già precedentemente addestrato)"
   ]
  },
  {
   "cell_type": "code",
   "execution_count": 125,
   "metadata": {},
   "outputs": [
    {
     "name": "stdout",
     "output_type": "stream",
     "text": [
      "Accuracy = 0.7922372701823409\n",
      "\n",
      "Precision (Y) = 0.8526007885031158\n",
      "Precision (N) = 0.7666792310591782\n",
      "Precision = 0.809640009781147\n",
      "\n",
      "Recall (Y) = 0.607411434266558\n",
      "Recall (N) = 0.9247255958953042\n",
      "Recall = 0.7660685150809311\n",
      "\n",
      "F1 Score (Y) = 0.7094179894179895\n",
      "F1 Score (N) = 0.8383184173339612\n",
      "F1 Score = 0.7738682033759754\n",
      "\n",
      "Matrice di confusione:\n",
      "       N     Y\n",
      "N  14238  1159\n",
      "Y   4333  6704\n"
     ]
    }
   ],
   "source": [
    "print_model_informations(model, X_val, y_val)"
   ]
  },
  {
   "cell_type": "markdown",
   "metadata": {},
   "source": [
    "- Definiamo uno `StatifiedKFold` per effettuare la cross-validation\n",
    "    - Dovendo addestrare un modello a riconoscere delle classi, è opportuno che le proporzioni di ciascuna classe nei fold siano uguali\n",
    "    - `StratifiedKFold` è una variante di `KFold` che garantisce uguale distribuzione delle classi tra un fold e l'altro"
   ]
  },
  {
   "cell_type": "code",
   "execution_count": 126,
   "metadata": {},
   "outputs": [],
   "source": [
    "from sklearn.model_selection import GridSearchCV, StratifiedKFold\n",
    "from sklearn.metrics import f1_score\n",
    "skf = StratifiedKFold(3, shuffle=True, random_state=42)"
   ]
  },
  {
   "cell_type": "code",
   "execution_count": 127,
   "metadata": {},
   "outputs": [
    {
     "name": "stdout",
     "output_type": "stream",
     "text": [
      "N    10277\n",
      "Y     7347\n",
      "Name: is_canceled, dtype: int64\n",
      "N    10276\n",
      "Y     7346\n",
      "Name: is_canceled, dtype: int64\n",
      "N    10276\n",
      "Y     7346\n",
      "Name: is_canceled, dtype: int64\n"
     ]
    }
   ],
   "source": [
    "for train, val in skf.split(X_train_v2, y_train_v2):\n",
    "    print(y_train.iloc[val].value_counts())"
   ]
  },
  {
   "cell_type": "markdown",
   "metadata": {},
   "source": [
    "- Definizamo una \"griglia\" con liste di valore possibili per gli iperparametri di un modello, al fine di testare tutte le combinazioni possibili mediante la grid search"
   ]
  },
  {
   "cell_type": "code",
   "execution_count": 128,
   "metadata": {
    "scrolled": false
   },
   "outputs": [],
   "source": [
    "from sklearn.preprocessing import StandardScaler\n",
    "from sklearn.preprocessing import PolynomialFeatures\n",
    "from sklearn.pipeline import Pipeline\n",
    "\n",
    "mod = Pipeline([\n",
    "    (\"scaler\", None),\n",
    "    (\"poly\", None),\n",
    "    (\"lr\", LogisticRegression(solver=\"saga\", random_state=42))\n",
    "])\n",
    "grid = [\n",
    "    {\n",
    "        \"scaler\": [None, StandardScaler()],\n",
    "        \"lr__penalty\": [\"none\"],\n",
    "        \"poly\": [None],\n",
    "    },\n",
    "    {\n",
    "        \"scaler\": [None, StandardScaler()],\n",
    "        \"lr__penalty\": [\"none\"],\n",
    "        \"poly\": [PolynomialFeatures()],\n",
    "        \"poly__degree\": [2,3,4]\n",
    "    },\n",
    "    {\n",
    "        \"scaler\": [None, StandardScaler()],\n",
    "        \"lr__penalty\": [\"l2\", \"l1\"],\n",
    "        \"lr__C\": np.logspace(-3, 3, 7),\n",
    "        \"poly\": [None]\n",
    "    },\n",
    "    {\n",
    "        \"scaler\": [None, StandardScaler()],\n",
    "        \"lr__penalty\": [\"l2\", \"l1\"],\n",
    "        \"lr__C\": np.logspace(-3, 3, 7),\n",
    "        \"poly\": [PolynomialFeatures()],\n",
    "        \"poly__degree\": [2,3,4]\n",
    "    },\n",
    "    {\n",
    "        \"scaler\": [None, StandardScaler()],\n",
    "        \"lr__penalty\": [\"elasticnet\"],\n",
    "        \"lr__C\": np.logspace(-3, 3, 7),\n",
    "        \"lr__l1_ratio\": [0.2, 0.5, 0.7],\n",
    "        \"poly\": [None]\n",
    "    },\n",
    "    {\n",
    "        \"scaler\": [None, StandardScaler()],\n",
    "        \"lr__penalty\": [\"elasticnet\"],\n",
    "        \"lr__C\": np.logspace(-3, 3, 7),\n",
    "        \"lr__l1_ratio\": [0.2, 0.5, 0.7],\n",
    "        \"poly\": [PolynomialFeatures()],\n",
    "        \"poly__degree\": [2,3,4]\n",
    "    }\n",
    "]"
   ]
  },
  {
   "cell_type": "markdown",
   "metadata": {},
   "source": [
    "- Poniamo un filtro in modo che i warning del training non vengano mostrati"
   ]
  },
  {
   "cell_type": "code",
   "execution_count": 129,
   "metadata": {},
   "outputs": [],
   "source": [
    "import warnings\n",
    "warnings.filterwarnings(\"ignore\") "
   ]
  },
  {
   "cell_type": "markdown",
   "metadata": {},
   "source": [
    "- Definiamo la grid search, specificando il modello, la lista di griglie e lo splitter per la cross-validation (usiamo lo `StratifiedKFold` creato sopra)"
   ]
  },
  {
   "cell_type": "code",
   "execution_count": 130,
   "metadata": {},
   "outputs": [],
   "source": [
    "gs = GridSearchCV(mod, grid, cv=skf)"
   ]
  },
  {
   "cell_type": "markdown",
   "metadata": {},
   "source": [
    "- Effettuiamo quindi la ricerca sui dati "
   ]
  },
  {
   "cell_type": "code",
   "execution_count": null,
   "metadata": {},
   "outputs": [],
   "source": [
    "%time gs.fit(X_train_v2, y_train_v2)"
   ]
  },
  {
   "cell_type": "markdown",
   "metadata": {},
   "source": [
    "- Possiamo verificare la migliore combinazione di iperparametri\n",
    "    -  metrica di riferimento di default è l'accuratezza, cioè la percentuale di classificazioni corrette"
   ]
  },
  {
   "cell_type": "code",
   "execution_count": 1571,
   "metadata": {},
   "outputs": [
    {
     "data": {
      "text/plain": [
       "{'lr__C': 0.01,\n",
       " 'lr__l1_ratio': 0.2,\n",
       " 'lr__penalty': 'elasticnet',\n",
       " 'scaler': None}"
      ]
     },
     "execution_count": 1571,
     "metadata": {},
     "output_type": "execute_result"
    }
   ],
   "source": [
    "gs.best_params_"
   ]
  },
  {
   "cell_type": "markdown",
   "metadata": {},
   "source": [
    "- E vedere tutti i dettagli, ad es. selezionando le 5 parametrizzazioni con accuratezza migliore"
   ]
  },
  {
   "cell_type": "code",
   "execution_count": 1572,
   "metadata": {},
   "outputs": [
    {
     "data": {
      "text/html": [
       "<div>\n",
       "<style scoped>\n",
       "    .dataframe tbody tr th:only-of-type {\n",
       "        vertical-align: middle;\n",
       "    }\n",
       "\n",
       "    .dataframe tbody tr th {\n",
       "        vertical-align: top;\n",
       "    }\n",
       "\n",
       "    .dataframe thead th {\n",
       "        text-align: right;\n",
       "    }\n",
       "</style>\n",
       "<table border=\"1\" class=\"dataframe\">\n",
       "  <thead>\n",
       "    <tr style=\"text-align: right;\">\n",
       "      <th></th>\n",
       "      <th>mean_fit_time</th>\n",
       "      <th>std_fit_time</th>\n",
       "      <th>mean_score_time</th>\n",
       "      <th>std_score_time</th>\n",
       "      <th>param_lr__penalty</th>\n",
       "      <th>param_scaler</th>\n",
       "      <th>param_lr__C</th>\n",
       "      <th>param_lr__l1_ratio</th>\n",
       "      <th>params</th>\n",
       "      <th>split0_test_score</th>\n",
       "      <th>split1_test_score</th>\n",
       "      <th>split2_test_score</th>\n",
       "      <th>mean_test_score</th>\n",
       "      <th>std_test_score</th>\n",
       "      <th>rank_test_score</th>\n",
       "    </tr>\n",
       "  </thead>\n",
       "  <tbody>\n",
       "    <tr>\n",
       "      <td>0</td>\n",
       "      <td>1.714678</td>\n",
       "      <td>0.022306</td>\n",
       "      <td>0.034656</td>\n",
       "      <td>0.000477</td>\n",
       "      <td>elasticnet</td>\n",
       "      <td>None</td>\n",
       "      <td>0.01</td>\n",
       "      <td>0.2</td>\n",
       "      <td>{'lr__C': 0.01, 'lr__l1_ratio': 0.2, 'lr__pena...</td>\n",
       "      <td>0.786882</td>\n",
       "      <td>0.790205</td>\n",
       "      <td>0.788957</td>\n",
       "      <td>0.788681</td>\n",
       "      <td>0.001371</td>\n",
       "      <td>1</td>\n",
       "    </tr>\n",
       "    <tr>\n",
       "      <td>1</td>\n",
       "      <td>1.252669</td>\n",
       "      <td>0.006544</td>\n",
       "      <td>0.034663</td>\n",
       "      <td>0.000468</td>\n",
       "      <td>l2</td>\n",
       "      <td>None</td>\n",
       "      <td>0.01</td>\n",
       "      <td>NaN</td>\n",
       "      <td>{'lr__C': 0.01, 'lr__penalty': 'l2', 'scaler':...</td>\n",
       "      <td>0.786428</td>\n",
       "      <td>0.790262</td>\n",
       "      <td>0.789184</td>\n",
       "      <td>0.788624</td>\n",
       "      <td>0.001615</td>\n",
       "      <td>2</td>\n",
       "    </tr>\n",
       "    <tr>\n",
       "      <td>2</td>\n",
       "      <td>1.640007</td>\n",
       "      <td>0.023419</td>\n",
       "      <td>0.034661</td>\n",
       "      <td>0.000466</td>\n",
       "      <td>elasticnet</td>\n",
       "      <td>None</td>\n",
       "      <td>0.1</td>\n",
       "      <td>0.2</td>\n",
       "      <td>{'lr__C': 0.1, 'lr__l1_ratio': 0.2, 'lr__penal...</td>\n",
       "      <td>0.786995</td>\n",
       "      <td>0.789297</td>\n",
       "      <td>0.789127</td>\n",
       "      <td>0.788473</td>\n",
       "      <td>0.001048</td>\n",
       "      <td>3</td>\n",
       "    </tr>\n",
       "    <tr>\n",
       "      <td>3</td>\n",
       "      <td>1.688017</td>\n",
       "      <td>0.017202</td>\n",
       "      <td>0.034317</td>\n",
       "      <td>0.000475</td>\n",
       "      <td>elasticnet</td>\n",
       "      <td>None</td>\n",
       "      <td>0.1</td>\n",
       "      <td>0.7</td>\n",
       "      <td>{'lr__C': 0.1, 'lr__l1_ratio': 0.7, 'lr__penal...</td>\n",
       "      <td>0.786938</td>\n",
       "      <td>0.789354</td>\n",
       "      <td>0.789127</td>\n",
       "      <td>0.788473</td>\n",
       "      <td>0.001089</td>\n",
       "      <td>3</td>\n",
       "    </tr>\n",
       "    <tr>\n",
       "      <td>4</td>\n",
       "      <td>1.253333</td>\n",
       "      <td>0.005186</td>\n",
       "      <td>0.034333</td>\n",
       "      <td>0.000472</td>\n",
       "      <td>l2</td>\n",
       "      <td>None</td>\n",
       "      <td>0.1</td>\n",
       "      <td>NaN</td>\n",
       "      <td>{'lr__C': 0.1, 'lr__penalty': 'l2', 'scaler': ...</td>\n",
       "      <td>0.786995</td>\n",
       "      <td>0.789297</td>\n",
       "      <td>0.789127</td>\n",
       "      <td>0.788473</td>\n",
       "      <td>0.001048</td>\n",
       "      <td>3</td>\n",
       "    </tr>\n",
       "  </tbody>\n",
       "</table>\n",
       "</div>"
      ],
      "text/plain": [
       "   mean_fit_time  std_fit_time  mean_score_time  std_score_time  \\\n",
       "0       1.714678      0.022306         0.034656        0.000477   \n",
       "1       1.252669      0.006544         0.034663        0.000468   \n",
       "2       1.640007      0.023419         0.034661        0.000466   \n",
       "3       1.688017      0.017202         0.034317        0.000475   \n",
       "4       1.253333      0.005186         0.034333        0.000472   \n",
       "\n",
       "  param_lr__penalty param_scaler param_lr__C param_lr__l1_ratio  \\\n",
       "0        elasticnet         None        0.01                0.2   \n",
       "1                l2         None        0.01                NaN   \n",
       "2        elasticnet         None         0.1                0.2   \n",
       "3        elasticnet         None         0.1                0.7   \n",
       "4                l2         None         0.1                NaN   \n",
       "\n",
       "                                              params  split0_test_score  \\\n",
       "0  {'lr__C': 0.01, 'lr__l1_ratio': 0.2, 'lr__pena...           0.786882   \n",
       "1  {'lr__C': 0.01, 'lr__penalty': 'l2', 'scaler':...           0.786428   \n",
       "2  {'lr__C': 0.1, 'lr__l1_ratio': 0.2, 'lr__penal...           0.786995   \n",
       "3  {'lr__C': 0.1, 'lr__l1_ratio': 0.7, 'lr__penal...           0.786938   \n",
       "4  {'lr__C': 0.1, 'lr__penalty': 'l2', 'scaler': ...           0.786995   \n",
       "\n",
       "   split1_test_score  split2_test_score  mean_test_score  std_test_score  \\\n",
       "0           0.790205           0.788957         0.788681        0.001371   \n",
       "1           0.790262           0.789184         0.788624        0.001615   \n",
       "2           0.789297           0.789127         0.788473        0.001048   \n",
       "3           0.789354           0.789127         0.788473        0.001089   \n",
       "4           0.789297           0.789127         0.788473        0.001048   \n",
       "\n",
       "   rank_test_score  \n",
       "0                1  \n",
       "1                2  \n",
       "2                3  \n",
       "3                3  \n",
       "4                3  "
      ]
     },
     "execution_count": 1572,
     "metadata": {},
     "output_type": "execute_result"
    }
   ],
   "source": [
    "result = pd.DataFrame(gs.cv_results_)\n",
    "result.sort_values(by=\"rank_test_score\", inplace=True)\n",
    "result.reset_index(inplace=True, drop=True)\n",
    "result.head(5)"
   ]
  },
  {
   "cell_type": "markdown",
   "metadata": {},
   "source": [
    "- Andiamo a visualizzare le misure del miglior modello ottenuto"
   ]
  },
  {
   "cell_type": "code",
   "execution_count": 1573,
   "metadata": {
    "scrolled": true
   },
   "outputs": [
    {
     "name": "stdout",
     "output_type": "stream",
     "text": [
      "Accuracy = 0.791442838768253\n",
      "\n",
      "Precision (Y) = 0.8152248345126684\n",
      "Precision (N) = 0.7796514259846085\n",
      "Precision = 0.7974381302486384\n",
      "\n",
      "Recall (Y) = 0.6471867355259582\n",
      "Recall (N) = 0.8948496460349419\n",
      "Recall = 0.7710181907804501\n",
      "\n",
      "F1 Score (Y) = 0.7215515935148241\n",
      "F1 Score (N) = 0.833287973630893\n",
      "F1 Score = 0.7774197835728586\n",
      "\n",
      "Matrice di confusione:\n",
      "       N     Y\n",
      "N  13778  1619\n",
      "Y   3894  7143\n"
     ]
    }
   ],
   "source": [
    "print_model_informations(gs, X_val_v2, y_val_v2)"
   ]
  },
  {
   "cell_type": "markdown",
   "metadata": {},
   "source": [
    "- Possiamo notare un valore non eccelso per quanto riguarda `Recall (Y)`, ovvero la percentuale di istanze cancellate che sono state classificate come cancellate. \n",
    "    - La restante parte, in questo caso abbastanza cospicua, definisce quelle istanze che sono cancellate ma sono state classificate come non cancellate."
   ]
  },
  {
   "cell_type": "code",
   "execution_count": 1563,
   "metadata": {},
   "outputs": [],
   "source": [
    "from sklearn.preprocessing import PolynomialFeatures\n",
    "mod = Pipeline([\n",
    "    (\"scaler\", StandardScaler()),\n",
    "    (\"poly\", PolynomialFeatures()),\n",
    "    (\"lr\", LogisticRegression(solver=\"saga\", random_state=42))\n",
    "])"
   ]
  },
  {
   "cell_type": "code",
   "execution_count": 1565,
   "metadata": {},
   "outputs": [
    {
     "data": {
      "text/plain": [
       "Pipeline(memory=None,\n",
       "         steps=[('scaler',\n",
       "                 StandardScaler(copy=True, with_mean=True, with_std=True)),\n",
       "                ('poly',\n",
       "                 PolynomialFeatures(degree=2, include_bias=True,\n",
       "                                    interaction_only=False, order='C')),\n",
       "                ('lr',\n",
       "                 LogisticRegression(C=1.0, class_weight=None, dual=False,\n",
       "                                    fit_intercept=True, intercept_scaling=1,\n",
       "                                    l1_ratio=None, max_iter=100,\n",
       "                                    multi_class='warn', n_jobs=None,\n",
       "                                    penalty='l2', random_state=42,\n",
       "                                    solver='saga', tol=0.0001, verbose=0,\n",
       "                                    warm_start=False))],\n",
       "         verbose=False)"
      ]
     },
     "execution_count": 1565,
     "metadata": {},
     "output_type": "execute_result"
    }
   ],
   "source": [
    "mod.fit(X_train_v2, y_train_v2)"
   ]
  },
  {
   "cell_type": "code",
   "execution_count": 1566,
   "metadata": {},
   "outputs": [
    {
     "data": {
      "text/plain": [
       "0.7919346296436408"
      ]
     },
     "execution_count": 1566,
     "metadata": {},
     "output_type": "execute_result"
    }
   ],
   "source": [
    "mod.score(X_val_v2, y_val_v2)"
   ]
  },
  {
   "cell_type": "markdown",
   "metadata": {},
   "source": [
    "## Valutazione dei modelli di classificazione"
   ]
  },
  {
   "cell_type": "markdown",
   "metadata": {},
   "source": [
    "- Andiamo a prendere i parametri dei tre modelli testati che hanno ottenuto i valori _rank_test_score_ più alti"
   ]
  },
  {
   "cell_type": "markdown",
   "metadata": {},
   "source": [
    "- Primo in classifica"
   ]
  },
  {
   "cell_type": "code",
   "execution_count": 1508,
   "metadata": {},
   "outputs": [
    {
     "data": {
      "text/plain": [
       "{'lr__C': 0.01,\n",
       " 'lr__l1_ratio': 0.2,\n",
       " 'lr__penalty': 'elasticnet',\n",
       " 'scaler': None}"
      ]
     },
     "execution_count": 1508,
     "metadata": {},
     "output_type": "execute_result"
    }
   ],
   "source": [
    "result.loc[0, 'params']"
   ]
  },
  {
   "cell_type": "markdown",
   "metadata": {},
   "source": [
    "- Secondo in classifica"
   ]
  },
  {
   "cell_type": "code",
   "execution_count": 1509,
   "metadata": {},
   "outputs": [
    {
     "data": {
      "text/plain": [
       "{'lr__C': 0.01, 'lr__penalty': 'l2', 'scaler': None}"
      ]
     },
     "execution_count": 1509,
     "metadata": {},
     "output_type": "execute_result"
    }
   ],
   "source": [
    "result.loc[1, 'params']"
   ]
  },
  {
   "cell_type": "markdown",
   "metadata": {},
   "source": [
    "- Terzo in classifica"
   ]
  },
  {
   "cell_type": "code",
   "execution_count": 1510,
   "metadata": {},
   "outputs": [
    {
     "data": {
      "text/plain": [
       "{'lr__C': 0.1,\n",
       " 'lr__l1_ratio': 0.2,\n",
       " 'lr__penalty': 'elasticnet',\n",
       " 'scaler': None}"
      ]
     },
     "execution_count": 1510,
     "metadata": {},
     "output_type": "execute_result"
    }
   ],
   "source": [
    "result.loc[2, 'params']"
   ]
  },
  {
   "cell_type": "markdown",
   "metadata": {},
   "source": [
    "- Dai parametri mostrati genero tre modelli, i tre modelli ipoteticamente migliori"
   ]
  },
  {
   "cell_type": "code",
   "execution_count": 1511,
   "metadata": {},
   "outputs": [],
   "source": [
    "import copy\n",
    "model_1 = copy.deepcopy(gs.best_estimator_.set_params(**result.loc[0, 'params']))\n",
    "model_2 = copy.deepcopy(gs.best_estimator_.set_params(**result.loc[1, 'params']))\n",
    "model_3 = copy.deepcopy(gs.best_estimator_.set_params(**result.loc[2, 'params']))"
   ]
  },
  {
   "cell_type": "code",
   "execution_count": 1512,
   "metadata": {},
   "outputs": [
    {
     "data": {
      "text/plain": [
       "{'memory': None,\n",
       " 'steps': [('scaler', None),\n",
       "  ('lr',\n",
       "   LogisticRegression(C=0.01, class_weight=None, dual=False, fit_intercept=True,\n",
       "                      intercept_scaling=1, l1_ratio=0.2, max_iter=100,\n",
       "                      multi_class='warn', n_jobs=None, penalty='elasticnet',\n",
       "                      random_state=42, solver='saga', tol=0.0001, verbose=0,\n",
       "                      warm_start=False))],\n",
       " 'verbose': False}"
      ]
     },
     "execution_count": 1512,
     "metadata": {},
     "output_type": "execute_result"
    }
   ],
   "source": [
    "model_1.get_params(deep=False)"
   ]
  },
  {
   "cell_type": "code",
   "execution_count": 1513,
   "metadata": {},
   "outputs": [
    {
     "data": {
      "text/plain": [
       "{'memory': None,\n",
       " 'steps': [('scaler', None),\n",
       "  ('lr',\n",
       "   LogisticRegression(C=0.01, class_weight=None, dual=False, fit_intercept=True,\n",
       "                      intercept_scaling=1, l1_ratio=0.2, max_iter=100,\n",
       "                      multi_class='warn', n_jobs=None, penalty='l2',\n",
       "                      random_state=42, solver='saga', tol=0.0001, verbose=0,\n",
       "                      warm_start=False))],\n",
       " 'verbose': False}"
      ]
     },
     "execution_count": 1513,
     "metadata": {},
     "output_type": "execute_result"
    }
   ],
   "source": [
    "model_2.get_params(deep=False)"
   ]
  },
  {
   "cell_type": "code",
   "execution_count": 1514,
   "metadata": {},
   "outputs": [
    {
     "data": {
      "text/plain": [
       "{'memory': None,\n",
       " 'steps': [('scaler', None),\n",
       "  ('lr',\n",
       "   LogisticRegression(C=0.1, class_weight=None, dual=False, fit_intercept=True,\n",
       "                      intercept_scaling=1, l1_ratio=0.2, max_iter=100,\n",
       "                      multi_class='warn', n_jobs=None, penalty='elasticnet',\n",
       "                      random_state=42, solver='saga', tol=0.0001, verbose=0,\n",
       "                      warm_start=False))],\n",
       " 'verbose': False}"
      ]
     },
     "execution_count": 1514,
     "metadata": {},
     "output_type": "execute_result"
    }
   ],
   "source": [
    "model_3.get_params(deep=False)"
   ]
  },
  {
   "cell_type": "markdown",
   "metadata": {},
   "source": [
    "### Intervallo di confidenza sui modelli"
   ]
  },
  {
   "cell_type": "code",
   "execution_count": 1515,
   "metadata": {},
   "outputs": [],
   "source": [
    "from scipy.stats import norm"
   ]
  },
  {
   "cell_type": "markdown",
   "metadata": {},
   "source": [
    "- Definiamo una funzione `conf_interval` che calcoli gli estremi dell'intervallo di confidenza e restituisca una tupla con i due estremi, dove:\n",
    "  - $a$ è l'accuratezza del modello misurata sul validation set\n",
    "  - N è il numero di osservazioni nel validation set\n",
    "  - Z è il valore tale per cui l'area sottesa dalla densità di probabilità $\\varphi(x)$ della distribuzione normale standard tra -Z e Z sia il livello di confidenza 1-𝛼\n",
    "  \n",
    "- Poichè a noi interessa valutare i modelli con una condifidenza del 95%, possiamo ricavare dalle apposite tabelle di valori che, per 1-𝛼 = 0.95 (𝛼=0.05), Z = 1.96"
   ]
  },
  {
   "cell_type": "code",
   "execution_count": 1516,
   "metadata": {},
   "outputs": [],
   "source": [
    "def conf_interval(a, N, Z=1.96):\n",
    "    c = (2 * N * a + Z**2) / (2 * (N + Z**2))\n",
    "    d = Z * np.sqrt(Z**2 + 4*N*a - 4*N*a**2) / (2 * (N + Z**2))\n",
    "    return c - d, c + d"
   ]
  },
  {
   "cell_type": "markdown",
   "metadata": {},
   "source": [
    "- Definisco ora una funzione `model_conf_interval` in modo che:\n",
    "  - prenda in input un modello addestrato `model`, un validation set `X, y` e un livello di confidenza `level` (default 0.95)\n",
    "  - restituisca l'intervallo di confidenza dell'accuratezza del modello, servendosi della funzione `conf_interval` sopra\n"
   ]
  },
  {
   "cell_type": "code",
   "execution_count": 1517,
   "metadata": {},
   "outputs": [],
   "source": [
    "def model_conf_interval(model, X, y, level=0.95):\n",
    "    a = model.score(X, y)\n",
    "    N = X.shape[0]\n",
    "    Z = norm.ppf((1 + level) / 2)\n",
    "    return conf_interval(a, N, Z)"
   ]
  },
  {
   "cell_type": "markdown",
   "metadata": {},
   "source": [
    "- Usiamo la funzione `model_conf_interval` per calcolare l'intervallo di confidenza al 95% dell'accuratezza dei tre modelli ottenuti stimata sul validation set  "
   ]
  },
  {
   "cell_type": "code",
   "execution_count": 1518,
   "metadata": {},
   "outputs": [
    {
     "data": {
      "text/plain": [
       "(0.7865030005257252, 0.7962979828298691)"
      ]
     },
     "execution_count": 1518,
     "metadata": {},
     "output_type": "execute_result"
    }
   ],
   "source": [
    "model_conf_interval(model_1, X_val_v2, y_val_v2)"
   ]
  },
  {
   "cell_type": "code",
   "execution_count": 1519,
   "metadata": {},
   "outputs": [
    {
     "data": {
      "text/plain": [
       "(0.7865030005257252, 0.7962979828298691)"
      ]
     },
     "execution_count": 1519,
     "metadata": {},
     "output_type": "execute_result"
    }
   ],
   "source": [
    "model_conf_interval(model_2, X_val_v2, y_val_v2)"
   ]
  },
  {
   "cell_type": "code",
   "execution_count": 1520,
   "metadata": {},
   "outputs": [
    {
     "data": {
      "text/plain": [
       "(0.7865030005257252, 0.7962979828298691)"
      ]
     },
     "execution_count": 1520,
     "metadata": {},
     "output_type": "execute_result"
    }
   ],
   "source": [
    "model_conf_interval(model_3, X_val_v2, y_val_v2)"
   ]
  },
  {
   "cell_type": "markdown",
   "metadata": {},
   "source": [
    "### Confronto tra modelli"
   ]
  },
  {
   "cell_type": "markdown",
   "metadata": {},
   "source": [
    "- Dati due modelli diversi, vogliamo poter valutare se l'accuratezza  𝑎1  misurata su uno sia significativamente migliore della  𝑎2  misurata sull'altro.\n",
    "\n",
    "- Implementiamo la funzione `diff_interval` in modo che\n",
    "  - prenda in input le accuratezze `a1` e `a2`, i numeri di osservazioni `N1` e `N2` e il coefficiente `Z`\n",
    "  - calcoli l'intervallo di confidenza della differenza tra due modelli secondo la formula sopra"
   ]
  },
  {
   "cell_type": "code",
   "execution_count": 1521,
   "metadata": {},
   "outputs": [],
   "source": [
    "def diff_interval(a1, a2, N1, N2, Z):\n",
    "    d = abs(a1 - a2)\n",
    "    sd = np.sqrt(a1 * (1-a1) / N1 + a2 * (1-a2) / N2)\n",
    "    return d - Z * sd, d + Z * sd"
   ]
  },
  {
   "cell_type": "markdown",
   "metadata": {},
   "source": [
    "- Implementiamo la funzione `model_diff_interval` in modo che\n",
    "  - prenda in input due modelli `m1, m2`, un validation set `X, y` e un livello di confidenza `level` (default 0.95)\n",
    "  - restituisca l'intervallo di confidenza della differenza di accuratezza tra i due modelli, valutati entrambi sul validation set dato"
   ]
  },
  {
   "cell_type": "code",
   "execution_count": 1522,
   "metadata": {},
   "outputs": [],
   "source": [
    "def model_diff_interval(m1, m2, X, y, level=0.95):\n",
    "    a1 = m1.score(X, y)\n",
    "    a2 = m2.score(X, y)\n",
    "    N = len(X)\n",
    "    Z = norm.ppf((1 + level) / 2)\n",
    "    return diff_interval(a1, a2, N, N, Z)"
   ]
  },
  {
   "cell_type": "markdown",
   "metadata": {},
   "source": [
    "- Utilizziamo `model_diff_interval` per calcolare l'intervallo al 95\\% della differenza di accurateza sul validation set tra i tre modelli ottenuti"
   ]
  },
  {
   "cell_type": "code",
   "execution_count": 1523,
   "metadata": {},
   "outputs": [
    {
     "data": {
      "text/plain": [
       "(-0.006926342710635351, 0.006926342710635351)"
      ]
     },
     "execution_count": 1523,
     "metadata": {},
     "output_type": "execute_result"
    }
   ],
   "source": [
    "model_diff_interval(model_1, model_2, X_val_v2, y_val_v2)"
   ]
  },
  {
   "cell_type": "code",
   "execution_count": 1524,
   "metadata": {},
   "outputs": [
    {
     "data": {
      "text/plain": [
       "(-0.006926342710635351, 0.006926342710635351)"
      ]
     },
     "execution_count": 1524,
     "metadata": {},
     "output_type": "execute_result"
    }
   ],
   "source": [
    "model_diff_interval(model_2, model_3, X_val_v2, y_val_v2)"
   ]
  },
  {
   "cell_type": "code",
   "execution_count": 1525,
   "metadata": {},
   "outputs": [
    {
     "data": {
      "text/plain": [
       "(-0.006926342710635351, 0.006926342710635351)"
      ]
     },
     "execution_count": 1525,
     "metadata": {},
     "output_type": "execute_result"
    }
   ],
   "source": [
    "model_diff_interval(model_1, model_3, X_val_v2, y_val_v2)"
   ]
  },
  {
   "cell_type": "markdown",
   "metadata": {},
   "source": [
    "- Nel primo caso non abbiamo la certezza che un modello sia meglio dell'altro\n",
    "    - Poichè l'intervallo ottenuto include lo zero (l'estremo inferiore è negativo), non abbiamo la certezza al 95\\% che il modello con accuratezza stimata maggiore sia effettivamente migliore\n",
    "\n",
    "- Negli altri due casi abbiamo invece la certezza che un modello sia meglio dell'altro\n",
    "    - Poichè l'intervallo ottenuto non include lo zero (l'estremo inferiore è positivio), abbiamo la certezza al 95\\% che il modello con accuratezza stimata maggiore sia effettivamente migliore\n",
    "    \n",
    "- Sappiamo dunque che i primi due modelli sono uguali o, per meglio dire, non abbiamo la certezza che uno sia meglio dell'altro. Alle volte può essere meglio uno alle vole l'altro. Abbiamo inoltre la certezza che i primi due modelli sono meglio del terzo.\n"
   ]
  },
  {
   "cell_type": "markdown",
   "metadata": {},
   "source": [
    "#### Addestramento delle migliori configurazioni su tutte le variabili"
   ]
  },
  {
   "cell_type": "markdown",
   "metadata": {},
   "source": [
    "- Come parte di questo studio possiamo prendere le tre migliori configurazioni ottenute dalla grid search, ovvero quelle analizzate sopra, ed addestrarle su tutte le variabili invece che solo su una parte di esse"
   ]
  },
  {
   "cell_type": "markdown",
   "metadata": {},
   "source": [
    "- Primo modello"
   ]
  },
  {
   "cell_type": "code",
   "execution_count": 1530,
   "metadata": {},
   "outputs": [],
   "source": [
    "model_1_completo = Pipeline([\n",
    "    (\"scaler\", result.loc[0, 'param_scaler']),\n",
    "    (\"lr\", LogisticRegression(solver=\"saga\", penalty=result.loc[0, 'param_lr__penalty'], l1_ratio=result.loc[0, 'param_lr__l1_ratio'], C=result.loc[0, 'param_lr__C'], random_state=42))\n",
    "])"
   ]
  },
  {
   "cell_type": "markdown",
   "metadata": {},
   "source": [
    "- Secondo modello"
   ]
  },
  {
   "cell_type": "code",
   "execution_count": 1531,
   "metadata": {},
   "outputs": [],
   "source": [
    "model_2_completo = Pipeline([\n",
    "    (\"scaler\", result.loc[1, 'param_scaler']),\n",
    "    (\"lr\", LogisticRegression(solver=\"saga\", penalty=result.loc[1, 'param_lr__penalty'], l1_ratio=result.loc[1, 'param_lr__l1_ratio'], C=result.loc[1, 'param_lr__C'], random_state=42))\n",
    "])"
   ]
  },
  {
   "cell_type": "markdown",
   "metadata": {},
   "source": [
    "- Terzo modello"
   ]
  },
  {
   "cell_type": "code",
   "execution_count": 1532,
   "metadata": {},
   "outputs": [],
   "source": [
    "model_3_completo = Pipeline([\n",
    "    (\"scaler\", result.loc[2, 'param_scaler']),\n",
    "    (\"lr\", LogisticRegression(solver=\"saga\", penalty=result.loc[2, 'param_lr__penalty'], l1_ratio=result.loc[2, 'param_lr__l1_ratio'], C=result.loc[2, 'param_lr__C'], random_state=42))\n",
    "])"
   ]
  },
  {
   "cell_type": "markdown",
   "metadata": {},
   "source": [
    "- Addestriamo i tre modelli su tutte le variabili"
   ]
  },
  {
   "cell_type": "code",
   "execution_count": null,
   "metadata": {},
   "outputs": [],
   "source": [
    "model_1_completo.fit(X_train, y_train)\n",
    "model_2_completo.fit(X_train, y_train)\n",
    "model_3_completo.fit(X_train, y_train)"
   ]
  },
  {
   "cell_type": "markdown",
   "metadata": {},
   "source": [
    "- Vogliamo confrontare i tre modelli ottenuti con le loro stesse configurazioni addestrate solo su parte delle variabili\n",
    "    - Per fare questo è necessario definire una nuova funzione che chiamiamo `model_diff_interval_v2`\n",
    "    - Implementiamo la funzione `model_diff_interval_v2` in modo che prenda in input due validation set, `Xm1, ym1` e `Xm2, ym2`, uno per ciascun modello. \n",
    "    - Questo è necessario perchè i due modelli sono stati addestrati due dataset di training diversi, uno con più variabili ed uno con meno. Il confronto è valido se i due validation set passati sono uguali, ciò che può cambiare è solo il numero di variabili."
   ]
  },
  {
   "cell_type": "code",
   "execution_count": 1536,
   "metadata": {},
   "outputs": [],
   "source": [
    "def model_diff_interval_v2(m1, m2, Xm1, ym1, Xm2, ym2, level=0.95):\n",
    "    a1 = m1.score(Xm1, ym1)\n",
    "    a2 = m2.score(Xm2, ym2)\n",
    "    N = len(Xm1)\n",
    "    Z = norm.ppf((1 + level) / 2)\n",
    "    return diff_interval(a1, a2, N, N, Z)"
   ]
  },
  {
   "cell_type": "markdown",
   "metadata": {},
   "source": [
    "- Per ciascuno modello visualizziamo:\n",
    "    - la sua accuratezza \n",
    "    - l'accuratezza della sua medesima configurazione addestrata solo su parte delle variabili\n",
    "    - se la differenza di accuratezza è statisticamente significativa "
   ]
  },
  {
   "cell_type": "markdown",
   "metadata": {},
   "source": [
    "- Primo modello"
   ]
  },
  {
   "cell_type": "code",
   "execution_count": 1547,
   "metadata": {},
   "outputs": [
    {
     "data": {
      "text/plain": [
       "0.7948853748959673"
      ]
     },
     "execution_count": 1547,
     "metadata": {},
     "output_type": "execute_result"
    }
   ],
   "source": [
    "model_1_completo.score(X_val, y_val)"
   ]
  },
  {
   "cell_type": "code",
   "execution_count": 1548,
   "metadata": {},
   "outputs": [
    {
     "data": {
      "text/plain": [
       "0.791442838768253"
      ]
     },
     "execution_count": 1548,
     "metadata": {},
     "output_type": "execute_result"
    }
   ],
   "source": [
    "model_1.score(X_val_v2, y_val_v2)"
   ]
  },
  {
   "cell_type": "code",
   "execution_count": 1549,
   "metadata": {},
   "outputs": [
    {
     "data": {
      "text/plain": [
       "(-0.0005441456993291035, 0.007429217954757663)"
      ]
     },
     "execution_count": 1549,
     "metadata": {},
     "output_type": "execute_result"
    }
   ],
   "source": [
    "model_diff_interval_v2(model_1, model_1_completo, X_val_v2, y_val_v2, X_val, y_val)"
   ]
  },
  {
   "cell_type": "markdown",
   "metadata": {},
   "source": [
    "- Secondo modello"
   ]
  },
  {
   "cell_type": "code",
   "execution_count": 1550,
   "metadata": {},
   "outputs": [
    {
     "data": {
      "text/plain": [
       "0.7955284860407051"
      ]
     },
     "execution_count": 1550,
     "metadata": {},
     "output_type": "execute_result"
    }
   ],
   "source": [
    "model_2_completo.score(X_val, y_val)"
   ]
  },
  {
   "cell_type": "code",
   "execution_count": 1551,
   "metadata": {},
   "outputs": [
    {
     "data": {
      "text/plain": [
       "0.791442838768253"
      ]
     },
     "execution_count": 1551,
     "metadata": {},
     "output_type": "execute_result"
    }
   ],
   "source": [
    "model_2.score(X_val_v2, y_val_v2)"
   ]
  },
  {
   "cell_type": "code",
   "execution_count": 1543,
   "metadata": {},
   "outputs": [
    {
     "data": {
      "text/plain": [
       "(0.00010127292969702717, 0.008070021615207146)"
      ]
     },
     "execution_count": 1543,
     "metadata": {},
     "output_type": "execute_result"
    }
   ],
   "source": [
    "model_diff_interval_v2(model_2, model_2_completo, X_val_v2, y_val_v2, X_val, y_val)"
   ]
  },
  {
   "cell_type": "markdown",
   "metadata": {},
   "source": [
    "- Terzo modello"
   ]
  },
  {
   "cell_type": "code",
   "execution_count": 1552,
   "metadata": {},
   "outputs": [
    {
     "data": {
      "text/plain": [
       "0.7961337671181055"
      ]
     },
     "execution_count": 1552,
     "metadata": {},
     "output_type": "execute_result"
    }
   ],
   "source": [
    "model_3_completo.score(X_val, y_val)"
   ]
  },
  {
   "cell_type": "code",
   "execution_count": 1553,
   "metadata": {},
   "outputs": [
    {
     "data": {
      "text/plain": [
       "0.791442838768253"
      ]
     },
     "execution_count": 1553,
     "metadata": {},
     "output_type": "execute_result"
    }
   ],
   "source": [
    "model_3.score(X_val_v2, y_val_v2)"
   ]
  },
  {
   "cell_type": "code",
   "execution_count": 1544,
   "metadata": {},
   "outputs": [
    {
     "data": {
      "text/plain": [
       "(0.0007087315742871428, 0.008673125125417673)"
      ]
     },
     "execution_count": 1544,
     "metadata": {},
     "output_type": "execute_result"
    }
   ],
   "source": [
    "model_diff_interval_v2(model_3, model_3_completo, X_val_v2, y_val_v2, X_val, y_val)"
   ]
  },
  {
   "cell_type": "markdown",
   "metadata": {},
   "source": [
    "- La differenza è statisticamente significativa solo nel primo caso\n",
    "\n",
    "- Verifichiamo anche se il nuovo primo modello è migliore dei nuovi altri due"
   ]
  },
  {
   "cell_type": "code",
   "execution_count": 1556,
   "metadata": {},
   "outputs": [
    {
     "data": {
      "text/plain": [
       "(-0.0062367427297770365, 0.00752296501925265)"
      ]
     },
     "execution_count": 1556,
     "metadata": {},
     "output_type": "execute_result"
    }
   ],
   "source": [
    "model_diff_interval(model_1_completo, model_2_completo, X_val, y_val)"
   ]
  },
  {
   "cell_type": "code",
   "execution_count": 1561,
   "metadata": {},
   "outputs": [
    {
     "data": {
      "text/plain": [
       "(-0.005627678320186873, 0.00812446276446313)"
      ]
     },
     "execution_count": 1561,
     "metadata": {},
     "output_type": "execute_result"
    }
   ],
   "source": [
    "model_diff_interval(model_1_completo, model_3_completo, X_val, y_val)"
   ]
  },
  {
   "cell_type": "markdown",
   "metadata": {},
   "source": [
    "- No, la differenza non è statisticamente significativa"
   ]
  },
  {
   "cell_type": "markdown",
   "metadata": {},
   "source": [
    "### Interpretazione della conoscenza appresa\n",
    "\n",
    "- Interpretiamo ora la conoscenza appresa attraverso l'analisi dei parametri appresi (coefficienti degli iperpiani)\n",
    "\n",
    "- Analizziamo quali feature sono più positivamente o negativamente correlate ed in che misura con la variabile da predire\n",
    "\n",
    "- Poichè dei tre migliori modelli ottenuti non abbiamo certezza che uno sia migliore degli altri, prendiamo il primo"
   ]
  },
  {
   "cell_type": "code",
   "execution_count": 890,
   "metadata": {},
   "outputs": [
    {
     "data": {
      "text/plain": [
       "Pipeline(memory=None,\n",
       "         steps=[('scaler', None),\n",
       "                ('lr',\n",
       "                 LogisticRegression(C=0.1, class_weight=None, dual=False,\n",
       "                                    fit_intercept=True, intercept_scaling=1,\n",
       "                                    l1_ratio=None, max_iter=100,\n",
       "                                    multi_class='warn', n_jobs=None,\n",
       "                                    penalty='l1', random_state=42,\n",
       "                                    solver='saga', tol=0.0001, verbose=0,\n",
       "                                    warm_start=False))],\n",
       "         verbose=False)"
      ]
     },
     "execution_count": 890,
     "metadata": {},
     "output_type": "execute_result"
    }
   ],
   "source": [
    "model_1"
   ]
  },
  {
   "cell_type": "markdown",
   "metadata": {},
   "source": [
    "- Visualizziamo prima di tutto l'intercetta di questo modello"
   ]
  },
  {
   "cell_type": "code",
   "execution_count": 891,
   "metadata": {},
   "outputs": [
    {
     "data": {
      "text/plain": [
       "array([0.12931169])"
      ]
     },
     "execution_count": 891,
     "metadata": {},
     "output_type": "execute_result"
    }
   ],
   "source": [
    "model_1.named_steps[\"lr\"].intercept_"
   ]
  },
  {
   "cell_type": "markdown",
   "metadata": {},
   "source": [
    "- La probabilità di partenza è molto vicina a 0 (ovvero la classe `N`)\n",
    "\n",
    "- Visualizziamo il resto dei coefficienti che non devono essere destandardizzati poichè il modello non prevede la standardizzazione"
   ]
  },
  {
   "cell_type": "code",
   "execution_count": 892,
   "metadata": {},
   "outputs": [
    {
     "data": {
      "text/plain": [
       "deposit_type_Non Refund           1.686166\n",
       "market_segment_Online TA          1.244345\n",
       "country_PRT                       1.011772\n",
       "previous_cancellations            0.665055\n",
       "market_segment_Groups             0.345708\n",
       "customer_type_Transient           0.319923\n",
       "reserved_room_type_A              0.000000\n",
       "market_segment_Offline TA/TO     -0.032948\n",
       "market_segment_Direct            -0.073462\n",
       "distribution_channel_Direct      -0.187472\n",
       "customer_type_Transient-Party    -0.197104\n",
       "country_FRA                      -0.219244\n",
       "previous_bookings_not_canceled   -0.339915\n",
       "country_DEU                      -0.347589\n",
       "booking_changes                  -0.490256\n",
       "total_of_special_requests        -0.698957\n",
       "required_car_parking_spaces      -0.771908\n",
       "deposit_type_No Deposit          -1.568805\n",
       "dtype: float64"
      ]
     },
     "execution_count": 892,
     "metadata": {},
     "output_type": "execute_result"
    }
   ],
   "source": [
    "pd.Series(model_1.named_steps[\"lr\"].coef_[0], index=X_train_v2.columns).sort_values(ascending=False)"
   ]
  },
  {
   "cell_type": "markdown",
   "metadata": {},
   "source": [
    "- Tutte le variabili presenti all'interno del nostro dataset sono positive per cui tutti i coefficienti mostrati vengono sempre moltiplicati per un segno positivo.\n",
    "    - Da questo possiamo dedurre che:\n",
    "        - Quando si tratta di coefficienti positivi se la variabile a loro associata aumenta, aumenta la probabilità che la prenotazione venga classificata come cancellata\n",
    "        - Quando si tratta di coefficienti negativi se la variabile a loro associata aumenta, diminuisce la probabilità che la prenotazione venga classificata come cancellata \n",
    "\n",
    "- Poichè la maggior parte di essere sono categoriche, e sono quindi state binarizzate, possiamo notare direttamente quale dei loro valori incide sul risultato e con quale peso. Per esempio:\n",
    "    - `deposit_type` è presente ad entrambi gli estremi, presenta il valore più grande sia negativo che positivo. Quando assume il valore _Non Refund_ aumenta enormemente la probabilità che l'istanza venga classificata come cancellata. Diversamente, quando assume il valore No Deposit aumenta enormemente la probabilità che l'istanza venga classificata come non cancellata.\n",
    "    - Lo stesso discorso può essere fatto per tutti gli altri coefficienti\n",
    "    \n",
    "- Poichè le variabili ottenute per binarizzazione possono assumere solo valori 0 e 1 i coefficienti associati potranno essere aggiunti o sotratti al più una volta. \n",
    "\n",
    "- La stessa cosa non vale però per le variabili numeriche, come `previus_cancellations`, `previus_booking_not_cancelled`, `booking_changes`, `total_of_special_requests` e `required_car_parking_spaces`. Sono tutte variabili intere il cui valore presenta come minimo 0 e come massimo un valore che varia da qualche decina a molte decine di unità. In questo caso il coefficiente viene moltiplicato per un numero intero, e ha quindi il potenziale di incidere maggiormente sull'esito.\n",
    "    - `previus_booking_not_cancelled` ha un massimo pari a 63 che, moltiplicato per -0.339915, può avere un forte impatto sul risultato"
   ]
  },
  {
   "cell_type": "code",
   "execution_count": 893,
   "metadata": {},
   "outputs": [
    {
     "data": {
      "text/html": [
       "<div>\n",
       "<style scoped>\n",
       "    .dataframe tbody tr th:only-of-type {\n",
       "        vertical-align: middle;\n",
       "    }\n",
       "\n",
       "    .dataframe tbody tr th {\n",
       "        vertical-align: top;\n",
       "    }\n",
       "\n",
       "    .dataframe thead th {\n",
       "        text-align: right;\n",
       "    }\n",
       "</style>\n",
       "<table border=\"1\" class=\"dataframe\">\n",
       "  <thead>\n",
       "    <tr style=\"text-align: right;\">\n",
       "      <th></th>\n",
       "      <th>count</th>\n",
       "      <th>mean</th>\n",
       "      <th>std</th>\n",
       "      <th>min</th>\n",
       "      <th>25%</th>\n",
       "      <th>50%</th>\n",
       "      <th>75%</th>\n",
       "      <th>max</th>\n",
       "    </tr>\n",
       "  </thead>\n",
       "  <tbody>\n",
       "    <tr>\n",
       "      <td>previous_cancellations</td>\n",
       "      <td>3965.0</td>\n",
       "      <td>0.084994</td>\n",
       "      <td>0.474995</td>\n",
       "      <td>0.0</td>\n",
       "      <td>0.0</td>\n",
       "      <td>0.0</td>\n",
       "      <td>0.0</td>\n",
       "      <td>11.0</td>\n",
       "    </tr>\n",
       "    <tr>\n",
       "      <td>previous_bookings_not_canceled</td>\n",
       "      <td>3965.0</td>\n",
       "      <td>0.180580</td>\n",
       "      <td>2.047291</td>\n",
       "      <td>0.0</td>\n",
       "      <td>0.0</td>\n",
       "      <td>0.0</td>\n",
       "      <td>0.0</td>\n",
       "      <td>63.0</td>\n",
       "    </tr>\n",
       "    <tr>\n",
       "      <td>booking_changes</td>\n",
       "      <td>3965.0</td>\n",
       "      <td>0.176545</td>\n",
       "      <td>0.564779</td>\n",
       "      <td>0.0</td>\n",
       "      <td>0.0</td>\n",
       "      <td>0.0</td>\n",
       "      <td>0.0</td>\n",
       "      <td>8.0</td>\n",
       "    </tr>\n",
       "    <tr>\n",
       "      <td>required_car_parking_spaces</td>\n",
       "      <td>3965.0</td>\n",
       "      <td>0.029508</td>\n",
       "      <td>0.169247</td>\n",
       "      <td>0.0</td>\n",
       "      <td>0.0</td>\n",
       "      <td>0.0</td>\n",
       "      <td>0.0</td>\n",
       "      <td>1.0</td>\n",
       "    </tr>\n",
       "    <tr>\n",
       "      <td>total_of_special_requests</td>\n",
       "      <td>3965.0</td>\n",
       "      <td>0.566709</td>\n",
       "      <td>0.794406</td>\n",
       "      <td>0.0</td>\n",
       "      <td>0.0</td>\n",
       "      <td>0.0</td>\n",
       "      <td>1.0</td>\n",
       "      <td>5.0</td>\n",
       "    </tr>\n",
       "  </tbody>\n",
       "</table>\n",
       "</div>"
      ],
      "text/plain": [
       "                                 count      mean       std  min  25%  50%  \\\n",
       "previous_cancellations          3965.0  0.084994  0.474995  0.0  0.0  0.0   \n",
       "previous_bookings_not_canceled  3965.0  0.180580  2.047291  0.0  0.0  0.0   \n",
       "booking_changes                 3965.0  0.176545  0.564779  0.0  0.0  0.0   \n",
       "required_car_parking_spaces     3965.0  0.029508  0.169247  0.0  0.0  0.0   \n",
       "total_of_special_requests       3965.0  0.566709  0.794406  0.0  0.0  0.0   \n",
       "\n",
       "                                75%   max  \n",
       "previous_cancellations          0.0  11.0  \n",
       "previous_bookings_not_canceled  0.0  63.0  \n",
       "booking_changes                 0.0   8.0  \n",
       "required_car_parking_spaces     0.0   1.0  \n",
       "total_of_special_requests       1.0   5.0  "
      ]
     },
     "execution_count": 893,
     "metadata": {},
     "output_type": "execute_result"
    }
   ],
   "source": [
    "X_train_v2.describe().T.head(5)"
   ]
  },
  {
   "cell_type": "markdown",
   "metadata": {},
   "source": [
    "### Classificazione con reti neurali"
   ]
  },
  {
   "cell_type": "markdown",
   "metadata": {},
   "source": [
    "- Possiamo creare un modello di classificazione di tipo  _multi-layer perceptron_\n",
    "\n",
    "\n",
    "- Per creare un modello di classificazione di questo tipo usiamo la classe `MLPClassifier`\n",
    "  - con `hidden_layer_sizes` specifichiamo il numero di variabili nascoste da introdurre\n",
    "  - con `activation=\"identity\"` specifichiamo che tali variabili sono lineari\n",
    "\n",
    "\n",
    "- Addestriamo il modello su tutte le istanze dell'hotel _City Hotel_, con tutte le variabili ottenute dalla binarizzazione"
   ]
  },
  {
   "cell_type": "code",
   "execution_count": 894,
   "metadata": {},
   "outputs": [],
   "source": [
    "from sklearn.neural_network import MLPClassifier"
   ]
  },
  {
   "cell_type": "code",
   "execution_count": 1119,
   "metadata": {},
   "outputs": [
    {
     "name": "stdout",
     "output_type": "stream",
     "text": [
      "Accuracy = 0.8082772187334494\n",
      "\n",
      "Precision (Y) = 0.8126112915051849\n",
      "Precision (N) = 0.805826967489785\n",
      "Precision = 0.8092191294974849\n",
      "\n",
      "Recall (Y) = 0.7029083990214732\n",
      "Recall (N) = 0.8838085341300254\n",
      "Recall = 0.7933584665757493\n",
      "\n",
      "F1 Score (Y) = 0.7537893509521959\n",
      "F1 Score (N) = 0.8430182133564613\n",
      "F1 Score = 0.7984037821543286\n",
      "\n",
      "Matrice di confusione:\n",
      "       N     Y\n",
      "N  13608  1789\n",
      "Y   3279  7758\n"
     ]
    }
   ],
   "source": [
    "model_linear = MLPClassifier(hidden_layer_sizes=2, activation=\"identity\")\n",
    "model_linear.fit(X_train, y_train)\n",
    "print_model_informations(model_linear, X_val, y_val)"
   ]
  },
  {
   "cell_type": "markdown",
   "metadata": {},
   "source": [
    "- Andiamo a verificare il suo intervallo di confidenza"
   ]
  },
  {
   "cell_type": "code",
   "execution_count": 920,
   "metadata": {},
   "outputs": [
    {
     "data": {
      "text/plain": [
       "(0.8052052845510269, 0.8146637779639965)"
      ]
     },
     "execution_count": 920,
     "metadata": {},
     "output_type": "execute_result"
    }
   ],
   "source": [
    "model_conf_interval(model_linear, X_val, y_val)"
   ]
  },
  {
   "cell_type": "markdown",
   "metadata": {},
   "source": [
    "- Proviamo a fare ancora di meglio \n",
    "- L'output finale è anche qui una combinazione lineare dell'input\n",
    "- Possiamo aggiungere espressività al modello introducendo trasformazioni non lineari\n",
    "    - funzione _ReLU_ (_rectified linear unit_) è un esempio di funzione che introduce non linearità"
   ]
  },
  {
   "cell_type": "code",
   "execution_count": 917,
   "metadata": {},
   "outputs": [
    {
     "name": "stdout",
     "output_type": "stream",
     "text": [
      "Accuracy = 0.8334342135129\n",
      "\n",
      "Precision (Y) = 0.8438731080240515\n",
      "Precision (N) = 0.8274362639980939\n",
      "Precision = 0.8356546860110727\n",
      "\n",
      "Recall (Y) = 0.7375192534203134\n",
      "Recall (N) = 0.902188738065857\n",
      "Recall = 0.8198539957430853\n",
      "\n",
      "F1 Score (Y) = 0.7871198568872988\n",
      "F1 Score (N) = 0.8631971415255554\n",
      "F1 Score = 0.8251584992064271\n",
      "\n",
      "Matrice di confusione:\n",
      "       N     Y\n",
      "N  13891  1506\n",
      "Y   2897  8140\n"
     ]
    }
   ],
   "source": [
    "model_not_linear = MLPClassifier(hidden_layer_sizes=8, batch_size=50, activation=\"relu\", random_state=42)\n",
    "model_not_linear.fit(X_train, y_train)\n",
    "print_model_informations(model_not_linear, X_val, y_val)"
   ]
  },
  {
   "cell_type": "markdown",
   "metadata": {},
   "source": [
    "- La non linearità ha portato benefici in quasi tutte le metriche\n",
    "\n",
    "- Verichiamo il suo intervalo di confidenza"
   ]
  },
  {
   "cell_type": "code",
   "execution_count": 921,
   "metadata": {},
   "outputs": [
    {
     "data": {
      "text/plain": [
       "(0.8288942906610272, 0.8378772393618451)"
      ]
     },
     "execution_count": 921,
     "metadata": {},
     "output_type": "execute_result"
    }
   ],
   "source": [
    "model_conf_interval(model_not_linear, X_val, y_val)"
   ]
  },
  {
   "cell_type": "markdown",
   "metadata": {},
   "source": [
    "- E confrontiamolo con il modello precedente"
   ]
  },
  {
   "cell_type": "code",
   "execution_count": 158,
   "metadata": {},
   "outputs": [
    {
     "data": {
      "text/plain": [
       "(52868, 221)"
      ]
     },
     "execution_count": 158,
     "metadata": {},
     "output_type": "execute_result"
    }
   ],
   "source": [
    "X_train.shape"
   ]
  },
  {
   "cell_type": "code",
   "execution_count": 157,
   "metadata": {},
   "outputs": [
    {
     "data": {
      "text/plain": [
       "(3965, 221)"
      ]
     },
     "execution_count": 157,
     "metadata": {},
     "output_type": "execute_result"
    }
   ],
   "source": [
    "X_train_v2.shape"
   ]
  },
  {
   "cell_type": "code",
   "execution_count": 922,
   "metadata": {},
   "outputs": [
    {
     "data": {
      "text/plain": [
       "(0.016932301555152372, 0.02997698194337215)"
      ]
     },
     "execution_count": 922,
     "metadata": {},
     "output_type": "execute_result"
    }
   ],
   "source": [
    "model_diff_interval(model_not_linear, model_linear, X_val, y_val)"
   ]
  },
  {
   "cell_type": "markdown",
   "metadata": {},
   "source": [
    "- L'uso del dataset di training più completo non comporta alcuna differenza significativa, quindi possiamo affermare che il dataset più ridotto è effettivamente una buona rappresentazione di tutti i dati"
   ]
  },
  {
   "cell_type": "markdown",
   "metadata": {},
   "source": [
    "- Poichè l'intervallo ottenuto non include lo zero (l'estremo inferiore è positivio), abbiamo la certezza al 95\\% che il modello con accuratezza stimata maggiore sia effettivamente migliore"
   ]
  },
  {
   "cell_type": "code",
   "execution_count": null,
   "metadata": {},
   "outputs": [],
   "source": []
  },
  {
   "cell_type": "code",
   "execution_count": null,
   "metadata": {},
   "outputs": [],
   "source": []
  },
  {
   "cell_type": "markdown",
   "metadata": {},
   "source": [
    "- E confrontiamolo con il modello migliore"
   ]
  },
  {
   "cell_type": "code",
   "execution_count": 919,
   "metadata": {},
   "outputs": [
    {
     "ename": "ValueError",
     "evalue": "X has 232 features per sample; expecting 18",
     "output_type": "error",
     "traceback": [
      "\u001b[1;31m---------------------------------------------------------------------------\u001b[0m",
      "\u001b[1;31mValueError\u001b[0m                                Traceback (most recent call last)",
      "\u001b[1;32m<ipython-input-919-adc0ef8a1fcd>\u001b[0m in \u001b[0;36m<module>\u001b[1;34m\u001b[0m\n\u001b[1;32m----> 1\u001b[1;33m \u001b[0mmodel_diff_interval\u001b[0m\u001b[1;33m(\u001b[0m\u001b[0mmodel_linear\u001b[0m\u001b[1;33m,\u001b[0m \u001b[0mmodel_1\u001b[0m\u001b[1;33m,\u001b[0m \u001b[0mX_val\u001b[0m\u001b[1;33m,\u001b[0m \u001b[0my_val\u001b[0m\u001b[1;33m)\u001b[0m\u001b[1;33m\u001b[0m\u001b[1;33m\u001b[0m\u001b[0m\n\u001b[0m",
      "\u001b[1;32m<ipython-input-886-f966abf262ad>\u001b[0m in \u001b[0;36mmodel_diff_interval\u001b[1;34m(m1, m2, X, y, level)\u001b[0m\n\u001b[0;32m      1\u001b[0m \u001b[1;32mdef\u001b[0m \u001b[0mmodel_diff_interval\u001b[0m\u001b[1;33m(\u001b[0m\u001b[0mm1\u001b[0m\u001b[1;33m,\u001b[0m \u001b[0mm2\u001b[0m\u001b[1;33m,\u001b[0m \u001b[0mX\u001b[0m\u001b[1;33m,\u001b[0m \u001b[0my\u001b[0m\u001b[1;33m,\u001b[0m \u001b[0mlevel\u001b[0m\u001b[1;33m=\u001b[0m\u001b[1;36m0.95\u001b[0m\u001b[1;33m)\u001b[0m\u001b[1;33m:\u001b[0m\u001b[1;33m\u001b[0m\u001b[1;33m\u001b[0m\u001b[0m\n\u001b[0;32m      2\u001b[0m     \u001b[0ma1\u001b[0m \u001b[1;33m=\u001b[0m \u001b[0mm1\u001b[0m\u001b[1;33m.\u001b[0m\u001b[0mscore\u001b[0m\u001b[1;33m(\u001b[0m\u001b[0mX\u001b[0m\u001b[1;33m,\u001b[0m \u001b[0my\u001b[0m\u001b[1;33m)\u001b[0m\u001b[1;33m\u001b[0m\u001b[1;33m\u001b[0m\u001b[0m\n\u001b[1;32m----> 3\u001b[1;33m     \u001b[0ma2\u001b[0m \u001b[1;33m=\u001b[0m \u001b[0mm2\u001b[0m\u001b[1;33m.\u001b[0m\u001b[0mscore\u001b[0m\u001b[1;33m(\u001b[0m\u001b[0mX\u001b[0m\u001b[1;33m,\u001b[0m \u001b[0my\u001b[0m\u001b[1;33m)\u001b[0m\u001b[1;33m\u001b[0m\u001b[1;33m\u001b[0m\u001b[0m\n\u001b[0m\u001b[0;32m      4\u001b[0m     \u001b[0mN\u001b[0m \u001b[1;33m=\u001b[0m \u001b[0mlen\u001b[0m\u001b[1;33m(\u001b[0m\u001b[0mX\u001b[0m\u001b[1;33m)\u001b[0m\u001b[1;33m\u001b[0m\u001b[1;33m\u001b[0m\u001b[0m\n\u001b[0;32m      5\u001b[0m     \u001b[0mZ\u001b[0m \u001b[1;33m=\u001b[0m \u001b[0mnorm\u001b[0m\u001b[1;33m.\u001b[0m\u001b[0mppf\u001b[0m\u001b[1;33m(\u001b[0m\u001b[1;33m(\u001b[0m\u001b[1;36m1\u001b[0m \u001b[1;33m+\u001b[0m \u001b[0mlevel\u001b[0m\u001b[1;33m)\u001b[0m \u001b[1;33m/\u001b[0m \u001b[1;36m2\u001b[0m\u001b[1;33m)\u001b[0m\u001b[1;33m\u001b[0m\u001b[1;33m\u001b[0m\u001b[0m\n",
      "\u001b[1;32m~\\AppData\\Local\\Continuum\\anaconda3\\lib\\site-packages\\sklearn\\utils\\metaestimators.py\u001b[0m in \u001b[0;36m<lambda>\u001b[1;34m(*args, **kwargs)\u001b[0m\n\u001b[0;32m    114\u001b[0m \u001b[1;33m\u001b[0m\u001b[0m\n\u001b[0;32m    115\u001b[0m         \u001b[1;31m# lambda, but not partial, allows help() to work with update_wrapper\u001b[0m\u001b[1;33m\u001b[0m\u001b[1;33m\u001b[0m\u001b[1;33m\u001b[0m\u001b[0m\n\u001b[1;32m--> 116\u001b[1;33m         \u001b[0mout\u001b[0m \u001b[1;33m=\u001b[0m \u001b[1;32mlambda\u001b[0m \u001b[1;33m*\u001b[0m\u001b[0margs\u001b[0m\u001b[1;33m,\u001b[0m \u001b[1;33m**\u001b[0m\u001b[0mkwargs\u001b[0m\u001b[1;33m:\u001b[0m \u001b[0mself\u001b[0m\u001b[1;33m.\u001b[0m\u001b[0mfn\u001b[0m\u001b[1;33m(\u001b[0m\u001b[0mobj\u001b[0m\u001b[1;33m,\u001b[0m \u001b[1;33m*\u001b[0m\u001b[0margs\u001b[0m\u001b[1;33m,\u001b[0m \u001b[1;33m**\u001b[0m\u001b[0mkwargs\u001b[0m\u001b[1;33m)\u001b[0m\u001b[1;33m\u001b[0m\u001b[1;33m\u001b[0m\u001b[0m\n\u001b[0m\u001b[0;32m    117\u001b[0m         \u001b[1;31m# update the docstring of the returned function\u001b[0m\u001b[1;33m\u001b[0m\u001b[1;33m\u001b[0m\u001b[1;33m\u001b[0m\u001b[0m\n\u001b[0;32m    118\u001b[0m         \u001b[0mupdate_wrapper\u001b[0m\u001b[1;33m(\u001b[0m\u001b[0mout\u001b[0m\u001b[1;33m,\u001b[0m \u001b[0mself\u001b[0m\u001b[1;33m.\u001b[0m\u001b[0mfn\u001b[0m\u001b[1;33m)\u001b[0m\u001b[1;33m\u001b[0m\u001b[1;33m\u001b[0m\u001b[0m\n",
      "\u001b[1;32m~\\AppData\\Local\\Continuum\\anaconda3\\lib\\site-packages\\sklearn\\pipeline.py\u001b[0m in \u001b[0;36mscore\u001b[1;34m(self, X, y, sample_weight)\u001b[0m\n\u001b[0;32m    600\u001b[0m         \u001b[1;32mif\u001b[0m \u001b[0msample_weight\u001b[0m \u001b[1;32mis\u001b[0m \u001b[1;32mnot\u001b[0m \u001b[1;32mNone\u001b[0m\u001b[1;33m:\u001b[0m\u001b[1;33m\u001b[0m\u001b[1;33m\u001b[0m\u001b[0m\n\u001b[0;32m    601\u001b[0m             \u001b[0mscore_params\u001b[0m\u001b[1;33m[\u001b[0m\u001b[1;34m'sample_weight'\u001b[0m\u001b[1;33m]\u001b[0m \u001b[1;33m=\u001b[0m \u001b[0msample_weight\u001b[0m\u001b[1;33m\u001b[0m\u001b[1;33m\u001b[0m\u001b[0m\n\u001b[1;32m--> 602\u001b[1;33m         \u001b[1;32mreturn\u001b[0m \u001b[0mself\u001b[0m\u001b[1;33m.\u001b[0m\u001b[0msteps\u001b[0m\u001b[1;33m[\u001b[0m\u001b[1;33m-\u001b[0m\u001b[1;36m1\u001b[0m\u001b[1;33m]\u001b[0m\u001b[1;33m[\u001b[0m\u001b[1;33m-\u001b[0m\u001b[1;36m1\u001b[0m\u001b[1;33m]\u001b[0m\u001b[1;33m.\u001b[0m\u001b[0mscore\u001b[0m\u001b[1;33m(\u001b[0m\u001b[0mXt\u001b[0m\u001b[1;33m,\u001b[0m \u001b[0my\u001b[0m\u001b[1;33m,\u001b[0m \u001b[1;33m**\u001b[0m\u001b[0mscore_params\u001b[0m\u001b[1;33m)\u001b[0m\u001b[1;33m\u001b[0m\u001b[1;33m\u001b[0m\u001b[0m\n\u001b[0m\u001b[0;32m    603\u001b[0m \u001b[1;33m\u001b[0m\u001b[0m\n\u001b[0;32m    604\u001b[0m     \u001b[1;33m@\u001b[0m\u001b[0mproperty\u001b[0m\u001b[1;33m\u001b[0m\u001b[1;33m\u001b[0m\u001b[0m\n",
      "\u001b[1;32m~\\AppData\\Local\\Continuum\\anaconda3\\lib\\site-packages\\sklearn\\base.py\u001b[0m in \u001b[0;36mscore\u001b[1;34m(self, X, y, sample_weight)\u001b[0m\n\u001b[0;32m    355\u001b[0m         \"\"\"\n\u001b[0;32m    356\u001b[0m         \u001b[1;32mfrom\u001b[0m \u001b[1;33m.\u001b[0m\u001b[0mmetrics\u001b[0m \u001b[1;32mimport\u001b[0m \u001b[0maccuracy_score\u001b[0m\u001b[1;33m\u001b[0m\u001b[1;33m\u001b[0m\u001b[0m\n\u001b[1;32m--> 357\u001b[1;33m         \u001b[1;32mreturn\u001b[0m \u001b[0maccuracy_score\u001b[0m\u001b[1;33m(\u001b[0m\u001b[0my\u001b[0m\u001b[1;33m,\u001b[0m \u001b[0mself\u001b[0m\u001b[1;33m.\u001b[0m\u001b[0mpredict\u001b[0m\u001b[1;33m(\u001b[0m\u001b[0mX\u001b[0m\u001b[1;33m)\u001b[0m\u001b[1;33m,\u001b[0m \u001b[0msample_weight\u001b[0m\u001b[1;33m=\u001b[0m\u001b[0msample_weight\u001b[0m\u001b[1;33m)\u001b[0m\u001b[1;33m\u001b[0m\u001b[1;33m\u001b[0m\u001b[0m\n\u001b[0m\u001b[0;32m    358\u001b[0m \u001b[1;33m\u001b[0m\u001b[0m\n\u001b[0;32m    359\u001b[0m \u001b[1;33m\u001b[0m\u001b[0m\n",
      "\u001b[1;32m~\\AppData\\Local\\Continuum\\anaconda3\\lib\\site-packages\\sklearn\\linear_model\\base.py\u001b[0m in \u001b[0;36mpredict\u001b[1;34m(self, X)\u001b[0m\n\u001b[0;32m    287\u001b[0m             \u001b[0mPredicted\u001b[0m \u001b[1;32mclass\u001b[0m \u001b[0mlabel\u001b[0m \u001b[0mper\u001b[0m \u001b[0msample\u001b[0m\u001b[1;33m.\u001b[0m\u001b[1;33m\u001b[0m\u001b[1;33m\u001b[0m\u001b[0m\n\u001b[0;32m    288\u001b[0m         \"\"\"\n\u001b[1;32m--> 289\u001b[1;33m         \u001b[0mscores\u001b[0m \u001b[1;33m=\u001b[0m \u001b[0mself\u001b[0m\u001b[1;33m.\u001b[0m\u001b[0mdecision_function\u001b[0m\u001b[1;33m(\u001b[0m\u001b[0mX\u001b[0m\u001b[1;33m)\u001b[0m\u001b[1;33m\u001b[0m\u001b[1;33m\u001b[0m\u001b[0m\n\u001b[0m\u001b[0;32m    290\u001b[0m         \u001b[1;32mif\u001b[0m \u001b[0mlen\u001b[0m\u001b[1;33m(\u001b[0m\u001b[0mscores\u001b[0m\u001b[1;33m.\u001b[0m\u001b[0mshape\u001b[0m\u001b[1;33m)\u001b[0m \u001b[1;33m==\u001b[0m \u001b[1;36m1\u001b[0m\u001b[1;33m:\u001b[0m\u001b[1;33m\u001b[0m\u001b[1;33m\u001b[0m\u001b[0m\n\u001b[0;32m    291\u001b[0m             \u001b[0mindices\u001b[0m \u001b[1;33m=\u001b[0m \u001b[1;33m(\u001b[0m\u001b[0mscores\u001b[0m \u001b[1;33m>\u001b[0m \u001b[1;36m0\u001b[0m\u001b[1;33m)\u001b[0m\u001b[1;33m.\u001b[0m\u001b[0mastype\u001b[0m\u001b[1;33m(\u001b[0m\u001b[0mnp\u001b[0m\u001b[1;33m.\u001b[0m\u001b[0mint\u001b[0m\u001b[1;33m)\u001b[0m\u001b[1;33m\u001b[0m\u001b[1;33m\u001b[0m\u001b[0m\n",
      "\u001b[1;32m~\\AppData\\Local\\Continuum\\anaconda3\\lib\\site-packages\\sklearn\\linear_model\\base.py\u001b[0m in \u001b[0;36mdecision_function\u001b[1;34m(self, X)\u001b[0m\n\u001b[0;32m    268\u001b[0m         \u001b[1;32mif\u001b[0m \u001b[0mX\u001b[0m\u001b[1;33m.\u001b[0m\u001b[0mshape\u001b[0m\u001b[1;33m[\u001b[0m\u001b[1;36m1\u001b[0m\u001b[1;33m]\u001b[0m \u001b[1;33m!=\u001b[0m \u001b[0mn_features\u001b[0m\u001b[1;33m:\u001b[0m\u001b[1;33m\u001b[0m\u001b[1;33m\u001b[0m\u001b[0m\n\u001b[0;32m    269\u001b[0m             raise ValueError(\"X has %d features per sample; expecting %d\"\n\u001b[1;32m--> 270\u001b[1;33m                              % (X.shape[1], n_features))\n\u001b[0m\u001b[0;32m    271\u001b[0m \u001b[1;33m\u001b[0m\u001b[0m\n\u001b[0;32m    272\u001b[0m         scores = safe_sparse_dot(X, self.coef_.T,\n",
      "\u001b[1;31mValueError\u001b[0m: X has 232 features per sample; expecting 18"
     ]
    }
   ],
   "source": [
    "model_diff_interval(model_linear, model_1, X_val, y_val)"
   ]
  },
  {
   "cell_type": "code",
   "execution_count": null,
   "metadata": {},
   "outputs": [],
   "source": []
  },
  {
   "cell_type": "code",
   "execution_count": null,
   "metadata": {},
   "outputs": [],
   "source": []
  },
  {
   "cell_type": "code",
   "execution_count": null,
   "metadata": {},
   "outputs": [],
   "source": []
  },
  {
   "cell_type": "code",
   "execution_count": null,
   "metadata": {},
   "outputs": [],
   "source": []
  },
  {
   "cell_type": "markdown",
   "metadata": {},
   "source": [
    "### Cross-validation con dataset completo "
   ]
  },
  {
   "cell_type": "markdown",
   "metadata": {},
   "source": [
    "- Proviamo ora a verificare se il modello che possiamo ottenere applicando la cross-validation all'intero dataset, ovvero con tutte le istanze del _City Hotel_ e tutte le sue variabili, sia migliore di quelli ottenuti con il dataset ridotto.\n",
    "    - Ovvero andiamo a verificare se la differenza tra le accuratezze dei modelli è statisticamente significativa\n",
    "    \n",
    "- Attenzione: l'addestramento di questo modello richiede molto tempo (sulla mia macchina circa 30 minuti)"
   ]
  },
  {
   "cell_type": "code",
   "execution_count": 1162,
   "metadata": {},
   "outputs": [
    {
     "name": "stdout",
     "output_type": "stream",
     "text": [
      "Wall time: 28min 48s\n"
     ]
    },
    {
     "data": {
      "text/plain": [
       "GridSearchCV(cv=StratifiedKFold(n_splits=3, random_state=42, shuffle=True),\n",
       "             error_score='raise-deprecating',\n",
       "             estimator=Pipeline(memory=None,\n",
       "                                steps=[('scaler',\n",
       "                                        StandardScaler(copy=True,\n",
       "                                                       with_mean=True,\n",
       "                                                       with_std=True)),\n",
       "                                       ('lr',\n",
       "                                        LogisticRegression(C=1.0,\n",
       "                                                           class_weight=None,\n",
       "                                                           dual=False,\n",
       "                                                           fit_intercept=True,\n",
       "                                                           intercept_scaling=1,\n",
       "                                                           l1_ratio=None,\n",
       "                                                           max_iter=100,\n",
       "                                                           multi_class='wa...\n",
       "                          'scaler': [None,\n",
       "                                     StandardScaler(copy=True, with_mean=True,\n",
       "                                                    with_std=True)]},\n",
       "                         {'lr__C': array([1.e-03, 1.e-02, 1.e-01, 1.e+00, 1.e+01, 1.e+02, 1.e+03]),\n",
       "                          'lr__l1_ratio': [0.2, 0.5, 0.7],\n",
       "                          'lr__penalty': ['elasticnet'],\n",
       "                          'scaler': [None,\n",
       "                                     StandardScaler(copy=True, with_mean=True,\n",
       "                                                    with_std=True)]}],\n",
       "             pre_dispatch='2*n_jobs', refit=True, return_train_score=False,\n",
       "             scoring=None, verbose=0)"
      ]
     },
     "execution_count": 1162,
     "metadata": {},
     "output_type": "execute_result"
    }
   ],
   "source": [
    "%time gs.fit(X_train, y_train)"
   ]
  },
  {
   "cell_type": "markdown",
   "metadata": {},
   "source": [
    "- Verifichiamo la migliore combinazione di iperparametri"
   ]
  },
  {
   "cell_type": "code",
   "execution_count": 1175,
   "metadata": {},
   "outputs": [
    {
     "data": {
      "text/plain": [
       "{'lr__C': 0.1,\n",
       " 'lr__penalty': 'l1',\n",
       " 'scaler': StandardScaler(copy=True, with_mean=True, with_std=True)}"
      ]
     },
     "execution_count": 1175,
     "metadata": {},
     "output_type": "execute_result"
    }
   ],
   "source": [
    "gs.best_params_"
   ]
  },
  {
   "cell_type": "markdown",
   "metadata": {},
   "source": [
    "- Andiamo ad osservare le 5 parametrizzazioni con accuratezza migliore"
   ]
  },
  {
   "cell_type": "code",
   "execution_count": 1173,
   "metadata": {},
   "outputs": [
    {
     "data": {
      "text/html": [
       "<div>\n",
       "<style scoped>\n",
       "    .dataframe tbody tr th:only-of-type {\n",
       "        vertical-align: middle;\n",
       "    }\n",
       "\n",
       "    .dataframe tbody tr th {\n",
       "        vertical-align: top;\n",
       "    }\n",
       "\n",
       "    .dataframe thead th {\n",
       "        text-align: right;\n",
       "    }\n",
       "</style>\n",
       "<table border=\"1\" class=\"dataframe\">\n",
       "  <thead>\n",
       "    <tr style=\"text-align: right;\">\n",
       "      <th></th>\n",
       "      <th>mean_fit_time</th>\n",
       "      <th>std_fit_time</th>\n",
       "      <th>mean_score_time</th>\n",
       "      <th>std_score_time</th>\n",
       "      <th>param_lr__penalty</th>\n",
       "      <th>param_scaler</th>\n",
       "      <th>param_lr__C</th>\n",
       "      <th>param_lr__l1_ratio</th>\n",
       "      <th>params</th>\n",
       "      <th>split0_test_score</th>\n",
       "      <th>split1_test_score</th>\n",
       "      <th>split2_test_score</th>\n",
       "      <th>mean_test_score</th>\n",
       "      <th>std_test_score</th>\n",
       "      <th>rank_test_score</th>\n",
       "    </tr>\n",
       "  </thead>\n",
       "  <tbody>\n",
       "    <tr>\n",
       "      <td>13</td>\n",
       "      <td>7.775418</td>\n",
       "      <td>0.240856</td>\n",
       "      <td>0.067999</td>\n",
       "      <td>0.009898</td>\n",
       "      <td>l1</td>\n",
       "      <td>StandardScaler(copy=True, with_mean=True, with...</td>\n",
       "      <td>0.1</td>\n",
       "      <td>NaN</td>\n",
       "      <td>{'lr__C': 0.1, 'lr__penalty': 'l1', 'scaler': ...</td>\n",
       "      <td>0.807989</td>\n",
       "      <td>0.802633</td>\n",
       "      <td>0.809329</td>\n",
       "      <td>0.806651</td>\n",
       "      <td>0.002893</td>\n",
       "      <td>1</td>\n",
       "    </tr>\n",
       "    <tr>\n",
       "      <td>47</td>\n",
       "      <td>8.697817</td>\n",
       "      <td>0.064408</td>\n",
       "      <td>0.061994</td>\n",
       "      <td>0.001633</td>\n",
       "      <td>elasticnet</td>\n",
       "      <td>StandardScaler(copy=True, with_mean=True, with...</td>\n",
       "      <td>0.1</td>\n",
       "      <td>0.7</td>\n",
       "      <td>{'lr__C': 0.1, 'lr__l1_ratio': 0.7, 'lr__penal...</td>\n",
       "      <td>0.807876</td>\n",
       "      <td>0.802179</td>\n",
       "      <td>0.808875</td>\n",
       "      <td>0.806310</td>\n",
       "      <td>0.002949</td>\n",
       "      <td>2</td>\n",
       "    </tr>\n",
       "    <tr>\n",
       "      <td>45</td>\n",
       "      <td>8.535026</td>\n",
       "      <td>0.074020</td>\n",
       "      <td>0.061321</td>\n",
       "      <td>0.000935</td>\n",
       "      <td>elasticnet</td>\n",
       "      <td>StandardScaler(copy=True, with_mean=True, with...</td>\n",
       "      <td>0.1</td>\n",
       "      <td>0.5</td>\n",
       "      <td>{'lr__C': 0.1, 'lr__l1_ratio': 0.5, 'lr__penal...</td>\n",
       "      <td>0.807762</td>\n",
       "      <td>0.802293</td>\n",
       "      <td>0.808194</td>\n",
       "      <td>0.806083</td>\n",
       "      <td>0.002686</td>\n",
       "      <td>3</td>\n",
       "    </tr>\n",
       "    <tr>\n",
       "      <td>43</td>\n",
       "      <td>8.580097</td>\n",
       "      <td>0.040453</td>\n",
       "      <td>0.061004</td>\n",
       "      <td>0.000822</td>\n",
       "      <td>elasticnet</td>\n",
       "      <td>StandardScaler(copy=True, with_mean=True, with...</td>\n",
       "      <td>0.1</td>\n",
       "      <td>0.2</td>\n",
       "      <td>{'lr__C': 0.1, 'lr__l1_ratio': 0.2, 'lr__penal...</td>\n",
       "      <td>0.807876</td>\n",
       "      <td>0.802066</td>\n",
       "      <td>0.807967</td>\n",
       "      <td>0.805970</td>\n",
       "      <td>0.002761</td>\n",
       "      <td>4</td>\n",
       "    </tr>\n",
       "    <tr>\n",
       "      <td>37</td>\n",
       "      <td>9.762730</td>\n",
       "      <td>0.474128</td>\n",
       "      <td>0.063999</td>\n",
       "      <td>0.001415</td>\n",
       "      <td>elasticnet</td>\n",
       "      <td>StandardScaler(copy=True, with_mean=True, with...</td>\n",
       "      <td>0.01</td>\n",
       "      <td>0.2</td>\n",
       "      <td>{'lr__C': 0.01, 'lr__l1_ratio': 0.2, 'lr__pena...</td>\n",
       "      <td>0.807308</td>\n",
       "      <td>0.802860</td>\n",
       "      <td>0.807627</td>\n",
       "      <td>0.805932</td>\n",
       "      <td>0.002176</td>\n",
       "      <td>5</td>\n",
       "    </tr>\n",
       "  </tbody>\n",
       "</table>\n",
       "</div>"
      ],
      "text/plain": [
       "    mean_fit_time  std_fit_time  mean_score_time  std_score_time  \\\n",
       "13       7.775418      0.240856         0.067999        0.009898   \n",
       "47       8.697817      0.064408         0.061994        0.001633   \n",
       "45       8.535026      0.074020         0.061321        0.000935   \n",
       "43       8.580097      0.040453         0.061004        0.000822   \n",
       "37       9.762730      0.474128         0.063999        0.001415   \n",
       "\n",
       "   param_lr__penalty                                       param_scaler  \\\n",
       "13                l1  StandardScaler(copy=True, with_mean=True, with...   \n",
       "47        elasticnet  StandardScaler(copy=True, with_mean=True, with...   \n",
       "45        elasticnet  StandardScaler(copy=True, with_mean=True, with...   \n",
       "43        elasticnet  StandardScaler(copy=True, with_mean=True, with...   \n",
       "37        elasticnet  StandardScaler(copy=True, with_mean=True, with...   \n",
       "\n",
       "   param_lr__C param_lr__l1_ratio  \\\n",
       "13         0.1                NaN   \n",
       "47         0.1                0.7   \n",
       "45         0.1                0.5   \n",
       "43         0.1                0.2   \n",
       "37        0.01                0.2   \n",
       "\n",
       "                                               params  split0_test_score  \\\n",
       "13  {'lr__C': 0.1, 'lr__penalty': 'l1', 'scaler': ...           0.807989   \n",
       "47  {'lr__C': 0.1, 'lr__l1_ratio': 0.7, 'lr__penal...           0.807876   \n",
       "45  {'lr__C': 0.1, 'lr__l1_ratio': 0.5, 'lr__penal...           0.807762   \n",
       "43  {'lr__C': 0.1, 'lr__l1_ratio': 0.2, 'lr__penal...           0.807876   \n",
       "37  {'lr__C': 0.01, 'lr__l1_ratio': 0.2, 'lr__pena...           0.807308   \n",
       "\n",
       "    split1_test_score  split2_test_score  mean_test_score  std_test_score  \\\n",
       "13           0.802633           0.809329         0.806651        0.002893   \n",
       "47           0.802179           0.808875         0.806310        0.002949   \n",
       "45           0.802293           0.808194         0.806083        0.002686   \n",
       "43           0.802066           0.807967         0.805970        0.002761   \n",
       "37           0.802860           0.807627         0.805932        0.002176   \n",
       "\n",
       "    rank_test_score  \n",
       "13                1  \n",
       "47                2  \n",
       "45                3  \n",
       "43                4  \n",
       "37                5  "
      ]
     },
     "execution_count": 1173,
     "metadata": {},
     "output_type": "execute_result"
    }
   ],
   "source": [
    "result = pd.DataFrame(gs.cv_results_)\n",
    "result.sort_values(by=\"rank_test_score\", inplace=True)\n",
    "result.head(5)"
   ]
  },
  {
   "cell_type": "markdown",
   "metadata": {},
   "source": [
    "- Andiamo a visualizzare le misure del miglior modello ottenuto"
   ]
  },
  {
   "cell_type": "code",
   "execution_count": 1176,
   "metadata": {
    "scrolled": true
   },
   "outputs": [
    {
     "name": "stdout",
     "output_type": "stream",
     "text": [
      "Accuracy = 0.809563441022925\n",
      "\n",
      "Precision (Y) = 0.8311817279046674\n",
      "Precision (N) = 0.7982844971504232\n",
      "Precision = 0.8147331125275452\n",
      "\n",
      "Recall (Y) = 0.6825224245718945\n",
      "Recall (N) = 0.9006299928557511\n",
      "Recall = 0.7915762087138227\n",
      "\n",
      "F1 Score (Y) = 0.7495522388059702\n",
      "F1 Score (N) = 0.84637451171875\n",
      "F1 Score = 0.79796337526236\n",
      "\n",
      "Matrice di confusione:\n",
      "       N     Y\n",
      "N  13867  1530\n",
      "Y   3504  7533\n"
     ]
    }
   ],
   "source": [
    "print_model_informations(gs, X_val, y_val)"
   ]
  },
  {
   "cell_type": "code",
   "execution_count": null,
   "metadata": {},
   "outputs": [],
   "source": []
  }
 ],
 "metadata": {
  "kernelspec": {
   "display_name": "Python 3",
   "language": "python",
   "name": "python3"
  },
  "language_info": {
   "codemirror_mode": {
    "name": "ipython",
    "version": 3
   },
   "file_extension": ".py",
   "mimetype": "text/x-python",
   "name": "python",
   "nbconvert_exporter": "python",
   "pygments_lexer": "ipython3",
   "version": "3.7.4"
  }
 },
 "nbformat": 4,
 "nbformat_minor": 2
}
