{
 "cells": [
  {
   "cell_type": "markdown",
   "metadata": {},
   "source": [
    "# Progetto: Hotel Booking\n",
    "\n",
    "**Programmazione di Applicazioni Data Intensive**  \n",
    "Laurea in Ingegneria e Scienze Informatiche  \n",
    "DISI - Università di Bologna, Cesena\n",
    "\n",
    "Studente: Alessandro Lombardini  \n",
    "alessandr.lombardin3@unibo.it\n"
   ]
  },
  {
   "cell_type": "code",
   "execution_count": 1064,
   "metadata": {},
   "outputs": [],
   "source": [
    "# Setup librerie\n",
    "%matplotlib inline\n",
    "import numpy as np\n",
    "import pandas as pd\n",
    "import matplotlib.pyplot as plt\n",
    "import sklearn"
   ]
  },
  {
   "cell_type": "markdown",
   "metadata": {},
   "source": [
    "## Caso di studio\n",
    "\n",
    "- Data una prenotazione presso un hotel effettuata da un cliente, si vuole classificare questa come cancellata o non cancellata\n",
    "- Di ciascuna prenotazione sono disponibili delle caratteristiche\n",
    "  - numero di adulti, richiesta di un parcheggio, tipo di pasto richiesto, ...\n",
    "- Vogliamo addestrare un modello a classificare ciascuna prenotazione sulla base di queste caratteristiche"
   ]
  },
  {
   "cell_type": "markdown",
   "metadata": {},
   "source": [
    "- Utilizziamo il [Hotel booking demand](https://www.kaggle.com/jessemostipak/hotel-booking-demand), in cui ogni osservazione contiene le caratteristiche di una prenotazione\n"
   ]
  },
  {
   "cell_type": "code",
   "execution_count": 1065,
   "metadata": {},
   "outputs": [],
   "source": [
    "HBD_URL = \"https://bitbucket.org/alessandrolombardini/gender-recognition-by-voice/raw/31a37837e84ff9d65e9359a57042a4bc8f907c9c/hotel_bookings.csv\"\n",
    "hbd = pd.read_csv(HBD_URL)"
   ]
  },
  {
   "cell_type": "code",
   "execution_count": 1066,
   "metadata": {
    "scrolled": false
   },
   "outputs": [
    {
     "data": {
      "text/html": [
       "<div>\n",
       "<style scoped>\n",
       "    .dataframe tbody tr th:only-of-type {\n",
       "        vertical-align: middle;\n",
       "    }\n",
       "\n",
       "    .dataframe tbody tr th {\n",
       "        vertical-align: top;\n",
       "    }\n",
       "\n",
       "    .dataframe thead th {\n",
       "        text-align: right;\n",
       "    }\n",
       "</style>\n",
       "<table border=\"1\" class=\"dataframe\">\n",
       "  <thead>\n",
       "    <tr style=\"text-align: right;\">\n",
       "      <th></th>\n",
       "      <th>hotel</th>\n",
       "      <th>is_canceled</th>\n",
       "      <th>lead_time</th>\n",
       "      <th>arrival_date_year</th>\n",
       "      <th>arrival_date_month</th>\n",
       "      <th>arrival_date_week_number</th>\n",
       "      <th>arrival_date_day_of_month</th>\n",
       "      <th>stays_in_weekend_nights</th>\n",
       "      <th>stays_in_week_nights</th>\n",
       "      <th>adults</th>\n",
       "      <th>children</th>\n",
       "      <th>babies</th>\n",
       "      <th>meal</th>\n",
       "      <th>country</th>\n",
       "      <th>market_segment</th>\n",
       "      <th>distribution_channel</th>\n",
       "      <th>is_repeated_guest</th>\n",
       "      <th>previous_cancellations</th>\n",
       "      <th>previous_bookings_not_canceled</th>\n",
       "      <th>reserved_room_type</th>\n",
       "      <th>assigned_room_type</th>\n",
       "      <th>booking_changes</th>\n",
       "      <th>deposit_type</th>\n",
       "      <th>agent</th>\n",
       "      <th>company</th>\n",
       "      <th>days_in_waiting_list</th>\n",
       "      <th>customer_type</th>\n",
       "      <th>adr</th>\n",
       "      <th>required_car_parking_spaces</th>\n",
       "      <th>total_of_special_requests</th>\n",
       "      <th>reservation_status</th>\n",
       "      <th>reservation_status_date</th>\n",
       "    </tr>\n",
       "  </thead>\n",
       "  <tbody>\n",
       "    <tr>\n",
       "      <td>0</td>\n",
       "      <td>Resort Hotel</td>\n",
       "      <td>0</td>\n",
       "      <td>342</td>\n",
       "      <td>2015</td>\n",
       "      <td>July</td>\n",
       "      <td>27</td>\n",
       "      <td>1</td>\n",
       "      <td>0</td>\n",
       "      <td>0</td>\n",
       "      <td>2</td>\n",
       "      <td>0.0</td>\n",
       "      <td>0</td>\n",
       "      <td>BB</td>\n",
       "      <td>PRT</td>\n",
       "      <td>Direct</td>\n",
       "      <td>Direct</td>\n",
       "      <td>0</td>\n",
       "      <td>0</td>\n",
       "      <td>0</td>\n",
       "      <td>C</td>\n",
       "      <td>C</td>\n",
       "      <td>3</td>\n",
       "      <td>No Deposit</td>\n",
       "      <td>NaN</td>\n",
       "      <td>NaN</td>\n",
       "      <td>0</td>\n",
       "      <td>Transient</td>\n",
       "      <td>0.0</td>\n",
       "      <td>0</td>\n",
       "      <td>0</td>\n",
       "      <td>Check-Out</td>\n",
       "      <td>2015-07-01</td>\n",
       "    </tr>\n",
       "    <tr>\n",
       "      <td>1</td>\n",
       "      <td>Resort Hotel</td>\n",
       "      <td>0</td>\n",
       "      <td>737</td>\n",
       "      <td>2015</td>\n",
       "      <td>July</td>\n",
       "      <td>27</td>\n",
       "      <td>1</td>\n",
       "      <td>0</td>\n",
       "      <td>0</td>\n",
       "      <td>2</td>\n",
       "      <td>0.0</td>\n",
       "      <td>0</td>\n",
       "      <td>BB</td>\n",
       "      <td>PRT</td>\n",
       "      <td>Direct</td>\n",
       "      <td>Direct</td>\n",
       "      <td>0</td>\n",
       "      <td>0</td>\n",
       "      <td>0</td>\n",
       "      <td>C</td>\n",
       "      <td>C</td>\n",
       "      <td>4</td>\n",
       "      <td>No Deposit</td>\n",
       "      <td>NaN</td>\n",
       "      <td>NaN</td>\n",
       "      <td>0</td>\n",
       "      <td>Transient</td>\n",
       "      <td>0.0</td>\n",
       "      <td>0</td>\n",
       "      <td>0</td>\n",
       "      <td>Check-Out</td>\n",
       "      <td>2015-07-01</td>\n",
       "    </tr>\n",
       "    <tr>\n",
       "      <td>2</td>\n",
       "      <td>Resort Hotel</td>\n",
       "      <td>0</td>\n",
       "      <td>7</td>\n",
       "      <td>2015</td>\n",
       "      <td>July</td>\n",
       "      <td>27</td>\n",
       "      <td>1</td>\n",
       "      <td>0</td>\n",
       "      <td>1</td>\n",
       "      <td>1</td>\n",
       "      <td>0.0</td>\n",
       "      <td>0</td>\n",
       "      <td>BB</td>\n",
       "      <td>GBR</td>\n",
       "      <td>Direct</td>\n",
       "      <td>Direct</td>\n",
       "      <td>0</td>\n",
       "      <td>0</td>\n",
       "      <td>0</td>\n",
       "      <td>A</td>\n",
       "      <td>C</td>\n",
       "      <td>0</td>\n",
       "      <td>No Deposit</td>\n",
       "      <td>NaN</td>\n",
       "      <td>NaN</td>\n",
       "      <td>0</td>\n",
       "      <td>Transient</td>\n",
       "      <td>75.0</td>\n",
       "      <td>0</td>\n",
       "      <td>0</td>\n",
       "      <td>Check-Out</td>\n",
       "      <td>2015-07-02</td>\n",
       "    </tr>\n",
       "  </tbody>\n",
       "</table>\n",
       "</div>"
      ],
      "text/plain": [
       "          hotel  is_canceled  lead_time  arrival_date_year arrival_date_month  \\\n",
       "0  Resort Hotel            0        342               2015               July   \n",
       "1  Resort Hotel            0        737               2015               July   \n",
       "2  Resort Hotel            0          7               2015               July   \n",
       "\n",
       "   arrival_date_week_number  arrival_date_day_of_month  \\\n",
       "0                        27                          1   \n",
       "1                        27                          1   \n",
       "2                        27                          1   \n",
       "\n",
       "   stays_in_weekend_nights  stays_in_week_nights  adults  children  babies  \\\n",
       "0                        0                     0       2       0.0       0   \n",
       "1                        0                     0       2       0.0       0   \n",
       "2                        0                     1       1       0.0       0   \n",
       "\n",
       "  meal country market_segment distribution_channel  is_repeated_guest  \\\n",
       "0   BB     PRT         Direct               Direct                  0   \n",
       "1   BB     PRT         Direct               Direct                  0   \n",
       "2   BB     GBR         Direct               Direct                  0   \n",
       "\n",
       "   previous_cancellations  previous_bookings_not_canceled reserved_room_type  \\\n",
       "0                       0                               0                  C   \n",
       "1                       0                               0                  C   \n",
       "2                       0                               0                  A   \n",
       "\n",
       "  assigned_room_type  booking_changes deposit_type  agent  company  \\\n",
       "0                  C                3   No Deposit    NaN      NaN   \n",
       "1                  C                4   No Deposit    NaN      NaN   \n",
       "2                  C                0   No Deposit    NaN      NaN   \n",
       "\n",
       "   days_in_waiting_list customer_type   adr  required_car_parking_spaces  \\\n",
       "0                     0     Transient   0.0                            0   \n",
       "1                     0     Transient   0.0                            0   \n",
       "2                     0     Transient  75.0                            0   \n",
       "\n",
       "   total_of_special_requests reservation_status reservation_status_date  \n",
       "0                          0          Check-Out              2015-07-01  \n",
       "1                          0          Check-Out              2015-07-01  \n",
       "2                          0          Check-Out              2015-07-02  "
      ]
     },
     "execution_count": 1066,
     "metadata": {},
     "output_type": "execute_result"
    }
   ],
   "source": [
    "hbd.head(3)"
   ]
  },
  {
   "cell_type": "markdown",
   "metadata": {},
   "source": [
    "- Si tratta di classificazione binaria, ovvero con due possibili classi\n",
    "- La colonna `is_canceled` indica la classificazione delle prenotazioni \n",
    "    - 0 = non cancellata, 1 = cancellata\n",
    "- Le altre 31 colonne corrispondono alle altre variabili legate alla prenotazione"
   ]
  },
  {
   "cell_type": "markdown",
   "metadata": {},
   "source": [
    "- Il dataset presenta:\n",
    "    - 119390 istanze \n",
    "    - 32 feature"
   ]
  },
  {
   "cell_type": "code",
   "execution_count": 1067,
   "metadata": {
    "scrolled": true
   },
   "outputs": [
    {
     "data": {
      "text/plain": [
       "(119390, 32)"
      ]
     },
     "execution_count": 1067,
     "metadata": {},
     "output_type": "execute_result"
    }
   ],
   "source": [
    "hbd.shape"
   ]
  },
  {
   "cell_type": "markdown",
   "metadata": {},
   "source": [
    "### Lista delle variabili\n",
    "\n",
    "- hotel: hotel prenotato dall'ospite (H1 = Resort Hotel or H2 = City Hotel)\n",
    "- lead_time: numero di giorni previsti dal giorno di prenotazione al giorno di arrivo in hotel\n",
    "- arrival_date_year: anno di arrivo\n",
    "- arrival_date_month: mese di arrivo \n",
    "- arrival_date_week_number: numero della settimana dell'anno di arrivo \n",
    "- arrival_date_day_of_month: giorno del mese di arrivo\n",
    "- stays_in_weekend_nights: numero di notti del weekend (Sabato e Domenica) prenotate\n",
    "- stays_in_week_nights:  numero di notti non nel weekend (da Lunedi a Venerdi) prenotate\n",
    "- adults: numero di adulti \n",
    "- children: numero di bambini \n",
    "- babies: numero di neonati\n",
    "- meal: combinazione di pasti richiesti (Undefined/SC – no meal package; BB – Bed & Breakfast; HB – Half board (breakfast and one other meal – usually dinner); FB – Full board (breakfast, lunch and dinner))\n",
    "- country: stato di provenienza\n",
    "- market_segment: segmento di mercato di destinazione \n",
    "- distribution_channel: soggetto per tramite del quale la prenotazione è avvenuto (TA/TO: Travel Agents, Direct: il client, ed altri)\n",
    "- is_repeated_guest: indica se la prenotazione è fatta da un cliente che aveva già prenotato in passato\n",
    "    - 1: Si, aveva già prenotato\n",
    "    - 0: No, non aveva mai prenotato\n",
    "- previous_cancellations: numero di prenotazioni effettuate in passato dal clienti\n",
    "- previous_bookings_not_canceled: numero di prenotazioni effettuate in passato dal cliente e non cancellate\n",
    "- reserved_room_type: codice del tipo di stanza richiesta dal cliente\n",
    "- assigned_room_type: codice del tipo di stanza assegnata alla prenotazione. A volte vengono assegnate stanze diverse da quelle riservate per motivi legati all'Hotel (es. overbooking) o per richiesta del cliente. \n",
    "- booking_changes: numero di cambiamenti apportati alla prenotazione fino al momento del Check-In o della cancellazione\n",
    "- deposit_type: indica se il cliente ha effettuato un deposito per garantirsi la prenotazione\n",
    "    - No Deposit: nessun deposito è stato fatto\n",
    "    - Non Refund: è stato pagato l'intero importo del soggiorno\n",
    "    - Refundable: è stata pagata solo una parte dell'importo dell'intero soggiorno\n",
    "- agent: ID dell'agente di viaggio che ha effettuato la prenotazione\n",
    "- company: ID della compagnia che ha effettuato la prenotazione o che ha pagato la prenotazione. \n",
    "- days_in_waiting_list: numero di giorni in cui la prenotazione è rimasta in lista di attesa prima di essere confermata al cliente\n",
    "- customer_type: tipologia di prenotazione\n",
    "    - Contract: la prenotazione è associata ad un contratto\n",
    "    - Group: la prenotazione è associata ad un gruppo\n",
    "    - Transient: la prenostazione non è parte ne di un gruppo ne di un contratto, e non è associata ad altre prenotazione Transient \n",
    "    - Transient-party: la prenotazione è Transient ed è associata ad altre prenotazioni Transient\n",
    "- adr: Avarage Daily Rate, definito come il costo del soggiorno diviso il numero di notti\n",
    "- required_car_parking_spaces: numero di spazi macchina richiesti dal cliente\n",
    "- total_of_special_requests: numero di richieste speciali fatte dal cliente\n",
    "- reservation_status: ultimo stato registrato della prenotazione\n",
    "    - Canceled: la prenotazione è stata cancellata dal cliente\n",
    "    - Check-Out: il client ha effettuato il Check-In e la sua permanenza è terminata\n",
    "    - No-Show: il cliente non ha effettuato il Check-In e ha informato l'hotel del motivo\n",
    "- reservation_status_date: ultima data in cui la variabile reservation_status è stata modificara\n",
    "- **is_canceled: indica se la prenotazione è stata cancellata o no**\n",
    "    - 0: Non cancellata\n",
    "    - 1: Cancellata"
   ]
  },
  {
   "cell_type": "markdown",
   "metadata": {},
   "source": [
    "- La variabile **is_canceled** indica la classificazione della prenotazione, vogliamo stabilire il valore di questa variabile in funzione delle altre\n",
    "   \n"
   ]
  },
  {
   "cell_type": "markdown",
   "metadata": {},
   "source": [
    "## Analisi esplorativa"
   ]
  },
  {
   "cell_type": "markdown",
   "metadata": {},
   "source": [
    "- Il nostro obiettivo è realizzare un modello di classificazione per una specificia struttura ospitante, in questo caso l'hotel 'City Hotel'\n",
    "\n",
    "- Il dataset prevede istanze di più hotel"
   ]
  },
  {
   "cell_type": "code",
   "execution_count": 1068,
   "metadata": {},
   "outputs": [
    {
     "data": {
      "text/plain": [
       "array(['Resort Hotel', 'City Hotel'], dtype=object)"
      ]
     },
     "execution_count": 1068,
     "metadata": {},
     "output_type": "execute_result"
    }
   ],
   "source": [
    "hbd[\"hotel\"].unique()"
   ]
  },
  {
   "cell_type": "markdown",
   "metadata": {},
   "source": [
    "- Vengono quindi rimosse le istanze dei restanti hotel"
   ]
  },
  {
   "cell_type": "code",
   "execution_count": 1069,
   "metadata": {},
   "outputs": [],
   "source": [
    "a = hbd[hbd.hotel == \"City Hotel\"]"
   ]
  },
  {
   "cell_type": "code",
   "execution_count": 1070,
   "metadata": {},
   "outputs": [
    {
     "data": {
      "text/plain": [
       "array(['Resort Hotel', 'City Hotel'], dtype=object)"
      ]
     },
     "execution_count": 1070,
     "metadata": {},
     "output_type": "execute_result"
    }
   ],
   "source": [
    "hbd[\"hotel\"].unique()"
   ]
  },
  {
   "cell_type": "markdown",
   "metadata": {},
   "source": [
    "- Il dataset ora presenta:\n",
    "    - 79330 istanze"
   ]
  },
  {
   "cell_type": "code",
   "execution_count": 1071,
   "metadata": {},
   "outputs": [
    {
     "data": {
      "text/plain": [
       "119390"
      ]
     },
     "execution_count": 1071,
     "metadata": {},
     "output_type": "execute_result"
    }
   ],
   "source": [
    "hbd.shape[0]"
   ]
  },
  {
   "cell_type": "markdown",
   "metadata": {},
   "source": [
    "- Passiamo ora all'analisi esplorativa vera e propria\n",
    "- Aumentiamo il limite di colonne che pandas di default ci consente di visualizzare"
   ]
  },
  {
   "cell_type": "code",
   "execution_count": 1072,
   "metadata": {},
   "outputs": [],
   "source": [
    "pd.options.display.max_columns = 32"
   ]
  },
  {
   "cell_type": "code",
   "execution_count": 1073,
   "metadata": {},
   "outputs": [
    {
     "data": {
      "text/html": [
       "<div>\n",
       "<style scoped>\n",
       "    .dataframe tbody tr th:only-of-type {\n",
       "        vertical-align: middle;\n",
       "    }\n",
       "\n",
       "    .dataframe tbody tr th {\n",
       "        vertical-align: top;\n",
       "    }\n",
       "\n",
       "    .dataframe thead th {\n",
       "        text-align: right;\n",
       "    }\n",
       "</style>\n",
       "<table border=\"1\" class=\"dataframe\">\n",
       "  <thead>\n",
       "    <tr style=\"text-align: right;\">\n",
       "      <th></th>\n",
       "      <th>hotel</th>\n",
       "      <th>is_canceled</th>\n",
       "      <th>lead_time</th>\n",
       "      <th>arrival_date_year</th>\n",
       "      <th>arrival_date_month</th>\n",
       "      <th>arrival_date_week_number</th>\n",
       "      <th>arrival_date_day_of_month</th>\n",
       "      <th>stays_in_weekend_nights</th>\n",
       "      <th>stays_in_week_nights</th>\n",
       "      <th>adults</th>\n",
       "      <th>children</th>\n",
       "      <th>babies</th>\n",
       "      <th>meal</th>\n",
       "      <th>country</th>\n",
       "      <th>market_segment</th>\n",
       "      <th>distribution_channel</th>\n",
       "      <th>is_repeated_guest</th>\n",
       "      <th>previous_cancellations</th>\n",
       "      <th>previous_bookings_not_canceled</th>\n",
       "      <th>reserved_room_type</th>\n",
       "      <th>assigned_room_type</th>\n",
       "      <th>booking_changes</th>\n",
       "      <th>deposit_type</th>\n",
       "      <th>agent</th>\n",
       "      <th>company</th>\n",
       "      <th>days_in_waiting_list</th>\n",
       "      <th>customer_type</th>\n",
       "      <th>adr</th>\n",
       "      <th>required_car_parking_spaces</th>\n",
       "      <th>total_of_special_requests</th>\n",
       "      <th>reservation_status</th>\n",
       "      <th>reservation_status_date</th>\n",
       "    </tr>\n",
       "  </thead>\n",
       "  <tbody>\n",
       "    <tr>\n",
       "      <td>0</td>\n",
       "      <td>Resort Hotel</td>\n",
       "      <td>0</td>\n",
       "      <td>342</td>\n",
       "      <td>2015</td>\n",
       "      <td>July</td>\n",
       "      <td>27</td>\n",
       "      <td>1</td>\n",
       "      <td>0</td>\n",
       "      <td>0</td>\n",
       "      <td>2</td>\n",
       "      <td>0.0</td>\n",
       "      <td>0</td>\n",
       "      <td>BB</td>\n",
       "      <td>PRT</td>\n",
       "      <td>Direct</td>\n",
       "      <td>Direct</td>\n",
       "      <td>0</td>\n",
       "      <td>0</td>\n",
       "      <td>0</td>\n",
       "      <td>C</td>\n",
       "      <td>C</td>\n",
       "      <td>3</td>\n",
       "      <td>No Deposit</td>\n",
       "      <td>NaN</td>\n",
       "      <td>NaN</td>\n",
       "      <td>0</td>\n",
       "      <td>Transient</td>\n",
       "      <td>0.0</td>\n",
       "      <td>0</td>\n",
       "      <td>0</td>\n",
       "      <td>Check-Out</td>\n",
       "      <td>2015-07-01</td>\n",
       "    </tr>\n",
       "    <tr>\n",
       "      <td>1</td>\n",
       "      <td>Resort Hotel</td>\n",
       "      <td>0</td>\n",
       "      <td>737</td>\n",
       "      <td>2015</td>\n",
       "      <td>July</td>\n",
       "      <td>27</td>\n",
       "      <td>1</td>\n",
       "      <td>0</td>\n",
       "      <td>0</td>\n",
       "      <td>2</td>\n",
       "      <td>0.0</td>\n",
       "      <td>0</td>\n",
       "      <td>BB</td>\n",
       "      <td>PRT</td>\n",
       "      <td>Direct</td>\n",
       "      <td>Direct</td>\n",
       "      <td>0</td>\n",
       "      <td>0</td>\n",
       "      <td>0</td>\n",
       "      <td>C</td>\n",
       "      <td>C</td>\n",
       "      <td>4</td>\n",
       "      <td>No Deposit</td>\n",
       "      <td>NaN</td>\n",
       "      <td>NaN</td>\n",
       "      <td>0</td>\n",
       "      <td>Transient</td>\n",
       "      <td>0.0</td>\n",
       "      <td>0</td>\n",
       "      <td>0</td>\n",
       "      <td>Check-Out</td>\n",
       "      <td>2015-07-01</td>\n",
       "    </tr>\n",
       "    <tr>\n",
       "      <td>2</td>\n",
       "      <td>Resort Hotel</td>\n",
       "      <td>0</td>\n",
       "      <td>7</td>\n",
       "      <td>2015</td>\n",
       "      <td>July</td>\n",
       "      <td>27</td>\n",
       "      <td>1</td>\n",
       "      <td>0</td>\n",
       "      <td>1</td>\n",
       "      <td>1</td>\n",
       "      <td>0.0</td>\n",
       "      <td>0</td>\n",
       "      <td>BB</td>\n",
       "      <td>GBR</td>\n",
       "      <td>Direct</td>\n",
       "      <td>Direct</td>\n",
       "      <td>0</td>\n",
       "      <td>0</td>\n",
       "      <td>0</td>\n",
       "      <td>A</td>\n",
       "      <td>C</td>\n",
       "      <td>0</td>\n",
       "      <td>No Deposit</td>\n",
       "      <td>NaN</td>\n",
       "      <td>NaN</td>\n",
       "      <td>0</td>\n",
       "      <td>Transient</td>\n",
       "      <td>75.0</td>\n",
       "      <td>0</td>\n",
       "      <td>0</td>\n",
       "      <td>Check-Out</td>\n",
       "      <td>2015-07-02</td>\n",
       "    </tr>\n",
       "  </tbody>\n",
       "</table>\n",
       "</div>"
      ],
      "text/plain": [
       "          hotel  is_canceled  lead_time  arrival_date_year arrival_date_month  \\\n",
       "0  Resort Hotel            0        342               2015               July   \n",
       "1  Resort Hotel            0        737               2015               July   \n",
       "2  Resort Hotel            0          7               2015               July   \n",
       "\n",
       "   arrival_date_week_number  arrival_date_day_of_month  \\\n",
       "0                        27                          1   \n",
       "1                        27                          1   \n",
       "2                        27                          1   \n",
       "\n",
       "   stays_in_weekend_nights  stays_in_week_nights  adults  children  babies  \\\n",
       "0                        0                     0       2       0.0       0   \n",
       "1                        0                     0       2       0.0       0   \n",
       "2                        0                     1       1       0.0       0   \n",
       "\n",
       "  meal country market_segment distribution_channel  is_repeated_guest  \\\n",
       "0   BB     PRT         Direct               Direct                  0   \n",
       "1   BB     PRT         Direct               Direct                  0   \n",
       "2   BB     GBR         Direct               Direct                  0   \n",
       "\n",
       "   previous_cancellations  previous_bookings_not_canceled reserved_room_type  \\\n",
       "0                       0                               0                  C   \n",
       "1                       0                               0                  C   \n",
       "2                       0                               0                  A   \n",
       "\n",
       "  assigned_room_type  booking_changes deposit_type  agent  company  \\\n",
       "0                  C                3   No Deposit    NaN      NaN   \n",
       "1                  C                4   No Deposit    NaN      NaN   \n",
       "2                  C                0   No Deposit    NaN      NaN   \n",
       "\n",
       "   days_in_waiting_list customer_type   adr  required_car_parking_spaces  \\\n",
       "0                     0     Transient   0.0                            0   \n",
       "1                     0     Transient   0.0                            0   \n",
       "2                     0     Transient  75.0                            0   \n",
       "\n",
       "   total_of_special_requests reservation_status reservation_status_date  \n",
       "0                          0          Check-Out              2015-07-01  \n",
       "1                          0          Check-Out              2015-07-01  \n",
       "2                          0          Check-Out              2015-07-02  "
      ]
     },
     "execution_count": 1073,
     "metadata": {},
     "output_type": "execute_result"
    }
   ],
   "source": [
    "hbd.head(3)"
   ]
  },
  {
   "cell_type": "markdown",
   "metadata": {},
   "source": [
    "- Visualizziamo le statistiche principali (media, dev, standard, ...) delle variabili"
   ]
  },
  {
   "cell_type": "code",
   "execution_count": 1074,
   "metadata": {},
   "outputs": [
    {
     "data": {
      "text/html": [
       "<div>\n",
       "<style scoped>\n",
       "    .dataframe tbody tr th:only-of-type {\n",
       "        vertical-align: middle;\n",
       "    }\n",
       "\n",
       "    .dataframe tbody tr th {\n",
       "        vertical-align: top;\n",
       "    }\n",
       "\n",
       "    .dataframe thead th {\n",
       "        text-align: right;\n",
       "    }\n",
       "</style>\n",
       "<table border=\"1\" class=\"dataframe\">\n",
       "  <thead>\n",
       "    <tr style=\"text-align: right;\">\n",
       "      <th></th>\n",
       "      <th>count</th>\n",
       "      <th>mean</th>\n",
       "      <th>std</th>\n",
       "      <th>min</th>\n",
       "      <th>25%</th>\n",
       "      <th>50%</th>\n",
       "      <th>75%</th>\n",
       "      <th>max</th>\n",
       "    </tr>\n",
       "  </thead>\n",
       "  <tbody>\n",
       "    <tr>\n",
       "      <td>is_canceled</td>\n",
       "      <td>119390.0</td>\n",
       "      <td>0.370416</td>\n",
       "      <td>0.482918</td>\n",
       "      <td>0.00</td>\n",
       "      <td>0.00</td>\n",
       "      <td>0.000</td>\n",
       "      <td>1.0</td>\n",
       "      <td>1.0</td>\n",
       "    </tr>\n",
       "    <tr>\n",
       "      <td>lead_time</td>\n",
       "      <td>119390.0</td>\n",
       "      <td>104.011416</td>\n",
       "      <td>106.863097</td>\n",
       "      <td>0.00</td>\n",
       "      <td>18.00</td>\n",
       "      <td>69.000</td>\n",
       "      <td>160.0</td>\n",
       "      <td>737.0</td>\n",
       "    </tr>\n",
       "    <tr>\n",
       "      <td>arrival_date_year</td>\n",
       "      <td>119390.0</td>\n",
       "      <td>2016.156554</td>\n",
       "      <td>0.707476</td>\n",
       "      <td>2015.00</td>\n",
       "      <td>2016.00</td>\n",
       "      <td>2016.000</td>\n",
       "      <td>2017.0</td>\n",
       "      <td>2017.0</td>\n",
       "    </tr>\n",
       "    <tr>\n",
       "      <td>arrival_date_week_number</td>\n",
       "      <td>119390.0</td>\n",
       "      <td>27.165173</td>\n",
       "      <td>13.605138</td>\n",
       "      <td>1.00</td>\n",
       "      <td>16.00</td>\n",
       "      <td>28.000</td>\n",
       "      <td>38.0</td>\n",
       "      <td>53.0</td>\n",
       "    </tr>\n",
       "    <tr>\n",
       "      <td>arrival_date_day_of_month</td>\n",
       "      <td>119390.0</td>\n",
       "      <td>15.798241</td>\n",
       "      <td>8.780829</td>\n",
       "      <td>1.00</td>\n",
       "      <td>8.00</td>\n",
       "      <td>16.000</td>\n",
       "      <td>23.0</td>\n",
       "      <td>31.0</td>\n",
       "    </tr>\n",
       "    <tr>\n",
       "      <td>stays_in_weekend_nights</td>\n",
       "      <td>119390.0</td>\n",
       "      <td>0.927599</td>\n",
       "      <td>0.998613</td>\n",
       "      <td>0.00</td>\n",
       "      <td>0.00</td>\n",
       "      <td>1.000</td>\n",
       "      <td>2.0</td>\n",
       "      <td>19.0</td>\n",
       "    </tr>\n",
       "    <tr>\n",
       "      <td>stays_in_week_nights</td>\n",
       "      <td>119390.0</td>\n",
       "      <td>2.500302</td>\n",
       "      <td>1.908286</td>\n",
       "      <td>0.00</td>\n",
       "      <td>1.00</td>\n",
       "      <td>2.000</td>\n",
       "      <td>3.0</td>\n",
       "      <td>50.0</td>\n",
       "    </tr>\n",
       "    <tr>\n",
       "      <td>adults</td>\n",
       "      <td>119390.0</td>\n",
       "      <td>1.856403</td>\n",
       "      <td>0.579261</td>\n",
       "      <td>0.00</td>\n",
       "      <td>2.00</td>\n",
       "      <td>2.000</td>\n",
       "      <td>2.0</td>\n",
       "      <td>55.0</td>\n",
       "    </tr>\n",
       "    <tr>\n",
       "      <td>children</td>\n",
       "      <td>119386.0</td>\n",
       "      <td>0.103890</td>\n",
       "      <td>0.398561</td>\n",
       "      <td>0.00</td>\n",
       "      <td>0.00</td>\n",
       "      <td>0.000</td>\n",
       "      <td>0.0</td>\n",
       "      <td>10.0</td>\n",
       "    </tr>\n",
       "    <tr>\n",
       "      <td>babies</td>\n",
       "      <td>119390.0</td>\n",
       "      <td>0.007949</td>\n",
       "      <td>0.097436</td>\n",
       "      <td>0.00</td>\n",
       "      <td>0.00</td>\n",
       "      <td>0.000</td>\n",
       "      <td>0.0</td>\n",
       "      <td>10.0</td>\n",
       "    </tr>\n",
       "    <tr>\n",
       "      <td>is_repeated_guest</td>\n",
       "      <td>119390.0</td>\n",
       "      <td>0.031912</td>\n",
       "      <td>0.175767</td>\n",
       "      <td>0.00</td>\n",
       "      <td>0.00</td>\n",
       "      <td>0.000</td>\n",
       "      <td>0.0</td>\n",
       "      <td>1.0</td>\n",
       "    </tr>\n",
       "    <tr>\n",
       "      <td>previous_cancellations</td>\n",
       "      <td>119390.0</td>\n",
       "      <td>0.087118</td>\n",
       "      <td>0.844336</td>\n",
       "      <td>0.00</td>\n",
       "      <td>0.00</td>\n",
       "      <td>0.000</td>\n",
       "      <td>0.0</td>\n",
       "      <td>26.0</td>\n",
       "    </tr>\n",
       "    <tr>\n",
       "      <td>previous_bookings_not_canceled</td>\n",
       "      <td>119390.0</td>\n",
       "      <td>0.137097</td>\n",
       "      <td>1.497437</td>\n",
       "      <td>0.00</td>\n",
       "      <td>0.00</td>\n",
       "      <td>0.000</td>\n",
       "      <td>0.0</td>\n",
       "      <td>72.0</td>\n",
       "    </tr>\n",
       "    <tr>\n",
       "      <td>booking_changes</td>\n",
       "      <td>119390.0</td>\n",
       "      <td>0.221124</td>\n",
       "      <td>0.652306</td>\n",
       "      <td>0.00</td>\n",
       "      <td>0.00</td>\n",
       "      <td>0.000</td>\n",
       "      <td>0.0</td>\n",
       "      <td>21.0</td>\n",
       "    </tr>\n",
       "    <tr>\n",
       "      <td>agent</td>\n",
       "      <td>103050.0</td>\n",
       "      <td>86.693382</td>\n",
       "      <td>110.774548</td>\n",
       "      <td>1.00</td>\n",
       "      <td>9.00</td>\n",
       "      <td>14.000</td>\n",
       "      <td>229.0</td>\n",
       "      <td>535.0</td>\n",
       "    </tr>\n",
       "    <tr>\n",
       "      <td>company</td>\n",
       "      <td>6797.0</td>\n",
       "      <td>189.266735</td>\n",
       "      <td>131.655015</td>\n",
       "      <td>6.00</td>\n",
       "      <td>62.00</td>\n",
       "      <td>179.000</td>\n",
       "      <td>270.0</td>\n",
       "      <td>543.0</td>\n",
       "    </tr>\n",
       "    <tr>\n",
       "      <td>days_in_waiting_list</td>\n",
       "      <td>119390.0</td>\n",
       "      <td>2.321149</td>\n",
       "      <td>17.594721</td>\n",
       "      <td>0.00</td>\n",
       "      <td>0.00</td>\n",
       "      <td>0.000</td>\n",
       "      <td>0.0</td>\n",
       "      <td>391.0</td>\n",
       "    </tr>\n",
       "    <tr>\n",
       "      <td>adr</td>\n",
       "      <td>119390.0</td>\n",
       "      <td>101.831122</td>\n",
       "      <td>50.535790</td>\n",
       "      <td>-6.38</td>\n",
       "      <td>69.29</td>\n",
       "      <td>94.575</td>\n",
       "      <td>126.0</td>\n",
       "      <td>5400.0</td>\n",
       "    </tr>\n",
       "    <tr>\n",
       "      <td>required_car_parking_spaces</td>\n",
       "      <td>119390.0</td>\n",
       "      <td>0.062518</td>\n",
       "      <td>0.245291</td>\n",
       "      <td>0.00</td>\n",
       "      <td>0.00</td>\n",
       "      <td>0.000</td>\n",
       "      <td>0.0</td>\n",
       "      <td>8.0</td>\n",
       "    </tr>\n",
       "    <tr>\n",
       "      <td>total_of_special_requests</td>\n",
       "      <td>119390.0</td>\n",
       "      <td>0.571363</td>\n",
       "      <td>0.792798</td>\n",
       "      <td>0.00</td>\n",
       "      <td>0.00</td>\n",
       "      <td>0.000</td>\n",
       "      <td>1.0</td>\n",
       "      <td>5.0</td>\n",
       "    </tr>\n",
       "  </tbody>\n",
       "</table>\n",
       "</div>"
      ],
      "text/plain": [
       "                                   count         mean         std      min  \\\n",
       "is_canceled                     119390.0     0.370416    0.482918     0.00   \n",
       "lead_time                       119390.0   104.011416  106.863097     0.00   \n",
       "arrival_date_year               119390.0  2016.156554    0.707476  2015.00   \n",
       "arrival_date_week_number        119390.0    27.165173   13.605138     1.00   \n",
       "arrival_date_day_of_month       119390.0    15.798241    8.780829     1.00   \n",
       "stays_in_weekend_nights         119390.0     0.927599    0.998613     0.00   \n",
       "stays_in_week_nights            119390.0     2.500302    1.908286     0.00   \n",
       "adults                          119390.0     1.856403    0.579261     0.00   \n",
       "children                        119386.0     0.103890    0.398561     0.00   \n",
       "babies                          119390.0     0.007949    0.097436     0.00   \n",
       "is_repeated_guest               119390.0     0.031912    0.175767     0.00   \n",
       "previous_cancellations          119390.0     0.087118    0.844336     0.00   \n",
       "previous_bookings_not_canceled  119390.0     0.137097    1.497437     0.00   \n",
       "booking_changes                 119390.0     0.221124    0.652306     0.00   \n",
       "agent                           103050.0    86.693382  110.774548     1.00   \n",
       "company                           6797.0   189.266735  131.655015     6.00   \n",
       "days_in_waiting_list            119390.0     2.321149   17.594721     0.00   \n",
       "adr                             119390.0   101.831122   50.535790    -6.38   \n",
       "required_car_parking_spaces     119390.0     0.062518    0.245291     0.00   \n",
       "total_of_special_requests       119390.0     0.571363    0.792798     0.00   \n",
       "\n",
       "                                    25%       50%     75%     max  \n",
       "is_canceled                        0.00     0.000     1.0     1.0  \n",
       "lead_time                         18.00    69.000   160.0   737.0  \n",
       "arrival_date_year               2016.00  2016.000  2017.0  2017.0  \n",
       "arrival_date_week_number          16.00    28.000    38.0    53.0  \n",
       "arrival_date_day_of_month          8.00    16.000    23.0    31.0  \n",
       "stays_in_weekend_nights            0.00     1.000     2.0    19.0  \n",
       "stays_in_week_nights               1.00     2.000     3.0    50.0  \n",
       "adults                             2.00     2.000     2.0    55.0  \n",
       "children                           0.00     0.000     0.0    10.0  \n",
       "babies                             0.00     0.000     0.0    10.0  \n",
       "is_repeated_guest                  0.00     0.000     0.0     1.0  \n",
       "previous_cancellations             0.00     0.000     0.0    26.0  \n",
       "previous_bookings_not_canceled     0.00     0.000     0.0    72.0  \n",
       "booking_changes                    0.00     0.000     0.0    21.0  \n",
       "agent                              9.00    14.000   229.0   535.0  \n",
       "company                           62.00   179.000   270.0   543.0  \n",
       "days_in_waiting_list               0.00     0.000     0.0   391.0  \n",
       "adr                               69.29    94.575   126.0  5400.0  \n",
       "required_car_parking_spaces        0.00     0.000     0.0     8.0  \n",
       "total_of_special_requests          0.00     0.000     1.0     5.0  "
      ]
     },
     "execution_count": 1074,
     "metadata": {},
     "output_type": "execute_result"
    }
   ],
   "source": [
    "hbd.describe().T"
   ]
  },
  {
   "cell_type": "markdown",
   "metadata": {},
   "source": [
    "- La tabella denota come i valori numerici non presentino la stessa scala, la standardizzazione potrà quindi essere certamente utile.\n",
    "\n",
    "\n",
    "- Visualizziamo il numero di valori distinti per ciascuna feature"
   ]
  },
  {
   "cell_type": "code",
   "execution_count": 1075,
   "metadata": {},
   "outputs": [
    {
     "data": {
      "text/plain": [
       "hotel                                2\n",
       "is_canceled                          2\n",
       "lead_time                          479\n",
       "arrival_date_year                    3\n",
       "arrival_date_month                  12\n",
       "arrival_date_week_number            53\n",
       "arrival_date_day_of_month           31\n",
       "stays_in_weekend_nights             17\n",
       "stays_in_week_nights                35\n",
       "adults                              14\n",
       "children                             5\n",
       "babies                               5\n",
       "meal                                 5\n",
       "country                            177\n",
       "market_segment                       8\n",
       "distribution_channel                 5\n",
       "is_repeated_guest                    2\n",
       "previous_cancellations              15\n",
       "previous_bookings_not_canceled      73\n",
       "reserved_room_type                  10\n",
       "assigned_room_type                  12\n",
       "booking_changes                     21\n",
       "deposit_type                         3\n",
       "agent                              333\n",
       "company                            352\n",
       "days_in_waiting_list               128\n",
       "customer_type                        4\n",
       "adr                               8879\n",
       "required_car_parking_spaces          5\n",
       "total_of_special_requests            6\n",
       "reservation_status                   3\n",
       "reservation_status_date            926\n",
       "dtype: int64"
      ]
     },
     "execution_count": 1075,
     "metadata": {},
     "output_type": "execute_result"
    }
   ],
   "source": [
    "hbd.nunique()"
   ]
  },
  {
   "cell_type": "markdown",
   "metadata": {},
   "source": [
    "- La variabile `hotel` è completamente inutile, la elimino"
   ]
  },
  {
   "cell_type": "code",
   "execution_count": 1076,
   "metadata": {},
   "outputs": [],
   "source": [
    "hbd.drop(inplace=True, axis=1, labels=['hotel'])"
   ]
  },
  {
   "cell_type": "markdown",
   "metadata": {},
   "source": [
    "- Inoltre posso eliminare anche la variabile `arrival_date_year`, in quanto scarsamente variabile e inutile (se non controproducente) per effettuare delle previsioni  "
   ]
  },
  {
   "cell_type": "code",
   "execution_count": 1077,
   "metadata": {},
   "outputs": [],
   "source": [
    "hbd.drop(inplace=True, axis=1, labels=['arrival_date_year'])"
   ]
  },
  {
   "cell_type": "markdown",
   "metadata": {},
   "source": [
    "- Verifico la presenza del valore `nan` nelle istanze"
   ]
  },
  {
   "cell_type": "code",
   "execution_count": 1078,
   "metadata": {},
   "outputs": [
    {
     "data": {
      "text/plain": [
       "is_canceled                            0\n",
       "lead_time                              0\n",
       "arrival_date_month                     0\n",
       "arrival_date_week_number               0\n",
       "arrival_date_day_of_month              0\n",
       "stays_in_weekend_nights                0\n",
       "stays_in_week_nights                   0\n",
       "adults                                 0\n",
       "children                               4\n",
       "babies                                 0\n",
       "meal                                   0\n",
       "country                              488\n",
       "market_segment                         0\n",
       "distribution_channel                   0\n",
       "is_repeated_guest                      0\n",
       "previous_cancellations                 0\n",
       "previous_bookings_not_canceled         0\n",
       "reserved_room_type                     0\n",
       "assigned_room_type                     0\n",
       "booking_changes                        0\n",
       "deposit_type                           0\n",
       "agent                              16340\n",
       "company                           112593\n",
       "days_in_waiting_list                   0\n",
       "customer_type                          0\n",
       "adr                                    0\n",
       "required_car_parking_spaces            0\n",
       "total_of_special_requests              0\n",
       "reservation_status                     0\n",
       "reservation_status_date                0\n",
       "dtype: int64"
      ]
     },
     "execution_count": 1078,
     "metadata": {},
     "output_type": "execute_result"
    }
   ],
   "source": [
    "hbd.isnull().sum()"
   ]
  },
  {
   "cell_type": "markdown",
   "metadata": {},
   "source": [
    "- Noto la presenza di valori nulli nelle variabili: \n",
    "    - `children` \n",
    "    - `country`\n",
    "    - `agent`\n",
    "    - `company`\n",
    "    \n",
    "    \n",
    "- Per le variabili `children` e `country` il valore nullo ha relativamente poco senso, per cui rimuovo quelle istanze \n",
    "\n",
    "\n",
    "- La variabile `company` è nulla in quasi tutte le istanza, mentre `agent` per una buona parte di esse. In questo caso il valore nullo è però di nostro interesse, in quanto implica che per quella prenotazione non è presente ne un agent ne una company, a differenza di altre istanze."
   ]
  },
  {
   "cell_type": "code",
   "execution_count": 1079,
   "metadata": {},
   "outputs": [],
   "source": [
    "hbd.loc[hbd[\"agent\"].isnull(), \"agent\"] = 0 \n",
    "hbd.loc[hbd[\"agent\"] != 0, \"agent\"] = 1\n",
    "hbd.loc[hbd[\"company\"].isnull(), \"company\"] = 0 \n",
    "hbd.loc[hbd[\"company\"] != 0, \"company\"] = 1"
   ]
  },
  {
   "cell_type": "code",
   "execution_count": 1080,
   "metadata": {},
   "outputs": [],
   "source": [
    "hbd.dropna(subset=[\"country\", \"children\"], inplace=True)"
   ]
  },
  {
   "cell_type": "code",
   "execution_count": 1081,
   "metadata": {},
   "outputs": [
    {
     "data": {
      "text/plain": [
       "is_canceled                       0\n",
       "lead_time                         0\n",
       "arrival_date_month                0\n",
       "arrival_date_week_number          0\n",
       "arrival_date_day_of_month         0\n",
       "stays_in_weekend_nights           0\n",
       "stays_in_week_nights              0\n",
       "adults                            0\n",
       "children                          0\n",
       "babies                            0\n",
       "meal                              0\n",
       "country                           0\n",
       "market_segment                    0\n",
       "distribution_channel              0\n",
       "is_repeated_guest                 0\n",
       "previous_cancellations            0\n",
       "previous_bookings_not_canceled    0\n",
       "reserved_room_type                0\n",
       "assigned_room_type                0\n",
       "booking_changes                   0\n",
       "deposit_type                      0\n",
       "agent                             0\n",
       "company                           0\n",
       "days_in_waiting_list              0\n",
       "customer_type                     0\n",
       "adr                               0\n",
       "required_car_parking_spaces       0\n",
       "total_of_special_requests         0\n",
       "reservation_status                0\n",
       "reservation_status_date           0\n",
       "dtype: int64"
      ]
     },
     "execution_count": 1081,
     "metadata": {},
     "output_type": "execute_result"
    }
   ],
   "source": [
    "hbd.isnull().sum()"
   ]
  },
  {
   "cell_type": "markdown",
   "metadata": {},
   "source": [
    "- Visualizziamo i valori che le diverse variabili assumono"
   ]
  },
  {
   "cell_type": "code",
   "execution_count": 1082,
   "metadata": {},
   "outputs": [
    {
     "name": "stdout",
     "output_type": "stream",
     "text": [
      "\n",
      " is_canceled \n",
      " [0 1] \n",
      " --------------------------------------------------------------------------------\n",
      "\n",
      " lead_time \n",
      " [342 737   7  13  14   0   9  85  75  23  35  68  18  37  12  72 127  78\n",
      "  48  60  77  99  95  96  69  45  40  15  36  43  70  16 107  47 113  90\n",
      "  50  93  76   3   1  10   5  17  51  71  63  62 101   2  81 368 364 324\n",
      "  79  21 109 102   4  98  92  26  73 115  86  52  29  30  33  32   8 100\n",
      "  44  80  97  64  39  34  27  82  94 110 111  84  66 104  28 258 112  65\n",
      "  67  55  88  54 292  83 105 280 394  24 103 366 249  22  91  11 108 106\n",
      "  31  87  41 304 117  59  53  58 116  42 321  38 118  56  49 317   6  57\n",
      "  19  25 315 123  46  89  61 312 299 130  74 298 119  20 286 136 129 124\n",
      " 327 131 460 140 114 139 122 137 126 120 128 135 150 143 151 132 125 157\n",
      " 147 138 156 164 346 159 160 161 333 381 149 154 297 163 314 155 323 340\n",
      " 356 142 328 144 336 248 302 175 344 382 146 170 166 338 167 310 148 165\n",
      " 172 171 145 121 178 305 173 152 354 347 158 185 349 183 352 177 200 192\n",
      " 361 207 174 330 134 350 334 283 153 197 133 241 193 235 194 261 260 216\n",
      " 169 209 238 215 141 189 187 223 284 214 202 211 168 230 203 188 232 709\n",
      " 219 162 196 190 259 228 176 250 201 186 199 180 206 205 224 222 182 210\n",
      " 275 212 229 218 208 191 181 179 246 255 226 288 253 252 262 236 256 234\n",
      " 254 468 213 237 198 195 239 263 265 274 217 220 307 221 233 257 227 276\n",
      " 225 264 311 277 204 290 266 270 294 319 282 251 322 291 269 240 271 184\n",
      " 231 268 247 273 300 301 267 244 306 293 309 272 242 295 285 243 308 398\n",
      " 303 245 424 279 331 281 339 434 357 325 329 278 332 343 345 360 348 367\n",
      " 353 373 374 406 400 326 379 399 316 341 320 385 355 363 358 296 422 390\n",
      " 335 370 376 375 397 289 542 403 383 384 359 393 337 362 365 435 386 378\n",
      " 313 351 287 471 462 411 450 318 372 371 454 532 445 389 388 407 443 437\n",
      " 451 391 405 412 419 420 426 433 440 429 418 447 461 605 457 475 464 482\n",
      " 626 489 496 503 510 517 524 531 538 545 552 559 566 573 580 587 594 601\n",
      " 608 615 622 629 396 410 395 423 408 409 448 465 387 414 476 479 467 490\n",
      " 493 478 504 507 458 518 521 377 444 380 463] \n",
      " --------------------------------------------------------------------------------\n",
      "\n",
      " arrival_date_month \n",
      " ['July' 'August' 'September' 'October' 'November' 'December' 'January'\n",
      " 'February' 'March' 'April' 'May' 'June'] \n",
      " --------------------------------------------------------------------------------\n",
      "\n",
      " arrival_date_week_number \n",
      " [27 28 29 30 31 32 33 34 35 36 37 38 39 40 41 42 43 44 45 46 47 48 49 50\n",
      " 51 52 53  1  2  3  4  5  6  7  8  9 10 11 12 13 14 15 16 17 18 19 20 21\n",
      " 22 23 24 25 26] \n",
      " --------------------------------------------------------------------------------\n",
      "\n",
      " arrival_date_day_of_month \n",
      " [ 1  2  3  4  5  6  7  8  9 10 11 12 13 14 15 16 17 18 19 20 21 22 23 24\n",
      " 25 26 27 28 29 30 31] \n",
      " --------------------------------------------------------------------------------\n",
      "\n",
      " stays_in_weekend_nights \n",
      " [ 0  1  2  4  3  6 13  8  5  7 12  9 16 10 14] \n",
      " --------------------------------------------------------------------------------\n",
      "\n",
      " stays_in_week_nights \n",
      " [ 0  1  2  3  4  5 11  8 10  6  7 15  9 12 33 20 14 16 21 13 30 19 24 40\n",
      " 22 25 17 32 26 18 34 35 41] \n",
      " --------------------------------------------------------------------------------\n",
      "\n",
      " adults \n",
      " [ 2  1  3  4 40 26 50 27 55  0 20  6  5 10] \n",
      " --------------------------------------------------------------------------------\n",
      "\n",
      " children \n",
      " [ 0.  1.  2. 10.  3.] \n",
      " --------------------------------------------------------------------------------\n",
      "\n",
      " babies \n",
      " [ 0  1  2 10  9] \n",
      " --------------------------------------------------------------------------------\n",
      "\n",
      " meal \n",
      " ['BB' 'FB' 'HB' 'SC' 'Undefined'] \n",
      " --------------------------------------------------------------------------------\n",
      "\n",
      " country \n",
      " ['PRT' 'GBR' 'USA' 'ESP' 'IRL' 'FRA' 'ROU' 'NOR' 'OMN' 'ARG' 'POL' 'DEU'\n",
      " 'BEL' 'CHE' 'CN' 'GRC' 'ITA' 'NLD' 'DNK' 'RUS' 'SWE' 'AUS' 'EST' 'CZE'\n",
      " 'BRA' 'FIN' 'MOZ' 'BWA' 'LUX' 'SVN' 'ALB' 'IND' 'CHN' 'MEX' 'MAR' 'UKR'\n",
      " 'SMR' 'LVA' 'PRI' 'SRB' 'CHL' 'AUT' 'BLR' 'LTU' 'TUR' 'ZAF' 'AGO' 'ISR'\n",
      " 'CYM' 'ZMB' 'CPV' 'ZWE' 'DZA' 'KOR' 'CRI' 'HUN' 'ARE' 'TUN' 'JAM' 'HRV'\n",
      " 'HKG' 'IRN' 'GEO' 'AND' 'GIB' 'URY' 'JEY' 'CAF' 'CYP' 'COL' 'GGY' 'KWT'\n",
      " 'NGA' 'MDV' 'VEN' 'SVK' 'FJI' 'KAZ' 'PAK' 'IDN' 'LBN' 'PHL' 'SEN' 'SYC'\n",
      " 'AZE' 'BHR' 'NZL' 'THA' 'DOM' 'MKD' 'MYS' 'ARM' 'JPN' 'LKA' 'CUB' 'CMR'\n",
      " 'BIH' 'MUS' 'COM' 'SUR' 'UGA' 'BGR' 'CIV' 'JOR' 'SYR' 'SGP' 'BDI' 'SAU'\n",
      " 'VNM' 'PLW' 'QAT' 'EGY' 'PER' 'MLT' 'MWI' 'ECU' 'MDG' 'ISL' 'UZB' 'NPL'\n",
      " 'BHS' 'MAC' 'TGO' 'TWN' 'DJI' 'STP' 'KNA' 'ETH' 'IRQ' 'HND' 'RWA' 'KHM'\n",
      " 'MCO' 'BGD' 'IMN' 'TJK' 'NIC' 'BEN' 'VGB' 'TZA' 'GAB' 'GHA' 'TMP' 'GLP'\n",
      " 'KEN' 'LIE' 'GNB' 'MNE' 'UMI' 'MYT' 'FRO' 'MMR' 'PAN' 'BFA' 'LBY' 'MLI'\n",
      " 'NAM' 'BOL' 'PRY' 'BRB' 'ABW' 'AIA' 'SLV' 'DMA' 'PYF' 'GUY' 'LCA' 'ATA'\n",
      " 'GTM' 'ASM' 'MRT' 'NCL' 'KIR' 'SDN' 'ATF' 'SLE' 'LAO'] \n",
      " --------------------------------------------------------------------------------\n",
      "\n",
      " market_segment \n",
      " ['Direct' 'Corporate' 'Online TA' 'Offline TA/TO' 'Complementary' 'Groups'\n",
      " 'Aviation'] \n",
      " --------------------------------------------------------------------------------\n",
      "\n",
      " distribution_channel \n",
      " ['Direct' 'Corporate' 'TA/TO' 'Undefined' 'GDS'] \n",
      " --------------------------------------------------------------------------------\n",
      "\n",
      " is_repeated_guest \n",
      " [0 1] \n",
      " --------------------------------------------------------------------------------\n",
      "\n",
      " previous_cancellations \n",
      " [ 0  1  2  3 26 25 14  4 24 19  5 21  6 13 11] \n",
      " --------------------------------------------------------------------------------\n",
      "\n",
      " previous_bookings_not_canceled \n",
      " [ 0  1  2  3  5  4  6  7  8  9 10 11 12 13 14 15 21 24 25 27 28 30 16 17\n",
      " 18 19 20 22 23 26 29 31 32 33 34 35 36 37 38 39 40 41 42 43 44 45 46 47\n",
      " 48 49 50 51 52 53 54 55 56 57 58 59 60 61 62 63 64 65 66 67 68 69 70 71\n",
      " 72] \n",
      " --------------------------------------------------------------------------------\n",
      "\n",
      " reserved_room_type \n",
      " ['C' 'A' 'D' 'E' 'G' 'F' 'H' 'L' 'B' 'P'] \n",
      " --------------------------------------------------------------------------------\n",
      "\n",
      " assigned_room_type \n",
      " ['C' 'A' 'D' 'E' 'G' 'F' 'I' 'B' 'H' 'L' 'K' 'P'] \n",
      " --------------------------------------------------------------------------------\n",
      "\n",
      " booking_changes \n",
      " [ 3  4  0  1  2  5 17  6  8  7 10 16  9 13 12 20 14 15 11 21 18] \n",
      " --------------------------------------------------------------------------------\n",
      "\n",
      " deposit_type \n",
      " ['No Deposit' 'Refundable' 'Non Refund'] \n",
      " --------------------------------------------------------------------------------\n",
      "\n",
      " agent \n",
      " [0. 1.] \n",
      " --------------------------------------------------------------------------------\n",
      "\n",
      " company \n",
      " [0. 1.] \n",
      " --------------------------------------------------------------------------------\n",
      "\n",
      " days_in_waiting_list \n",
      " [  0  50  47  65 122  75 101 150 125  14  60  34 100  22 121  61  39   5\n",
      "   1   8 107  43  52   2  11 142 116  13  44  97  83   4 113  18  20 185\n",
      "  93 109   6  37 105 154  64  99  38  48  33  77  21  80  59  40  58  89\n",
      "  53  49  69  87  91  57 111  79  98  85  63  15   3  41 224  31  56 187\n",
      " 176  71  55  96 236 259 207 215 160 120  30  32  27  62  24 108 147 379\n",
      "  70  35 178 330 223 174 162 391  68 193  10  76  16  28   9 165  17  25\n",
      "  46   7  84 175 183  23 117  12  54  26  73  45  19  42  72  81  92  74\n",
      " 167  36] \n",
      " --------------------------------------------------------------------------------\n",
      "\n",
      " customer_type \n",
      " ['Transient' 'Contract' 'Transient-Party' 'Group'] \n",
      " --------------------------------------------------------------------------------\n",
      "\n",
      " adr \n",
      " [  0.    75.    98.   ... 266.75 209.25 157.71] \n",
      " --------------------------------------------------------------------------------\n",
      "\n",
      " required_car_parking_spaces \n",
      " [0 1 2 8 3] \n",
      " --------------------------------------------------------------------------------\n",
      "\n",
      " total_of_special_requests \n",
      " [0 1 3 2 4 5] \n",
      " --------------------------------------------------------------------------------\n",
      "\n",
      " reservation_status \n",
      " ['Check-Out' 'Canceled' 'No-Show'] \n",
      " --------------------------------------------------------------------------------\n",
      "\n",
      " reservation_status_date \n",
      " ['2015-07-01' '2015-07-02' '2015-07-03' '2015-05-06' '2015-04-22'\n",
      " '2015-06-23' '2015-07-05' '2015-07-06' '2015-07-07' '2015-07-08'\n",
      " '2015-05-11' '2015-07-16' '2015-05-29' '2015-05-19' '2015-06-19'\n",
      " '2015-05-23' '2015-05-18' '2015-07-09' '2015-06-02' '2015-07-13'\n",
      " '2015-07-04' '2015-06-29' '2015-06-16' '2015-06-18' '2015-06-12'\n",
      " '2015-06-09' '2015-05-26' '2015-07-11' '2015-07-12' '2015-07-17'\n",
      " '2015-04-15' '2015-05-13' '2015-07-10' '2015-05-20' '2015-05-12'\n",
      " '2015-07-14' '2015-06-17' '2015-05-01' '2015-03-30' '2015-07-15'\n",
      " '2015-07-19' '2015-06-03' '2015-06-26' '2015-05-14' '2015-07-20'\n",
      " '2015-05-07' '2015-05-28' '2015-04-13' '2015-03-25' '2015-07-21'\n",
      " '2015-06-27' '2015-07-18' '2015-07-23' '2015-06-08' '2015-06-22'\n",
      " '2015-06-24' '2015-03-05' '2015-06-01' '2015-04-24' '2015-07-22'\n",
      " '2015-05-27' '2015-04-06' '2015-04-11' '2015-07-25' '2015-07-28'\n",
      " '2015-07-29' '2015-06-25' '2015-07-24' '2015-06-05' '2015-06-30'\n",
      " '2015-06-13' '2015-06-11' '2015-07-30' '2015-07-27' '2015-04-29'\n",
      " '2015-06-04' '2015-07-26' '2015-08-01' '2015-08-02' '2015-06-15'\n",
      " '2015-04-23' '2015-07-31' '2015-05-25' '2015-08-03' '2015-04-17'\n",
      " '2015-08-04' '2015-08-06' '2015-05-15' '2015-05-09' '2015-03-17'\n",
      " '2015-05-22' '2015-08-07' '2015-04-04' '2015-08-05' '2015-08-08'\n",
      " '2015-08-10' '2015-05-04' '2015-06-06' '2015-08-09' '2015-08-15'\n",
      " '2015-08-11' '2015-03-28' '2015-08-14' '2015-08-12' '2015-08-16'\n",
      " '2015-05-16' '2015-08-21' '2015-08-13' '2015-08-17' '2015-04-20'\n",
      " '2015-08-18' '2015-08-23' '2015-08-22' '2015-08-19' '2015-08-20'\n",
      " '2015-08-29' '2015-03-31' '2015-05-30' '2015-08-25' '2015-04-14'\n",
      " '2015-08-24' '2015-03-24' '2015-05-21' '2015-08-28' '2015-08-26'\n",
      " '2015-08-27' '2015-08-30' '2015-08-31' '2015-09-06' '2015-09-03'\n",
      " '2015-09-04' '2015-09-02' '2015-09-01' '2015-09-05' '2015-06-20'\n",
      " '2015-09-07' '2015-09-10' '2015-09-11' '2015-09-08' '2015-09-09'\n",
      " '2015-09-13' '2015-09-15' '2015-04-10' '2015-01-02' '2014-11-18'\n",
      " '2015-09-12' '2015-09-17' '2015-09-14' '2015-04-07' '2015-09-19'\n",
      " '2015-09-16' '2015-09-20' '2015-01-18' '2015-10-23' '2015-01-22'\n",
      " '2015-01-01' '2015-09-22' '2015-09-24' '2015-09-18' '2015-09-21'\n",
      " '2015-09-30' '2015-09-25' '2015-09-27' '2015-09-28' '2015-10-12'\n",
      " '2015-09-29' '2015-09-23' '2015-10-01' '2015-09-26' '2015-04-18'\n",
      " '2015-10-02' '2015-10-04' '2015-10-08' '2015-10-03' '2015-10-07'\n",
      " '2015-10-09' '2015-10-11' '2015-10-05' '2015-10-06' '2015-10-10'\n",
      " '2015-10-14' '2015-10-15' '2015-10-18' '2015-10-13' '2015-10-20'\n",
      " '2015-10-19' '2015-10-31' '2015-10-16' '2015-10-21' '2015-10-22'\n",
      " '2015-10-17' '2015-10-24' '2015-10-25' '2015-10-28' '2015-10-27'\n",
      " '2015-10-26' '2015-10-30' '2015-11-05' '2015-10-29' '2015-11-03'\n",
      " '2015-11-07' '2015-11-04' '2015-11-01' '2015-11-02' '2015-11-17'\n",
      " '2015-11-06' '2015-11-10' '2015-11-08' '2015-11-09' '2015-11-15'\n",
      " '2015-11-16' '2015-11-11' '2015-11-12' '2015-11-14' '2015-11-13'\n",
      " '2015-11-18' '2015-11-22' '2015-11-19' '2015-11-21' '2015-11-20'\n",
      " '2015-11-24' '2015-11-25' '2015-11-23' '2015-11-28' '2015-11-26'\n",
      " '2015-11-27' '2015-11-29' '2015-12-04' '2015-12-01' '2015-12-06'\n",
      " '2015-12-08' '2015-12-02' '2015-12-03' '2015-12-31' '2015-12-05'\n",
      " '2015-12-10' '2015-12-17' '2015-11-30' '2015-12-12' '2015-12-07'\n",
      " '2016-01-05' '2015-12-11' '2015-12-13' '2015-12-15' '2015-12-16'\n",
      " '2015-12-19' '2015-12-18' '2015-12-26' '2015-12-27' '2015-12-22'\n",
      " '2015-12-23' '2015-12-24' '2015-12-29' '2015-12-28' '2015-12-20'\n",
      " '2015-12-30' '2016-01-02' '2016-01-01' '2015-12-25' '2016-01-03'\n",
      " '2016-01-04' '2016-01-11' '2016-01-07' '2015-12-21' '2016-01-09'\n",
      " '2016-01-10' '2016-01-08' '2016-01-06' '2016-01-12' '2016-01-13'\n",
      " '2016-01-23' '2016-02-09' '2016-01-15' '2016-01-16' '2016-01-17'\n",
      " '2016-01-19' '2016-01-18' '2016-01-21' '2016-01-24' '2016-01-22'\n",
      " '2016-01-29' '2016-01-27' '2016-01-25' '2016-03-08' '2016-01-26'\n",
      " '2016-01-20' '2016-01-30' '2016-02-01' '2016-02-02' '2016-02-08'\n",
      " '2016-02-07' '2016-01-28' '2016-02-05' '2016-02-03' '2016-02-13'\n",
      " '2016-02-10' '2016-02-04' '2016-02-12' '2016-02-11' '2016-02-16'\n",
      " '2016-02-14' '2016-02-15' '2016-02-20' '2016-02-06' '2016-01-14'\n",
      " '2016-02-17' '2016-02-21' '2016-02-24' '2016-02-25' '2016-02-19'\n",
      " '2016-02-18' '2016-02-26' '2016-02-23' '2016-03-05' '2016-02-22'\n",
      " '2016-02-27' '2016-03-03' '2016-03-24' '2016-03-04' '2016-02-29'\n",
      " '2016-03-01' '2016-03-02' '2016-03-30' '2016-03-07' '2016-03-14'\n",
      " '2016-03-21' '2016-03-09' '2016-03-12' '2016-03-22' '2016-03-10'\n",
      " '2016-03-11' '2016-03-20' '2016-03-15' '2016-03-17' '2016-03-16'\n",
      " '2016-03-19' '2016-03-27' '2016-03-18' '2016-03-26' '2016-03-31'\n",
      " '2016-03-28' '2016-03-29' '2016-04-01' '2016-03-23' '2016-04-02'\n",
      " '2016-03-25' '2016-03-13' '2016-04-04' '2016-04-03' '2016-04-05'\n",
      " '2016-04-08' '2016-04-06' '2016-04-09' '2016-04-12' '2016-04-16'\n",
      " '2016-04-17' '2016-04-27' '2016-04-14' '2016-04-18' '2016-04-21'\n",
      " '2016-04-19' '2016-04-20' '2016-04-10' '2016-04-13' '2016-04-11'\n",
      " '2016-04-07' '2016-04-15' '2016-04-22' '2016-04-23' '2016-04-26'\n",
      " '2016-04-28' '2016-04-24' '2016-04-25' '2016-04-29' '2016-04-30'\n",
      " '2016-05-01' '2016-05-10' '2016-05-02' '2016-05-07' '2016-05-08'\n",
      " '2016-05-12' '2016-05-04' '2016-05-06' '2016-05-03' '2016-05-09'\n",
      " '2016-05-05' '2016-05-13' '2016-05-14' '2016-05-18' '2016-05-19'\n",
      " '2016-05-15' '2016-05-16' '2016-05-11' '2016-05-21' '2016-05-22'\n",
      " '2016-05-20' '2016-05-24' '2016-05-25' '2016-05-26' '2016-05-23'\n",
      " '2016-05-27' '2016-05-17' '2016-05-29' '2016-05-28' '2016-05-30'\n",
      " '2016-05-31' '2016-06-01' '2016-06-03' '2016-06-08' '2016-06-02'\n",
      " '2016-06-05' '2016-06-06' '2016-06-13' '2016-06-07' '2016-06-10'\n",
      " '2016-06-11' '2016-06-16' '2016-06-12' '2016-06-14' '2016-06-17'\n",
      " '2016-06-04' '2016-06-18' '2016-06-21' '2016-06-09' '2016-06-24'\n",
      " '2016-06-20' '2016-06-25' '2016-06-22' '2016-06-26' '2016-06-23'\n",
      " '2016-07-01' '2016-06-15' '2016-06-28' '2016-07-02' '2016-06-19'\n",
      " '2016-06-27' '2016-07-04' '2016-06-30' '2016-07-05' '2016-07-08'\n",
      " '2016-07-09' '2016-07-07' '2016-07-12' '2016-06-29' '2016-07-10'\n",
      " '2016-07-15' '2016-07-03' '2016-07-16' '2016-07-14' '2016-07-18'\n",
      " '2016-07-13' '2016-07-06' '2016-07-20' '2016-07-21' '2016-07-23'\n",
      " '2016-07-19' '2016-07-11' '2016-07-28' '2016-07-17' '2016-07-25'\n",
      " '2016-07-22' '2016-07-29' '2016-08-03' '2016-08-02' '2016-08-04'\n",
      " '2016-08-08' '2016-08-10' '2016-08-01' '2016-08-06' '2016-03-06'\n",
      " '2016-08-05' '2016-07-26' '2016-08-07' '2016-07-30' '2016-07-24'\n",
      " '2016-08-12' '2016-07-27' '2016-08-13' '2016-08-18' '2016-08-16'\n",
      " '2016-08-15' '2016-08-17' '2016-08-11' '2016-07-31' '2016-08-19'\n",
      " '2016-09-01' '2016-08-23' '2016-08-26' '2016-08-20' '2016-08-21'\n",
      " '2016-09-04' '2016-08-22' '2016-08-27' '2016-08-25' '2016-08-09'\n",
      " '2016-09-05' '2016-08-24' '2016-09-10' '2016-08-29' '2016-09-09'\n",
      " '2016-08-30' '2016-09-13' '2016-08-31' '2016-09-14' '2016-09-12'\n",
      " '2016-09-15' '2016-08-14' '2016-09-02' '2016-09-08' '2016-09-19'\n",
      " '2016-09-16' '2016-09-07' '2016-09-21' '2016-09-06' '2016-09-22'\n",
      " '2016-09-17' '2016-09-20' '2016-09-03' '2016-09-26' '2016-09-23'\n",
      " '2016-09-18' '2016-09-29' '2016-10-02' '2016-10-01' '2016-09-27'\n",
      " '2016-09-25' '2016-10-05' '2016-09-11' '2016-09-30' '2016-10-09'\n",
      " '2016-10-03' '2016-10-06' '2016-10-11' '2016-09-24' '2016-10-13'\n",
      " '2016-09-28' '2016-10-08' '2016-10-07' '2016-10-16' '2016-08-28'\n",
      " '2016-10-17' '2016-10-18' '2016-10-10' '2016-10-04' '2016-10-15'\n",
      " '2016-10-19' '2016-10-21' '2016-10-12' '2016-10-24' '2016-10-26'\n",
      " '2016-10-23' '2016-10-20' '2016-10-25' '2016-10-27' '2016-10-28'\n",
      " '2016-10-30' '2016-10-29' '2016-11-01' '2016-11-04' '2016-10-14'\n",
      " '2016-11-07' '2016-11-03' '2016-11-10' '2016-11-14' '2016-11-02'\n",
      " '2016-10-31' '2016-11-11' '2016-11-08' '2016-11-05' '2016-11-25'\n",
      " '2016-11-09' '2016-11-20' '2016-10-22' '2016-11-22' '2016-11-16'\n",
      " '2016-11-23' '2016-11-17' '2016-11-06' '2016-11-15' '2016-11-13'\n",
      " '2016-11-12' '2016-11-21' '2016-11-27' '2016-11-19' '2016-11-30'\n",
      " '2016-11-18' '2016-12-02' '2016-12-04' '2016-11-29' '2016-12-07'\n",
      " '2016-11-28' '2016-12-03' '2016-12-06' '2016-11-24' '2016-12-08'\n",
      " '2016-12-05' '2016-12-10' '2016-12-13' '2016-12-14' '2016-12-16'\n",
      " '2016-12-15' '2016-12-17' '2016-12-19' '2016-12-21' '2016-12-20'\n",
      " '2016-12-22' '2016-12-23' '2016-12-24' '2016-12-01' '2016-12-27'\n",
      " '2016-12-29' '2016-12-30' '2016-12-12' '2017-01-02' '2016-12-11'\n",
      " '2017-01-03' '2017-01-04' '2017-01-01' '2016-12-26' '2017-01-06'\n",
      " '2016-12-28' '2016-12-18' '2017-01-10' '2017-01-11' '2017-01-07'\n",
      " '2017-01-12' '2017-01-16' '2017-01-14' '2017-01-13' '2017-01-05'\n",
      " '2017-01-17' '2017-01-20' '2016-12-09' '2017-01-26' '2016-12-31'\n",
      " '2017-01-23' '2017-01-27' '2017-01-28' '2017-01-19' '2017-01-25'\n",
      " '2017-01-24' '2017-01-29' '2017-01-18' '2016-12-25' '2017-01-15'\n",
      " '2017-01-21' '2017-02-01' '2017-02-02' '2017-01-31' '2017-02-03'\n",
      " '2017-02-04' '2017-02-06' '2017-02-07' '2017-02-08' '2017-01-30'\n",
      " '2017-02-09' '2017-01-09' '2017-02-11' '2017-02-10' '2017-02-12'\n",
      " '2017-02-13' '2017-02-14' '2017-02-16' '2017-02-17' '2017-02-18'\n",
      " '2017-02-19' '2017-02-20' '2017-02-15' '2017-02-21' '2017-02-22'\n",
      " '2017-02-26' '2017-02-23' '2017-02-24' '2017-02-25' '2017-02-28'\n",
      " '2017-03-05' '2017-02-27' '2017-03-03' '2017-03-06' '2017-03-02'\n",
      " '2017-03-08' '2017-03-09' '2017-03-10' '2017-03-07' '2017-03-12'\n",
      " '2017-03-13' '2017-03-14' '2017-03-01' '2017-03-18' '2017-03-17'\n",
      " '2017-03-24' '2017-03-22' '2017-03-26' '2017-03-27' '2017-03-11'\n",
      " '2017-03-28' '2017-03-29' '2017-03-30' '2017-03-31' '2017-03-19'\n",
      " '2017-01-22' '2017-04-02' '2017-03-20' '2017-04-03' '2017-01-08'\n",
      " '2017-03-23' '2017-04-05' '2017-02-05' '2017-04-04' '2017-03-15'\n",
      " '2017-04-07' '2017-03-25' '2017-04-08' '2017-04-06' '2017-03-21'\n",
      " '2017-04-10' '2017-04-01' '2017-04-11' '2017-04-13' '2017-04-15'\n",
      " '2017-04-12' '2017-03-04' '2017-04-19' '2017-04-22' '2017-04-20'\n",
      " '2017-05-02' '2017-04-09' '2017-04-23' '2017-04-24' '2017-04-16'\n",
      " '2017-04-28' '2017-04-18' '2017-04-26' '2017-04-25' '2017-04-17'\n",
      " '2017-04-21' '2017-05-03' '2017-05-04' '2017-03-16' '2017-05-05'\n",
      " '2017-04-29' '2017-04-14' '2017-05-08' '2017-04-27' '2017-05-11'\n",
      " '2017-05-01' '2017-05-10' '2017-05-13' '2017-05-06' '2017-05-14'\n",
      " '2017-05-16' '2017-04-30' '2017-05-15' '2017-05-07' '2017-05-09'\n",
      " '2017-05-17' '2017-05-21' '2017-05-12' '2017-05-22' '2017-05-24'\n",
      " '2017-05-23' '2017-05-25' '2017-05-26' '2017-05-28' '2017-05-27'\n",
      " '2017-05-29' '2017-05-19' '2017-05-31' '2017-05-20' '2017-06-01'\n",
      " '2017-05-30' '2017-06-02' '2016-11-26' '2017-06-04' '2017-06-05'\n",
      " '2017-06-06' '2017-06-07' '2017-05-18' '2017-06-09' '2017-06-10'\n",
      " '2017-06-11' '2017-06-12' '2017-06-14' '2017-06-08' '2017-06-16'\n",
      " '2017-06-13' '2017-06-03' '2017-06-24' '2017-06-20' '2017-06-19'\n",
      " '2017-06-21' '2017-06-26' '2017-06-27' '2017-06-22' '2017-06-28'\n",
      " '2017-06-15' '2017-06-29' '2017-06-30' '2017-06-18' '2017-07-04'\n",
      " '2017-07-08' '2017-07-05' '2017-07-03' '2017-07-07' '2017-07-01'\n",
      " '2017-07-06' '2017-07-11' '2017-07-12' '2017-06-23' '2017-07-13'\n",
      " '2017-07-02' '2017-07-10' '2017-07-14' '2017-07-15' '2017-07-16'\n",
      " '2017-07-18' '2017-07-17' '2017-07-19' '2017-07-20' '2017-07-21'\n",
      " '2017-06-25' '2017-06-17' '2017-07-24' '2017-07-26' '2017-07-09'\n",
      " '2017-07-27' '2017-07-28' '2017-07-31' '2017-07-29' '2017-07-22'\n",
      " '2017-08-02' '2017-08-01' '2017-08-03' '2017-08-04' '2017-07-25'\n",
      " '2017-07-23' '2017-08-09' '2017-08-10' '2017-07-30' '2017-08-07'\n",
      " '2017-08-13' '2017-08-05' '2017-08-14' '2017-08-08' '2017-08-16'\n",
      " '2017-08-17' '2017-08-15' '2017-08-18' '2017-08-20' '2017-08-22'\n",
      " '2017-08-06' '2017-08-25' '2017-08-26' '2017-08-23' '2017-08-11'\n",
      " '2017-08-27' '2017-08-21' '2017-08-29' '2017-08-31' '2017-08-12'\n",
      " '2017-08-19' '2017-09-01' '2017-08-28' '2015-04-03' '2015-01-21'\n",
      " '2015-01-28' '2015-01-29' '2015-01-30' '2015-02-02' '2015-02-05'\n",
      " '2015-02-06' '2015-02-09' '2015-02-10' '2015-02-11' '2015-02-12'\n",
      " '2015-02-19' '2015-02-20' '2015-02-23' '2015-02-24' '2015-02-25'\n",
      " '2015-02-26' '2015-02-27' '2015-03-03' '2015-03-04' '2015-03-06'\n",
      " '2015-03-09' '2015-03-11' '2015-03-12' '2015-03-18' '2015-04-02'\n",
      " '2015-06-14' '2015-04-08' '2015-04-16' '2015-04-25' '2015-04-28'\n",
      " '2015-05-08' '2016-01-31' '2017-09-06' '2016-02-28' '2015-12-09'\n",
      " '2015-12-14' '2017-09-09' '2017-09-02' '2017-08-24' '2017-08-30'\n",
      " '2017-09-03' '2017-09-04' '2017-09-05' '2017-09-07' '2017-09-08'\n",
      " '2017-09-10' '2017-09-12' '2017-09-14' '2015-04-30' '2015-04-21'\n",
      " '2015-04-05' '2015-03-13' '2015-05-05' '2015-03-29' '2015-06-10'\n",
      " '2015-04-27' '2014-10-17' '2015-01-20' '2015-02-17' '2015-03-10'\n",
      " '2015-03-23'] \n",
      " --------------------------------------------------------------------------------\n"
     ]
    }
   ],
   "source": [
    "cols = hbd.columns\n",
    "for i in cols:\n",
    "    print('\\n',i,'\\n',hbd[i].unique(),'\\n','-'*80)"
   ]
  },
  {
   "cell_type": "markdown",
   "metadata": {},
   "source": [
    "- Visualizziamo la correlazione tra le coppie di features"
   ]
  },
  {
   "cell_type": "code",
   "execution_count": 1083,
   "metadata": {},
   "outputs": [
    {
     "data": {
      "text/html": [
       "<style  type=\"text/css\" >\n",
       "    #T_af8d345e_9b79_11ea_aeb8_74d4359cf509row0_col0 {\n",
       "            background-color:  #5e4fa2;\n",
       "            color:  #f1f1f1;\n",
       "        }    #T_af8d345e_9b79_11ea_aeb8_74d4359cf509row0_col1 {\n",
       "            background-color:  #fed07e;\n",
       "            color:  #000000;\n",
       "        }    #T_af8d345e_9b79_11ea_aeb8_74d4359cf509row0_col2 {\n",
       "            background-color:  #b11747;\n",
       "            color:  #f1f1f1;\n",
       "        }    #T_af8d345e_9b79_11ea_aeb8_74d4359cf509row0_col3 {\n",
       "            background-color:  #a90d45;\n",
       "            color:  #f1f1f1;\n",
       "        }    #T_af8d345e_9b79_11ea_aeb8_74d4359cf509row0_col4 {\n",
       "            background-color:  #d0384e;\n",
       "            color:  #f1f1f1;\n",
       "        }    #T_af8d345e_9b79_11ea_aeb8_74d4359cf509row0_col5 {\n",
       "            background-color:  #d8434e;\n",
       "            color:  #f1f1f1;\n",
       "        }    #T_af8d345e_9b79_11ea_aeb8_74d4359cf509row0_col6 {\n",
       "            background-color:  #f7844e;\n",
       "            color:  #000000;\n",
       "        }    #T_af8d345e_9b79_11ea_aeb8_74d4359cf509row0_col7 {\n",
       "            background-color:  #bc2249;\n",
       "            color:  #f1f1f1;\n",
       "        }    #T_af8d345e_9b79_11ea_aeb8_74d4359cf509row0_col8 {\n",
       "            background-color:  #9e0142;\n",
       "            color:  #f1f1f1;\n",
       "        }    #T_af8d345e_9b79_11ea_aeb8_74d4359cf509row0_col9 {\n",
       "            background-color:  #e1504b;\n",
       "            color:  #000000;\n",
       "        }    #T_af8d345e_9b79_11ea_aeb8_74d4359cf509row0_col10 {\n",
       "            background-color:  #e95c47;\n",
       "            color:  #000000;\n",
       "        }    #T_af8d345e_9b79_11ea_aeb8_74d4359cf509row0_col11 {\n",
       "            background-color:  #d7414e;\n",
       "            color:  #f1f1f1;\n",
       "        }    #T_af8d345e_9b79_11ea_aeb8_74d4359cf509row0_col12 {\n",
       "            background-color:  #9e0142;\n",
       "            color:  #f1f1f1;\n",
       "        }    #T_af8d345e_9b79_11ea_aeb8_74d4359cf509row0_col13 {\n",
       "            background-color:  #feeb9d;\n",
       "            color:  #000000;\n",
       "        }    #T_af8d345e_9b79_11ea_aeb8_74d4359cf509row0_col14 {\n",
       "            background-color:  #fdb365;\n",
       "            color:  #000000;\n",
       "        }    #T_af8d345e_9b79_11ea_aeb8_74d4359cf509row0_col15 {\n",
       "            background-color:  #dd4a4c;\n",
       "            color:  #000000;\n",
       "        }    #T_af8d345e_9b79_11ea_aeb8_74d4359cf509row0_col16 {\n",
       "            background-color:  #ee6445;\n",
       "            color:  #000000;\n",
       "        }    #T_af8d345e_9b79_11ea_aeb8_74d4359cf509row0_col17 {\n",
       "            background-color:  #9e0142;\n",
       "            color:  #f1f1f1;\n",
       "        }    #T_af8d345e_9b79_11ea_aeb8_74d4359cf509row0_col18 {\n",
       "            background-color:  #9e0142;\n",
       "            color:  #f1f1f1;\n",
       "        }    #T_af8d345e_9b79_11ea_aeb8_74d4359cf509row1_col0 {\n",
       "            background-color:  #fee999;\n",
       "            color:  #000000;\n",
       "        }    #T_af8d345e_9b79_11ea_aeb8_74d4359cf509row1_col1 {\n",
       "            background-color:  #5e4fa2;\n",
       "            color:  #f1f1f1;\n",
       "        }    #T_af8d345e_9b79_11ea_aeb8_74d4359cf509row1_col2 {\n",
       "            background-color:  #e55749;\n",
       "            color:  #000000;\n",
       "        }    #T_af8d345e_9b79_11ea_aeb8_74d4359cf509row1_col3 {\n",
       "            background-color:  #ad1246;\n",
       "            color:  #f1f1f1;\n",
       "        }    #T_af8d345e_9b79_11ea_aeb8_74d4359cf509row1_col4 {\n",
       "            background-color:  #ea5e47;\n",
       "            color:  #000000;\n",
       "        }    #T_af8d345e_9b79_11ea_aeb8_74d4359cf509row1_col5 {\n",
       "            background-color:  #f8864f;\n",
       "            color:  #000000;\n",
       "        }    #T_af8d345e_9b79_11ea_aeb8_74d4359cf509row1_col6 {\n",
       "            background-color:  #fba35c;\n",
       "            color:  #000000;\n",
       "        }    #T_af8d345e_9b79_11ea_aeb8_74d4359cf509row1_col7 {\n",
       "            background-color:  #a40844;\n",
       "            color:  #f1f1f1;\n",
       "        }    #T_af8d345e_9b79_11ea_aeb8_74d4359cf509row1_col8 {\n",
       "            background-color:  #a20643;\n",
       "            color:  #f1f1f1;\n",
       "        }    #T_af8d345e_9b79_11ea_aeb8_74d4359cf509row1_col9 {\n",
       "            background-color:  #d7414e;\n",
       "            color:  #f1f1f1;\n",
       "        }    #T_af8d345e_9b79_11ea_aeb8_74d4359cf509row1_col10 {\n",
       "            background-color:  #e2514a;\n",
       "            color:  #000000;\n",
       "        }    #T_af8d345e_9b79_11ea_aeb8_74d4359cf509row1_col11 {\n",
       "            background-color:  #d23a4e;\n",
       "            color:  #f1f1f1;\n",
       "        }    #T_af8d345e_9b79_11ea_aeb8_74d4359cf509row1_col12 {\n",
       "            background-color:  #dd4a4c;\n",
       "            color:  #000000;\n",
       "        }    #T_af8d345e_9b79_11ea_aeb8_74d4359cf509row1_col13 {\n",
       "            background-color:  #fffab6;\n",
       "            color:  #000000;\n",
       "        }    #T_af8d345e_9b79_11ea_aeb8_74d4359cf509row1_col14 {\n",
       "            background-color:  #fcaa5f;\n",
       "            color:  #000000;\n",
       "        }    #T_af8d345e_9b79_11ea_aeb8_74d4359cf509row1_col15 {\n",
       "            background-color:  #f7814c;\n",
       "            color:  #000000;\n",
       "        }    #T_af8d345e_9b79_11ea_aeb8_74d4359cf509row1_col16 {\n",
       "            background-color:  #cb334d;\n",
       "            color:  #f1f1f1;\n",
       "        }    #T_af8d345e_9b79_11ea_aeb8_74d4359cf509row1_col17 {\n",
       "            background-color:  #c1274a;\n",
       "            color:  #f1f1f1;\n",
       "        }    #T_af8d345e_9b79_11ea_aeb8_74d4359cf509row1_col18 {\n",
       "            background-color:  #d8434e;\n",
       "            color:  #f1f1f1;\n",
       "        }    #T_af8d345e_9b79_11ea_aeb8_74d4359cf509row2_col0 {\n",
       "            background-color:  #f36b43;\n",
       "            color:  #000000;\n",
       "        }    #T_af8d345e_9b79_11ea_aeb8_74d4359cf509row2_col1 {\n",
       "            background-color:  #f67c4a;\n",
       "            color:  #000000;\n",
       "        }    #T_af8d345e_9b79_11ea_aeb8_74d4359cf509row2_col2 {\n",
       "            background-color:  #5e4fa2;\n",
       "            color:  #f1f1f1;\n",
       "        }    #T_af8d345e_9b79_11ea_aeb8_74d4359cf509row2_col3 {\n",
       "            background-color:  #d0384e;\n",
       "            color:  #f1f1f1;\n",
       "        }    #T_af8d345e_9b79_11ea_aeb8_74d4359cf509row2_col4 {\n",
       "            background-color:  #d8434e;\n",
       "            color:  #f1f1f1;\n",
       "        }    #T_af8d345e_9b79_11ea_aeb8_74d4359cf509row2_col5 {\n",
       "            background-color:  #d63f4f;\n",
       "            color:  #f1f1f1;\n",
       "        }    #T_af8d345e_9b79_11ea_aeb8_74d4359cf509row2_col6 {\n",
       "            background-color:  #f57245;\n",
       "            color:  #000000;\n",
       "        }    #T_af8d345e_9b79_11ea_aeb8_74d4359cf509row2_col7 {\n",
       "            background-color:  #bc2249;\n",
       "            color:  #f1f1f1;\n",
       "        }    #T_af8d345e_9b79_11ea_aeb8_74d4359cf509row2_col8 {\n",
       "            background-color:  #b41947;\n",
       "            color:  #f1f1f1;\n",
       "        }    #T_af8d345e_9b79_11ea_aeb8_74d4359cf509row2_col9 {\n",
       "            background-color:  #ee6445;\n",
       "            color:  #000000;\n",
       "        }    #T_af8d345e_9b79_11ea_aeb8_74d4359cf509row2_col10 {\n",
       "            background-color:  #d23a4e;\n",
       "            color:  #f1f1f1;\n",
       "        }    #T_af8d345e_9b79_11ea_aeb8_74d4359cf509row2_col11 {\n",
       "            background-color:  #e1504b;\n",
       "            color:  #000000;\n",
       "        }    #T_af8d345e_9b79_11ea_aeb8_74d4359cf509row2_col12 {\n",
       "            background-color:  #de4c4b;\n",
       "            color:  #000000;\n",
       "        }    #T_af8d345e_9b79_11ea_aeb8_74d4359cf509row2_col13 {\n",
       "            background-color:  #fedc88;\n",
       "            color:  #000000;\n",
       "        }    #T_af8d345e_9b79_11ea_aeb8_74d4359cf509row2_col14 {\n",
       "            background-color:  #feca79;\n",
       "            color:  #000000;\n",
       "        }    #T_af8d345e_9b79_11ea_aeb8_74d4359cf509row2_col15 {\n",
       "            background-color:  #d43d4f;\n",
       "            color:  #f1f1f1;\n",
       "        }    #T_af8d345e_9b79_11ea_aeb8_74d4359cf509row2_col16 {\n",
       "            background-color:  #f47044;\n",
       "            color:  #000000;\n",
       "        }    #T_af8d345e_9b79_11ea_aeb8_74d4359cf509row2_col17 {\n",
       "            background-color:  #e95c47;\n",
       "            color:  #000000;\n",
       "        }    #T_af8d345e_9b79_11ea_aeb8_74d4359cf509row2_col18 {\n",
       "            background-color:  #f57547;\n",
       "            color:  #000000;\n",
       "        }    #T_af8d345e_9b79_11ea_aeb8_74d4359cf509row3_col0 {\n",
       "            background-color:  #ef6645;\n",
       "            color:  #000000;\n",
       "        }    #T_af8d345e_9b79_11ea_aeb8_74d4359cf509row3_col1 {\n",
       "            background-color:  #d8434e;\n",
       "            color:  #f1f1f1;\n",
       "        }    #T_af8d345e_9b79_11ea_aeb8_74d4359cf509row3_col2 {\n",
       "            background-color:  #d23a4e;\n",
       "            color:  #f1f1f1;\n",
       "        }    #T_af8d345e_9b79_11ea_aeb8_74d4359cf509row3_col3 {\n",
       "            background-color:  #5e4fa2;\n",
       "            color:  #f1f1f1;\n",
       "        }    #T_af8d345e_9b79_11ea_aeb8_74d4359cf509row3_col4 {\n",
       "            background-color:  #c9314c;\n",
       "            color:  #f1f1f1;\n",
       "        }    #T_af8d345e_9b79_11ea_aeb8_74d4359cf509row3_col5 {\n",
       "            background-color:  #c1274a;\n",
       "            color:  #f1f1f1;\n",
       "        }    #T_af8d345e_9b79_11ea_aeb8_74d4359cf509row3_col6 {\n",
       "            background-color:  #ef6645;\n",
       "            color:  #000000;\n",
       "        }    #T_af8d345e_9b79_11ea_aeb8_74d4359cf509row3_col7 {\n",
       "            background-color:  #c1274a;\n",
       "            color:  #f1f1f1;\n",
       "        }    #T_af8d345e_9b79_11ea_aeb8_74d4359cf509row3_col8 {\n",
       "            background-color:  #ad1246;\n",
       "            color:  #f1f1f1;\n",
       "        }    #T_af8d345e_9b79_11ea_aeb8_74d4359cf509row3_col9 {\n",
       "            background-color:  #f46d43;\n",
       "            color:  #000000;\n",
       "        }    #T_af8d345e_9b79_11ea_aeb8_74d4359cf509row3_col10 {\n",
       "            background-color:  #b11747;\n",
       "            color:  #f1f1f1;\n",
       "        }    #T_af8d345e_9b79_11ea_aeb8_74d4359cf509row3_col11 {\n",
       "            background-color:  #e55749;\n",
       "            color:  #000000;\n",
       "        }    #T_af8d345e_9b79_11ea_aeb8_74d4359cf509row3_col12 {\n",
       "            background-color:  #df4e4b;\n",
       "            color:  #000000;\n",
       "        }    #T_af8d345e_9b79_11ea_aeb8_74d4359cf509row3_col13 {\n",
       "            background-color:  #fed07e;\n",
       "            color:  #000000;\n",
       "        }    #T_af8d345e_9b79_11ea_aeb8_74d4359cf509row3_col14 {\n",
       "            background-color:  #fed07e;\n",
       "            color:  #000000;\n",
       "        }    #T_af8d345e_9b79_11ea_aeb8_74d4359cf509row3_col15 {\n",
       "            background-color:  #d23a4e;\n",
       "            color:  #f1f1f1;\n",
       "        }    #T_af8d345e_9b79_11ea_aeb8_74d4359cf509row3_col16 {\n",
       "            background-color:  #e95c47;\n",
       "            color:  #000000;\n",
       "        }    #T_af8d345e_9b79_11ea_aeb8_74d4359cf509row3_col17 {\n",
       "            background-color:  #ea5e47;\n",
       "            color:  #000000;\n",
       "        }    #T_af8d345e_9b79_11ea_aeb8_74d4359cf509row3_col18 {\n",
       "            background-color:  #f26944;\n",
       "            color:  #000000;\n",
       "        }    #T_af8d345e_9b79_11ea_aeb8_74d4359cf509row4_col0 {\n",
       "            background-color:  #f06744;\n",
       "            color:  #000000;\n",
       "        }    #T_af8d345e_9b79_11ea_aeb8_74d4359cf509row4_col1 {\n",
       "            background-color:  #ef6645;\n",
       "            color:  #000000;\n",
       "        }    #T_af8d345e_9b79_11ea_aeb8_74d4359cf509row4_col2 {\n",
       "            background-color:  #b61b48;\n",
       "            color:  #f1f1f1;\n",
       "        }    #T_af8d345e_9b79_11ea_aeb8_74d4359cf509row4_col3 {\n",
       "            background-color:  #a20643;\n",
       "            color:  #f1f1f1;\n",
       "        }    #T_af8d345e_9b79_11ea_aeb8_74d4359cf509row4_col4 {\n",
       "            background-color:  #5e4fa2;\n",
       "            color:  #f1f1f1;\n",
       "        }    #T_af8d345e_9b79_11ea_aeb8_74d4359cf509row4_col5 {\n",
       "            background-color:  #f5fbaf;\n",
       "            color:  #000000;\n",
       "        }    #T_af8d345e_9b79_11ea_aeb8_74d4359cf509row4_col6 {\n",
       "            background-color:  #f99355;\n",
       "            color:  #000000;\n",
       "        }    #T_af8d345e_9b79_11ea_aeb8_74d4359cf509row4_col7 {\n",
       "            background-color:  #d23a4e;\n",
       "            color:  #f1f1f1;\n",
       "        }    #T_af8d345e_9b79_11ea_aeb8_74d4359cf509row4_col8 {\n",
       "            background-color:  #b81e48;\n",
       "            color:  #f1f1f1;\n",
       "        }    #T_af8d345e_9b79_11ea_aeb8_74d4359cf509row4_col9 {\n",
       "            background-color:  #df4e4b;\n",
       "            color:  #000000;\n",
       "        }    #T_af8d345e_9b79_11ea_aeb8_74d4359cf509row4_col10 {\n",
       "            background-color:  #b81e48;\n",
       "            color:  #f1f1f1;\n",
       "        }    #T_af8d345e_9b79_11ea_aeb8_74d4359cf509row4_col11 {\n",
       "            background-color:  #da464d;\n",
       "            color:  #f1f1f1;\n",
       "        }    #T_af8d345e_9b79_11ea_aeb8_74d4359cf509row4_col12 {\n",
       "            background-color:  #ee6445;\n",
       "            color:  #000000;\n",
       "        }    #T_af8d345e_9b79_11ea_aeb8_74d4359cf509row4_col13 {\n",
       "            background-color:  #fff0a6;\n",
       "            color:  #000000;\n",
       "        }    #T_af8d345e_9b79_11ea_aeb8_74d4359cf509row4_col14 {\n",
       "            background-color:  #fdb163;\n",
       "            color:  #000000;\n",
       "        }    #T_af8d345e_9b79_11ea_aeb8_74d4359cf509row4_col15 {\n",
       "            background-color:  #ab0f45;\n",
       "            color:  #f1f1f1;\n",
       "        }    #T_af8d345e_9b79_11ea_aeb8_74d4359cf509row4_col16 {\n",
       "            background-color:  #ee6445;\n",
       "            color:  #000000;\n",
       "        }    #T_af8d345e_9b79_11ea_aeb8_74d4359cf509row4_col17 {\n",
       "            background-color:  #e3534a;\n",
       "            color:  #000000;\n",
       "        }    #T_af8d345e_9b79_11ea_aeb8_74d4359cf509row4_col18 {\n",
       "            background-color:  #f88c51;\n",
       "            color:  #000000;\n",
       "        }    #T_af8d345e_9b79_11ea_aeb8_74d4359cf509row5_col0 {\n",
       "            background-color:  #f57245;\n",
       "            color:  #000000;\n",
       "        }    #T_af8d345e_9b79_11ea_aeb8_74d4359cf509row5_col1 {\n",
       "            background-color:  #f99153;\n",
       "            color:  #000000;\n",
       "        }    #T_af8d345e_9b79_11ea_aeb8_74d4359cf509row5_col2 {\n",
       "            background-color:  #b61b48;\n",
       "            color:  #f1f1f1;\n",
       "        }    #T_af8d345e_9b79_11ea_aeb8_74d4359cf509row5_col3 {\n",
       "            background-color:  #9e0142;\n",
       "            color:  #f1f1f1;\n",
       "        }    #T_af8d345e_9b79_11ea_aeb8_74d4359cf509row5_col4 {\n",
       "            background-color:  #f5fbaf;\n",
       "            color:  #000000;\n",
       "        }    #T_af8d345e_9b79_11ea_aeb8_74d4359cf509row5_col5 {\n",
       "            background-color:  #5e4fa2;\n",
       "            color:  #f1f1f1;\n",
       "        }    #T_af8d345e_9b79_11ea_aeb8_74d4359cf509row5_col6 {\n",
       "            background-color:  #fa9656;\n",
       "            color:  #000000;\n",
       "        }    #T_af8d345e_9b79_11ea_aeb8_74d4359cf509row5_col7 {\n",
       "            background-color:  #d0384e;\n",
       "            color:  #f1f1f1;\n",
       "        }    #T_af8d345e_9b79_11ea_aeb8_74d4359cf509row5_col8 {\n",
       "            background-color:  #ba2049;\n",
       "            color:  #f1f1f1;\n",
       "        }    #T_af8d345e_9b79_11ea_aeb8_74d4359cf509row5_col9 {\n",
       "            background-color:  #dd4a4c;\n",
       "            color:  #000000;\n",
       "        }    #T_af8d345e_9b79_11ea_aeb8_74d4359cf509row5_col10 {\n",
       "            background-color:  #b81e48;\n",
       "            color:  #f1f1f1;\n",
       "        }    #T_af8d345e_9b79_11ea_aeb8_74d4359cf509row5_col11 {\n",
       "            background-color:  #d9444d;\n",
       "            color:  #f1f1f1;\n",
       "        }    #T_af8d345e_9b79_11ea_aeb8_74d4359cf509row5_col12 {\n",
       "            background-color:  #f57245;\n",
       "            color:  #000000;\n",
       "        }    #T_af8d345e_9b79_11ea_aeb8_74d4359cf509row5_col13 {\n",
       "            background-color:  #feefa3;\n",
       "            color:  #000000;\n",
       "        }    #T_af8d345e_9b79_11ea_aeb8_74d4359cf509row5_col14 {\n",
       "            background-color:  #fdb96a;\n",
       "            color:  #000000;\n",
       "        }    #T_af8d345e_9b79_11ea_aeb8_74d4359cf509row5_col15 {\n",
       "            background-color:  #c72e4c;\n",
       "            color:  #f1f1f1;\n",
       "        }    #T_af8d345e_9b79_11ea_aeb8_74d4359cf509row5_col16 {\n",
       "            background-color:  #f36b43;\n",
       "            color:  #000000;\n",
       "        }    #T_af8d345e_9b79_11ea_aeb8_74d4359cf509row5_col17 {\n",
       "            background-color:  #e2514a;\n",
       "            color:  #000000;\n",
       "        }    #T_af8d345e_9b79_11ea_aeb8_74d4359cf509row5_col18 {\n",
       "            background-color:  #f88950;\n",
       "            color:  #000000;\n",
       "        }    #T_af8d345e_9b79_11ea_aeb8_74d4359cf509row6_col0 {\n",
       "            background-color:  #f7844e;\n",
       "            color:  #000000;\n",
       "        }    #T_af8d345e_9b79_11ea_aeb8_74d4359cf509row6_col1 {\n",
       "            background-color:  #f57748;\n",
       "            color:  #000000;\n",
       "        }    #T_af8d345e_9b79_11ea_aeb8_74d4359cf509row6_col2 {\n",
       "            background-color:  #ba2049;\n",
       "            color:  #f1f1f1;\n",
       "        }    #T_af8d345e_9b79_11ea_aeb8_74d4359cf509row6_col3 {\n",
       "            background-color:  #ab0f45;\n",
       "            color:  #f1f1f1;\n",
       "        }    #T_af8d345e_9b79_11ea_aeb8_74d4359cf509row6_col4 {\n",
       "            background-color:  #ed6246;\n",
       "            color:  #000000;\n",
       "        }    #T_af8d345e_9b79_11ea_aeb8_74d4359cf509row6_col5 {\n",
       "            background-color:  #eb6046;\n",
       "            color:  #000000;\n",
       "        }    #T_af8d345e_9b79_11ea_aeb8_74d4359cf509row6_col6 {\n",
       "            background-color:  #5e4fa2;\n",
       "            color:  #f1f1f1;\n",
       "        }    #T_af8d345e_9b79_11ea_aeb8_74d4359cf509row6_col7 {\n",
       "            background-color:  #c9314c;\n",
       "            color:  #f1f1f1;\n",
       "        }    #T_af8d345e_9b79_11ea_aeb8_74d4359cf509row6_col8 {\n",
       "            background-color:  #b81e48;\n",
       "            color:  #f1f1f1;\n",
       "        }    #T_af8d345e_9b79_11ea_aeb8_74d4359cf509row6_col9 {\n",
       "            background-color:  #cd364d;\n",
       "            color:  #f1f1f1;\n",
       "        }    #T_af8d345e_9b79_11ea_aeb8_74d4359cf509row6_col10 {\n",
       "            background-color:  #bc2249;\n",
       "            color:  #f1f1f1;\n",
       "        }    #T_af8d345e_9b79_11ea_aeb8_74d4359cf509row6_col11 {\n",
       "            background-color:  #c1274a;\n",
       "            color:  #f1f1f1;\n",
       "        }    #T_af8d345e_9b79_11ea_aeb8_74d4359cf509row6_col12 {\n",
       "            background-color:  #c9314c;\n",
       "            color:  #f1f1f1;\n",
       "        }    #T_af8d345e_9b79_11ea_aeb8_74d4359cf509row6_col13 {\n",
       "            background-color:  #fffbb8;\n",
       "            color:  #000000;\n",
       "        }    #T_af8d345e_9b79_11ea_aeb8_74d4359cf509row6_col14 {\n",
       "            background-color:  #f67f4b;\n",
       "            color:  #000000;\n",
       "        }    #T_af8d345e_9b79_11ea_aeb8_74d4359cf509row6_col15 {\n",
       "            background-color:  #c32a4b;\n",
       "            color:  #f1f1f1;\n",
       "        }    #T_af8d345e_9b79_11ea_aeb8_74d4359cf509row6_col16 {\n",
       "            background-color:  #fdc171;\n",
       "            color:  #000000;\n",
       "        }    #T_af8d345e_9b79_11ea_aeb8_74d4359cf509row6_col17 {\n",
       "            background-color:  #ed6246;\n",
       "            color:  #000000;\n",
       "        }    #T_af8d345e_9b79_11ea_aeb8_74d4359cf509row6_col18 {\n",
       "            background-color:  #fca85e;\n",
       "            color:  #000000;\n",
       "        }    #T_af8d345e_9b79_11ea_aeb8_74d4359cf509row7_col0 {\n",
       "            background-color:  #f26944;\n",
       "            color:  #000000;\n",
       "        }    #T_af8d345e_9b79_11ea_aeb8_74d4359cf509row7_col1 {\n",
       "            background-color:  #c72e4c;\n",
       "            color:  #f1f1f1;\n",
       "        }    #T_af8d345e_9b79_11ea_aeb8_74d4359cf509row7_col2 {\n",
       "            background-color:  #af1446;\n",
       "            color:  #f1f1f1;\n",
       "        }    #T_af8d345e_9b79_11ea_aeb8_74d4359cf509row7_col3 {\n",
       "            background-color:  #b41947;\n",
       "            color:  #f1f1f1;\n",
       "        }    #T_af8d345e_9b79_11ea_aeb8_74d4359cf509row7_col4 {\n",
       "            background-color:  #df4e4b;\n",
       "            color:  #000000;\n",
       "        }    #T_af8d345e_9b79_11ea_aeb8_74d4359cf509row7_col5 {\n",
       "            background-color:  #de4c4b;\n",
       "            color:  #000000;\n",
       "        }    #T_af8d345e_9b79_11ea_aeb8_74d4359cf509row7_col6 {\n",
       "            background-color:  #f57547;\n",
       "            color:  #000000;\n",
       "        }    #T_af8d345e_9b79_11ea_aeb8_74d4359cf509row7_col7 {\n",
       "            background-color:  #5e4fa2;\n",
       "            color:  #f1f1f1;\n",
       "        }    #T_af8d345e_9b79_11ea_aeb8_74d4359cf509row7_col8 {\n",
       "            background-color:  #bc2249;\n",
       "            color:  #f1f1f1;\n",
       "        }    #T_af8d345e_9b79_11ea_aeb8_74d4359cf509row7_col9 {\n",
       "            background-color:  #ed6246;\n",
       "            color:  #000000;\n",
       "        }    #T_af8d345e_9b79_11ea_aeb8_74d4359cf509row7_col10 {\n",
       "            background-color:  #b11747;\n",
       "            color:  #f1f1f1;\n",
       "        }    #T_af8d345e_9b79_11ea_aeb8_74d4359cf509row7_col11 {\n",
       "            background-color:  #e1504b;\n",
       "            color:  #000000;\n",
       "        }    #T_af8d345e_9b79_11ea_aeb8_74d4359cf509row7_col12 {\n",
       "            background-color:  #ea5e47;\n",
       "            color:  #000000;\n",
       "        }    #T_af8d345e_9b79_11ea_aeb8_74d4359cf509row7_col13 {\n",
       "            background-color:  #fee08b;\n",
       "            color:  #000000;\n",
       "        }    #T_af8d345e_9b79_11ea_aeb8_74d4359cf509row7_col14 {\n",
       "            background-color:  #fdc171;\n",
       "            color:  #000000;\n",
       "        }    #T_af8d345e_9b79_11ea_aeb8_74d4359cf509row7_col15 {\n",
       "            background-color:  #b61b48;\n",
       "            color:  #f1f1f1;\n",
       "        }    #T_af8d345e_9b79_11ea_aeb8_74d4359cf509row7_col16 {\n",
       "            background-color:  #fee695;\n",
       "            color:  #000000;\n",
       "        }    #T_af8d345e_9b79_11ea_aeb8_74d4359cf509row7_col17 {\n",
       "            background-color:  #f57245;\n",
       "            color:  #000000;\n",
       "        }    #T_af8d345e_9b79_11ea_aeb8_74d4359cf509row7_col18 {\n",
       "            background-color:  #f99153;\n",
       "            color:  #000000;\n",
       "        }    #T_af8d345e_9b79_11ea_aeb8_74d4359cf509row8_col0 {\n",
       "            background-color:  #e95c47;\n",
       "            color:  #000000;\n",
       "        }    #T_af8d345e_9b79_11ea_aeb8_74d4359cf509row8_col1 {\n",
       "            background-color:  #d0384e;\n",
       "            color:  #f1f1f1;\n",
       "        }    #T_af8d345e_9b79_11ea_aeb8_74d4359cf509row8_col2 {\n",
       "            background-color:  #b41947;\n",
       "            color:  #f1f1f1;\n",
       "        }    #T_af8d345e_9b79_11ea_aeb8_74d4359cf509row8_col3 {\n",
       "            background-color:  #ab0f45;\n",
       "            color:  #f1f1f1;\n",
       "        }    #T_af8d345e_9b79_11ea_aeb8_74d4359cf509row8_col4 {\n",
       "            background-color:  #d8434e;\n",
       "            color:  #f1f1f1;\n",
       "        }    #T_af8d345e_9b79_11ea_aeb8_74d4359cf509row8_col5 {\n",
       "            background-color:  #d7414e;\n",
       "            color:  #f1f1f1;\n",
       "        }    #T_af8d345e_9b79_11ea_aeb8_74d4359cf509row8_col6 {\n",
       "            background-color:  #f46d43;\n",
       "            color:  #000000;\n",
       "        }    #T_af8d345e_9b79_11ea_aeb8_74d4359cf509row8_col7 {\n",
       "            background-color:  #c52c4b;\n",
       "            color:  #f1f1f1;\n",
       "        }    #T_af8d345e_9b79_11ea_aeb8_74d4359cf509row8_col8 {\n",
       "            background-color:  #5e4fa2;\n",
       "            color:  #f1f1f1;\n",
       "        }    #T_af8d345e_9b79_11ea_aeb8_74d4359cf509row8_col9 {\n",
       "            background-color:  #f36b43;\n",
       "            color:  #000000;\n",
       "        }    #T_af8d345e_9b79_11ea_aeb8_74d4359cf509row8_col10 {\n",
       "            background-color:  #bc2249;\n",
       "            color:  #f1f1f1;\n",
       "        }    #T_af8d345e_9b79_11ea_aeb8_74d4359cf509row8_col11 {\n",
       "            background-color:  #e45549;\n",
       "            color:  #000000;\n",
       "        }    #T_af8d345e_9b79_11ea_aeb8_74d4359cf509row8_col12 {\n",
       "            background-color:  #f36b43;\n",
       "            color:  #000000;\n",
       "        }    #T_af8d345e_9b79_11ea_aeb8_74d4359cf509row8_col13 {\n",
       "            background-color:  #fed07e;\n",
       "            color:  #000000;\n",
       "        }    #T_af8d345e_9b79_11ea_aeb8_74d4359cf509row8_col14 {\n",
       "            background-color:  #fece7c;\n",
       "            color:  #000000;\n",
       "        }    #T_af8d345e_9b79_11ea_aeb8_74d4359cf509row8_col15 {\n",
       "            background-color:  #c32a4b;\n",
       "            color:  #f1f1f1;\n",
       "        }    #T_af8d345e_9b79_11ea_aeb8_74d4359cf509row8_col16 {\n",
       "            background-color:  #e95c47;\n",
       "            color:  #000000;\n",
       "        }    #T_af8d345e_9b79_11ea_aeb8_74d4359cf509row8_col17 {\n",
       "            background-color:  #f26944;\n",
       "            color:  #000000;\n",
       "        }    #T_af8d345e_9b79_11ea_aeb8_74d4359cf509row8_col18 {\n",
       "            background-color:  #fa9b58;\n",
       "            color:  #000000;\n",
       "        }    #T_af8d345e_9b79_11ea_aeb8_74d4359cf509row9_col0 {\n",
       "            background-color:  #dc484c;\n",
       "            color:  #f1f1f1;\n",
       "        }    #T_af8d345e_9b79_11ea_aeb8_74d4359cf509row9_col1 {\n",
       "            background-color:  #9e0142;\n",
       "            color:  #f1f1f1;\n",
       "        }    #T_af8d345e_9b79_11ea_aeb8_74d4359cf509row9_col2 {\n",
       "            background-color:  #9e0142;\n",
       "            color:  #f1f1f1;\n",
       "        }    #T_af8d345e_9b79_11ea_aeb8_74d4359cf509row9_col3 {\n",
       "            background-color:  #a90d45;\n",
       "            color:  #f1f1f1;\n",
       "        }    #T_af8d345e_9b79_11ea_aeb8_74d4359cf509row9_col4 {\n",
       "            background-color:  #a40844;\n",
       "            color:  #f1f1f1;\n",
       "        }    #T_af8d345e_9b79_11ea_aeb8_74d4359cf509row9_col5 {\n",
       "            background-color:  #9e0142;\n",
       "            color:  #f1f1f1;\n",
       "        }    #T_af8d345e_9b79_11ea_aeb8_74d4359cf509row9_col6 {\n",
       "            background-color:  #c32a4b;\n",
       "            color:  #f1f1f1;\n",
       "        }    #T_af8d345e_9b79_11ea_aeb8_74d4359cf509row9_col7 {\n",
       "            background-color:  #a90d45;\n",
       "            color:  #f1f1f1;\n",
       "        }    #T_af8d345e_9b79_11ea_aeb8_74d4359cf509row9_col8 {\n",
       "            background-color:  #a90d45;\n",
       "            color:  #f1f1f1;\n",
       "        }    #T_af8d345e_9b79_11ea_aeb8_74d4359cf509row9_col9 {\n",
       "            background-color:  #5e4fa2;\n",
       "            color:  #f1f1f1;\n",
       "        }    #T_af8d345e_9b79_11ea_aeb8_74d4359cf509row9_col10 {\n",
       "            background-color:  #e1504b;\n",
       "            color:  #000000;\n",
       "        }    #T_af8d345e_9b79_11ea_aeb8_74d4359cf509row9_col11 {\n",
       "            background-color:  #fcfeba;\n",
       "            color:  #000000;\n",
       "        }    #T_af8d345e_9b79_11ea_aeb8_74d4359cf509row9_col12 {\n",
       "            background-color:  #e1504b;\n",
       "            color:  #000000;\n",
       "        }    #T_af8d345e_9b79_11ea_aeb8_74d4359cf509row9_col13 {\n",
       "            background-color:  #f57245;\n",
       "            color:  #000000;\n",
       "        }    #T_af8d345e_9b79_11ea_aeb8_74d4359cf509row9_col14 {\n",
       "            background-color:  #eff9a6;\n",
       "            color:  #000000;\n",
       "        }    #T_af8d345e_9b79_11ea_aeb8_74d4359cf509row9_col15 {\n",
       "            background-color:  #bc2249;\n",
       "            color:  #f1f1f1;\n",
       "        }    #T_af8d345e_9b79_11ea_aeb8_74d4359cf509row9_col16 {\n",
       "            background-color:  #ab0f45;\n",
       "            color:  #f1f1f1;\n",
       "        }    #T_af8d345e_9b79_11ea_aeb8_74d4359cf509row9_col17 {\n",
       "            background-color:  #f67f4b;\n",
       "            color:  #000000;\n",
       "        }    #T_af8d345e_9b79_11ea_aeb8_74d4359cf509row9_col18 {\n",
       "            background-color:  #f46d43;\n",
       "            color:  #000000;\n",
       "        }    #T_af8d345e_9b79_11ea_aeb8_74d4359cf509row10_col0 {\n",
       "            background-color:  #fba05b;\n",
       "            color:  #000000;\n",
       "        }    #T_af8d345e_9b79_11ea_aeb8_74d4359cf509row10_col1 {\n",
       "            background-color:  #f06744;\n",
       "            color:  #000000;\n",
       "        }    #T_af8d345e_9b79_11ea_aeb8_74d4359cf509row10_col2 {\n",
       "            background-color:  #c1274a;\n",
       "            color:  #f1f1f1;\n",
       "        }    #T_af8d345e_9b79_11ea_aeb8_74d4359cf509row10_col3 {\n",
       "            background-color:  #9e0142;\n",
       "            color:  #f1f1f1;\n",
       "        }    #T_af8d345e_9b79_11ea_aeb8_74d4359cf509row10_col4 {\n",
       "            background-color:  #cb334d;\n",
       "            color:  #f1f1f1;\n",
       "        }    #T_af8d345e_9b79_11ea_aeb8_74d4359cf509row10_col5 {\n",
       "            background-color:  #c72e4c;\n",
       "            color:  #f1f1f1;\n",
       "        }    #T_af8d345e_9b79_11ea_aeb8_74d4359cf509row10_col6 {\n",
       "            background-color:  #ee6445;\n",
       "            color:  #000000;\n",
       "        }    #T_af8d345e_9b79_11ea_aeb8_74d4359cf509row10_col7 {\n",
       "            background-color:  #ad1246;\n",
       "            color:  #f1f1f1;\n",
       "        }    #T_af8d345e_9b79_11ea_aeb8_74d4359cf509row10_col8 {\n",
       "            background-color:  #ab0f45;\n",
       "            color:  #f1f1f1;\n",
       "        }    #T_af8d345e_9b79_11ea_aeb8_74d4359cf509row10_col9 {\n",
       "            background-color:  #fa9b58;\n",
       "            color:  #000000;\n",
       "        }    #T_af8d345e_9b79_11ea_aeb8_74d4359cf509row10_col10 {\n",
       "            background-color:  #5e4fa2;\n",
       "            color:  #f1f1f1;\n",
       "        }    #T_af8d345e_9b79_11ea_aeb8_74d4359cf509row10_col11 {\n",
       "            background-color:  #fca55d;\n",
       "            color:  #000000;\n",
       "        }    #T_af8d345e_9b79_11ea_aeb8_74d4359cf509row10_col12 {\n",
       "            background-color:  #d63f4f;\n",
       "            color:  #f1f1f1;\n",
       "        }    #T_af8d345e_9b79_11ea_aeb8_74d4359cf509row10_col13 {\n",
       "            background-color:  #fec877;\n",
       "            color:  #000000;\n",
       "        }    #T_af8d345e_9b79_11ea_aeb8_74d4359cf509row10_col14 {\n",
       "            background-color:  #fed884;\n",
       "            color:  #000000;\n",
       "        }    #T_af8d345e_9b79_11ea_aeb8_74d4359cf509row10_col15 {\n",
       "            background-color:  #cb334d;\n",
       "            color:  #f1f1f1;\n",
       "        }    #T_af8d345e_9b79_11ea_aeb8_74d4359cf509row10_col16 {\n",
       "            background-color:  #cb334d;\n",
       "            color:  #f1f1f1;\n",
       "        }    #T_af8d345e_9b79_11ea_aeb8_74d4359cf509row10_col17 {\n",
       "            background-color:  #e3534a;\n",
       "            color:  #000000;\n",
       "        }    #T_af8d345e_9b79_11ea_aeb8_74d4359cf509row10_col18 {\n",
       "            background-color:  #e45549;\n",
       "            color:  #000000;\n",
       "        }    #T_af8d345e_9b79_11ea_aeb8_74d4359cf509row11_col0 {\n",
       "            background-color:  #e3534a;\n",
       "            color:  #000000;\n",
       "        }    #T_af8d345e_9b79_11ea_aeb8_74d4359cf509row11_col1 {\n",
       "            background-color:  #b81e48;\n",
       "            color:  #f1f1f1;\n",
       "        }    #T_af8d345e_9b79_11ea_aeb8_74d4359cf509row11_col2 {\n",
       "            background-color:  #a20643;\n",
       "            color:  #f1f1f1;\n",
       "        }    #T_af8d345e_9b79_11ea_aeb8_74d4359cf509row11_col3 {\n",
       "            background-color:  #ab0f45;\n",
       "            color:  #f1f1f1;\n",
       "        }    #T_af8d345e_9b79_11ea_aeb8_74d4359cf509row11_col4 {\n",
       "            background-color:  #bc2249;\n",
       "            color:  #f1f1f1;\n",
       "        }    #T_af8d345e_9b79_11ea_aeb8_74d4359cf509row11_col5 {\n",
       "            background-color:  #b61b48;\n",
       "            color:  #f1f1f1;\n",
       "        }    #T_af8d345e_9b79_11ea_aeb8_74d4359cf509row11_col6 {\n",
       "            background-color:  #d63f4f;\n",
       "            color:  #f1f1f1;\n",
       "        }    #T_af8d345e_9b79_11ea_aeb8_74d4359cf509row11_col7 {\n",
       "            background-color:  #af1446;\n",
       "            color:  #f1f1f1;\n",
       "        }    #T_af8d345e_9b79_11ea_aeb8_74d4359cf509row11_col8 {\n",
       "            background-color:  #ab0f45;\n",
       "            color:  #f1f1f1;\n",
       "        }    #T_af8d345e_9b79_11ea_aeb8_74d4359cf509row11_col9 {\n",
       "            background-color:  #f5fbaf;\n",
       "            color:  #000000;\n",
       "        }    #T_af8d345e_9b79_11ea_aeb8_74d4359cf509row11_col10 {\n",
       "            background-color:  #f47044;\n",
       "            color:  #000000;\n",
       "        }    #T_af8d345e_9b79_11ea_aeb8_74d4359cf509row11_col11 {\n",
       "            background-color:  #5e4fa2;\n",
       "            color:  #f1f1f1;\n",
       "        }    #T_af8d345e_9b79_11ea_aeb8_74d4359cf509row11_col12 {\n",
       "            background-color:  #e1504b;\n",
       "            color:  #000000;\n",
       "        }    #T_af8d345e_9b79_11ea_aeb8_74d4359cf509row11_col13 {\n",
       "            background-color:  #f99153;\n",
       "            color:  #000000;\n",
       "        }    #T_af8d345e_9b79_11ea_aeb8_74d4359cf509row11_col14 {\n",
       "            background-color:  #f5fbaf;\n",
       "            color:  #000000;\n",
       "        }    #T_af8d345e_9b79_11ea_aeb8_74d4359cf509row11_col15 {\n",
       "            background-color:  #c32a4b;\n",
       "            color:  #f1f1f1;\n",
       "        }    #T_af8d345e_9b79_11ea_aeb8_74d4359cf509row11_col16 {\n",
       "            background-color:  #c9314c;\n",
       "            color:  #f1f1f1;\n",
       "        }    #T_af8d345e_9b79_11ea_aeb8_74d4359cf509row11_col17 {\n",
       "            background-color:  #f46d43;\n",
       "            color:  #000000;\n",
       "        }    #T_af8d345e_9b79_11ea_aeb8_74d4359cf509row11_col18 {\n",
       "            background-color:  #f67a49;\n",
       "            color:  #000000;\n",
       "        }    #T_af8d345e_9b79_11ea_aeb8_74d4359cf509row12_col0 {\n",
       "            background-color:  #c52c4b;\n",
       "            color:  #f1f1f1;\n",
       "        }    #T_af8d345e_9b79_11ea_aeb8_74d4359cf509row12_col1 {\n",
       "            background-color:  #d8434e;\n",
       "            color:  #f1f1f1;\n",
       "        }    #T_af8d345e_9b79_11ea_aeb8_74d4359cf509row12_col2 {\n",
       "            background-color:  #af1446;\n",
       "            color:  #f1f1f1;\n",
       "        }    #T_af8d345e_9b79_11ea_aeb8_74d4359cf509row12_col3 {\n",
       "            background-color:  #b11747;\n",
       "            color:  #f1f1f1;\n",
       "        }    #T_af8d345e_9b79_11ea_aeb8_74d4359cf509row12_col4 {\n",
       "            background-color:  #e45549;\n",
       "            color:  #000000;\n",
       "        }    #T_af8d345e_9b79_11ea_aeb8_74d4359cf509row12_col5 {\n",
       "            background-color:  #ed6246;\n",
       "            color:  #000000;\n",
       "        }    #T_af8d345e_9b79_11ea_aeb8_74d4359cf509row12_col6 {\n",
       "            background-color:  #e2514a;\n",
       "            color:  #000000;\n",
       "        }    #T_af8d345e_9b79_11ea_aeb8_74d4359cf509row12_col7 {\n",
       "            background-color:  #d23a4e;\n",
       "            color:  #f1f1f1;\n",
       "        }    #T_af8d345e_9b79_11ea_aeb8_74d4359cf509row12_col8 {\n",
       "            background-color:  #d8434e;\n",
       "            color:  #f1f1f1;\n",
       "        }    #T_af8d345e_9b79_11ea_aeb8_74d4359cf509row12_col9 {\n",
       "            background-color:  #f57748;\n",
       "            color:  #000000;\n",
       "        }    #T_af8d345e_9b79_11ea_aeb8_74d4359cf509row12_col10 {\n",
       "            background-color:  #b11747;\n",
       "            color:  #f1f1f1;\n",
       "        }    #T_af8d345e_9b79_11ea_aeb8_74d4359cf509row12_col11 {\n",
       "            background-color:  #e95c47;\n",
       "            color:  #000000;\n",
       "        }    #T_af8d345e_9b79_11ea_aeb8_74d4359cf509row12_col12 {\n",
       "            background-color:  #5e4fa2;\n",
       "            color:  #f1f1f1;\n",
       "        }    #T_af8d345e_9b79_11ea_aeb8_74d4359cf509row12_col13 {\n",
       "            background-color:  #fdbb6c;\n",
       "            color:  #000000;\n",
       "        }    #T_af8d345e_9b79_11ea_aeb8_74d4359cf509row12_col14 {\n",
       "            background-color:  #fee797;\n",
       "            color:  #000000;\n",
       "        }    #T_af8d345e_9b79_11ea_aeb8_74d4359cf509row12_col15 {\n",
       "            background-color:  #c1274a;\n",
       "            color:  #f1f1f1;\n",
       "        }    #T_af8d345e_9b79_11ea_aeb8_74d4359cf509row12_col16 {\n",
       "            background-color:  #e75948;\n",
       "            color:  #000000;\n",
       "        }    #T_af8d345e_9b79_11ea_aeb8_74d4359cf509row12_col17 {\n",
       "            background-color:  #f57748;\n",
       "            color:  #000000;\n",
       "        }    #T_af8d345e_9b79_11ea_aeb8_74d4359cf509row12_col18 {\n",
       "            background-color:  #f7814c;\n",
       "            color:  #000000;\n",
       "        }    #T_af8d345e_9b79_11ea_aeb8_74d4359cf509row13_col0 {\n",
       "            background-color:  #fa9b58;\n",
       "            color:  #000000;\n",
       "        }    #T_af8d345e_9b79_11ea_aeb8_74d4359cf509row13_col1 {\n",
       "            background-color:  #fa9857;\n",
       "            color:  #000000;\n",
       "        }    #T_af8d345e_9b79_11ea_aeb8_74d4359cf509row13_col2 {\n",
       "            background-color:  #be254a;\n",
       "            color:  #f1f1f1;\n",
       "        }    #T_af8d345e_9b79_11ea_aeb8_74d4359cf509row13_col3 {\n",
       "            background-color:  #a90d45;\n",
       "            color:  #f1f1f1;\n",
       "        }    #T_af8d345e_9b79_11ea_aeb8_74d4359cf509row13_col4 {\n",
       "            background-color:  #f57245;\n",
       "            color:  #000000;\n",
       "        }    #T_af8d345e_9b79_11ea_aeb8_74d4359cf509row13_col5 {\n",
       "            background-color:  #f36b43;\n",
       "            color:  #000000;\n",
       "        }    #T_af8d345e_9b79_11ea_aeb8_74d4359cf509row13_col6 {\n",
       "            background-color:  #fdbf6f;\n",
       "            color:  #000000;\n",
       "        }    #T_af8d345e_9b79_11ea_aeb8_74d4359cf509row13_col7 {\n",
       "            background-color:  #d0384e;\n",
       "            color:  #f1f1f1;\n",
       "        }    #T_af8d345e_9b79_11ea_aeb8_74d4359cf509row13_col8 {\n",
       "            background-color:  #ab0f45;\n",
       "            color:  #f1f1f1;\n",
       "        }    #T_af8d345e_9b79_11ea_aeb8_74d4359cf509row13_col9 {\n",
       "            background-color:  #9e0142;\n",
       "            color:  #f1f1f1;\n",
       "        }    #T_af8d345e_9b79_11ea_aeb8_74d4359cf509row13_col10 {\n",
       "            background-color:  #af1446;\n",
       "            color:  #f1f1f1;\n",
       "        }    #T_af8d345e_9b79_11ea_aeb8_74d4359cf509row13_col11 {\n",
       "            background-color:  #9e0142;\n",
       "            color:  #f1f1f1;\n",
       "        }    #T_af8d345e_9b79_11ea_aeb8_74d4359cf509row13_col12 {\n",
       "            background-color:  #be254a;\n",
       "            color:  #f1f1f1;\n",
       "        }    #T_af8d345e_9b79_11ea_aeb8_74d4359cf509row13_col13 {\n",
       "            background-color:  #5e4fa2;\n",
       "            color:  #f1f1f1;\n",
       "        }    #T_af8d345e_9b79_11ea_aeb8_74d4359cf509row13_col14 {\n",
       "            background-color:  #9e0142;\n",
       "            color:  #f1f1f1;\n",
       "        }    #T_af8d345e_9b79_11ea_aeb8_74d4359cf509row13_col15 {\n",
       "            background-color:  #d9444d;\n",
       "            color:  #f1f1f1;\n",
       "        }    #T_af8d345e_9b79_11ea_aeb8_74d4359cf509row13_col16 {\n",
       "            background-color:  #f99153;\n",
       "            color:  #000000;\n",
       "        }    #T_af8d345e_9b79_11ea_aeb8_74d4359cf509row13_col17 {\n",
       "            background-color:  #cd364d;\n",
       "            color:  #f1f1f1;\n",
       "        }    #T_af8d345e_9b79_11ea_aeb8_74d4359cf509row13_col18 {\n",
       "            background-color:  #fba05b;\n",
       "            color:  #000000;\n",
       "        }    #T_af8d345e_9b79_11ea_aeb8_74d4359cf509row14_col0 {\n",
       "            background-color:  #d8434e;\n",
       "            color:  #f1f1f1;\n",
       "        }    #T_af8d345e_9b79_11ea_aeb8_74d4359cf509row14_col1 {\n",
       "            background-color:  #9e0142;\n",
       "            color:  #f1f1f1;\n",
       "        }    #T_af8d345e_9b79_11ea_aeb8_74d4359cf509row14_col2 {\n",
       "            background-color:  #a00343;\n",
       "            color:  #f1f1f1;\n",
       "        }    #T_af8d345e_9b79_11ea_aeb8_74d4359cf509row14_col3 {\n",
       "            background-color:  #ab0f45;\n",
       "            color:  #f1f1f1;\n",
       "        }    #T_af8d345e_9b79_11ea_aeb8_74d4359cf509row14_col4 {\n",
       "            background-color:  #9e0142;\n",
       "            color:  #f1f1f1;\n",
       "        }    #T_af8d345e_9b79_11ea_aeb8_74d4359cf509row14_col5 {\n",
       "            background-color:  #a70b44;\n",
       "            color:  #f1f1f1;\n",
       "        }    #T_af8d345e_9b79_11ea_aeb8_74d4359cf509row14_col6 {\n",
       "            background-color:  #9e0142;\n",
       "            color:  #f1f1f1;\n",
       "        }    #T_af8d345e_9b79_11ea_aeb8_74d4359cf509row14_col7 {\n",
       "            background-color:  #9e0142;\n",
       "            color:  #f1f1f1;\n",
       "        }    #T_af8d345e_9b79_11ea_aeb8_74d4359cf509row14_col8 {\n",
       "            background-color:  #a70b44;\n",
       "            color:  #f1f1f1;\n",
       "        }    #T_af8d345e_9b79_11ea_aeb8_74d4359cf509row14_col9 {\n",
       "            background-color:  #feefa3;\n",
       "            color:  #000000;\n",
       "        }    #T_af8d345e_9b79_11ea_aeb8_74d4359cf509row14_col10 {\n",
       "            background-color:  #c9314c;\n",
       "            color:  #f1f1f1;\n",
       "        }    #T_af8d345e_9b79_11ea_aeb8_74d4359cf509row14_col11 {\n",
       "            background-color:  #fed683;\n",
       "            color:  #000000;\n",
       "        }    #T_af8d345e_9b79_11ea_aeb8_74d4359cf509row14_col12 {\n",
       "            background-color:  #f36b43;\n",
       "            color:  #000000;\n",
       "        }    #T_af8d345e_9b79_11ea_aeb8_74d4359cf509row14_col13 {\n",
       "            background-color:  #9e0142;\n",
       "            color:  #f1f1f1;\n",
       "        }    #T_af8d345e_9b79_11ea_aeb8_74d4359cf509row14_col14 {\n",
       "            background-color:  #5e4fa2;\n",
       "            color:  #f1f1f1;\n",
       "        }    #T_af8d345e_9b79_11ea_aeb8_74d4359cf509row14_col15 {\n",
       "            background-color:  #ba2049;\n",
       "            color:  #f1f1f1;\n",
       "        }    #T_af8d345e_9b79_11ea_aeb8_74d4359cf509row14_col16 {\n",
       "            background-color:  #9e0142;\n",
       "            color:  #f1f1f1;\n",
       "        }    #T_af8d345e_9b79_11ea_aeb8_74d4359cf509row14_col17 {\n",
       "            background-color:  #f47044;\n",
       "            color:  #000000;\n",
       "        }    #T_af8d345e_9b79_11ea_aeb8_74d4359cf509row14_col18 {\n",
       "            background-color:  #d8434e;\n",
       "            color:  #f1f1f1;\n",
       "        }    #T_af8d345e_9b79_11ea_aeb8_74d4359cf509row15_col0 {\n",
       "            background-color:  #f7844e;\n",
       "            color:  #000000;\n",
       "        }    #T_af8d345e_9b79_11ea_aeb8_74d4359cf509row15_col1 {\n",
       "            background-color:  #fa9656;\n",
       "            color:  #000000;\n",
       "        }    #T_af8d345e_9b79_11ea_aeb8_74d4359cf509row15_col2 {\n",
       "            background-color:  #ba2049;\n",
       "            color:  #f1f1f1;\n",
       "        }    #T_af8d345e_9b79_11ea_aeb8_74d4359cf509row15_col3 {\n",
       "            background-color:  #b81e48;\n",
       "            color:  #f1f1f1;\n",
       "        }    #T_af8d345e_9b79_11ea_aeb8_74d4359cf509row15_col4 {\n",
       "            background-color:  #b61b48;\n",
       "            color:  #f1f1f1;\n",
       "        }    #T_af8d345e_9b79_11ea_aeb8_74d4359cf509row15_col5 {\n",
       "            background-color:  #cd364d;\n",
       "            color:  #f1f1f1;\n",
       "        }    #T_af8d345e_9b79_11ea_aeb8_74d4359cf509row15_col6 {\n",
       "            background-color:  #ee6445;\n",
       "            color:  #000000;\n",
       "        }    #T_af8d345e_9b79_11ea_aeb8_74d4359cf509row15_col7 {\n",
       "            background-color:  #a70b44;\n",
       "            color:  #f1f1f1;\n",
       "        }    #T_af8d345e_9b79_11ea_aeb8_74d4359cf509row15_col8 {\n",
       "            background-color:  #a90d45;\n",
       "            color:  #f1f1f1;\n",
       "        }    #T_af8d345e_9b79_11ea_aeb8_74d4359cf509row15_col9 {\n",
       "            background-color:  #f06744;\n",
       "            color:  #000000;\n",
       "        }    #T_af8d345e_9b79_11ea_aeb8_74d4359cf509row15_col10 {\n",
       "            background-color:  #c32a4b;\n",
       "            color:  #f1f1f1;\n",
       "        }    #T_af8d345e_9b79_11ea_aeb8_74d4359cf509row15_col11 {\n",
       "            background-color:  #e3534a;\n",
       "            color:  #000000;\n",
       "        }    #T_af8d345e_9b79_11ea_aeb8_74d4359cf509row15_col12 {\n",
       "            background-color:  #d9444d;\n",
       "            color:  #f1f1f1;\n",
       "        }    #T_af8d345e_9b79_11ea_aeb8_74d4359cf509row15_col13 {\n",
       "            background-color:  #fede89;\n",
       "            color:  #000000;\n",
       "        }    #T_af8d345e_9b79_11ea_aeb8_74d4359cf509row15_col14 {\n",
       "            background-color:  #fec877;\n",
       "            color:  #000000;\n",
       "        }    #T_af8d345e_9b79_11ea_aeb8_74d4359cf509row15_col15 {\n",
       "            background-color:  #5e4fa2;\n",
       "            color:  #f1f1f1;\n",
       "        }    #T_af8d345e_9b79_11ea_aeb8_74d4359cf509row15_col16 {\n",
       "            background-color:  #d63f4f;\n",
       "            color:  #f1f1f1;\n",
       "        }    #T_af8d345e_9b79_11ea_aeb8_74d4359cf509row15_col17 {\n",
       "            background-color:  #e1504b;\n",
       "            color:  #000000;\n",
       "        }    #T_af8d345e_9b79_11ea_aeb8_74d4359cf509row15_col18 {\n",
       "            background-color:  #dc484c;\n",
       "            color:  #f1f1f1;\n",
       "        }    #T_af8d345e_9b79_11ea_aeb8_74d4359cf509row16_col0 {\n",
       "            background-color:  #f67f4b;\n",
       "            color:  #000000;\n",
       "        }    #T_af8d345e_9b79_11ea_aeb8_74d4359cf509row16_col1 {\n",
       "            background-color:  #ba2049;\n",
       "            color:  #f1f1f1;\n",
       "        }    #T_af8d345e_9b79_11ea_aeb8_74d4359cf509row16_col2 {\n",
       "            background-color:  #d63f4f;\n",
       "            color:  #f1f1f1;\n",
       "        }    #T_af8d345e_9b79_11ea_aeb8_74d4359cf509row16_col3 {\n",
       "            background-color:  #bc2249;\n",
       "            color:  #f1f1f1;\n",
       "        }    #T_af8d345e_9b79_11ea_aeb8_74d4359cf509row16_col4 {\n",
       "            background-color:  #e1504b;\n",
       "            color:  #000000;\n",
       "        }    #T_af8d345e_9b79_11ea_aeb8_74d4359cf509row16_col5 {\n",
       "            background-color:  #e3534a;\n",
       "            color:  #000000;\n",
       "        }    #T_af8d345e_9b79_11ea_aeb8_74d4359cf509row16_col6 {\n",
       "            background-color:  #fed27f;\n",
       "            color:  #000000;\n",
       "        }    #T_af8d345e_9b79_11ea_aeb8_74d4359cf509row16_col7 {\n",
       "            background-color:  #fecc7b;\n",
       "            color:  #000000;\n",
       "        }    #T_af8d345e_9b79_11ea_aeb8_74d4359cf509row16_col8 {\n",
       "            background-color:  #be254a;\n",
       "            color:  #f1f1f1;\n",
       "        }    #T_af8d345e_9b79_11ea_aeb8_74d4359cf509row16_col9 {\n",
       "            background-color:  #d43d4f;\n",
       "            color:  #f1f1f1;\n",
       "        }    #T_af8d345e_9b79_11ea_aeb8_74d4359cf509row16_col10 {\n",
       "            background-color:  #9e0142;\n",
       "            color:  #f1f1f1;\n",
       "        }    #T_af8d345e_9b79_11ea_aeb8_74d4359cf509row16_col11 {\n",
       "            background-color:  #d23a4e;\n",
       "            color:  #f1f1f1;\n",
       "        }    #T_af8d345e_9b79_11ea_aeb8_74d4359cf509row16_col12 {\n",
       "            background-color:  #e2514a;\n",
       "            color:  #000000;\n",
       "        }    #T_af8d345e_9b79_11ea_aeb8_74d4359cf509row16_col13 {\n",
       "            background-color:  #fff1a8;\n",
       "            color:  #000000;\n",
       "        }    #T_af8d345e_9b79_11ea_aeb8_74d4359cf509row16_col14 {\n",
       "            background-color:  #fa9857;\n",
       "            color:  #000000;\n",
       "        }    #T_af8d345e_9b79_11ea_aeb8_74d4359cf509row16_col15 {\n",
       "            background-color:  #b11747;\n",
       "            color:  #f1f1f1;\n",
       "        }    #T_af8d345e_9b79_11ea_aeb8_74d4359cf509row16_col16 {\n",
       "            background-color:  #5e4fa2;\n",
       "            color:  #f1f1f1;\n",
       "        }    #T_af8d345e_9b79_11ea_aeb8_74d4359cf509row16_col17 {\n",
       "            background-color:  #f57547;\n",
       "            color:  #000000;\n",
       "        }    #T_af8d345e_9b79_11ea_aeb8_74d4359cf509row16_col18 {\n",
       "            background-color:  #fdbd6d;\n",
       "            color:  #000000;\n",
       "        }    #T_af8d345e_9b79_11ea_aeb8_74d4359cf509row17_col0 {\n",
       "            background-color:  #af1446;\n",
       "            color:  #f1f1f1;\n",
       "        }    #T_af8d345e_9b79_11ea_aeb8_74d4359cf509row17_col1 {\n",
       "            background-color:  #a20643;\n",
       "            color:  #f1f1f1;\n",
       "        }    #T_af8d345e_9b79_11ea_aeb8_74d4359cf509row17_col2 {\n",
       "            background-color:  #ad1246;\n",
       "            color:  #f1f1f1;\n",
       "        }    #T_af8d345e_9b79_11ea_aeb8_74d4359cf509row17_col3 {\n",
       "            background-color:  #af1446;\n",
       "            color:  #f1f1f1;\n",
       "        }    #T_af8d345e_9b79_11ea_aeb8_74d4359cf509row17_col4 {\n",
       "            background-color:  #c9314c;\n",
       "            color:  #f1f1f1;\n",
       "        }    #T_af8d345e_9b79_11ea_aeb8_74d4359cf509row17_col5 {\n",
       "            background-color:  #c32a4b;\n",
       "            color:  #f1f1f1;\n",
       "        }    #T_af8d345e_9b79_11ea_aeb8_74d4359cf509row17_col6 {\n",
       "            background-color:  #f46d43;\n",
       "            color:  #000000;\n",
       "        }    #T_af8d345e_9b79_11ea_aeb8_74d4359cf509row17_col7 {\n",
       "            background-color:  #d63f4f;\n",
       "            color:  #f1f1f1;\n",
       "        }    #T_af8d345e_9b79_11ea_aeb8_74d4359cf509row17_col8 {\n",
       "            background-color:  #c32a4b;\n",
       "            color:  #f1f1f1;\n",
       "        }    #T_af8d345e_9b79_11ea_aeb8_74d4359cf509row17_col9 {\n",
       "            background-color:  #fa9857;\n",
       "            color:  #000000;\n",
       "        }    #T_af8d345e_9b79_11ea_aeb8_74d4359cf509row17_col10 {\n",
       "            background-color:  #b61b48;\n",
       "            color:  #f1f1f1;\n",
       "        }    #T_af8d345e_9b79_11ea_aeb8_74d4359cf509row17_col11 {\n",
       "            background-color:  #f26944;\n",
       "            color:  #000000;\n",
       "        }    #T_af8d345e_9b79_11ea_aeb8_74d4359cf509row17_col12 {\n",
       "            background-color:  #ef6645;\n",
       "            color:  #000000;\n",
       "        }    #T_af8d345e_9b79_11ea_aeb8_74d4359cf509row17_col13 {\n",
       "            background-color:  #fdb567;\n",
       "            color:  #000000;\n",
       "        }    #T_af8d345e_9b79_11ea_aeb8_74d4359cf509row17_col14 {\n",
       "            background-color:  #fee18d;\n",
       "            color:  #000000;\n",
       "        }    #T_af8d345e_9b79_11ea_aeb8_74d4359cf509row17_col15 {\n",
       "            background-color:  #b81e48;\n",
       "            color:  #f1f1f1;\n",
       "        }    #T_af8d345e_9b79_11ea_aeb8_74d4359cf509row17_col16 {\n",
       "            background-color:  #f06744;\n",
       "            color:  #000000;\n",
       "        }    #T_af8d345e_9b79_11ea_aeb8_74d4359cf509row17_col17 {\n",
       "            background-color:  #5e4fa2;\n",
       "            color:  #f1f1f1;\n",
       "        }    #T_af8d345e_9b79_11ea_aeb8_74d4359cf509row17_col18 {\n",
       "            background-color:  #f99153;\n",
       "            color:  #000000;\n",
       "        }    #T_af8d345e_9b79_11ea_aeb8_74d4359cf509row18_col0 {\n",
       "            background-color:  #9e0142;\n",
       "            color:  #f1f1f1;\n",
       "        }    #T_af8d345e_9b79_11ea_aeb8_74d4359cf509row18_col1 {\n",
       "            background-color:  #ab0f45;\n",
       "            color:  #f1f1f1;\n",
       "        }    #T_af8d345e_9b79_11ea_aeb8_74d4359cf509row18_col2 {\n",
       "            background-color:  #ba2049;\n",
       "            color:  #f1f1f1;\n",
       "        }    #T_af8d345e_9b79_11ea_aeb8_74d4359cf509row18_col3 {\n",
       "            background-color:  #ad1246;\n",
       "            color:  #f1f1f1;\n",
       "        }    #T_af8d345e_9b79_11ea_aeb8_74d4359cf509row18_col4 {\n",
       "            background-color:  #e75948;\n",
       "            color:  #000000;\n",
       "        }    #T_af8d345e_9b79_11ea_aeb8_74d4359cf509row18_col5 {\n",
       "            background-color:  #e45549;\n",
       "            color:  #000000;\n",
       "        }    #T_af8d345e_9b79_11ea_aeb8_74d4359cf509row18_col6 {\n",
       "            background-color:  #fca55d;\n",
       "            color:  #000000;\n",
       "        }    #T_af8d345e_9b79_11ea_aeb8_74d4359cf509row18_col7 {\n",
       "            background-color:  #dd4a4c;\n",
       "            color:  #000000;\n",
       "        }    #T_af8d345e_9b79_11ea_aeb8_74d4359cf509row18_col8 {\n",
       "            background-color:  #dd4a4c;\n",
       "            color:  #000000;\n",
       "        }    #T_af8d345e_9b79_11ea_aeb8_74d4359cf509row18_col9 {\n",
       "            background-color:  #f57748;\n",
       "            color:  #000000;\n",
       "        }    #T_af8d345e_9b79_11ea_aeb8_74d4359cf509row18_col10 {\n",
       "            background-color:  #a70b44;\n",
       "            color:  #f1f1f1;\n",
       "        }    #T_af8d345e_9b79_11ea_aeb8_74d4359cf509row18_col11 {\n",
       "            background-color:  #ef6645;\n",
       "            color:  #000000;\n",
       "        }    #T_af8d345e_9b79_11ea_aeb8_74d4359cf509row18_col12 {\n",
       "            background-color:  #eb6046;\n",
       "            color:  #000000;\n",
       "        }    #T_af8d345e_9b79_11ea_aeb8_74d4359cf509row18_col13 {\n",
       "            background-color:  #feec9f;\n",
       "            color:  #000000;\n",
       "        }    #T_af8d345e_9b79_11ea_aeb8_74d4359cf509row18_col14 {\n",
       "            background-color:  #fdb365;\n",
       "            color:  #000000;\n",
       "        }    #T_af8d345e_9b79_11ea_aeb8_74d4359cf509row18_col15 {\n",
       "            background-color:  #9e0142;\n",
       "            color:  #f1f1f1;\n",
       "        }    #T_af8d345e_9b79_11ea_aeb8_74d4359cf509row18_col16 {\n",
       "            background-color:  #fca55d;\n",
       "            color:  #000000;\n",
       "        }    #T_af8d345e_9b79_11ea_aeb8_74d4359cf509row18_col17 {\n",
       "            background-color:  #f7814c;\n",
       "            color:  #000000;\n",
       "        }    #T_af8d345e_9b79_11ea_aeb8_74d4359cf509row18_col18 {\n",
       "            background-color:  #5e4fa2;\n",
       "            color:  #f1f1f1;\n",
       "        }</style><table id=\"T_af8d345e_9b79_11ea_aeb8_74d4359cf509\" ><thead>    <tr>        <th class=\"blank level0\" ></th>        <th class=\"col_heading level0 col0\" >is_canceled</th>        <th class=\"col_heading level0 col1\" >lead_time</th>        <th class=\"col_heading level0 col2\" >arrival_date_week_number</th>        <th class=\"col_heading level0 col3\" >arrival_date_day_of_month</th>        <th class=\"col_heading level0 col4\" >stays_in_weekend_nights</th>        <th class=\"col_heading level0 col5\" >stays_in_week_nights</th>        <th class=\"col_heading level0 col6\" >adults</th>        <th class=\"col_heading level0 col7\" >children</th>        <th class=\"col_heading level0 col8\" >babies</th>        <th class=\"col_heading level0 col9\" >is_repeated_guest</th>        <th class=\"col_heading level0 col10\" >previous_cancellations</th>        <th class=\"col_heading level0 col11\" >previous_bookings_not_canceled</th>        <th class=\"col_heading level0 col12\" >booking_changes</th>        <th class=\"col_heading level0 col13\" >agent</th>        <th class=\"col_heading level0 col14\" >company</th>        <th class=\"col_heading level0 col15\" >days_in_waiting_list</th>        <th class=\"col_heading level0 col16\" >adr</th>        <th class=\"col_heading level0 col17\" >required_car_parking_spaces</th>        <th class=\"col_heading level0 col18\" >total_of_special_requests</th>    </tr></thead><tbody>\n",
       "                <tr>\n",
       "                        <th id=\"T_af8d345e_9b79_11ea_aeb8_74d4359cf509level0_row0\" class=\"row_heading level0 row0\" >is_canceled</th>\n",
       "                        <td id=\"T_af8d345e_9b79_11ea_aeb8_74d4359cf509row0_col0\" class=\"data row0 col0\" >1</td>\n",
       "                        <td id=\"T_af8d345e_9b79_11ea_aeb8_74d4359cf509row0_col1\" class=\"data row0 col1\" >0.29</td>\n",
       "                        <td id=\"T_af8d345e_9b79_11ea_aeb8_74d4359cf509row0_col2\" class=\"data row0 col2\" >0.0075</td>\n",
       "                        <td id=\"T_af8d345e_9b79_11ea_aeb8_74d4359cf509row0_col3\" class=\"data row0 col3\" >-0.0061</td>\n",
       "                        <td id=\"T_af8d345e_9b79_11ea_aeb8_74d4359cf509row0_col4\" class=\"data row0 col4\" >-0.0026</td>\n",
       "                        <td id=\"T_af8d345e_9b79_11ea_aeb8_74d4359cf509row0_col5\" class=\"data row0 col5\" >0.024</td>\n",
       "                        <td id=\"T_af8d345e_9b79_11ea_aeb8_74d4359cf509row0_col6\" class=\"data row0 col6\" >0.058</td>\n",
       "                        <td id=\"T_af8d345e_9b79_11ea_aeb8_74d4359cf509row0_col7\" class=\"data row0 col7\" >0.0048</td>\n",
       "                        <td id=\"T_af8d345e_9b79_11ea_aeb8_74d4359cf509row0_col8\" class=\"data row0 col8\" >-0.033</td>\n",
       "                        <td id=\"T_af8d345e_9b79_11ea_aeb8_74d4359cf509row0_col9\" class=\"data row0 col9\" >-0.085</td>\n",
       "                        <td id=\"T_af8d345e_9b79_11ea_aeb8_74d4359cf509row0_col10\" class=\"data row0 col10\" >0.11</td>\n",
       "                        <td id=\"T_af8d345e_9b79_11ea_aeb8_74d4359cf509row0_col11\" class=\"data row0 col11\" >-0.055</td>\n",
       "                        <td id=\"T_af8d345e_9b79_11ea_aeb8_74d4359cf509row0_col12\" class=\"data row0 col12\" >-0.14</td>\n",
       "                        <td id=\"T_af8d345e_9b79_11ea_aeb8_74d4359cf509row0_col13\" class=\"data row0 col13\" >0.1</td>\n",
       "                        <td id=\"T_af8d345e_9b79_11ea_aeb8_74d4359cf509row0_col14\" class=\"data row0 col14\" >-0.098</td>\n",
       "                        <td id=\"T_af8d345e_9b79_11ea_aeb8_74d4359cf509row0_col15\" class=\"data row0 col15\" >0.054</td>\n",
       "                        <td id=\"T_af8d345e_9b79_11ea_aeb8_74d4359cf509row0_col16\" class=\"data row0 col16\" >0.046</td>\n",
       "                        <td id=\"T_af8d345e_9b79_11ea_aeb8_74d4359cf509row0_col17\" class=\"data row0 col17\" >-0.19</td>\n",
       "                        <td id=\"T_af8d345e_9b79_11ea_aeb8_74d4359cf509row0_col18\" class=\"data row0 col18\" >-0.24</td>\n",
       "            </tr>\n",
       "            <tr>\n",
       "                        <th id=\"T_af8d345e_9b79_11ea_aeb8_74d4359cf509level0_row1\" class=\"row_heading level0 row1\" >lead_time</th>\n",
       "                        <td id=\"T_af8d345e_9b79_11ea_aeb8_74d4359cf509row1_col0\" class=\"data row1 col0\" >0.29</td>\n",
       "                        <td id=\"T_af8d345e_9b79_11ea_aeb8_74d4359cf509row1_col1\" class=\"data row1 col1\" >1</td>\n",
       "                        <td id=\"T_af8d345e_9b79_11ea_aeb8_74d4359cf509row1_col2\" class=\"data row1 col2\" >0.13</td>\n",
       "                        <td id=\"T_af8d345e_9b79_11ea_aeb8_74d4359cf509row1_col3\" class=\"data row1 col3\" >0.0023</td>\n",
       "                        <td id=\"T_af8d345e_9b79_11ea_aeb8_74d4359cf509row1_col4\" class=\"data row1 col4\" >0.084</td>\n",
       "                        <td id=\"T_af8d345e_9b79_11ea_aeb8_74d4359cf509row1_col5\" class=\"data row1 col5\" >0.16</td>\n",
       "                        <td id=\"T_af8d345e_9b79_11ea_aeb8_74d4359cf509row1_col6\" class=\"data row1 col6\" >0.12</td>\n",
       "                        <td id=\"T_af8d345e_9b79_11ea_aeb8_74d4359cf509row1_col7\" class=\"data row1 col7\" >-0.038</td>\n",
       "                        <td id=\"T_af8d345e_9b79_11ea_aeb8_74d4359cf509row1_col8\" class=\"data row1 col8\" >-0.021</td>\n",
       "                        <td id=\"T_af8d345e_9b79_11ea_aeb8_74d4359cf509row1_col9\" class=\"data row1 col9\" >-0.13</td>\n",
       "                        <td id=\"T_af8d345e_9b79_11ea_aeb8_74d4359cf509row1_col10\" class=\"data row1 col10\" >0.086</td>\n",
       "                        <td id=\"T_af8d345e_9b79_11ea_aeb8_74d4359cf509row1_col11\" class=\"data row1 col11\" >-0.071</td>\n",
       "                        <td id=\"T_af8d345e_9b79_11ea_aeb8_74d4359cf509row1_col12\" class=\"data row1 col12\" >3.6e-06</td>\n",
       "                        <td id=\"T_af8d345e_9b79_11ea_aeb8_74d4359cf509row1_col13\" class=\"data row1 col13\" >0.18</td>\n",
       "                        <td id=\"T_af8d345e_9b79_11ea_aeb8_74d4359cf509row1_col14\" class=\"data row1 col14\" >-0.12</td>\n",
       "                        <td id=\"T_af8d345e_9b79_11ea_aeb8_74d4359cf509row1_col15\" class=\"data row1 col15\" >0.17</td>\n",
       "                        <td id=\"T_af8d345e_9b79_11ea_aeb8_74d4359cf509row1_col16\" class=\"data row1 col16\" >-0.066</td>\n",
       "                        <td id=\"T_af8d345e_9b79_11ea_aeb8_74d4359cf509row1_col17\" class=\"data row1 col17\" >-0.12</td>\n",
       "                        <td id=\"T_af8d345e_9b79_11ea_aeb8_74d4359cf509row1_col18\" class=\"data row1 col18\" >-0.097</td>\n",
       "            </tr>\n",
       "            <tr>\n",
       "                        <th id=\"T_af8d345e_9b79_11ea_aeb8_74d4359cf509level0_row2\" class=\"row_heading level0 row2\" >arrival_date_week_number</th>\n",
       "                        <td id=\"T_af8d345e_9b79_11ea_aeb8_74d4359cf509row2_col0\" class=\"data row2 col0\" >0.0075</td>\n",
       "                        <td id=\"T_af8d345e_9b79_11ea_aeb8_74d4359cf509row2_col1\" class=\"data row2 col1\" >0.13</td>\n",
       "                        <td id=\"T_af8d345e_9b79_11ea_aeb8_74d4359cf509row2_col2\" class=\"data row2 col2\" >1</td>\n",
       "                        <td id=\"T_af8d345e_9b79_11ea_aeb8_74d4359cf509row2_col3\" class=\"data row2 col3\" >0.067</td>\n",
       "                        <td id=\"T_af8d345e_9b79_11ea_aeb8_74d4359cf509row2_col4\" class=\"data row2 col4\" >0.018</td>\n",
       "                        <td id=\"T_af8d345e_9b79_11ea_aeb8_74d4359cf509row2_col5\" class=\"data row2 col5\" >0.015</td>\n",
       "                        <td id=\"T_af8d345e_9b79_11ea_aeb8_74d4359cf509row2_col6\" class=\"data row2 col6\" >0.025</td>\n",
       "                        <td id=\"T_af8d345e_9b79_11ea_aeb8_74d4359cf509row2_col7\" class=\"data row2 col7\" >0.0055</td>\n",
       "                        <td id=\"T_af8d345e_9b79_11ea_aeb8_74d4359cf509row2_col8\" class=\"data row2 col8\" >0.01</td>\n",
       "                        <td id=\"T_af8d345e_9b79_11ea_aeb8_74d4359cf509row2_col9\" class=\"data row2 col9\" >-0.03</td>\n",
       "                        <td id=\"T_af8d345e_9b79_11ea_aeb8_74d4359cf509row2_col10\" class=\"data row2 col10\" >0.035</td>\n",
       "                        <td id=\"T_af8d345e_9b79_11ea_aeb8_74d4359cf509row2_col11\" class=\"data row2 col11\" >-0.021</td>\n",
       "                        <td id=\"T_af8d345e_9b79_11ea_aeb8_74d4359cf509row2_col12\" class=\"data row2 col12\" >0.0052</td>\n",
       "                        <td id=\"T_af8d345e_9b79_11ea_aeb8_74d4359cf509row2_col13\" class=\"data row2 col13\" >0.032</td>\n",
       "                        <td id=\"T_af8d345e_9b79_11ea_aeb8_74d4359cf509row2_col14\" class=\"data row2 col14\" >-0.026</td>\n",
       "                        <td id=\"T_af8d345e_9b79_11ea_aeb8_74d4359cf509row2_col15\" class=\"data row2 col15\" >0.023</td>\n",
       "                        <td id=\"T_af8d345e_9b79_11ea_aeb8_74d4359cf509row2_col16\" class=\"data row2 col16\" >0.075</td>\n",
       "                        <td id=\"T_af8d345e_9b79_11ea_aeb8_74d4359cf509row2_col17\" class=\"data row2 col17\" >0.0017</td>\n",
       "                        <td id=\"T_af8d345e_9b79_11ea_aeb8_74d4359cf509row2_col18\" class=\"data row2 col18\" >0.026</td>\n",
       "            </tr>\n",
       "            <tr>\n",
       "                        <th id=\"T_af8d345e_9b79_11ea_aeb8_74d4359cf509level0_row3\" class=\"row_heading level0 row3\" >arrival_date_day_of_month</th>\n",
       "                        <td id=\"T_af8d345e_9b79_11ea_aeb8_74d4359cf509row3_col0\" class=\"data row3 col0\" >-0.0061</td>\n",
       "                        <td id=\"T_af8d345e_9b79_11ea_aeb8_74d4359cf509row3_col1\" class=\"data row3 col1\" >0.0023</td>\n",
       "                        <td id=\"T_af8d345e_9b79_11ea_aeb8_74d4359cf509row3_col2\" class=\"data row3 col2\" >0.067</td>\n",
       "                        <td id=\"T_af8d345e_9b79_11ea_aeb8_74d4359cf509row3_col3\" class=\"data row3 col3\" >1</td>\n",
       "                        <td id=\"T_af8d345e_9b79_11ea_aeb8_74d4359cf509row3_col4\" class=\"data row3 col4\" >-0.016</td>\n",
       "                        <td id=\"T_af8d345e_9b79_11ea_aeb8_74d4359cf509row3_col5\" class=\"data row3 col5\" >-0.028</td>\n",
       "                        <td id=\"T_af8d345e_9b79_11ea_aeb8_74d4359cf509row3_col6\" class=\"data row3 col6\" >-0.0018</td>\n",
       "                        <td id=\"T_af8d345e_9b79_11ea_aeb8_74d4359cf509row3_col7\" class=\"data row3 col7\" >0.015</td>\n",
       "                        <td id=\"T_af8d345e_9b79_11ea_aeb8_74d4359cf509row3_col8\" class=\"data row3 col8\" >-0.00054</td>\n",
       "                        <td id=\"T_af8d345e_9b79_11ea_aeb8_74d4359cf509row3_col9\" class=\"data row3 col9\" >-0.0063</td>\n",
       "                        <td id=\"T_af8d345e_9b79_11ea_aeb8_74d4359cf509row3_col10\" class=\"data row3 col10\" >-0.027</td>\n",
       "                        <td id=\"T_af8d345e_9b79_11ea_aeb8_74d4359cf509row3_col11\" class=\"data row3 col11\" >0.00012</td>\n",
       "                        <td id=\"T_af8d345e_9b79_11ea_aeb8_74d4359cf509row3_col12\" class=\"data row3 col12\" >0.011</td>\n",
       "                        <td id=\"T_af8d345e_9b79_11ea_aeb8_74d4359cf509row3_col13\" class=\"data row3 col13\" >-0.0041</td>\n",
       "                        <td id=\"T_af8d345e_9b79_11ea_aeb8_74d4359cf509row3_col14\" class=\"data row3 col14\" >-0.003</td>\n",
       "                        <td id=\"T_af8d345e_9b79_11ea_aeb8_74d4359cf509row3_col15\" class=\"data row3 col15\" >0.023</td>\n",
       "                        <td id=\"T_af8d345e_9b79_11ea_aeb8_74d4359cf509row3_col16\" class=\"data row3 col16\" >0.03</td>\n",
       "                        <td id=\"T_af8d345e_9b79_11ea_aeb8_74d4359cf509row3_col17\" class=\"data row3 col17\" >0.0083</td>\n",
       "                        <td id=\"T_af8d345e_9b79_11ea_aeb8_74d4359cf509row3_col18\" class=\"data row3 col18\" >0.0031</td>\n",
       "            </tr>\n",
       "            <tr>\n",
       "                        <th id=\"T_af8d345e_9b79_11ea_aeb8_74d4359cf509level0_row4\" class=\"row_heading level0 row4\" >stays_in_weekend_nights</th>\n",
       "                        <td id=\"T_af8d345e_9b79_11ea_aeb8_74d4359cf509row4_col0\" class=\"data row4 col0\" >-0.0026</td>\n",
       "                        <td id=\"T_af8d345e_9b79_11ea_aeb8_74d4359cf509row4_col1\" class=\"data row4 col1\" >0.084</td>\n",
       "                        <td id=\"T_af8d345e_9b79_11ea_aeb8_74d4359cf509row4_col2\" class=\"data row4 col2\" >0.018</td>\n",
       "                        <td id=\"T_af8d345e_9b79_11ea_aeb8_74d4359cf509row4_col3\" class=\"data row4 col3\" >-0.016</td>\n",
       "                        <td id=\"T_af8d345e_9b79_11ea_aeb8_74d4359cf509row4_col4\" class=\"data row4 col4\" >1</td>\n",
       "                        <td id=\"T_af8d345e_9b79_11ea_aeb8_74d4359cf509row4_col5\" class=\"data row4 col5\" >0.49</td>\n",
       "                        <td id=\"T_af8d345e_9b79_11ea_aeb8_74d4359cf509row4_col6\" class=\"data row4 col6\" >0.09</td>\n",
       "                        <td id=\"T_af8d345e_9b79_11ea_aeb8_74d4359cf509row4_col7\" class=\"data row4 col7\" >0.045</td>\n",
       "                        <td id=\"T_af8d345e_9b79_11ea_aeb8_74d4359cf509row4_col8\" class=\"data row4 col8\" >0.018</td>\n",
       "                        <td id=\"T_af8d345e_9b79_11ea_aeb8_74d4359cf509row4_col9\" class=\"data row4 col9\" >-0.088</td>\n",
       "                        <td id=\"T_af8d345e_9b79_11ea_aeb8_74d4359cf509row4_col10\" class=\"data row4 col10\" >-0.013</td>\n",
       "                        <td id=\"T_af8d345e_9b79_11ea_aeb8_74d4359cf509row4_col11\" class=\"data row4 col11\" >-0.041</td>\n",
       "                        <td id=\"T_af8d345e_9b79_11ea_aeb8_74d4359cf509row4_col12\" class=\"data row4 col12\" >0.062</td>\n",
       "                        <td id=\"T_af8d345e_9b79_11ea_aeb8_74d4359cf509row4_col13\" class=\"data row4 col13\" >0.13</td>\n",
       "                        <td id=\"T_af8d345e_9b79_11ea_aeb8_74d4359cf509row4_col14\" class=\"data row4 col14\" >-0.11</td>\n",
       "                        <td id=\"T_af8d345e_9b79_11ea_aeb8_74d4359cf509row4_col15\" class=\"data row4 col15\" >-0.055</td>\n",
       "                        <td id=\"T_af8d345e_9b79_11ea_aeb8_74d4359cf509row4_col16\" class=\"data row4 col16\" >0.047</td>\n",
       "                        <td id=\"T_af8d345e_9b79_11ea_aeb8_74d4359cf509row4_col17\" class=\"data row4 col17\" >-0.018</td>\n",
       "                        <td id=\"T_af8d345e_9b79_11ea_aeb8_74d4359cf509row4_col18\" class=\"data row4 col18\" >0.072</td>\n",
       "            </tr>\n",
       "            <tr>\n",
       "                        <th id=\"T_af8d345e_9b79_11ea_aeb8_74d4359cf509level0_row5\" class=\"row_heading level0 row5\" >stays_in_week_nights</th>\n",
       "                        <td id=\"T_af8d345e_9b79_11ea_aeb8_74d4359cf509row5_col0\" class=\"data row5 col0\" >0.024</td>\n",
       "                        <td id=\"T_af8d345e_9b79_11ea_aeb8_74d4359cf509row5_col1\" class=\"data row5 col1\" >0.16</td>\n",
       "                        <td id=\"T_af8d345e_9b79_11ea_aeb8_74d4359cf509row5_col2\" class=\"data row5 col2\" >0.015</td>\n",
       "                        <td id=\"T_af8d345e_9b79_11ea_aeb8_74d4359cf509row5_col3\" class=\"data row5 col3\" >-0.028</td>\n",
       "                        <td id=\"T_af8d345e_9b79_11ea_aeb8_74d4359cf509row5_col4\" class=\"data row5 col4\" >0.49</td>\n",
       "                        <td id=\"T_af8d345e_9b79_11ea_aeb8_74d4359cf509row5_col5\" class=\"data row5 col5\" >1</td>\n",
       "                        <td id=\"T_af8d345e_9b79_11ea_aeb8_74d4359cf509row5_col6\" class=\"data row5 col6\" >0.092</td>\n",
       "                        <td id=\"T_af8d345e_9b79_11ea_aeb8_74d4359cf509row5_col7\" class=\"data row5 col7\" >0.044</td>\n",
       "                        <td id=\"T_af8d345e_9b79_11ea_aeb8_74d4359cf509row5_col8\" class=\"data row5 col8\" >0.02</td>\n",
       "                        <td id=\"T_af8d345e_9b79_11ea_aeb8_74d4359cf509row5_col9\" class=\"data row5 col9\" >-0.098</td>\n",
       "                        <td id=\"T_af8d345e_9b79_11ea_aeb8_74d4359cf509row5_col10\" class=\"data row5 col10\" >-0.014</td>\n",
       "                        <td id=\"T_af8d345e_9b79_11ea_aeb8_74d4359cf509row5_col11\" class=\"data row5 col11\" >-0.047</td>\n",
       "                        <td id=\"T_af8d345e_9b79_11ea_aeb8_74d4359cf509row5_col12\" class=\"data row5 col12\" >0.096</td>\n",
       "                        <td id=\"T_af8d345e_9b79_11ea_aeb8_74d4359cf509row5_col13\" class=\"data row5 col13\" >0.12</td>\n",
       "                        <td id=\"T_af8d345e_9b79_11ea_aeb8_74d4359cf509row5_col14\" class=\"data row5 col14\" >-0.079</td>\n",
       "                        <td id=\"T_af8d345e_9b79_11ea_aeb8_74d4359cf509row5_col15\" class=\"data row5 col15\" >-0.0022</td>\n",
       "                        <td id=\"T_af8d345e_9b79_11ea_aeb8_74d4359cf509row5_col16\" class=\"data row5 col16\" >0.064</td>\n",
       "                        <td id=\"T_af8d345e_9b79_11ea_aeb8_74d4359cf509row5_col17\" class=\"data row5 col17\" >-0.024</td>\n",
       "                        <td id=\"T_af8d345e_9b79_11ea_aeb8_74d4359cf509row5_col18\" class=\"data row5 col18\" >0.067</td>\n",
       "            </tr>\n",
       "            <tr>\n",
       "                        <th id=\"T_af8d345e_9b79_11ea_aeb8_74d4359cf509level0_row6\" class=\"row_heading level0 row6\" >adults</th>\n",
       "                        <td id=\"T_af8d345e_9b79_11ea_aeb8_74d4359cf509row6_col0\" class=\"data row6 col0\" >0.058</td>\n",
       "                        <td id=\"T_af8d345e_9b79_11ea_aeb8_74d4359cf509row6_col1\" class=\"data row6 col1\" >0.12</td>\n",
       "                        <td id=\"T_af8d345e_9b79_11ea_aeb8_74d4359cf509row6_col2\" class=\"data row6 col2\" >0.025</td>\n",
       "                        <td id=\"T_af8d345e_9b79_11ea_aeb8_74d4359cf509row6_col3\" class=\"data row6 col3\" >-0.0018</td>\n",
       "                        <td id=\"T_af8d345e_9b79_11ea_aeb8_74d4359cf509row6_col4\" class=\"data row6 col4\" >0.09</td>\n",
       "                        <td id=\"T_af8d345e_9b79_11ea_aeb8_74d4359cf509row6_col5\" class=\"data row6 col5\" >0.092</td>\n",
       "                        <td id=\"T_af8d345e_9b79_11ea_aeb8_74d4359cf509row6_col6\" class=\"data row6 col6\" >1</td>\n",
       "                        <td id=\"T_af8d345e_9b79_11ea_aeb8_74d4359cf509row6_col7\" class=\"data row6 col7\" >0.03</td>\n",
       "                        <td id=\"T_af8d345e_9b79_11ea_aeb8_74d4359cf509row6_col8\" class=\"data row6 col8\" >0.018</td>\n",
       "                        <td id=\"T_af8d345e_9b79_11ea_aeb8_74d4359cf509row6_col9\" class=\"data row6 col9\" >-0.15</td>\n",
       "                        <td id=\"T_af8d345e_9b79_11ea_aeb8_74d4359cf509row6_col10\" class=\"data row6 col10\" >-0.007</td>\n",
       "                        <td id=\"T_af8d345e_9b79_11ea_aeb8_74d4359cf509row6_col11\" class=\"data row6 col11\" >-0.11</td>\n",
       "                        <td id=\"T_af8d345e_9b79_11ea_aeb8_74d4359cf509row6_col12\" class=\"data row6 col12\" >-0.052</td>\n",
       "                        <td id=\"T_af8d345e_9b79_11ea_aeb8_74d4359cf509row6_col13\" class=\"data row6 col13\" >0.18</td>\n",
       "                        <td id=\"T_af8d345e_9b79_11ea_aeb8_74d4359cf509row6_col14\" class=\"data row6 col14\" >-0.23</td>\n",
       "                        <td id=\"T_af8d345e_9b79_11ea_aeb8_74d4359cf509row6_col15\" class=\"data row6 col15\" >-0.0088</td>\n",
       "                        <td id=\"T_af8d345e_9b79_11ea_aeb8_74d4359cf509row6_col16\" class=\"data row6 col16\" >0.23</td>\n",
       "                        <td id=\"T_af8d345e_9b79_11ea_aeb8_74d4359cf509row6_col17\" class=\"data row6 col17\" >0.016</td>\n",
       "                        <td id=\"T_af8d345e_9b79_11ea_aeb8_74d4359cf509row6_col18\" class=\"data row6 col18\" >0.12</td>\n",
       "            </tr>\n",
       "            <tr>\n",
       "                        <th id=\"T_af8d345e_9b79_11ea_aeb8_74d4359cf509level0_row7\" class=\"row_heading level0 row7\" >children</th>\n",
       "                        <td id=\"T_af8d345e_9b79_11ea_aeb8_74d4359cf509row7_col0\" class=\"data row7 col0\" >0.0048</td>\n",
       "                        <td id=\"T_af8d345e_9b79_11ea_aeb8_74d4359cf509row7_col1\" class=\"data row7 col1\" >-0.038</td>\n",
       "                        <td id=\"T_af8d345e_9b79_11ea_aeb8_74d4359cf509row7_col2\" class=\"data row7 col2\" >0.0055</td>\n",
       "                        <td id=\"T_af8d345e_9b79_11ea_aeb8_74d4359cf509row7_col3\" class=\"data row7 col3\" >0.015</td>\n",
       "                        <td id=\"T_af8d345e_9b79_11ea_aeb8_74d4359cf509row7_col4\" class=\"data row7 col4\" >0.045</td>\n",
       "                        <td id=\"T_af8d345e_9b79_11ea_aeb8_74d4359cf509row7_col5\" class=\"data row7 col5\" >0.044</td>\n",
       "                        <td id=\"T_af8d345e_9b79_11ea_aeb8_74d4359cf509row7_col6\" class=\"data row7 col6\" >0.03</td>\n",
       "                        <td id=\"T_af8d345e_9b79_11ea_aeb8_74d4359cf509row7_col7\" class=\"data row7 col7\" >1</td>\n",
       "                        <td id=\"T_af8d345e_9b79_11ea_aeb8_74d4359cf509row7_col8\" class=\"data row7 col8\" >0.024</td>\n",
       "                        <td id=\"T_af8d345e_9b79_11ea_aeb8_74d4359cf509row7_col9\" class=\"data row7 col9\" >-0.033</td>\n",
       "                        <td id=\"T_af8d345e_9b79_11ea_aeb8_74d4359cf509row7_col10\" class=\"data row7 col10\" >-0.025</td>\n",
       "                        <td id=\"T_af8d345e_9b79_11ea_aeb8_74d4359cf509row7_col11\" class=\"data row7 col11\" >-0.02</td>\n",
       "                        <td id=\"T_af8d345e_9b79_11ea_aeb8_74d4359cf509row7_col12\" class=\"data row7 col12\" >0.049</td>\n",
       "                        <td id=\"T_af8d345e_9b79_11ea_aeb8_74d4359cf509row7_col13\" class=\"data row7 col13\" >0.045</td>\n",
       "                        <td id=\"T_af8d345e_9b79_11ea_aeb8_74d4359cf509row7_col14\" class=\"data row7 col14\" >-0.054</td>\n",
       "                        <td id=\"T_af8d345e_9b79_11ea_aeb8_74d4359cf509row7_col15\" class=\"data row7 col15\" >-0.033</td>\n",
       "                        <td id=\"T_af8d345e_9b79_11ea_aeb8_74d4359cf509row7_col16\" class=\"data row7 col16\" >0.33</td>\n",
       "                        <td id=\"T_af8d345e_9b79_11ea_aeb8_74d4359cf509row7_col17\" class=\"data row7 col17\" >0.057</td>\n",
       "                        <td id=\"T_af8d345e_9b79_11ea_aeb8_74d4359cf509row7_col18\" class=\"data row7 col18\" >0.082</td>\n",
       "            </tr>\n",
       "            <tr>\n",
       "                        <th id=\"T_af8d345e_9b79_11ea_aeb8_74d4359cf509level0_row8\" class=\"row_heading level0 row8\" >babies</th>\n",
       "                        <td id=\"T_af8d345e_9b79_11ea_aeb8_74d4359cf509row8_col0\" class=\"data row8 col0\" >-0.033</td>\n",
       "                        <td id=\"T_af8d345e_9b79_11ea_aeb8_74d4359cf509row8_col1\" class=\"data row8 col1\" >-0.021</td>\n",
       "                        <td id=\"T_af8d345e_9b79_11ea_aeb8_74d4359cf509row8_col2\" class=\"data row8 col2\" >0.01</td>\n",
       "                        <td id=\"T_af8d345e_9b79_11ea_aeb8_74d4359cf509row8_col3\" class=\"data row8 col3\" >-0.00054</td>\n",
       "                        <td id=\"T_af8d345e_9b79_11ea_aeb8_74d4359cf509row8_col4\" class=\"data row8 col4\" >0.018</td>\n",
       "                        <td id=\"T_af8d345e_9b79_11ea_aeb8_74d4359cf509row8_col5\" class=\"data row8 col5\" >0.02</td>\n",
       "                        <td id=\"T_af8d345e_9b79_11ea_aeb8_74d4359cf509row8_col6\" class=\"data row8 col6\" >0.018</td>\n",
       "                        <td id=\"T_af8d345e_9b79_11ea_aeb8_74d4359cf509row8_col7\" class=\"data row8 col7\" >0.024</td>\n",
       "                        <td id=\"T_af8d345e_9b79_11ea_aeb8_74d4359cf509row8_col8\" class=\"data row8 col8\" >1</td>\n",
       "                        <td id=\"T_af8d345e_9b79_11ea_aeb8_74d4359cf509row8_col9\" class=\"data row8 col9\" >-0.009</td>\n",
       "                        <td id=\"T_af8d345e_9b79_11ea_aeb8_74d4359cf509row8_col10\" class=\"data row8 col10\" >-0.0075</td>\n",
       "                        <td id=\"T_af8d345e_9b79_11ea_aeb8_74d4359cf509row8_col11\" class=\"data row8 col11\" >-0.0063</td>\n",
       "                        <td id=\"T_af8d345e_9b79_11ea_aeb8_74d4359cf509row8_col12\" class=\"data row8 col12\" >0.083</td>\n",
       "                        <td id=\"T_af8d345e_9b79_11ea_aeb8_74d4359cf509row8_col13\" class=\"data row8 col13\" >-0.0065</td>\n",
       "                        <td id=\"T_af8d345e_9b79_11ea_aeb8_74d4359cf509row8_col14\" class=\"data row8 col14\" >-0.013</td>\n",
       "                        <td id=\"T_af8d345e_9b79_11ea_aeb8_74d4359cf509row8_col15\" class=\"data row8 col15\" >-0.011</td>\n",
       "                        <td id=\"T_af8d345e_9b79_11ea_aeb8_74d4359cf509row8_col16\" class=\"data row8 col16\" >0.029</td>\n",
       "                        <td id=\"T_af8d345e_9b79_11ea_aeb8_74d4359cf509row8_col17\" class=\"data row8 col17\" >0.037</td>\n",
       "                        <td id=\"T_af8d345e_9b79_11ea_aeb8_74d4359cf509row8_col18\" class=\"data row8 col18\" >0.098</td>\n",
       "            </tr>\n",
       "            <tr>\n",
       "                        <th id=\"T_af8d345e_9b79_11ea_aeb8_74d4359cf509level0_row9\" class=\"row_heading level0 row9\" >is_repeated_guest</th>\n",
       "                        <td id=\"T_af8d345e_9b79_11ea_aeb8_74d4359cf509row9_col0\" class=\"data row9 col0\" >-0.085</td>\n",
       "                        <td id=\"T_af8d345e_9b79_11ea_aeb8_74d4359cf509row9_col1\" class=\"data row9 col1\" >-0.13</td>\n",
       "                        <td id=\"T_af8d345e_9b79_11ea_aeb8_74d4359cf509row9_col2\" class=\"data row9 col2\" >-0.03</td>\n",
       "                        <td id=\"T_af8d345e_9b79_11ea_aeb8_74d4359cf509row9_col3\" class=\"data row9 col3\" >-0.0063</td>\n",
       "                        <td id=\"T_af8d345e_9b79_11ea_aeb8_74d4359cf509row9_col4\" class=\"data row9 col4\" >-0.088</td>\n",
       "                        <td id=\"T_af8d345e_9b79_11ea_aeb8_74d4359cf509row9_col5\" class=\"data row9 col5\" >-0.098</td>\n",
       "                        <td id=\"T_af8d345e_9b79_11ea_aeb8_74d4359cf509row9_col6\" class=\"data row9 col6\" >-0.15</td>\n",
       "                        <td id=\"T_af8d345e_9b79_11ea_aeb8_74d4359cf509row9_col7\" class=\"data row9 col7\" >-0.033</td>\n",
       "                        <td id=\"T_af8d345e_9b79_11ea_aeb8_74d4359cf509row9_col8\" class=\"data row9 col8\" >-0.009</td>\n",
       "                        <td id=\"T_af8d345e_9b79_11ea_aeb8_74d4359cf509row9_col9\" class=\"data row9 col9\" >1</td>\n",
       "                        <td id=\"T_af8d345e_9b79_11ea_aeb8_74d4359cf509row9_col10\" class=\"data row9 col10\" >0.082</td>\n",
       "                        <td id=\"T_af8d345e_9b79_11ea_aeb8_74d4359cf509row9_col11\" class=\"data row9 col11\" >0.42</td>\n",
       "                        <td id=\"T_af8d345e_9b79_11ea_aeb8_74d4359cf509row9_col12\" class=\"data row9 col12\" >0.012</td>\n",
       "                        <td id=\"T_af8d345e_9b79_11ea_aeb8_74d4359cf509row9_col13\" class=\"data row9 col13\" >-0.26</td>\n",
       "                        <td id=\"T_af8d345e_9b79_11ea_aeb8_74d4359cf509row9_col14\" class=\"data row9 col14\" >0.3</td>\n",
       "                        <td id=\"T_af8d345e_9b79_11ea_aeb8_74d4359cf509row9_col15\" class=\"data row9 col15\" >-0.022</td>\n",
       "                        <td id=\"T_af8d345e_9b79_11ea_aeb8_74d4359cf509row9_col16\" class=\"data row9 col16\" >-0.14</td>\n",
       "                        <td id=\"T_af8d345e_9b79_11ea_aeb8_74d4359cf509row9_col17\" class=\"data row9 col17\" >0.078</td>\n",
       "                        <td id=\"T_af8d345e_9b79_11ea_aeb8_74d4359cf509row9_col18\" class=\"data row9 col18\" >0.013</td>\n",
       "            </tr>\n",
       "            <tr>\n",
       "                        <th id=\"T_af8d345e_9b79_11ea_aeb8_74d4359cf509level0_row10\" class=\"row_heading level0 row10\" >previous_cancellations</th>\n",
       "                        <td id=\"T_af8d345e_9b79_11ea_aeb8_74d4359cf509row10_col0\" class=\"data row10 col0\" >0.11</td>\n",
       "                        <td id=\"T_af8d345e_9b79_11ea_aeb8_74d4359cf509row10_col1\" class=\"data row10 col1\" >0.086</td>\n",
       "                        <td id=\"T_af8d345e_9b79_11ea_aeb8_74d4359cf509row10_col2\" class=\"data row10 col2\" >0.035</td>\n",
       "                        <td id=\"T_af8d345e_9b79_11ea_aeb8_74d4359cf509row10_col3\" class=\"data row10 col3\" >-0.027</td>\n",
       "                        <td id=\"T_af8d345e_9b79_11ea_aeb8_74d4359cf509row10_col4\" class=\"data row10 col4\" >-0.013</td>\n",
       "                        <td id=\"T_af8d345e_9b79_11ea_aeb8_74d4359cf509row10_col5\" class=\"data row10 col5\" >-0.014</td>\n",
       "                        <td id=\"T_af8d345e_9b79_11ea_aeb8_74d4359cf509row10_col6\" class=\"data row10 col6\" >-0.007</td>\n",
       "                        <td id=\"T_af8d345e_9b79_11ea_aeb8_74d4359cf509row10_col7\" class=\"data row10 col7\" >-0.025</td>\n",
       "                        <td id=\"T_af8d345e_9b79_11ea_aeb8_74d4359cf509row10_col8\" class=\"data row10 col8\" >-0.0075</td>\n",
       "                        <td id=\"T_af8d345e_9b79_11ea_aeb8_74d4359cf509row10_col9\" class=\"data row10 col9\" >0.082</td>\n",
       "                        <td id=\"T_af8d345e_9b79_11ea_aeb8_74d4359cf509row10_col10\" class=\"data row10 col10\" >1</td>\n",
       "                        <td id=\"T_af8d345e_9b79_11ea_aeb8_74d4359cf509row10_col11\" class=\"data row10 col11\" >0.15</td>\n",
       "                        <td id=\"T_af8d345e_9b79_11ea_aeb8_74d4359cf509row10_col12\" class=\"data row10 col12\" >-0.027</td>\n",
       "                        <td id=\"T_af8d345e_9b79_11ea_aeb8_74d4359cf509row10_col13\" class=\"data row10 col13\" >-0.03</td>\n",
       "                        <td id=\"T_af8d345e_9b79_11ea_aeb8_74d4359cf509row10_col14\" class=\"data row10 col14\" >0.021</td>\n",
       "                        <td id=\"T_af8d345e_9b79_11ea_aeb8_74d4359cf509row10_col15\" class=\"data row10 col15\" >0.0059</td>\n",
       "                        <td id=\"T_af8d345e_9b79_11ea_aeb8_74d4359cf509row10_col16\" class=\"data row10 col16\" >-0.066</td>\n",
       "                        <td id=\"T_af8d345e_9b79_11ea_aeb8_74d4359cf509row10_col17\" class=\"data row10 col17\" >-0.018</td>\n",
       "                        <td id=\"T_af8d345e_9b79_11ea_aeb8_74d4359cf509row10_col18\" class=\"data row10 col18\" >-0.049</td>\n",
       "            </tr>\n",
       "            <tr>\n",
       "                        <th id=\"T_af8d345e_9b79_11ea_aeb8_74d4359cf509level0_row11\" class=\"row_heading level0 row11\" >previous_bookings_not_canceled</th>\n",
       "                        <td id=\"T_af8d345e_9b79_11ea_aeb8_74d4359cf509row11_col0\" class=\"data row11 col0\" >-0.055</td>\n",
       "                        <td id=\"T_af8d345e_9b79_11ea_aeb8_74d4359cf509row11_col1\" class=\"data row11 col1\" >-0.071</td>\n",
       "                        <td id=\"T_af8d345e_9b79_11ea_aeb8_74d4359cf509row11_col2\" class=\"data row11 col2\" >-0.021</td>\n",
       "                        <td id=\"T_af8d345e_9b79_11ea_aeb8_74d4359cf509row11_col3\" class=\"data row11 col3\" >0.00012</td>\n",
       "                        <td id=\"T_af8d345e_9b79_11ea_aeb8_74d4359cf509row11_col4\" class=\"data row11 col4\" >-0.041</td>\n",
       "                        <td id=\"T_af8d345e_9b79_11ea_aeb8_74d4359cf509row11_col5\" class=\"data row11 col5\" >-0.047</td>\n",
       "                        <td id=\"T_af8d345e_9b79_11ea_aeb8_74d4359cf509row11_col6\" class=\"data row11 col6\" >-0.11</td>\n",
       "                        <td id=\"T_af8d345e_9b79_11ea_aeb8_74d4359cf509row11_col7\" class=\"data row11 col7\" >-0.02</td>\n",
       "                        <td id=\"T_af8d345e_9b79_11ea_aeb8_74d4359cf509row11_col8\" class=\"data row11 col8\" >-0.0063</td>\n",
       "                        <td id=\"T_af8d345e_9b79_11ea_aeb8_74d4359cf509row11_col9\" class=\"data row11 col9\" >0.42</td>\n",
       "                        <td id=\"T_af8d345e_9b79_11ea_aeb8_74d4359cf509row11_col10\" class=\"data row11 col10\" >0.15</td>\n",
       "                        <td id=\"T_af8d345e_9b79_11ea_aeb8_74d4359cf509row11_col11\" class=\"data row11 col11\" >1</td>\n",
       "                        <td id=\"T_af8d345e_9b79_11ea_aeb8_74d4359cf509row11_col12\" class=\"data row11 col12\" >0.012</td>\n",
       "                        <td id=\"T_af8d345e_9b79_11ea_aeb8_74d4359cf509row11_col13\" class=\"data row11 col13\" >-0.18</td>\n",
       "                        <td id=\"T_af8d345e_9b79_11ea_aeb8_74d4359cf509row11_col14\" class=\"data row11 col14\" >0.27</td>\n",
       "                        <td id=\"T_af8d345e_9b79_11ea_aeb8_74d4359cf509row11_col15\" class=\"data row11 col15\" >-0.009</td>\n",
       "                        <td id=\"T_af8d345e_9b79_11ea_aeb8_74d4359cf509row11_col16\" class=\"data row11 col16\" >-0.07</td>\n",
       "                        <td id=\"T_af8d345e_9b79_11ea_aeb8_74d4359cf509row11_col17\" class=\"data row11 col17\" >0.047</td>\n",
       "                        <td id=\"T_af8d345e_9b79_11ea_aeb8_74d4359cf509row11_col18\" class=\"data row11 col18\" >0.038</td>\n",
       "            </tr>\n",
       "            <tr>\n",
       "                        <th id=\"T_af8d345e_9b79_11ea_aeb8_74d4359cf509level0_row12\" class=\"row_heading level0 row12\" >booking_changes</th>\n",
       "                        <td id=\"T_af8d345e_9b79_11ea_aeb8_74d4359cf509row12_col0\" class=\"data row12 col0\" >-0.14</td>\n",
       "                        <td id=\"T_af8d345e_9b79_11ea_aeb8_74d4359cf509row12_col1\" class=\"data row12 col1\" >3.6e-06</td>\n",
       "                        <td id=\"T_af8d345e_9b79_11ea_aeb8_74d4359cf509row12_col2\" class=\"data row12 col2\" >0.0052</td>\n",
       "                        <td id=\"T_af8d345e_9b79_11ea_aeb8_74d4359cf509row12_col3\" class=\"data row12 col3\" >0.011</td>\n",
       "                        <td id=\"T_af8d345e_9b79_11ea_aeb8_74d4359cf509row12_col4\" class=\"data row12 col4\" >0.062</td>\n",
       "                        <td id=\"T_af8d345e_9b79_11ea_aeb8_74d4359cf509row12_col5\" class=\"data row12 col5\" >0.096</td>\n",
       "                        <td id=\"T_af8d345e_9b79_11ea_aeb8_74d4359cf509row12_col6\" class=\"data row12 col6\" >-0.052</td>\n",
       "                        <td id=\"T_af8d345e_9b79_11ea_aeb8_74d4359cf509row12_col7\" class=\"data row12 col7\" >0.049</td>\n",
       "                        <td id=\"T_af8d345e_9b79_11ea_aeb8_74d4359cf509row12_col8\" class=\"data row12 col8\" >0.083</td>\n",
       "                        <td id=\"T_af8d345e_9b79_11ea_aeb8_74d4359cf509row12_col9\" class=\"data row12 col9\" >0.012</td>\n",
       "                        <td id=\"T_af8d345e_9b79_11ea_aeb8_74d4359cf509row12_col10\" class=\"data row12 col10\" >-0.027</td>\n",
       "                        <td id=\"T_af8d345e_9b79_11ea_aeb8_74d4359cf509row12_col11\" class=\"data row12 col11\" >0.012</td>\n",
       "                        <td id=\"T_af8d345e_9b79_11ea_aeb8_74d4359cf509row12_col12\" class=\"data row12 col12\" >1</td>\n",
       "                        <td id=\"T_af8d345e_9b79_11ea_aeb8_74d4359cf509row12_col13\" class=\"data row12 col13\" >-0.075</td>\n",
       "                        <td id=\"T_af8d345e_9b79_11ea_aeb8_74d4359cf509row12_col14\" class=\"data row12 col14\" >0.082</td>\n",
       "                        <td id=\"T_af8d345e_9b79_11ea_aeb8_74d4359cf509row12_col15\" class=\"data row12 col15\" >-0.012</td>\n",
       "                        <td id=\"T_af8d345e_9b79_11ea_aeb8_74d4359cf509row12_col16\" class=\"data row12 col16\" >0.019</td>\n",
       "                        <td id=\"T_af8d345e_9b79_11ea_aeb8_74d4359cf509row12_col17\" class=\"data row12 col17\" >0.066</td>\n",
       "                        <td id=\"T_af8d345e_9b79_11ea_aeb8_74d4359cf509row12_col18\" class=\"data row12 col18\" >0.052</td>\n",
       "            </tr>\n",
       "            <tr>\n",
       "                        <th id=\"T_af8d345e_9b79_11ea_aeb8_74d4359cf509level0_row13\" class=\"row_heading level0 row13\" >agent</th>\n",
       "                        <td id=\"T_af8d345e_9b79_11ea_aeb8_74d4359cf509row13_col0\" class=\"data row13 col0\" >0.1</td>\n",
       "                        <td id=\"T_af8d345e_9b79_11ea_aeb8_74d4359cf509row13_col1\" class=\"data row13 col1\" >0.18</td>\n",
       "                        <td id=\"T_af8d345e_9b79_11ea_aeb8_74d4359cf509row13_col2\" class=\"data row13 col2\" >0.032</td>\n",
       "                        <td id=\"T_af8d345e_9b79_11ea_aeb8_74d4359cf509row13_col3\" class=\"data row13 col3\" >-0.0041</td>\n",
       "                        <td id=\"T_af8d345e_9b79_11ea_aeb8_74d4359cf509row13_col4\" class=\"data row13 col4\" >0.13</td>\n",
       "                        <td id=\"T_af8d345e_9b79_11ea_aeb8_74d4359cf509row13_col5\" class=\"data row13 col5\" >0.12</td>\n",
       "                        <td id=\"T_af8d345e_9b79_11ea_aeb8_74d4359cf509row13_col6\" class=\"data row13 col6\" >0.18</td>\n",
       "                        <td id=\"T_af8d345e_9b79_11ea_aeb8_74d4359cf509row13_col7\" class=\"data row13 col7\" >0.045</td>\n",
       "                        <td id=\"T_af8d345e_9b79_11ea_aeb8_74d4359cf509row13_col8\" class=\"data row13 col8\" >-0.0065</td>\n",
       "                        <td id=\"T_af8d345e_9b79_11ea_aeb8_74d4359cf509row13_col9\" class=\"data row13 col9\" >-0.26</td>\n",
       "                        <td id=\"T_af8d345e_9b79_11ea_aeb8_74d4359cf509row13_col10\" class=\"data row13 col10\" >-0.03</td>\n",
       "                        <td id=\"T_af8d345e_9b79_11ea_aeb8_74d4359cf509row13_col11\" class=\"data row13 col11\" >-0.18</td>\n",
       "                        <td id=\"T_af8d345e_9b79_11ea_aeb8_74d4359cf509row13_col12\" class=\"data row13 col12\" >-0.075</td>\n",
       "                        <td id=\"T_af8d345e_9b79_11ea_aeb8_74d4359cf509row13_col13\" class=\"data row13 col13\" >1</td>\n",
       "                        <td id=\"T_af8d345e_9b79_11ea_aeb8_74d4359cf509row13_col14\" class=\"data row13 col14\" >-0.59</td>\n",
       "                        <td id=\"T_af8d345e_9b79_11ea_aeb8_74d4359cf509row13_col15\" class=\"data row13 col15\" >0.042</td>\n",
       "                        <td id=\"T_af8d345e_9b79_11ea_aeb8_74d4359cf509row13_col16\" class=\"data row13 col16\" >0.13</td>\n",
       "                        <td id=\"T_af8d345e_9b79_11ea_aeb8_74d4359cf509row13_col17\" class=\"data row13 col17\" >-0.092</td>\n",
       "                        <td id=\"T_af8d345e_9b79_11ea_aeb8_74d4359cf509row13_col18\" class=\"data row13 col18\" >0.11</td>\n",
       "            </tr>\n",
       "            <tr>\n",
       "                        <th id=\"T_af8d345e_9b79_11ea_aeb8_74d4359cf509level0_row14\" class=\"row_heading level0 row14\" >company</th>\n",
       "                        <td id=\"T_af8d345e_9b79_11ea_aeb8_74d4359cf509row14_col0\" class=\"data row14 col0\" >-0.098</td>\n",
       "                        <td id=\"T_af8d345e_9b79_11ea_aeb8_74d4359cf509row14_col1\" class=\"data row14 col1\" >-0.12</td>\n",
       "                        <td id=\"T_af8d345e_9b79_11ea_aeb8_74d4359cf509row14_col2\" class=\"data row14 col2\" >-0.026</td>\n",
       "                        <td id=\"T_af8d345e_9b79_11ea_aeb8_74d4359cf509row14_col3\" class=\"data row14 col3\" >-0.003</td>\n",
       "                        <td id=\"T_af8d345e_9b79_11ea_aeb8_74d4359cf509row14_col4\" class=\"data row14 col4\" >-0.11</td>\n",
       "                        <td id=\"T_af8d345e_9b79_11ea_aeb8_74d4359cf509row14_col5\" class=\"data row14 col5\" >-0.079</td>\n",
       "                        <td id=\"T_af8d345e_9b79_11ea_aeb8_74d4359cf509row14_col6\" class=\"data row14 col6\" >-0.23</td>\n",
       "                        <td id=\"T_af8d345e_9b79_11ea_aeb8_74d4359cf509row14_col7\" class=\"data row14 col7\" >-0.054</td>\n",
       "                        <td id=\"T_af8d345e_9b79_11ea_aeb8_74d4359cf509row14_col8\" class=\"data row14 col8\" >-0.013</td>\n",
       "                        <td id=\"T_af8d345e_9b79_11ea_aeb8_74d4359cf509row14_col9\" class=\"data row14 col9\" >0.3</td>\n",
       "                        <td id=\"T_af8d345e_9b79_11ea_aeb8_74d4359cf509row14_col10\" class=\"data row14 col10\" >0.021</td>\n",
       "                        <td id=\"T_af8d345e_9b79_11ea_aeb8_74d4359cf509row14_col11\" class=\"data row14 col11\" >0.27</td>\n",
       "                        <td id=\"T_af8d345e_9b79_11ea_aeb8_74d4359cf509row14_col12\" class=\"data row14 col12\" >0.082</td>\n",
       "                        <td id=\"T_af8d345e_9b79_11ea_aeb8_74d4359cf509row14_col13\" class=\"data row14 col13\" >-0.59</td>\n",
       "                        <td id=\"T_af8d345e_9b79_11ea_aeb8_74d4359cf509row14_col14\" class=\"data row14 col14\" >1</td>\n",
       "                        <td id=\"T_af8d345e_9b79_11ea_aeb8_74d4359cf509row14_col15\" class=\"data row14 col15\" >-0.028</td>\n",
       "                        <td id=\"T_af8d345e_9b79_11ea_aeb8_74d4359cf509row14_col16\" class=\"data row14 col16\" >-0.16</td>\n",
       "                        <td id=\"T_af8d345e_9b79_11ea_aeb8_74d4359cf509row14_col17\" class=\"data row14 col17\" >0.048</td>\n",
       "                        <td id=\"T_af8d345e_9b79_11ea_aeb8_74d4359cf509row14_col18\" class=\"data row14 col18\" >-0.098</td>\n",
       "            </tr>\n",
       "            <tr>\n",
       "                        <th id=\"T_af8d345e_9b79_11ea_aeb8_74d4359cf509level0_row15\" class=\"row_heading level0 row15\" >days_in_waiting_list</th>\n",
       "                        <td id=\"T_af8d345e_9b79_11ea_aeb8_74d4359cf509row15_col0\" class=\"data row15 col0\" >0.054</td>\n",
       "                        <td id=\"T_af8d345e_9b79_11ea_aeb8_74d4359cf509row15_col1\" class=\"data row15 col1\" >0.17</td>\n",
       "                        <td id=\"T_af8d345e_9b79_11ea_aeb8_74d4359cf509row15_col2\" class=\"data row15 col2\" >0.023</td>\n",
       "                        <td id=\"T_af8d345e_9b79_11ea_aeb8_74d4359cf509row15_col3\" class=\"data row15 col3\" >0.023</td>\n",
       "                        <td id=\"T_af8d345e_9b79_11ea_aeb8_74d4359cf509row15_col4\" class=\"data row15 col4\" >-0.055</td>\n",
       "                        <td id=\"T_af8d345e_9b79_11ea_aeb8_74d4359cf509row15_col5\" class=\"data row15 col5\" >-0.0022</td>\n",
       "                        <td id=\"T_af8d345e_9b79_11ea_aeb8_74d4359cf509row15_col6\" class=\"data row15 col6\" >-0.0088</td>\n",
       "                        <td id=\"T_af8d345e_9b79_11ea_aeb8_74d4359cf509row15_col7\" class=\"data row15 col7\" >-0.033</td>\n",
       "                        <td id=\"T_af8d345e_9b79_11ea_aeb8_74d4359cf509row15_col8\" class=\"data row15 col8\" >-0.011</td>\n",
       "                        <td id=\"T_af8d345e_9b79_11ea_aeb8_74d4359cf509row15_col9\" class=\"data row15 col9\" >-0.022</td>\n",
       "                        <td id=\"T_af8d345e_9b79_11ea_aeb8_74d4359cf509row15_col10\" class=\"data row15 col10\" >0.0059</td>\n",
       "                        <td id=\"T_af8d345e_9b79_11ea_aeb8_74d4359cf509row15_col11\" class=\"data row15 col11\" >-0.009</td>\n",
       "                        <td id=\"T_af8d345e_9b79_11ea_aeb8_74d4359cf509row15_col12\" class=\"data row15 col12\" >-0.012</td>\n",
       "                        <td id=\"T_af8d345e_9b79_11ea_aeb8_74d4359cf509row15_col13\" class=\"data row15 col13\" >0.042</td>\n",
       "                        <td id=\"T_af8d345e_9b79_11ea_aeb8_74d4359cf509row15_col14\" class=\"data row15 col14\" >-0.028</td>\n",
       "                        <td id=\"T_af8d345e_9b79_11ea_aeb8_74d4359cf509row15_col15\" class=\"data row15 col15\" >1</td>\n",
       "                        <td id=\"T_af8d345e_9b79_11ea_aeb8_74d4359cf509row15_col16\" class=\"data row15 col16\" >-0.041</td>\n",
       "                        <td id=\"T_af8d345e_9b79_11ea_aeb8_74d4359cf509row15_col17\" class=\"data row15 col17\" >-0.03</td>\n",
       "                        <td id=\"T_af8d345e_9b79_11ea_aeb8_74d4359cf509row15_col18\" class=\"data row15 col18\" >-0.083</td>\n",
       "            </tr>\n",
       "            <tr>\n",
       "                        <th id=\"T_af8d345e_9b79_11ea_aeb8_74d4359cf509level0_row16\" class=\"row_heading level0 row16\" >adr</th>\n",
       "                        <td id=\"T_af8d345e_9b79_11ea_aeb8_74d4359cf509row16_col0\" class=\"data row16 col0\" >0.046</td>\n",
       "                        <td id=\"T_af8d345e_9b79_11ea_aeb8_74d4359cf509row16_col1\" class=\"data row16 col1\" >-0.066</td>\n",
       "                        <td id=\"T_af8d345e_9b79_11ea_aeb8_74d4359cf509row16_col2\" class=\"data row16 col2\" >0.075</td>\n",
       "                        <td id=\"T_af8d345e_9b79_11ea_aeb8_74d4359cf509row16_col3\" class=\"data row16 col3\" >0.03</td>\n",
       "                        <td id=\"T_af8d345e_9b79_11ea_aeb8_74d4359cf509row16_col4\" class=\"data row16 col4\" >0.047</td>\n",
       "                        <td id=\"T_af8d345e_9b79_11ea_aeb8_74d4359cf509row16_col5\" class=\"data row16 col5\" >0.064</td>\n",
       "                        <td id=\"T_af8d345e_9b79_11ea_aeb8_74d4359cf509row16_col6\" class=\"data row16 col6\" >0.23</td>\n",
       "                        <td id=\"T_af8d345e_9b79_11ea_aeb8_74d4359cf509row16_col7\" class=\"data row16 col7\" >0.33</td>\n",
       "                        <td id=\"T_af8d345e_9b79_11ea_aeb8_74d4359cf509row16_col8\" class=\"data row16 col8\" >0.029</td>\n",
       "                        <td id=\"T_af8d345e_9b79_11ea_aeb8_74d4359cf509row16_col9\" class=\"data row16 col9\" >-0.14</td>\n",
       "                        <td id=\"T_af8d345e_9b79_11ea_aeb8_74d4359cf509row16_col10\" class=\"data row16 col10\" >-0.066</td>\n",
       "                        <td id=\"T_af8d345e_9b79_11ea_aeb8_74d4359cf509row16_col11\" class=\"data row16 col11\" >-0.07</td>\n",
       "                        <td id=\"T_af8d345e_9b79_11ea_aeb8_74d4359cf509row16_col12\" class=\"data row16 col12\" >0.019</td>\n",
       "                        <td id=\"T_af8d345e_9b79_11ea_aeb8_74d4359cf509row16_col13\" class=\"data row16 col13\" >0.13</td>\n",
       "                        <td id=\"T_af8d345e_9b79_11ea_aeb8_74d4359cf509row16_col14\" class=\"data row16 col14\" >-0.16</td>\n",
       "                        <td id=\"T_af8d345e_9b79_11ea_aeb8_74d4359cf509row16_col15\" class=\"data row16 col15\" >-0.041</td>\n",
       "                        <td id=\"T_af8d345e_9b79_11ea_aeb8_74d4359cf509row16_col16\" class=\"data row16 col16\" >1</td>\n",
       "                        <td id=\"T_af8d345e_9b79_11ea_aeb8_74d4359cf509row16_col17\" class=\"data row16 col17\" >0.058</td>\n",
       "                        <td id=\"T_af8d345e_9b79_11ea_aeb8_74d4359cf509row16_col18\" class=\"data row16 col18\" >0.17</td>\n",
       "            </tr>\n",
       "            <tr>\n",
       "                        <th id=\"T_af8d345e_9b79_11ea_aeb8_74d4359cf509level0_row17\" class=\"row_heading level0 row17\" >required_car_parking_spaces</th>\n",
       "                        <td id=\"T_af8d345e_9b79_11ea_aeb8_74d4359cf509row17_col0\" class=\"data row17 col0\" >-0.19</td>\n",
       "                        <td id=\"T_af8d345e_9b79_11ea_aeb8_74d4359cf509row17_col1\" class=\"data row17 col1\" >-0.12</td>\n",
       "                        <td id=\"T_af8d345e_9b79_11ea_aeb8_74d4359cf509row17_col2\" class=\"data row17 col2\" >0.0017</td>\n",
       "                        <td id=\"T_af8d345e_9b79_11ea_aeb8_74d4359cf509row17_col3\" class=\"data row17 col3\" >0.0083</td>\n",
       "                        <td id=\"T_af8d345e_9b79_11ea_aeb8_74d4359cf509row17_col4\" class=\"data row17 col4\" >-0.018</td>\n",
       "                        <td id=\"T_af8d345e_9b79_11ea_aeb8_74d4359cf509row17_col5\" class=\"data row17 col5\" >-0.024</td>\n",
       "                        <td id=\"T_af8d345e_9b79_11ea_aeb8_74d4359cf509row17_col6\" class=\"data row17 col6\" >0.016</td>\n",
       "                        <td id=\"T_af8d345e_9b79_11ea_aeb8_74d4359cf509row17_col7\" class=\"data row17 col7\" >0.057</td>\n",
       "                        <td id=\"T_af8d345e_9b79_11ea_aeb8_74d4359cf509row17_col8\" class=\"data row17 col8\" >0.037</td>\n",
       "                        <td id=\"T_af8d345e_9b79_11ea_aeb8_74d4359cf509row17_col9\" class=\"data row17 col9\" >0.078</td>\n",
       "                        <td id=\"T_af8d345e_9b79_11ea_aeb8_74d4359cf509row17_col10\" class=\"data row17 col10\" >-0.018</td>\n",
       "                        <td id=\"T_af8d345e_9b79_11ea_aeb8_74d4359cf509row17_col11\" class=\"data row17 col11\" >0.047</td>\n",
       "                        <td id=\"T_af8d345e_9b79_11ea_aeb8_74d4359cf509row17_col12\" class=\"data row17 col12\" >0.066</td>\n",
       "                        <td id=\"T_af8d345e_9b79_11ea_aeb8_74d4359cf509row17_col13\" class=\"data row17 col13\" >-0.092</td>\n",
       "                        <td id=\"T_af8d345e_9b79_11ea_aeb8_74d4359cf509row17_col14\" class=\"data row17 col14\" >0.048</td>\n",
       "                        <td id=\"T_af8d345e_9b79_11ea_aeb8_74d4359cf509row17_col15\" class=\"data row17 col15\" >-0.03</td>\n",
       "                        <td id=\"T_af8d345e_9b79_11ea_aeb8_74d4359cf509row17_col16\" class=\"data row17 col16\" >0.058</td>\n",
       "                        <td id=\"T_af8d345e_9b79_11ea_aeb8_74d4359cf509row17_col17\" class=\"data row17 col17\" >1</td>\n",
       "                        <td id=\"T_af8d345e_9b79_11ea_aeb8_74d4359cf509row17_col18\" class=\"data row17 col18\" >0.083</td>\n",
       "            </tr>\n",
       "            <tr>\n",
       "                        <th id=\"T_af8d345e_9b79_11ea_aeb8_74d4359cf509level0_row18\" class=\"row_heading level0 row18\" >total_of_special_requests</th>\n",
       "                        <td id=\"T_af8d345e_9b79_11ea_aeb8_74d4359cf509row18_col0\" class=\"data row18 col0\" >-0.24</td>\n",
       "                        <td id=\"T_af8d345e_9b79_11ea_aeb8_74d4359cf509row18_col1\" class=\"data row18 col1\" >-0.097</td>\n",
       "                        <td id=\"T_af8d345e_9b79_11ea_aeb8_74d4359cf509row18_col2\" class=\"data row18 col2\" >0.026</td>\n",
       "                        <td id=\"T_af8d345e_9b79_11ea_aeb8_74d4359cf509row18_col3\" class=\"data row18 col3\" >0.0031</td>\n",
       "                        <td id=\"T_af8d345e_9b79_11ea_aeb8_74d4359cf509row18_col4\" class=\"data row18 col4\" >0.072</td>\n",
       "                        <td id=\"T_af8d345e_9b79_11ea_aeb8_74d4359cf509row18_col5\" class=\"data row18 col5\" >0.067</td>\n",
       "                        <td id=\"T_af8d345e_9b79_11ea_aeb8_74d4359cf509row18_col6\" class=\"data row18 col6\" >0.12</td>\n",
       "                        <td id=\"T_af8d345e_9b79_11ea_aeb8_74d4359cf509row18_col7\" class=\"data row18 col7\" >0.082</td>\n",
       "                        <td id=\"T_af8d345e_9b79_11ea_aeb8_74d4359cf509row18_col8\" class=\"data row18 col8\" >0.098</td>\n",
       "                        <td id=\"T_af8d345e_9b79_11ea_aeb8_74d4359cf509row18_col9\" class=\"data row18 col9\" >0.013</td>\n",
       "                        <td id=\"T_af8d345e_9b79_11ea_aeb8_74d4359cf509row18_col10\" class=\"data row18 col10\" >-0.049</td>\n",
       "                        <td id=\"T_af8d345e_9b79_11ea_aeb8_74d4359cf509row18_col11\" class=\"data row18 col11\" >0.038</td>\n",
       "                        <td id=\"T_af8d345e_9b79_11ea_aeb8_74d4359cf509row18_col12\" class=\"data row18 col12\" >0.052</td>\n",
       "                        <td id=\"T_af8d345e_9b79_11ea_aeb8_74d4359cf509row18_col13\" class=\"data row18 col13\" >0.11</td>\n",
       "                        <td id=\"T_af8d345e_9b79_11ea_aeb8_74d4359cf509row18_col14\" class=\"data row18 col14\" >-0.098</td>\n",
       "                        <td id=\"T_af8d345e_9b79_11ea_aeb8_74d4359cf509row18_col15\" class=\"data row18 col15\" >-0.083</td>\n",
       "                        <td id=\"T_af8d345e_9b79_11ea_aeb8_74d4359cf509row18_col16\" class=\"data row18 col16\" >0.17</td>\n",
       "                        <td id=\"T_af8d345e_9b79_11ea_aeb8_74d4359cf509row18_col17\" class=\"data row18 col17\" >0.083</td>\n",
       "                        <td id=\"T_af8d345e_9b79_11ea_aeb8_74d4359cf509row18_col18\" class=\"data row18 col18\" >1</td>\n",
       "            </tr>\n",
       "    </tbody></table>"
      ],
      "text/plain": [
       "<pandas.io.formats.style.Styler at 0x23caea20148>"
      ]
     },
     "execution_count": 1083,
     "metadata": {},
     "output_type": "execute_result"
    }
   ],
   "source": [
    "hbd.corr().style.background_gradient(cmap='Spectral').set_precision(2)"
   ]
  },
  {
   "cell_type": "code",
   "execution_count": 1084,
   "metadata": {},
   "outputs": [],
   "source": [
    "#import seaborn as sns\n",
    "#sns.pairplot(hbd[[\"lead_time\", \"previous_cancellations\", \"total_of_special_requests\", \"required_car_parking_spaces\", \"is_canceled\"]], hue=\"is_canceled\")\n",
    "#plt.show()"
   ]
  },
  {
   "cell_type": "markdown",
   "metadata": {},
   "source": [
    "## Analisi esplorativa"
   ]
  },
  {
   "cell_type": "markdown",
   "metadata": {},
   "source": [
    "- Stampiamo il numero di valori `Y` e `N` della variabile `is_canceled`, e rappresentiamo la distribuzione di tali valori in un diagramma a torta"
   ]
  },
  {
   "cell_type": "code",
   "execution_count": 1085,
   "metadata": {},
   "outputs": [
    {
     "data": {
      "text/plain": [
       "0    74745\n",
       "1    44153\n",
       "Name: is_canceled, dtype: int64"
      ]
     },
     "execution_count": 1085,
     "metadata": {},
     "output_type": "execute_result"
    }
   ],
   "source": [
    "hbd[\"is_canceled\"].value_counts()"
   ]
  },
  {
   "cell_type": "code",
   "execution_count": 1086,
   "metadata": {},
   "outputs": [
    {
     "data": {
      "image/png": "[encoded data removed]",
      "text/plain": [
       "<Figure size 432x288 with 1 Axes>"
      ]
     },
     "metadata": {},
     "output_type": "display_data"
    }
   ],
   "source": [
    "hbd[\"is_canceled\"].value_counts().plot.pie();"
   ]
  },
  {
   "cell_type": "markdown",
   "metadata": {},
   "source": [
    "- La suddivisione delle istanze nelle classi è abbastanza bilanciata, non siamo dunque soggetti ai problemi che un forte sblinciamento comporterebbe."
   ]
  },
  {
   "cell_type": "markdown",
   "metadata": {},
   "source": [
    "### Distribuzione valori suddivisi per classi"
   ]
  },
  {
   "cell_type": "markdown",
   "metadata": {},
   "source": [
    "- In un problema di classificazione, è utile visualizzare quanto le variabili predittive siano correlate con la classe da predire\n",
    "\n",
    "- Vengono quindi ora mostrati sia grafici con la distribuzione delle variabili, ignorando la classe di appartenenza, sia grafici in cui  integriamo la classe di appertenenza, per valutare quanto le variabili siano utili nella predizione della classe. Questo ci consentirà di avere una visione completa sul contesto analizzato."
   ]
  },
  {
   "cell_type": "markdown",
   "metadata": {},
   "source": [
    "- Analizziamo la variabile `lead_time`\n",
    "\n",
    "- Visualizziamo un'istogramma di `lead_time`, in cui in ogni intervallo si vede il numero di prenotazioni"
   ]
  },
  {
   "cell_type": "code",
   "execution_count": 1087,
   "metadata": {},
   "outputs": [
    {
     "data": {
      "text/plain": [
       "<matplotlib.axes._subplots.AxesSubplot at 0x23cb472f4c8>"
      ]
     },
     "execution_count": 1087,
     "metadata": {},
     "output_type": "execute_result"
    },
    {
     "data": {
      "image/png": "[encoded data removed]",
      "text/plain": [
       "<Figure size 432x288 with 1 Axes>"
      ]
     },
     "metadata": {
      "needs_background": "light"
     },
     "output_type": "display_data"
    }
   ],
   "source": [
    "pd.cut(hbd[\"lead_time\"], 10).value_counts().plot.bar()"
   ]
  },
  {
   "cell_type": "markdown",
   "metadata": {},
   "source": [
    "- Le prenotazioni più frequenti sono quelle a breve termine, ovvero senza lunghi periodi fra il momento della prenotazione e l'arrivo in hotel\n",
    "\n",
    "- Visualizziamo un altro istogramma di `lead_time`, in cui in ogni intervallo si vede il numero di cancellazioni"
   ]
  },
  {
   "cell_type": "code",
   "execution_count": 1088,
   "metadata": {},
   "outputs": [
    {
     "data": {
      "text/plain": [
       "<matplotlib.axes._subplots.AxesSubplot at 0x23cb3fc4b88>"
      ]
     },
     "execution_count": 1088,
     "metadata": {},
     "output_type": "execute_result"
    },
    {
     "data": {
      "image/png": "[encoded data removed]",
      "text/plain": [
       "<Figure size 432x288 with 1 Axes>"
      ]
     },
     "metadata": {
      "needs_background": "light"
     },
     "output_type": "display_data"
    }
   ],
   "source": [
    "hbd.groupby(pd.cut(hbd[\"lead_time\"], 10)).sum()[\"is_canceled\"].plot.bar()"
   ]
  },
  {
   "cell_type": "markdown",
   "metadata": {},
   "source": [
    "- L'andamento è il medesimo, abbiamo più cancellazioni nelle prenotazioni a breve termine\n",
    "\n",
    "- Visualizziamo altri due istogrammi di `lead_time`:\n",
    "    - uno in cui per ogni intervallo abbiamo il numero totale di cancellazioni in quella fascia diviso il numero totale di prenotazioni sempre in quella fascia\n",
    "    - un altro, di tipo stacked, in cui in ogni intervallo si vede la suddivisione dei valori tra le classi"
   ]
  },
  {
   "cell_type": "code",
   "execution_count": 1089,
   "metadata": {},
   "outputs": [
    {
     "data": {
      "text/plain": [
       "<matplotlib.axes._subplots.AxesSubplot at 0x23ca0f46f08>"
      ]
     },
     "execution_count": 1089,
     "metadata": {},
     "output_type": "execute_result"
    },
    {
     "data": {
      "image/png": "[encoded data removed]",
      "text/plain": [
       "<Figure size 432x288 with 1 Axes>"
      ]
     },
     "metadata": {
      "needs_background": "light"
     },
     "output_type": "display_data"
    }
   ],
   "source": [
    "(hbd.groupby(pd.cut(hbd[\"lead_time\"], 10)).sum()[\"is_canceled\"] / pd.cut(hbd[\"lead_time\"], 10).value_counts()).plot.bar()"
   ]
  },
  {
   "cell_type": "code",
   "execution_count": 1090,
   "metadata": {},
   "outputs": [
    {
     "data": {
      "text/plain": [
       "<matplotlib.axes._subplots.AxesSubplot at 0x23cb41e4208>"
      ]
     },
     "execution_count": 1090,
     "metadata": {},
     "output_type": "execute_result"
    },
    {
     "data": {
      "image/png": "[encoded data removed]",
      "text/plain": [
       "<Figure size 432x288 with 1 Axes>"
      ]
     },
     "metadata": {
      "needs_background": "light"
     },
     "output_type": "display_data"
    }
   ],
   "source": [
    "hbd.pivot(columns=\"is_canceled\")[\"lead_time\"].plot.hist(bins=20, stacked=True)"
   ]
  },
  {
   "cell_type": "markdown",
   "metadata": {},
   "source": [
    "- Entrambi i grafici evidenziano che il tasso di cancellazione cresce al crescere del `lead_time`\n",
    "\n"
   ]
  },
  {
   "cell_type": "markdown",
   "metadata": {},
   "source": [
    "- Analizziamo la variabile `country`\n",
    "\n",
    "- Visualizziamo un'istogramma di `country`, in cui in venga visualizzato il tasso di cancellazione per ciascuno stato\n",
    "\n",
    "- Ordino gli stati per ratio decrescente e prendo i primi 50, ovvero i 50 stati che hanno effettuato più cancellazioni in proporzione al numero di prenotazioni"
   ]
  },
  {
   "cell_type": "code",
   "execution_count": 1091,
   "metadata": {},
   "outputs": [
    {
     "data": {
      "image/png": "[encoded data removed]",
      "text/plain": [
       "<Figure size 1152x288 with 1 Axes>"
      ]
     },
     "metadata": {
      "needs_background": "light"
     },
     "output_type": "display_data"
    }
   ],
   "source": [
    "cancellation_by_state = hbd.groupby(['country']).sum()[\"is_canceled\"]\n",
    "reservation_by_state = hbd.groupby(['country']).count()[\"is_canceled\"]\n",
    "ratio_cancellation_by_state = (cancellation_by_state/reservation_by_state).sort_values(ascending=False)\n",
    "ratio_cancellation_by_state.head(50).plot.bar(figsize=(16,4));"
   ]
  },
  {
   "cell_type": "markdown",
   "metadata": {},
   "source": [
    "- Visualizziamo un istogramma di `country`, in cui in venga visualizzato per ciascuno stato (limitandoci a quelli mostrati nell'istogramma precedente) il numero totale di prenotazioni effettuate\n",
    "\n",
    "- Viene utilizzata la scala logaritmica per apprezzare meglio le differenze fra i vari stati"
   ]
  },
  {
   "cell_type": "code",
   "execution_count": 1092,
   "metadata": {},
   "outputs": [
    {
     "data": {
      "text/plain": [
       "<matplotlib.axes._subplots.AxesSubplot at 0x23cb41d6ac8>"
      ]
     },
     "execution_count": 1092,
     "metadata": {},
     "output_type": "execute_result"
    },
    {
     "data": {
      "image/png": "[encoded data removed]",
      "text/plain": [
       "<Figure size 1152x288 with 1 Axes>"
      ]
     },
     "metadata": {
      "needs_background": "light"
     },
     "output_type": "display_data"
    }
   ],
   "source": [
    "reservation_by_state.loc[ratio_cancellation_by_state.head(50).index].plot.bar(figsize=(16,4), log=True)"
   ]
  },
  {
   "cell_type": "markdown",
   "metadata": {},
   "source": [
    "- Visualizziamo un ultimo istogramma di `country`, in cui in venga visualizzato per ciascuno stato (limitandoci sempre a quelli mostrati nell'istogramma precedente) il numero totale di cancellazioni effettuate"
   ]
  },
  {
   "cell_type": "code",
   "execution_count": 1093,
   "metadata": {},
   "outputs": [
    {
     "data": {
      "text/plain": [
       "<matplotlib.axes._subplots.AxesSubplot at 0x23cb3ea9bc8>"
      ]
     },
     "execution_count": 1093,
     "metadata": {},
     "output_type": "execute_result"
    },
    {
     "data": {
      "image/png": "[encoded data removed]",
      "text/plain": [
       "<Figure size 1152x288 with 1 Axes>"
      ]
     },
     "metadata": {
      "needs_background": "light"
     },
     "output_type": "display_data"
    }
   ],
   "source": [
    "cancellation_by_state.loc[ratio_cancellation_by_state.head(50).index].plot.bar(figsize=(16,4), log=True)"
   ]
  },
  {
   "cell_type": "markdown",
   "metadata": {},
   "source": [
    "- I grafici evidenziano che il tasso di cancellazione è più alto per alcuni stati piuttosto che altri"
   ]
  },
  {
   "cell_type": "markdown",
   "metadata": {},
   "source": [
    "- Analizziamo la variabile `adr`\n",
    "\n",
    "- Agiamo come per le altre variabili, ma prima analizziamo il valore di massimo"
   ]
  },
  {
   "cell_type": "code",
   "execution_count": 1094,
   "metadata": {},
   "outputs": [
    {
     "data": {
      "text/plain": [
       "48515     5400.0\n",
       "111403     510.0\n",
       "15083      508.0\n",
       "103912     451.5\n",
       "13142      450.0\n",
       "Name: adr, dtype: float64"
      ]
     },
     "execution_count": 1094,
     "metadata": {},
     "output_type": "execute_result"
    }
   ],
   "source": [
    "hbd[\"adr\"].sort_values(ascending=False).head(5)"
   ]
  },
  {
   "cell_type": "markdown",
   "metadata": {},
   "source": [
    "- Il valore massimo è di scarsa rilevanza in quanto è l'unico valore che si discosta eccessivamente dalla media. Inoltre non ci consente di mostare accuratemente la distribuzione dei dati.\n",
    "- Rimuovo quindi l'istanza con valore massimo"
   ]
  },
  {
   "cell_type": "code",
   "execution_count": 1095,
   "metadata": {},
   "outputs": [],
   "source": [
    "hbd.drop(hbd[\"adr\"].idxmax(), inplace=True)"
   ]
  },
  {
   "cell_type": "markdown",
   "metadata": {},
   "source": [
    "- Ora posso visualizzare due istogrammi di `adr`:\n",
    "    - uno in cui venga visualizzato il numero totale di prenotazioni per ciascuna fascia\n",
    "    - uno in cui venga visualizzato il numero totale di cancellazioni per ciascuna fascia"
   ]
  },
  {
   "cell_type": "code",
   "execution_count": 1096,
   "metadata": {},
   "outputs": [
    {
     "data": {
      "text/plain": [
       "<matplotlib.axes._subplots.AxesSubplot at 0x23cdea28f08>"
      ]
     },
     "execution_count": 1096,
     "metadata": {},
     "output_type": "execute_result"
    },
    {
     "data": {
      "image/png": "[encoded data removed]",
      "text/plain": [
       "<Figure size 432x288 with 1 Axes>"
      ]
     },
     "metadata": {
      "needs_background": "light"
     },
     "output_type": "display_data"
    }
   ],
   "source": [
    "pd.cut(hbd[\"adr\"], 10).value_counts().plot.bar()"
   ]
  },
  {
   "cell_type": "code",
   "execution_count": 1097,
   "metadata": {},
   "outputs": [
    {
     "data": {
      "text/plain": [
       "<matplotlib.axes._subplots.AxesSubplot at 0x23ce97a0e88>"
      ]
     },
     "execution_count": 1097,
     "metadata": {},
     "output_type": "execute_result"
    },
    {
     "data": {
      "image/png": "[encoded data removed]",
      "text/plain": [
       "<Figure size 432x288 with 1 Axes>"
      ]
     },
     "metadata": {
      "needs_background": "light"
     },
     "output_type": "display_data"
    }
   ],
   "source": [
    "hbd.groupby(pd.cut(hbd[\"adr\"], 10)).sum()[\"is_canceled\"].plot.bar()"
   ]
  },
  {
   "cell_type": "markdown",
   "metadata": {},
   "source": [
    "- Possiamo notare come, nonostante la prima fascia sia la più numerosa, non gli corrisponde il maggior numero di cancellazioni, come nello studio delle altre variabili\n",
    "\n",
    "- - Visualizziamo un ultimo istogramma di `adr`, in cui in venga visualizzata per ciascuna fascia il tasso di cancellazione"
   ]
  },
  {
   "cell_type": "code",
   "execution_count": 1098,
   "metadata": {},
   "outputs": [
    {
     "data": {
      "text/plain": [
       "<matplotlib.axes._subplots.AxesSubplot at 0x23cf2d11bc8>"
      ]
     },
     "execution_count": 1098,
     "metadata": {},
     "output_type": "execute_result"
    },
    {
     "data": {
      "image/png": "[encoded data removed]",
      "text/plain": [
       "<Figure size 432x288 with 1 Axes>"
      ]
     },
     "metadata": {
      "needs_background": "light"
     },
     "output_type": "display_data"
    }
   ],
   "source": [
    "(hbd.groupby(pd.cut(hbd[\"adr\"], 10)).sum()[\"is_canceled\"] / pd.cut(hbd[\"adr\"], 10).value_counts()).plot.bar()"
   ]
  },
  {
   "cell_type": "markdown",
   "metadata": {},
   "source": [
    "- Il grafico evidenzia che all'aumentare della spesa per notte aumenta anche il numero di cancellazioni"
   ]
  },
  {
   "cell_type": "markdown",
   "metadata": {},
   "source": [
    "### Preprocessamento dei dati"
   ]
  },
  {
   "cell_type": "markdown",
   "metadata": {},
   "source": [
    "- Osservando la descrizione delle variabili è possibile notare come vi sia una grossa dipendenza tra le variabili `is_canceled` e `reservation_status`\n",
    "\n",
    "- I possibili valori di `reservation_status` sono:"
   ]
  },
  {
   "cell_type": "code",
   "execution_count": 1099,
   "metadata": {},
   "outputs": [
    {
     "data": {
      "text/plain": [
       "array(['Check-Out', 'Canceled', 'No-Show'], dtype=object)"
      ]
     },
     "execution_count": 1099,
     "metadata": {},
     "output_type": "execute_result"
    }
   ],
   "source": [
    "hbd[\"reservation_status\"].unique()"
   ]
  },
  {
   "cell_type": "markdown",
   "metadata": {},
   "source": [
    "- Il valore 'Check-Out' potrebbe corrispondere alla mancata cancellazione, mentre il valore 'Canceled' alla effettiva cancellazione. Anche il campo 'No-Show' potrebbe essere considerato come prenotazione cancellata.\n",
    "\n",
    "- Contiamo le istanze dei possibili valori di `reservation_status`, al fine di determinare se la variabile è identica alla variabile is_canceled. "
   ]
  },
  {
   "cell_type": "code",
   "execution_count": 1100,
   "metadata": {},
   "outputs": [
    {
     "data": {
      "text/plain": [
       "Canceled     42949\n",
       "Check-Out    74745\n",
       "No-Show       1203\n",
       "Name: reservation_status, dtype: int64"
      ]
     },
     "execution_count": 1100,
     "metadata": {},
     "output_type": "execute_result"
    }
   ],
   "source": [
    "hbd[\"reservation_status\"].value_counts().sort_index()"
   ]
  },
  {
   "cell_type": "markdown",
   "metadata": {},
   "source": [
    "- Contiamo ora, per ciascun valore di `reservation_status`, quante prenotazioni sono state cancellate"
   ]
  },
  {
   "cell_type": "code",
   "execution_count": 1101,
   "metadata": {},
   "outputs": [
    {
     "data": {
      "text/plain": [
       "reservation_status\n",
       "Canceled     42949\n",
       "Check-Out        0\n",
       "No-Show       1203\n",
       "Name: is_canceled, dtype: int64"
      ]
     },
     "execution_count": 1101,
     "metadata": {},
     "output_type": "execute_result"
    }
   ],
   "source": [
    "hbd.groupby(['reservation_status']).sum()[\"is_canceled\"]"
   ]
  },
  {
   "cell_type": "markdown",
   "metadata": {},
   "source": [
    "- Notiamo subito che la considerazione è corretta, le variabili `is_canceled` e `reservation_status` coincidono.\n",
    "    - Il valore Check-Out viene utilizzato quando la prenotazione non è stata cancellata\n",
    "    - I valori 'Canceled' e 'No-Shown' definisco entrambi una situazione in cui la prenotazione è stata cancellata.\n",
    "\n",
    "\n",
    "- Questa variabile va dunque rimossa, e con essa `reservation_status_date`, in quanto inutile senza `reservation_status`"
   ]
  },
  {
   "cell_type": "code",
   "execution_count": 1102,
   "metadata": {},
   "outputs": [],
   "source": [
    "hbd.drop(inplace=True, axis=1, labels=['reservation_status', 'reservation_status_date'])"
   ]
  },
  {
   "cell_type": "markdown",
   "metadata": {},
   "source": [
    "- Riassumiamo le variabili e i loro tipi"
   ]
  },
  {
   "cell_type": "code",
   "execution_count": 1103,
   "metadata": {},
   "outputs": [
    {
     "data": {
      "text/plain": [
       "is_canceled                         int64\n",
       "lead_time                           int64\n",
       "arrival_date_month                 object\n",
       "arrival_date_week_number            int64\n",
       "arrival_date_day_of_month           int64\n",
       "stays_in_weekend_nights             int64\n",
       "stays_in_week_nights                int64\n",
       "adults                              int64\n",
       "children                          float64\n",
       "babies                              int64\n",
       "meal                               object\n",
       "country                            object\n",
       "market_segment                     object\n",
       "distribution_channel               object\n",
       "is_repeated_guest                   int64\n",
       "previous_cancellations              int64\n",
       "previous_bookings_not_canceled      int64\n",
       "reserved_room_type                 object\n",
       "assigned_room_type                 object\n",
       "booking_changes                     int64\n",
       "deposit_type                       object\n",
       "agent                             float64\n",
       "company                           float64\n",
       "days_in_waiting_list                int64\n",
       "customer_type                      object\n",
       "adr                               float64\n",
       "required_car_parking_spaces         int64\n",
       "total_of_special_requests           int64\n",
       "dtype: object"
      ]
     },
     "execution_count": 1103,
     "metadata": {},
     "output_type": "execute_result"
    }
   ],
   "source": [
    "hbd.dtypes"
   ]
  },
  {
   "cell_type": "markdown",
   "metadata": {},
   "source": [
    "- Converto la variabile children da float ad intero"
   ]
  },
  {
   "cell_type": "code",
   "execution_count": 1104,
   "metadata": {},
   "outputs": [
    {
     "data": {
      "text/plain": [
       "dtype('int64')"
      ]
     },
     "execution_count": 1104,
     "metadata": {},
     "output_type": "execute_result"
    }
   ],
   "source": [
    "hbd[\"children\"] = hbd[\"children\"].astype(\"int64\")\n",
    "hbd[\"children\"].dtypes"
   ]
  },
  {
   "cell_type": "markdown",
   "metadata": {},
   "source": [
    "- Converto la variabile arrival_date_month da stringa ad intero"
   ]
  },
  {
   "cell_type": "code",
   "execution_count": 1105,
   "metadata": {},
   "outputs": [],
   "source": [
    "import calendar\n",
    "dict_month_convertion = dict((v,k) for k,v in enumerate(calendar.month_name))\n",
    "hbd[\"arrival_date_month\"] = hbd[\"arrival_date_month\"].map(dict_month_convertion)"
   ]
  },
  {
   "cell_type": "code",
   "execution_count": 1106,
   "metadata": {},
   "outputs": [
    {
     "data": {
      "text/plain": [
       "dtype('int64')"
      ]
     },
     "execution_count": 1106,
     "metadata": {},
     "output_type": "execute_result"
    }
   ],
   "source": [
    "hbd[\"arrival_date_month\"].dtypes"
   ]
  },
  {
   "cell_type": "code",
   "execution_count": 1111,
   "metadata": {},
   "outputs": [],
   "source": [
    "hbd = pd.get_dummies(hbd)"
   ]
  },
  {
   "cell_type": "markdown",
   "metadata": {},
   "source": [
    "- Molte variabili non sono numeriche ma categoriche, è quindi opportuno dotarsi di un meccanismo per la loro conversione al fine di poterle utilizzare per l'addestramento del modello. In particolare:\n",
    "    - meal\n",
    "    - country\n",
    "    - market_segment\n",
    "    - distribution_channel\n",
    "    - reserved_room_type\n",
    "    - assigned_room_type\n",
    "    - deposit_type\n",
    "    - customer_type\n",
    "\n",
    "\n",
    "- Definisco, per ciascuna variabile categorica, un dizionario che consente di mappare il valore letterario con un numero\n",
    "\n",
    "- Se il valore da mappare non è disponibile all'interno del dizionario viene messo `0`"
   ]
  },
  {
   "cell_type": "code",
   "execution_count": 971,
   "metadata": {},
   "outputs": [],
   "source": [
    "meal_encoding = dict(zip(hbd.meal.unique(), range(1, len(hbd.meal.unique()))))\n",
    "country_encoding = dict(zip(hbd.country.unique(), range(1, len(hbd.country.unique()))))\n",
    "market_segment_encoding = dict(zip(hbd.market_segment.unique(), range(1, len(hbd.market_segment.unique()))))\n",
    "distribution_channel_encoding = dict(zip(hbd.distribution_channel.unique(), range(1, len(hbd.distribution_channel.unique()))))\n",
    "room_encoding = dict(zip(np.unique(np.concatenate((hbd.reserved_room_type,hbd.assigned_room_type))), range(1, len(np.unique(np.concatenate((hbd.reserved_room_type,hbd.assigned_room_type)))))))\n",
    "customer_type_encoding = dict(zip(hbd.customer_type.unique(), range(1, len(hbd.customer_type.unique()))))\n",
    "deposit_type_encoding = dict(zip(hbd.deposit_type.unique(), range(1, len(hbd.deposit_type.unique()))))"
   ]
  },
  {
   "cell_type": "markdown",
   "metadata": {},
   "source": [
    "- Definisco una funzione che, passato un dataframe, mappa tutte le variabili citate"
   ]
  },
  {
   "cell_type": "code",
   "execution_count": 972,
   "metadata": {},
   "outputs": [],
   "source": [
    "def encoding_rows(df):\n",
    "  df[\"meal\"] = df[\"meal\"].map(meal_encoding).fillna(0)\n",
    "  df[\"country\"] = df[\"country\"].map(country_encoding).fillna(0)\n",
    "  df[\"market_segment\"] = df[\"market_segment\"].map(market_segment_encoding).fillna(0)\n",
    "  df[\"distribution_channel\"] = df[\"distribution_channel\"].map(distribution_channel_encoding).fillna(0)\n",
    "  df[\"reserved_room_type\"] = df[\"reserved_room_type\"].map(room_encoding).fillna(0)\n",
    "  df[\"assigned_room_type\"] = df[\"assigned_room_type\"].map(room_encoding).fillna(0)\n",
    "  df[\"deposit_type\"] = df[\"deposit_type\"].map(deposit_type_encoding).fillna(0)\n",
    "  df[\"customer_type\"] = df[\"customer_type\"].map(customer_type_encoding).fillna(0)"
   ]
  },
  {
   "cell_type": "markdown",
   "metadata": {},
   "source": [
    "- Applico la conversione"
   ]
  },
  {
   "cell_type": "code",
   "execution_count": 973,
   "metadata": {},
   "outputs": [],
   "source": [
    "encoding_rows(hbd)"
   ]
  },
  {
   "cell_type": "code",
   "execution_count": 974,
   "metadata": {},
   "outputs": [
    {
     "data": {
      "text/html": [
       "<div>\n",
       "<style scoped>\n",
       "    .dataframe tbody tr th:only-of-type {\n",
       "        vertical-align: middle;\n",
       "    }\n",
       "\n",
       "    .dataframe tbody tr th {\n",
       "        vertical-align: top;\n",
       "    }\n",
       "\n",
       "    .dataframe thead th {\n",
       "        text-align: right;\n",
       "    }\n",
       "</style>\n",
       "<table border=\"1\" class=\"dataframe\">\n",
       "  <thead>\n",
       "    <tr style=\"text-align: right;\">\n",
       "      <th></th>\n",
       "      <th>is_canceled</th>\n",
       "      <th>lead_time</th>\n",
       "      <th>arrival_date_month</th>\n",
       "      <th>arrival_date_week_number</th>\n",
       "      <th>arrival_date_day_of_month</th>\n",
       "      <th>stays_in_weekend_nights</th>\n",
       "      <th>stays_in_week_nights</th>\n",
       "      <th>adults</th>\n",
       "      <th>children</th>\n",
       "      <th>babies</th>\n",
       "      <th>meal</th>\n",
       "      <th>country</th>\n",
       "      <th>market_segment</th>\n",
       "      <th>distribution_channel</th>\n",
       "      <th>is_repeated_guest</th>\n",
       "      <th>previous_cancellations</th>\n",
       "      <th>previous_bookings_not_canceled</th>\n",
       "      <th>reserved_room_type</th>\n",
       "      <th>assigned_room_type</th>\n",
       "      <th>booking_changes</th>\n",
       "      <th>deposit_type</th>\n",
       "      <th>agent</th>\n",
       "      <th>company</th>\n",
       "      <th>days_in_waiting_list</th>\n",
       "      <th>customer_type</th>\n",
       "      <th>adr</th>\n",
       "      <th>required_car_parking_spaces</th>\n",
       "      <th>total_of_special_requests</th>\n",
       "    </tr>\n",
       "  </thead>\n",
       "  <tbody>\n",
       "    <tr>\n",
       "      <td>40060</td>\n",
       "      <td>0</td>\n",
       "      <td>6</td>\n",
       "      <td>7</td>\n",
       "      <td>27</td>\n",
       "      <td>1</td>\n",
       "      <td>0</td>\n",
       "      <td>2</td>\n",
       "      <td>1</td>\n",
       "      <td>0</td>\n",
       "      <td>0</td>\n",
       "      <td>1.0</td>\n",
       "      <td>1.0</td>\n",
       "      <td>1.0</td>\n",
       "      <td>1.0</td>\n",
       "      <td>0</td>\n",
       "      <td>0</td>\n",
       "      <td>0</td>\n",
       "      <td>1.0</td>\n",
       "      <td>1.0</td>\n",
       "      <td>0</td>\n",
       "      <td>1.0</td>\n",
       "      <td>1.0</td>\n",
       "      <td>0.0</td>\n",
       "      <td>0</td>\n",
       "      <td>1.0</td>\n",
       "      <td>0.0</td>\n",
       "      <td>0</td>\n",
       "      <td>0</td>\n",
       "    </tr>\n",
       "    <tr>\n",
       "      <td>40061</td>\n",
       "      <td>1</td>\n",
       "      <td>88</td>\n",
       "      <td>7</td>\n",
       "      <td>27</td>\n",
       "      <td>1</td>\n",
       "      <td>0</td>\n",
       "      <td>4</td>\n",
       "      <td>2</td>\n",
       "      <td>0</td>\n",
       "      <td>0</td>\n",
       "      <td>2.0</td>\n",
       "      <td>1.0</td>\n",
       "      <td>2.0</td>\n",
       "      <td>1.0</td>\n",
       "      <td>0</td>\n",
       "      <td>0</td>\n",
       "      <td>0</td>\n",
       "      <td>1.0</td>\n",
       "      <td>1.0</td>\n",
       "      <td>0</td>\n",
       "      <td>1.0</td>\n",
       "      <td>1.0</td>\n",
       "      <td>0.0</td>\n",
       "      <td>0</td>\n",
       "      <td>1.0</td>\n",
       "      <td>76.5</td>\n",
       "      <td>0</td>\n",
       "      <td>1</td>\n",
       "    </tr>\n",
       "    <tr>\n",
       "      <td>40062</td>\n",
       "      <td>1</td>\n",
       "      <td>65</td>\n",
       "      <td>7</td>\n",
       "      <td>27</td>\n",
       "      <td>1</td>\n",
       "      <td>0</td>\n",
       "      <td>4</td>\n",
       "      <td>1</td>\n",
       "      <td>0</td>\n",
       "      <td>0</td>\n",
       "      <td>2.0</td>\n",
       "      <td>1.0</td>\n",
       "      <td>2.0</td>\n",
       "      <td>1.0</td>\n",
       "      <td>0</td>\n",
       "      <td>0</td>\n",
       "      <td>0</td>\n",
       "      <td>1.0</td>\n",
       "      <td>1.0</td>\n",
       "      <td>0</td>\n",
       "      <td>1.0</td>\n",
       "      <td>1.0</td>\n",
       "      <td>0.0</td>\n",
       "      <td>0</td>\n",
       "      <td>1.0</td>\n",
       "      <td>68.0</td>\n",
       "      <td>0</td>\n",
       "      <td>1</td>\n",
       "    </tr>\n",
       "  </tbody>\n",
       "</table>\n",
       "</div>"
      ],
      "text/plain": [
       "       is_canceled  lead_time  arrival_date_month  arrival_date_week_number  \\\n",
       "40060            0          6                   7                        27   \n",
       "40061            1         88                   7                        27   \n",
       "40062            1         65                   7                        27   \n",
       "\n",
       "       arrival_date_day_of_month  stays_in_weekend_nights  \\\n",
       "40060                          1                        0   \n",
       "40061                          1                        0   \n",
       "40062                          1                        0   \n",
       "\n",
       "       stays_in_week_nights  adults  children  babies  meal  country  \\\n",
       "40060                     2       1         0       0   1.0      1.0   \n",
       "40061                     4       2         0       0   2.0      1.0   \n",
       "40062                     4       1         0       0   2.0      1.0   \n",
       "\n",
       "       market_segment  distribution_channel  is_repeated_guest  \\\n",
       "40060             1.0                   1.0                  0   \n",
       "40061             2.0                   1.0                  0   \n",
       "40062             2.0                   1.0                  0   \n",
       "\n",
       "       previous_cancellations  previous_bookings_not_canceled  \\\n",
       "40060                       0                               0   \n",
       "40061                       0                               0   \n",
       "40062                       0                               0   \n",
       "\n",
       "       reserved_room_type  assigned_room_type  booking_changes  deposit_type  \\\n",
       "40060                 1.0                 1.0                0           1.0   \n",
       "40061                 1.0                 1.0                0           1.0   \n",
       "40062                 1.0                 1.0                0           1.0   \n",
       "\n",
       "       agent  company  days_in_waiting_list  customer_type   adr  \\\n",
       "40060    1.0      0.0                     0            1.0   0.0   \n",
       "40061    1.0      0.0                     0            1.0  76.5   \n",
       "40062    1.0      0.0                     0            1.0  68.0   \n",
       "\n",
       "       required_car_parking_spaces  total_of_special_requests  \n",
       "40060                            0                          0  \n",
       "40061                            0                          1  \n",
       "40062                            0                          1  "
      ]
     },
     "execution_count": 974,
     "metadata": {},
     "output_type": "execute_result"
    }
   ],
   "source": [
    "hbd.head(3)"
   ]
  },
  {
   "cell_type": "code",
   "execution_count": 1112,
   "metadata": {},
   "outputs": [
    {
     "ename": "KeyboardInterrupt",
     "evalue": "",
     "output_type": "error",
     "traceback": [
      "\u001b[1;31m---------------------------------------------------------------------------\u001b[0m",
      "\u001b[1;31mKeyboardInterrupt\u001b[0m                         Traceback (most recent call last)",
      "\u001b[1;32m<ipython-input-1112-ca1317c1486b>\u001b[0m in \u001b[0;36m<module>\u001b[1;34m\u001b[0m\n\u001b[1;32m----> 1\u001b[1;33m \u001b[0mhbd\u001b[0m\u001b[1;33m.\u001b[0m\u001b[0mcorr\u001b[0m\u001b[1;33m(\u001b[0m\u001b[1;33m)\u001b[0m\u001b[1;33m.\u001b[0m\u001b[0mstyle\u001b[0m\u001b[1;33m.\u001b[0m\u001b[0mbackground_gradient\u001b[0m\u001b[1;33m(\u001b[0m\u001b[0mcmap\u001b[0m\u001b[1;33m=\u001b[0m\u001b[1;34m'Spectral'\u001b[0m\u001b[1;33m)\u001b[0m\u001b[1;33m.\u001b[0m\u001b[0mset_precision\u001b[0m\u001b[1;33m(\u001b[0m\u001b[1;36m2\u001b[0m\u001b[1;33m)\u001b[0m\u001b[1;33m\u001b[0m\u001b[1;33m\u001b[0m\u001b[0m\n\u001b[0m",
      "\u001b[1;32m~\\AppData\\Local\\Continuum\\anaconda3\\lib\\site-packages\\IPython\\core\\displayhook.py\u001b[0m in \u001b[0;36m__call__\u001b[1;34m(self, result)\u001b[0m\n\u001b[0;32m    260\u001b[0m             \u001b[0mself\u001b[0m\u001b[1;33m.\u001b[0m\u001b[0mstart_displayhook\u001b[0m\u001b[1;33m(\u001b[0m\u001b[1;33m)\u001b[0m\u001b[1;33m\u001b[0m\u001b[1;33m\u001b[0m\u001b[0m\n\u001b[0;32m    261\u001b[0m             \u001b[0mself\u001b[0m\u001b[1;33m.\u001b[0m\u001b[0mwrite_output_prompt\u001b[0m\u001b[1;33m(\u001b[0m\u001b[1;33m)\u001b[0m\u001b[1;33m\u001b[0m\u001b[1;33m\u001b[0m\u001b[0m\n\u001b[1;32m--> 262\u001b[1;33m             \u001b[0mformat_dict\u001b[0m\u001b[1;33m,\u001b[0m \u001b[0mmd_dict\u001b[0m \u001b[1;33m=\u001b[0m \u001b[0mself\u001b[0m\u001b[1;33m.\u001b[0m\u001b[0mcompute_format_data\u001b[0m\u001b[1;33m(\u001b[0m\u001b[0mresult\u001b[0m\u001b[1;33m)\u001b[0m\u001b[1;33m\u001b[0m\u001b[1;33m\u001b[0m\u001b[0m\n\u001b[0m\u001b[0;32m    263\u001b[0m             \u001b[0mself\u001b[0m\u001b[1;33m.\u001b[0m\u001b[0mupdate_user_ns\u001b[0m\u001b[1;33m(\u001b[0m\u001b[0mresult\u001b[0m\u001b[1;33m)\u001b[0m\u001b[1;33m\u001b[0m\u001b[1;33m\u001b[0m\u001b[0m\n\u001b[0;32m    264\u001b[0m             \u001b[0mself\u001b[0m\u001b[1;33m.\u001b[0m\u001b[0mfill_exec_result\u001b[0m\u001b[1;33m(\u001b[0m\u001b[0mresult\u001b[0m\u001b[1;33m)\u001b[0m\u001b[1;33m\u001b[0m\u001b[1;33m\u001b[0m\u001b[0m\n",
      "\u001b[1;32m~\\AppData\\Local\\Continuum\\anaconda3\\lib\\site-packages\\IPython\\core\\displayhook.py\u001b[0m in \u001b[0;36mcompute_format_data\u001b[1;34m(self, result)\u001b[0m\n\u001b[0;32m    149\u001b[0m \u001b[1;33m\u001b[0m\u001b[0m\n\u001b[0;32m    150\u001b[0m         \"\"\"\n\u001b[1;32m--> 151\u001b[1;33m         \u001b[1;32mreturn\u001b[0m \u001b[0mself\u001b[0m\u001b[1;33m.\u001b[0m\u001b[0mshell\u001b[0m\u001b[1;33m.\u001b[0m\u001b[0mdisplay_formatter\u001b[0m\u001b[1;33m.\u001b[0m\u001b[0mformat\u001b[0m\u001b[1;33m(\u001b[0m\u001b[0mresult\u001b[0m\u001b[1;33m)\u001b[0m\u001b[1;33m\u001b[0m\u001b[1;33m\u001b[0m\u001b[0m\n\u001b[0m\u001b[0;32m    152\u001b[0m \u001b[1;33m\u001b[0m\u001b[0m\n\u001b[0;32m    153\u001b[0m     \u001b[1;31m# This can be set to True by the write_output_prompt method in a subclass\u001b[0m\u001b[1;33m\u001b[0m\u001b[1;33m\u001b[0m\u001b[1;33m\u001b[0m\u001b[0m\n",
      "\u001b[1;32m~\\AppData\\Local\\Continuum\\anaconda3\\lib\\site-packages\\IPython\\core\\formatters.py\u001b[0m in \u001b[0;36mformat\u001b[1;34m(self, obj, include, exclude)\u001b[0m\n\u001b[0;32m    178\u001b[0m             \u001b[0mmd\u001b[0m \u001b[1;33m=\u001b[0m \u001b[1;32mNone\u001b[0m\u001b[1;33m\u001b[0m\u001b[1;33m\u001b[0m\u001b[0m\n\u001b[0;32m    179\u001b[0m             \u001b[1;32mtry\u001b[0m\u001b[1;33m:\u001b[0m\u001b[1;33m\u001b[0m\u001b[1;33m\u001b[0m\u001b[0m\n\u001b[1;32m--> 180\u001b[1;33m                 \u001b[0mdata\u001b[0m \u001b[1;33m=\u001b[0m \u001b[0mformatter\u001b[0m\u001b[1;33m(\u001b[0m\u001b[0mobj\u001b[0m\u001b[1;33m)\u001b[0m\u001b[1;33m\u001b[0m\u001b[1;33m\u001b[0m\u001b[0m\n\u001b[0m\u001b[0;32m    181\u001b[0m             \u001b[1;32mexcept\u001b[0m\u001b[1;33m:\u001b[0m\u001b[1;33m\u001b[0m\u001b[1;33m\u001b[0m\u001b[0m\n\u001b[0;32m    182\u001b[0m                 \u001b[1;31m# FIXME: log the exception\u001b[0m\u001b[1;33m\u001b[0m\u001b[1;33m\u001b[0m\u001b[1;33m\u001b[0m\u001b[0m\n",
      "\u001b[1;32m<C:\\Users\\alessandr.lombardin3\\AppData\\Local\\Continuum\\anaconda3\\lib\\site-packages\\decorator.py:decorator-gen-9>\u001b[0m in \u001b[0;36m__call__\u001b[1;34m(self, obj)\u001b[0m\n",
      "\u001b[1;32m~\\AppData\\Local\\Continuum\\anaconda3\\lib\\site-packages\\IPython\\core\\formatters.py\u001b[0m in \u001b[0;36mcatch_format_error\u001b[1;34m(method, self, *args, **kwargs)\u001b[0m\n\u001b[0;32m    222\u001b[0m     \u001b[1;34m\"\"\"show traceback on failed format call\"\"\"\u001b[0m\u001b[1;33m\u001b[0m\u001b[1;33m\u001b[0m\u001b[0m\n\u001b[0;32m    223\u001b[0m     \u001b[1;32mtry\u001b[0m\u001b[1;33m:\u001b[0m\u001b[1;33m\u001b[0m\u001b[1;33m\u001b[0m\u001b[0m\n\u001b[1;32m--> 224\u001b[1;33m         \u001b[0mr\u001b[0m \u001b[1;33m=\u001b[0m \u001b[0mmethod\u001b[0m\u001b[1;33m(\u001b[0m\u001b[0mself\u001b[0m\u001b[1;33m,\u001b[0m \u001b[1;33m*\u001b[0m\u001b[0margs\u001b[0m\u001b[1;33m,\u001b[0m \u001b[1;33m**\u001b[0m\u001b[0mkwargs\u001b[0m\u001b[1;33m)\u001b[0m\u001b[1;33m\u001b[0m\u001b[1;33m\u001b[0m\u001b[0m\n\u001b[0m\u001b[0;32m    225\u001b[0m     \u001b[1;32mexcept\u001b[0m \u001b[0mNotImplementedError\u001b[0m\u001b[1;33m:\u001b[0m\u001b[1;33m\u001b[0m\u001b[1;33m\u001b[0m\u001b[0m\n\u001b[0;32m    226\u001b[0m         \u001b[1;31m# don't warn on NotImplementedErrors\u001b[0m\u001b[1;33m\u001b[0m\u001b[1;33m\u001b[0m\u001b[1;33m\u001b[0m\u001b[0m\n",
      "\u001b[1;32m~\\AppData\\Local\\Continuum\\anaconda3\\lib\\site-packages\\IPython\\core\\formatters.py\u001b[0m in \u001b[0;36m__call__\u001b[1;34m(self, obj)\u001b[0m\n\u001b[0;32m    343\u001b[0m             \u001b[0mmethod\u001b[0m \u001b[1;33m=\u001b[0m \u001b[0mget_real_method\u001b[0m\u001b[1;33m(\u001b[0m\u001b[0mobj\u001b[0m\u001b[1;33m,\u001b[0m \u001b[0mself\u001b[0m\u001b[1;33m.\u001b[0m\u001b[0mprint_method\u001b[0m\u001b[1;33m)\u001b[0m\u001b[1;33m\u001b[0m\u001b[1;33m\u001b[0m\u001b[0m\n\u001b[0;32m    344\u001b[0m             \u001b[1;32mif\u001b[0m \u001b[0mmethod\u001b[0m \u001b[1;32mis\u001b[0m \u001b[1;32mnot\u001b[0m \u001b[1;32mNone\u001b[0m\u001b[1;33m:\u001b[0m\u001b[1;33m\u001b[0m\u001b[1;33m\u001b[0m\u001b[0m\n\u001b[1;32m--> 345\u001b[1;33m                 \u001b[1;32mreturn\u001b[0m \u001b[0mmethod\u001b[0m\u001b[1;33m(\u001b[0m\u001b[1;33m)\u001b[0m\u001b[1;33m\u001b[0m\u001b[1;33m\u001b[0m\u001b[0m\n\u001b[0m\u001b[0;32m    346\u001b[0m             \u001b[1;32mreturn\u001b[0m \u001b[1;32mNone\u001b[0m\u001b[1;33m\u001b[0m\u001b[1;33m\u001b[0m\u001b[0m\n\u001b[0;32m    347\u001b[0m         \u001b[1;32melse\u001b[0m\u001b[1;33m:\u001b[0m\u001b[1;33m\u001b[0m\u001b[1;33m\u001b[0m\u001b[0m\n",
      "\u001b[1;32m~\\AppData\\Local\\Continuum\\anaconda3\\lib\\site-packages\\pandas\\io\\formats\\style.py\u001b[0m in \u001b[0;36m_repr_html_\u001b[1;34m(self)\u001b[0m\n\u001b[0;32m    162\u001b[0m         \u001b[0mHooks\u001b[0m \u001b[0minto\u001b[0m \u001b[0mJupyter\u001b[0m \u001b[0mnotebook\u001b[0m \u001b[0mrich\u001b[0m \u001b[0mdisplay\u001b[0m \u001b[0msystem\u001b[0m\u001b[1;33m.\u001b[0m\u001b[1;33m\u001b[0m\u001b[1;33m\u001b[0m\u001b[0m\n\u001b[0;32m    163\u001b[0m         \"\"\"\n\u001b[1;32m--> 164\u001b[1;33m         \u001b[1;32mreturn\u001b[0m \u001b[0mself\u001b[0m\u001b[1;33m.\u001b[0m\u001b[0mrender\u001b[0m\u001b[1;33m(\u001b[0m\u001b[1;33m)\u001b[0m\u001b[1;33m\u001b[0m\u001b[1;33m\u001b[0m\u001b[0m\n\u001b[0m\u001b[0;32m    165\u001b[0m \u001b[1;33m\u001b[0m\u001b[0m\n\u001b[0;32m    166\u001b[0m     @Appender(\n",
      "\u001b[1;32m~\\AppData\\Local\\Continuum\\anaconda3\\lib\\site-packages\\pandas\\io\\formats\\style.py\u001b[0m in \u001b[0;36mrender\u001b[1;34m(self, **kwargs)\u001b[0m\n\u001b[0;32m    516\u001b[0m         \u001b[1;33m*\u001b[0m \u001b[0mtable_attributes\u001b[0m\u001b[1;33m\u001b[0m\u001b[1;33m\u001b[0m\u001b[0m\n\u001b[0;32m    517\u001b[0m         \"\"\"\n\u001b[1;32m--> 518\u001b[1;33m         \u001b[0mself\u001b[0m\u001b[1;33m.\u001b[0m\u001b[0m_compute\u001b[0m\u001b[1;33m(\u001b[0m\u001b[1;33m)\u001b[0m\u001b[1;33m\u001b[0m\u001b[1;33m\u001b[0m\u001b[0m\n\u001b[0m\u001b[0;32m    519\u001b[0m         \u001b[1;31m# TODO: namespace all the pandas keys\u001b[0m\u001b[1;33m\u001b[0m\u001b[1;33m\u001b[0m\u001b[1;33m\u001b[0m\u001b[0m\n\u001b[0;32m    520\u001b[0m         \u001b[0md\u001b[0m \u001b[1;33m=\u001b[0m \u001b[0mself\u001b[0m\u001b[1;33m.\u001b[0m\u001b[0m_translate\u001b[0m\u001b[1;33m(\u001b[0m\u001b[1;33m)\u001b[0m\u001b[1;33m\u001b[0m\u001b[1;33m\u001b[0m\u001b[0m\n",
      "\u001b[1;32m~\\AppData\\Local\\Continuum\\anaconda3\\lib\\site-packages\\pandas\\io\\formats\\style.py\u001b[0m in \u001b[0;36m_compute\u001b[1;34m(self)\u001b[0m\n\u001b[0;32m    589\u001b[0m         \u001b[0mr\u001b[0m \u001b[1;33m=\u001b[0m \u001b[0mself\u001b[0m\u001b[1;33m\u001b[0m\u001b[1;33m\u001b[0m\u001b[0m\n\u001b[0;32m    590\u001b[0m         \u001b[1;32mfor\u001b[0m \u001b[0mfunc\u001b[0m\u001b[1;33m,\u001b[0m \u001b[0margs\u001b[0m\u001b[1;33m,\u001b[0m \u001b[0mkwargs\u001b[0m \u001b[1;32min\u001b[0m \u001b[0mself\u001b[0m\u001b[1;33m.\u001b[0m\u001b[0m_todo\u001b[0m\u001b[1;33m:\u001b[0m\u001b[1;33m\u001b[0m\u001b[1;33m\u001b[0m\u001b[0m\n\u001b[1;32m--> 591\u001b[1;33m             \u001b[0mr\u001b[0m \u001b[1;33m=\u001b[0m \u001b[0mfunc\u001b[0m\u001b[1;33m(\u001b[0m\u001b[0mself\u001b[0m\u001b[1;33m)\u001b[0m\u001b[1;33m(\u001b[0m\u001b[1;33m*\u001b[0m\u001b[0margs\u001b[0m\u001b[1;33m,\u001b[0m \u001b[1;33m**\u001b[0m\u001b[0mkwargs\u001b[0m\u001b[1;33m)\u001b[0m\u001b[1;33m\u001b[0m\u001b[1;33m\u001b[0m\u001b[0m\n\u001b[0m\u001b[0;32m    592\u001b[0m         \u001b[1;32mreturn\u001b[0m \u001b[0mr\u001b[0m\u001b[1;33m\u001b[0m\u001b[1;33m\u001b[0m\u001b[0m\n\u001b[0;32m    593\u001b[0m \u001b[1;33m\u001b[0m\u001b[0m\n",
      "\u001b[1;32m~\\AppData\\Local\\Continuum\\anaconda3\\lib\\site-packages\\pandas\\io\\formats\\style.py\u001b[0m in \u001b[0;36m_apply\u001b[1;34m(self, func, axis, subset, **kwargs)\u001b[0m\n\u001b[0;32m    626\u001b[0m             )\n\u001b[0;32m    627\u001b[0m             \u001b[1;32mraise\u001b[0m \u001b[0mValueError\u001b[0m\u001b[1;33m(\u001b[0m\u001b[0mmsg\u001b[0m\u001b[1;33m)\u001b[0m\u001b[1;33m\u001b[0m\u001b[1;33m\u001b[0m\u001b[0m\n\u001b[1;32m--> 628\u001b[1;33m         \u001b[0mself\u001b[0m\u001b[1;33m.\u001b[0m\u001b[0m_update_ctx\u001b[0m\u001b[1;33m(\u001b[0m\u001b[0mresult\u001b[0m\u001b[1;33m)\u001b[0m\u001b[1;33m\u001b[0m\u001b[1;33m\u001b[0m\u001b[0m\n\u001b[0m\u001b[0;32m    629\u001b[0m         \u001b[1;32mreturn\u001b[0m \u001b[0mself\u001b[0m\u001b[1;33m\u001b[0m\u001b[1;33m\u001b[0m\u001b[0m\n\u001b[0;32m    630\u001b[0m \u001b[1;33m\u001b[0m\u001b[0m\n",
      "\u001b[1;32m~\\AppData\\Local\\Continuum\\anaconda3\\lib\\site-packages\\pandas\\io\\formats\\style.py\u001b[0m in \u001b[0;36m_update_ctx\u001b[1;34m(self, attrs)\u001b[0m\n\u001b[0;32m    540\u001b[0m         \u001b[1;32mfor\u001b[0m \u001b[0mrow_label\u001b[0m\u001b[1;33m,\u001b[0m \u001b[0mv\u001b[0m \u001b[1;32min\u001b[0m \u001b[0mattrs\u001b[0m\u001b[1;33m.\u001b[0m\u001b[0miterrows\u001b[0m\u001b[1;33m(\u001b[0m\u001b[1;33m)\u001b[0m\u001b[1;33m:\u001b[0m\u001b[1;33m\u001b[0m\u001b[1;33m\u001b[0m\u001b[0m\n\u001b[0;32m    541\u001b[0m             \u001b[1;32mfor\u001b[0m \u001b[0mcol_label\u001b[0m\u001b[1;33m,\u001b[0m \u001b[0mcol\u001b[0m \u001b[1;32min\u001b[0m \u001b[0mv\u001b[0m\u001b[1;33m.\u001b[0m\u001b[0mitems\u001b[0m\u001b[1;33m(\u001b[0m\u001b[1;33m)\u001b[0m\u001b[1;33m:\u001b[0m\u001b[1;33m\u001b[0m\u001b[1;33m\u001b[0m\u001b[0m\n\u001b[1;32m--> 542\u001b[1;33m                 \u001b[0mi\u001b[0m \u001b[1;33m=\u001b[0m \u001b[0mself\u001b[0m\u001b[1;33m.\u001b[0m\u001b[0mindex\u001b[0m\u001b[1;33m.\u001b[0m\u001b[0mget_indexer\u001b[0m\u001b[1;33m(\u001b[0m\u001b[1;33m[\u001b[0m\u001b[0mrow_label\u001b[0m\u001b[1;33m]\u001b[0m\u001b[1;33m)\u001b[0m\u001b[1;33m[\u001b[0m\u001b[1;36m0\u001b[0m\u001b[1;33m]\u001b[0m\u001b[1;33m\u001b[0m\u001b[1;33m\u001b[0m\u001b[0m\n\u001b[0m\u001b[0;32m    543\u001b[0m                 \u001b[0mj\u001b[0m \u001b[1;33m=\u001b[0m \u001b[0mself\u001b[0m\u001b[1;33m.\u001b[0m\u001b[0mcolumns\u001b[0m\u001b[1;33m.\u001b[0m\u001b[0mget_indexer\u001b[0m\u001b[1;33m(\u001b[0m\u001b[1;33m[\u001b[0m\u001b[0mcol_label\u001b[0m\u001b[1;33m]\u001b[0m\u001b[1;33m)\u001b[0m\u001b[1;33m[\u001b[0m\u001b[1;36m0\u001b[0m\u001b[1;33m]\u001b[0m\u001b[1;33m\u001b[0m\u001b[1;33m\u001b[0m\u001b[0m\n\u001b[0;32m    544\u001b[0m                 \u001b[1;32mfor\u001b[0m \u001b[0mpair\u001b[0m \u001b[1;32min\u001b[0m \u001b[0mcol\u001b[0m\u001b[1;33m.\u001b[0m\u001b[0mrstrip\u001b[0m\u001b[1;33m(\u001b[0m\u001b[1;34m\";\"\u001b[0m\u001b[1;33m)\u001b[0m\u001b[1;33m.\u001b[0m\u001b[0msplit\u001b[0m\u001b[1;33m(\u001b[0m\u001b[1;34m\";\"\u001b[0m\u001b[1;33m)\u001b[0m\u001b[1;33m:\u001b[0m\u001b[1;33m\u001b[0m\u001b[1;33m\u001b[0m\u001b[0m\n",
      "\u001b[1;32m~\\AppData\\Local\\Continuum\\anaconda3\\lib\\site-packages\\pandas\\core\\indexes\\base.py\u001b[0m in \u001b[0;36mget_indexer\u001b[1;34m(self, target, method, limit, tolerance)\u001b[0m\n\u001b[0;32m   2974\u001b[0m             )\n\u001b[0;32m   2975\u001b[0m \u001b[1;33m\u001b[0m\u001b[0m\n\u001b[1;32m-> 2976\u001b[1;33m         \u001b[1;32mif\u001b[0m \u001b[1;32mnot\u001b[0m \u001b[0mis_dtype_equal\u001b[0m\u001b[1;33m(\u001b[0m\u001b[0mself\u001b[0m\u001b[1;33m.\u001b[0m\u001b[0mdtype\u001b[0m\u001b[1;33m,\u001b[0m \u001b[0mtarget\u001b[0m\u001b[1;33m.\u001b[0m\u001b[0mdtype\u001b[0m\u001b[1;33m)\u001b[0m\u001b[1;33m:\u001b[0m\u001b[1;33m\u001b[0m\u001b[1;33m\u001b[0m\u001b[0m\n\u001b[0m\u001b[0;32m   2977\u001b[0m             \u001b[0mthis\u001b[0m \u001b[1;33m=\u001b[0m \u001b[0mself\u001b[0m\u001b[1;33m.\u001b[0m\u001b[0mastype\u001b[0m\u001b[1;33m(\u001b[0m\u001b[0mobject\u001b[0m\u001b[1;33m)\u001b[0m\u001b[1;33m\u001b[0m\u001b[1;33m\u001b[0m\u001b[0m\n\u001b[0;32m   2978\u001b[0m             \u001b[0mtarget\u001b[0m \u001b[1;33m=\u001b[0m \u001b[0mtarget\u001b[0m\u001b[1;33m.\u001b[0m\u001b[0mastype\u001b[0m\u001b[1;33m(\u001b[0m\u001b[0mobject\u001b[0m\u001b[1;33m)\u001b[0m\u001b[1;33m\u001b[0m\u001b[1;33m\u001b[0m\u001b[0m\n",
      "\u001b[1;31mKeyboardInterrupt\u001b[0m: "
     ]
    }
   ],
   "source": [
    "hbd.corr().style.background_gradient(cmap='Spectral').set_precision(2)"
   ]
  },
  {
   "cell_type": "markdown",
   "metadata": {},
   "source": [
    "## Classificazione lineare"
   ]
  },
  {
   "cell_type": "markdown",
   "metadata": {},
   "source": [
    "- Convertiamo i possibili valori della variabile `is_canceled` (ovvero 0 e 1) in `N` e `Y`, per maggiore chiarezza"
   ]
  },
  {
   "cell_type": "code",
   "execution_count": 976,
   "metadata": {},
   "outputs": [],
   "source": [
    "#hbd[\"is_canceled\"] = hbd[\"is_canceled\"].map(lambda value: \"N\" if value is 0 else \"Y\")"
   ]
  },
  {
   "cell_type": "code",
   "execution_count": 977,
   "metadata": {},
   "outputs": [],
   "source": [
    "#hbd[\"is_canceled\"].unique()"
   ]
  },
  {
   "cell_type": "markdown",
   "metadata": {},
   "source": [
    "- Prima di procedere con la creazione del modello, riosserviamo le dimensioni del dataset"
   ]
  },
  {
   "cell_type": "code",
   "execution_count": 1113,
   "metadata": {},
   "outputs": [
    {
     "data": {
      "text/plain": [
       "(118897, 243)"
      ]
     },
     "execution_count": 1113,
     "metadata": {},
     "output_type": "execute_result"
    }
   ],
   "source": [
    "hbd.shape"
   ]
  },
  {
   "cell_type": "markdown",
   "metadata": {},
   "source": [
    "- Impostiamo come variabile da predire la classe `is_canceled` (0 o 1) e come variabili predittive tutte le altre 26"
   ]
  },
  {
   "cell_type": "code",
   "execution_count": 1114,
   "metadata": {},
   "outputs": [],
   "source": [
    "y = hbd[\"is_canceled\"]\n",
    "X = hbd.drop(columns=\"is_canceled\")"
   ]
  },
  {
   "cell_type": "markdown",
   "metadata": {},
   "source": [
    "- Suddividiamo i dati in un training set e in un validation set con la funzione `train_test_split` con proporzione 66-33"
   ]
  },
  {
   "cell_type": "code",
   "execution_count": 1115,
   "metadata": {},
   "outputs": [],
   "source": [
    "from sklearn.model_selection import train_test_split\n",
    "X_train, X_val, y_train, y_val = train_test_split(\n",
    "    X, y, \n",
    "    test_size=1/3, \n",
    "    random_state=42\n",
    ")"
   ]
  },
  {
   "cell_type": "markdown",
   "metadata": {},
   "source": [
    "- Definiamo un modello di regressione logistica configurandone l'implementazione e il seed per la casualità\n",
    "  - gli altri parametri sono lasciati ai valori di default, ad es. la regolarizzazione applicata è L2 con C=1"
   ]
  },
  {
   "cell_type": "code",
   "execution_count": 1116,
   "metadata": {},
   "outputs": [],
   "source": [
    "from sklearn.linear_model import LogisticRegression\n",
    "from sklearn.pipeline import Pipeline\n",
    "\n",
    "model = LogisticRegression(solver=\"saga\", random_state=42)  "
   ]
  },
  {
   "cell_type": "markdown",
   "metadata": {},
   "source": [
    "- Addestriamo il modello sui dati"
   ]
  },
  {
   "cell_type": "code",
   "execution_count": 1117,
   "metadata": {},
   "outputs": [
    {
     "data": {
      "text/plain": [
       "LogisticRegression(C=1.0, class_weight=None, dual=False, fit_intercept=True,\n",
       "                   intercept_scaling=1, l1_ratio=None, max_iter=100,\n",
       "                   multi_class='warn', n_jobs=None, penalty='l2',\n",
       "                   random_state=42, solver='saga', tol=0.0001, verbose=0,\n",
       "                   warm_start=False)"
      ]
     },
     "execution_count": 1117,
     "metadata": {},
     "output_type": "execute_result"
    }
   ],
   "source": [
    "model.fit(X_train, y_train)"
   ]
  },
  {
   "cell_type": "markdown",
   "metadata": {},
   "source": [
    "- Calcoliamo l'accuratezza sul validation set"
   ]
  },
  {
   "cell_type": "code",
   "execution_count": 1120,
   "metadata": {},
   "outputs": [
    {
     "data": {
      "text/plain": [
       "0.800645926374486"
      ]
     },
     "execution_count": 1120,
     "metadata": {},
     "output_type": "execute_result"
    }
   ],
   "source": [
    "model.score(X_val, y_val)"
   ]
  },
  {
   "cell_type": "markdown",
   "metadata": {},
   "source": [
    "- Per avere una valutazione più completa del modello ottento, possiamo metterlo a confronto con quello che accadrebbe prendendo decisioni casuali\n",
    "\n",
    "- Generiamo un serie di decisioni casuali (0 o 1)"
   ]
  },
  {
   "cell_type": "code",
   "execution_count": 984,
   "metadata": {},
   "outputs": [],
   "source": [
    "import random\n",
    "randoms = pd.Series(np.random.choice([False, True], size=(y_val.index.shape[0],)), index = y_val.index) "
   ]
  },
  {
   "cell_type": "markdown",
   "metadata": {},
   "source": [
    "- Calcoliamo l'accuratezza di questo modello randomico"
   ]
  },
  {
   "cell_type": "code",
   "execution_count": 985,
   "metadata": {},
   "outputs": [
    {
     "data": {
      "text/plain": [
       "0.5040856472724522"
      ]
     },
     "execution_count": 985,
     "metadata": {},
     "output_type": "execute_result"
    }
   ],
   "source": [
    "(y_val == randoms).mean()"
   ]
  },
  {
   "cell_type": "markdown",
   "metadata": {},
   "source": [
    "- Abbiamo quindi ottenuto un modello che ci consente di intraprendere delle decisioni migliori di come le faremmo casualmente"
   ]
  },
  {
   "cell_type": "markdown",
   "metadata": {},
   "source": [
    "- Cerchiamo di migliorare il modello"
   ]
  },
  {
   "cell_type": "code",
   "execution_count": 986,
   "metadata": {},
   "outputs": [],
   "source": [
    "from sklearn.model_selection import GridSearchCV, StratifiedKFold\n",
    "from sklearn.metrics import f1_score\n",
    "skf = StratifiedKFold(3, shuffle=True, random_state=42)"
   ]
  },
  {
   "cell_type": "code",
   "execution_count": 987,
   "metadata": {},
   "outputs": [],
   "source": [
    "import warnings\n",
    "warnings.filterwarnings(\"ignore\") "
   ]
  },
  {
   "cell_type": "code",
   "execution_count": 988,
   "metadata": {
    "scrolled": false
   },
   "outputs": [
    {
     "data": {
      "text/plain": [
       "GridSearchCV(cv=StratifiedKFold(n_splits=3, random_state=42, shuffle=True),\n",
       "             error_score='raise-deprecating',\n",
       "             estimator=Pipeline(memory=None,\n",
       "                                steps=[('scaler', None),\n",
       "                                       ('lr',\n",
       "                                        LogisticRegression(C=1.0,\n",
       "                                                           class_weight=None,\n",
       "                                                           dual=False,\n",
       "                                                           fit_intercept=True,\n",
       "                                                           intercept_scaling=1,\n",
       "                                                           l1_ratio=None,\n",
       "                                                           max_iter=100,\n",
       "                                                           multi_class='warn',\n",
       "                                                           n_jobs=None,\n",
       "                                                           penalty='l2',\n",
       "                                                           random_state=None,\n",
       "                                                           sol...\n",
       "                          'lr__penalty': ['l2', 'l1'],\n",
       "                          'scaler': [None,\n",
       "                                     StandardScaler(copy=True, with_mean=True,\n",
       "                                                    with_std=True)]},\n",
       "                         {'lr__C': array([1.e-02, 1.e-01, 1.e+00, 1.e+01, 1.e+02]),\n",
       "                          'lr__l1_ratio': [0.2, 0.5],\n",
       "                          'lr__penalty': ['elasticnet'],\n",
       "                          'scaler': [None,\n",
       "                                     StandardScaler(copy=True, with_mean=True,\n",
       "                                                    with_std=True)]}],\n",
       "             pre_dispatch='2*n_jobs', refit=True, return_train_score=False,\n",
       "             scoring=None, verbose=0)"
      ]
     },
     "execution_count": 988,
     "metadata": {},
     "output_type": "execute_result"
    }
   ],
   "source": [
    "from sklearn.preprocessing import StandardScaler\n",
    "from sklearn.pipeline import Pipeline\n",
    "mod = Pipeline([\n",
    "    (\"scaler\", None),\n",
    "    (\"lr\", LogisticRegression(solver=\"saga\"))\n",
    "])\n",
    "grid = [\n",
    "    {\n",
    "        \"scaler\": [None, StandardScaler()],\n",
    "        \"lr__penalty\": [\"none\"]\n",
    "    },\n",
    "    {\n",
    "        \"scaler\": [None, StandardScaler()],\n",
    "        \"lr__penalty\": [\"l2\", \"l1\"],\n",
    "        \"lr__C\": np.logspace(-2, 2, 5)\n",
    "    },\n",
    "    {\n",
    "        \"scaler\": [None, StandardScaler()],\n",
    "        \"lr__penalty\": [\"elasticnet\"],\n",
    "        \"lr__C\": np.logspace(-2, 2, 5),\n",
    "        \"lr__l1_ratio\": [0.2, 0.5]\n",
    "    }\n",
    "]\n",
    "gs = GridSearchCV(mod, grid, cv=skf)\n",
    "gs.fit(X_train, y_train)"
   ]
  },
  {
   "cell_type": "code",
   "execution_count": 989,
   "metadata": {},
   "outputs": [],
   "source": [
    "result = pd.DataFrame(gs.cv_results_)\n",
    "result.sort_values(by=\"rank_test_score\", inplace=True)"
   ]
  },
  {
   "cell_type": "code",
   "execution_count": 990,
   "metadata": {},
   "outputs": [
    {
     "data": {
      "text/html": [
       "<div>\n",
       "<style scoped>\n",
       "    .dataframe tbody tr th:only-of-type {\n",
       "        vertical-align: middle;\n",
       "    }\n",
       "\n",
       "    .dataframe tbody tr th {\n",
       "        vertical-align: top;\n",
       "    }\n",
       "\n",
       "    .dataframe thead th {\n",
       "        text-align: right;\n",
       "    }\n",
       "</style>\n",
       "<table border=\"1\" class=\"dataframe\">\n",
       "  <thead>\n",
       "    <tr style=\"text-align: right;\">\n",
       "      <th></th>\n",
       "      <th>mean_fit_time</th>\n",
       "      <th>std_fit_time</th>\n",
       "      <th>mean_score_time</th>\n",
       "      <th>std_score_time</th>\n",
       "      <th>param_lr__penalty</th>\n",
       "      <th>param_scaler</th>\n",
       "      <th>param_lr__C</th>\n",
       "      <th>param_lr__l1_ratio</th>\n",
       "      <th>params</th>\n",
       "      <th>split0_test_score</th>\n",
       "      <th>split1_test_score</th>\n",
       "      <th>split2_test_score</th>\n",
       "      <th>mean_test_score</th>\n",
       "      <th>std_test_score</th>\n",
       "      <th>rank_test_score</th>\n",
       "    </tr>\n",
       "  </thead>\n",
       "  <tbody>\n",
       "    <tr>\n",
       "      <td>31</td>\n",
       "      <td>4.234011</td>\n",
       "      <td>0.052675</td>\n",
       "      <td>0.019333</td>\n",
       "      <td>0.000942</td>\n",
       "      <td>elasticnet</td>\n",
       "      <td>StandardScaler(copy=True, with_mean=True, with...</td>\n",
       "      <td>1</td>\n",
       "      <td>0.2</td>\n",
       "      <td>{'lr__C': 1.0, 'lr__l1_ratio': 0.2, 'lr__penal...</td>\n",
       "      <td>0.797197</td>\n",
       "      <td>0.796062</td>\n",
       "      <td>0.790591</td>\n",
       "      <td>0.794617</td>\n",
       "      <td>0.002884</td>\n",
       "      <td>1</td>\n",
       "    </tr>\n",
       "    <tr>\n",
       "      <td>11</td>\n",
       "      <td>3.245447</td>\n",
       "      <td>0.080858</td>\n",
       "      <td>0.019327</td>\n",
       "      <td>0.004196</td>\n",
       "      <td>l2</td>\n",
       "      <td>StandardScaler(copy=True, with_mean=True, with...</td>\n",
       "      <td>1</td>\n",
       "      <td>NaN</td>\n",
       "      <td>{'lr__C': 1.0, 'lr__penalty': 'l2', 'scaler': ...</td>\n",
       "      <td>0.797083</td>\n",
       "      <td>0.796062</td>\n",
       "      <td>0.790591</td>\n",
       "      <td>0.794579</td>\n",
       "      <td>0.002851</td>\n",
       "      <td>2</td>\n",
       "    </tr>\n",
       "    <tr>\n",
       "      <td>33</td>\n",
       "      <td>3.981206</td>\n",
       "      <td>0.044284</td>\n",
       "      <td>0.016666</td>\n",
       "      <td>0.001248</td>\n",
       "      <td>elasticnet</td>\n",
       "      <td>StandardScaler(copy=True, with_mean=True, with...</td>\n",
       "      <td>1</td>\n",
       "      <td>0.5</td>\n",
       "      <td>{'lr__C': 1.0, 'lr__l1_ratio': 0.5, 'lr__penal...</td>\n",
       "      <td>0.796970</td>\n",
       "      <td>0.796175</td>\n",
       "      <td>0.790534</td>\n",
       "      <td>0.794560</td>\n",
       "      <td>0.002865</td>\n",
       "      <td>3</td>\n",
       "    </tr>\n",
       "    <tr>\n",
       "      <td>7</td>\n",
       "      <td>3.510552</td>\n",
       "      <td>0.197643</td>\n",
       "      <td>0.019000</td>\n",
       "      <td>0.000817</td>\n",
       "      <td>l2</td>\n",
       "      <td>StandardScaler(copy=True, with_mean=True, with...</td>\n",
       "      <td>0.1</td>\n",
       "      <td>NaN</td>\n",
       "      <td>{'lr__C': 0.1, 'lr__penalty': 'l2', 'scaler': ...</td>\n",
       "      <td>0.796800</td>\n",
       "      <td>0.796232</td>\n",
       "      <td>0.790648</td>\n",
       "      <td>0.794560</td>\n",
       "      <td>0.002776</td>\n",
       "      <td>3</td>\n",
       "    </tr>\n",
       "    <tr>\n",
       "      <td>17</td>\n",
       "      <td>2.295497</td>\n",
       "      <td>0.041671</td>\n",
       "      <td>0.012655</td>\n",
       "      <td>0.000477</td>\n",
       "      <td>l1</td>\n",
       "      <td>StandardScaler(copy=True, with_mean=True, with...</td>\n",
       "      <td>10</td>\n",
       "      <td>NaN</td>\n",
       "      <td>{'lr__C': 10.0, 'lr__penalty': 'l1', 'scaler':...</td>\n",
       "      <td>0.796970</td>\n",
       "      <td>0.796005</td>\n",
       "      <td>0.790591</td>\n",
       "      <td>0.794522</td>\n",
       "      <td>0.002807</td>\n",
       "      <td>5</td>\n",
       "    </tr>\n",
       "    <tr>\n",
       "      <td>15</td>\n",
       "      <td>3.375569</td>\n",
       "      <td>0.019455</td>\n",
       "      <td>0.018667</td>\n",
       "      <td>0.000472</td>\n",
       "      <td>l2</td>\n",
       "      <td>StandardScaler(copy=True, with_mean=True, with...</td>\n",
       "      <td>10</td>\n",
       "      <td>NaN</td>\n",
       "      <td>{'lr__C': 10.0, 'lr__penalty': 'l2', 'scaler':...</td>\n",
       "      <td>0.796970</td>\n",
       "      <td>0.796005</td>\n",
       "      <td>0.790591</td>\n",
       "      <td>0.794522</td>\n",
       "      <td>0.002807</td>\n",
       "      <td>5</td>\n",
       "    </tr>\n",
       "    <tr>\n",
       "      <td>13</td>\n",
       "      <td>3.721699</td>\n",
       "      <td>0.030911</td>\n",
       "      <td>0.019001</td>\n",
       "      <td>0.002161</td>\n",
       "      <td>l1</td>\n",
       "      <td>StandardScaler(copy=True, with_mean=True, with...</td>\n",
       "      <td>1</td>\n",
       "      <td>NaN</td>\n",
       "      <td>{'lr__C': 1.0, 'lr__penalty': 'l1', 'scaler': ...</td>\n",
       "      <td>0.796856</td>\n",
       "      <td>0.796175</td>\n",
       "      <td>0.790534</td>\n",
       "      <td>0.794522</td>\n",
       "      <td>0.002834</td>\n",
       "      <td>5</td>\n",
       "    </tr>\n",
       "    <tr>\n",
       "      <td>19</td>\n",
       "      <td>1.941539</td>\n",
       "      <td>0.005567</td>\n",
       "      <td>0.012988</td>\n",
       "      <td>0.000009</td>\n",
       "      <td>l2</td>\n",
       "      <td>StandardScaler(copy=True, with_mean=True, with...</td>\n",
       "      <td>100</td>\n",
       "      <td>NaN</td>\n",
       "      <td>{'lr__C': 100.0, 'lr__penalty': 'l2', 'scaler'...</td>\n",
       "      <td>0.796970</td>\n",
       "      <td>0.796005</td>\n",
       "      <td>0.790591</td>\n",
       "      <td>0.794522</td>\n",
       "      <td>0.002807</td>\n",
       "      <td>5</td>\n",
       "    </tr>\n",
       "    <tr>\n",
       "      <td>41</td>\n",
       "      <td>3.305775</td>\n",
       "      <td>0.020480</td>\n",
       "      <td>0.015667</td>\n",
       "      <td>0.001700</td>\n",
       "      <td>elasticnet</td>\n",
       "      <td>StandardScaler(copy=True, with_mean=True, with...</td>\n",
       "      <td>100</td>\n",
       "      <td>0.5</td>\n",
       "      <td>{'lr__C': 100.0, 'lr__l1_ratio': 0.5, 'lr__pen...</td>\n",
       "      <td>0.796970</td>\n",
       "      <td>0.796005</td>\n",
       "      <td>0.790591</td>\n",
       "      <td>0.794522</td>\n",
       "      <td>0.002807</td>\n",
       "      <td>5</td>\n",
       "    </tr>\n",
       "    <tr>\n",
       "      <td>37</td>\n",
       "      <td>2.835766</td>\n",
       "      <td>0.030908</td>\n",
       "      <td>0.013333</td>\n",
       "      <td>0.000471</td>\n",
       "      <td>elasticnet</td>\n",
       "      <td>StandardScaler(copy=True, with_mean=True, with...</td>\n",
       "      <td>10</td>\n",
       "      <td>0.5</td>\n",
       "      <td>{'lr__C': 10.0, 'lr__l1_ratio': 0.5, 'lr__pena...</td>\n",
       "      <td>0.796970</td>\n",
       "      <td>0.796005</td>\n",
       "      <td>0.790591</td>\n",
       "      <td>0.794522</td>\n",
       "      <td>0.002807</td>\n",
       "      <td>5</td>\n",
       "    </tr>\n",
       "    <tr>\n",
       "      <td>39</td>\n",
       "      <td>3.335335</td>\n",
       "      <td>0.501178</td>\n",
       "      <td>0.014326</td>\n",
       "      <td>0.001253</td>\n",
       "      <td>elasticnet</td>\n",
       "      <td>StandardScaler(copy=True, with_mean=True, with...</td>\n",
       "      <td>100</td>\n",
       "      <td>0.2</td>\n",
       "      <td>{'lr__C': 100.0, 'lr__l1_ratio': 0.2, 'lr__pen...</td>\n",
       "      <td>0.796970</td>\n",
       "      <td>0.796005</td>\n",
       "      <td>0.790591</td>\n",
       "      <td>0.794522</td>\n",
       "      <td>0.002807</td>\n",
       "      <td>5</td>\n",
       "    </tr>\n",
       "    <tr>\n",
       "      <td>1</td>\n",
       "      <td>3.187688</td>\n",
       "      <td>0.049372</td>\n",
       "      <td>0.024001</td>\n",
       "      <td>0.004321</td>\n",
       "      <td>none</td>\n",
       "      <td>StandardScaler(copy=True, with_mean=True, with...</td>\n",
       "      <td>NaN</td>\n",
       "      <td>NaN</td>\n",
       "      <td>{'lr__penalty': 'none', 'scaler': StandardScal...</td>\n",
       "      <td>0.796970</td>\n",
       "      <td>0.796005</td>\n",
       "      <td>0.790591</td>\n",
       "      <td>0.794522</td>\n",
       "      <td>0.002807</td>\n",
       "      <td>5</td>\n",
       "    </tr>\n",
       "    <tr>\n",
       "      <td>35</td>\n",
       "      <td>3.752724</td>\n",
       "      <td>0.327173</td>\n",
       "      <td>0.016660</td>\n",
       "      <td>0.002619</td>\n",
       "      <td>elasticnet</td>\n",
       "      <td>StandardScaler(copy=True, with_mean=True, with...</td>\n",
       "      <td>10</td>\n",
       "      <td>0.2</td>\n",
       "      <td>{'lr__C': 10.0, 'lr__l1_ratio': 0.2, 'lr__pena...</td>\n",
       "      <td>0.796970</td>\n",
       "      <td>0.796005</td>\n",
       "      <td>0.790591</td>\n",
       "      <td>0.794522</td>\n",
       "      <td>0.002807</td>\n",
       "      <td>5</td>\n",
       "    </tr>\n",
       "    <tr>\n",
       "      <td>21</td>\n",
       "      <td>2.274346</td>\n",
       "      <td>0.038681</td>\n",
       "      <td>0.012989</td>\n",
       "      <td>0.000008</td>\n",
       "      <td>l1</td>\n",
       "      <td>StandardScaler(copy=True, with_mean=True, with...</td>\n",
       "      <td>100</td>\n",
       "      <td>NaN</td>\n",
       "      <td>{'lr__C': 100.0, 'lr__penalty': 'l1', 'scaler'...</td>\n",
       "      <td>0.796970</td>\n",
       "      <td>0.796005</td>\n",
       "      <td>0.790591</td>\n",
       "      <td>0.794522</td>\n",
       "      <td>0.002807</td>\n",
       "      <td>5</td>\n",
       "    </tr>\n",
       "    <tr>\n",
       "      <td>27</td>\n",
       "      <td>2.410673</td>\n",
       "      <td>0.017152</td>\n",
       "      <td>0.012328</td>\n",
       "      <td>0.000475</td>\n",
       "      <td>elasticnet</td>\n",
       "      <td>StandardScaler(copy=True, with_mean=True, with...</td>\n",
       "      <td>0.1</td>\n",
       "      <td>0.2</td>\n",
       "      <td>{'lr__C': 0.1, 'lr__l1_ratio': 0.2, 'lr__penal...</td>\n",
       "      <td>0.796686</td>\n",
       "      <td>0.796175</td>\n",
       "      <td>0.790364</td>\n",
       "      <td>0.794409</td>\n",
       "      <td>0.002868</td>\n",
       "      <td>15</td>\n",
       "    </tr>\n",
       "    <tr>\n",
       "      <td>9</td>\n",
       "      <td>3.720840</td>\n",
       "      <td>0.040298</td>\n",
       "      <td>0.018665</td>\n",
       "      <td>0.001247</td>\n",
       "      <td>l1</td>\n",
       "      <td>StandardScaler(copy=True, with_mean=True, with...</td>\n",
       "      <td>0.1</td>\n",
       "      <td>NaN</td>\n",
       "      <td>{'lr__C': 0.1, 'lr__penalty': 'l1', 'scaler': ...</td>\n",
       "      <td>0.796629</td>\n",
       "      <td>0.796289</td>\n",
       "      <td>0.790023</td>\n",
       "      <td>0.794314</td>\n",
       "      <td>0.003037</td>\n",
       "      <td>16</td>\n",
       "    </tr>\n",
       "    <tr>\n",
       "      <td>29</td>\n",
       "      <td>3.588248</td>\n",
       "      <td>0.854733</td>\n",
       "      <td>0.016660</td>\n",
       "      <td>0.002861</td>\n",
       "      <td>elasticnet</td>\n",
       "      <td>StandardScaler(copy=True, with_mean=True, with...</td>\n",
       "      <td>0.1</td>\n",
       "      <td>0.5</td>\n",
       "      <td>{'lr__C': 0.1, 'lr__l1_ratio': 0.5, 'lr__penal...</td>\n",
       "      <td>0.796629</td>\n",
       "      <td>0.795835</td>\n",
       "      <td>0.790080</td>\n",
       "      <td>0.794182</td>\n",
       "      <td>0.002918</td>\n",
       "      <td>17</td>\n",
       "    </tr>\n",
       "    <tr>\n",
       "      <td>3</td>\n",
       "      <td>1.759682</td>\n",
       "      <td>0.649829</td>\n",
       "      <td>0.013000</td>\n",
       "      <td>0.000815</td>\n",
       "      <td>l2</td>\n",
       "      <td>StandardScaler(copy=True, with_mean=True, with...</td>\n",
       "      <td>0.01</td>\n",
       "      <td>NaN</td>\n",
       "      <td>{'lr__C': 0.01, 'lr__penalty': 'l2', 'scaler':...</td>\n",
       "      <td>0.795438</td>\n",
       "      <td>0.794984</td>\n",
       "      <td>0.790307</td>\n",
       "      <td>0.793576</td>\n",
       "      <td>0.002319</td>\n",
       "      <td>18</td>\n",
       "    </tr>\n",
       "    <tr>\n",
       "      <td>23</td>\n",
       "      <td>2.245085</td>\n",
       "      <td>1.210565</td>\n",
       "      <td>0.017999</td>\n",
       "      <td>0.006482</td>\n",
       "      <td>elasticnet</td>\n",
       "      <td>StandardScaler(copy=True, with_mean=True, with...</td>\n",
       "      <td>0.01</td>\n",
       "      <td>0.2</td>\n",
       "      <td>{'lr__C': 0.01, 'lr__l1_ratio': 0.2, 'lr__pena...</td>\n",
       "      <td>0.795097</td>\n",
       "      <td>0.794814</td>\n",
       "      <td>0.789399</td>\n",
       "      <td>0.793103</td>\n",
       "      <td>0.002622</td>\n",
       "      <td>19</td>\n",
       "    </tr>\n",
       "    <tr>\n",
       "      <td>25</td>\n",
       "      <td>1.577675</td>\n",
       "      <td>0.745905</td>\n",
       "      <td>0.012667</td>\n",
       "      <td>0.000472</td>\n",
       "      <td>elasticnet</td>\n",
       "      <td>StandardScaler(copy=True, with_mean=True, with...</td>\n",
       "      <td>0.01</td>\n",
       "      <td>0.5</td>\n",
       "      <td>{'lr__C': 0.01, 'lr__l1_ratio': 0.5, 'lr__pena...</td>\n",
       "      <td>0.795154</td>\n",
       "      <td>0.794133</td>\n",
       "      <td>0.788775</td>\n",
       "      <td>0.792687</td>\n",
       "      <td>0.002798</td>\n",
       "      <td>20</td>\n",
       "    </tr>\n",
       "    <tr>\n",
       "      <td>5</td>\n",
       "      <td>2.610677</td>\n",
       "      <td>1.246193</td>\n",
       "      <td>0.021001</td>\n",
       "      <td>0.004967</td>\n",
       "      <td>l1</td>\n",
       "      <td>StandardScaler(copy=True, with_mean=True, with...</td>\n",
       "      <td>0.01</td>\n",
       "      <td>NaN</td>\n",
       "      <td>{'lr__C': 0.01, 'lr__penalty': 'l1', 'scaler':...</td>\n",
       "      <td>0.793452</td>\n",
       "      <td>0.792941</td>\n",
       "      <td>0.789569</td>\n",
       "      <td>0.791987</td>\n",
       "      <td>0.001722</td>\n",
       "      <td>21</td>\n",
       "    </tr>\n",
       "    <tr>\n",
       "      <td>20</td>\n",
       "      <td>2.280346</td>\n",
       "      <td>0.084610</td>\n",
       "      <td>0.006320</td>\n",
       "      <td>0.000468</td>\n",
       "      <td>l1</td>\n",
       "      <td>None</td>\n",
       "      <td>100</td>\n",
       "      <td>NaN</td>\n",
       "      <td>{'lr__C': 100.0, 'lr__penalty': 'l1', 'scaler'...</td>\n",
       "      <td>0.761732</td>\n",
       "      <td>0.767917</td>\n",
       "      <td>0.761251</td>\n",
       "      <td>0.763633</td>\n",
       "      <td>0.003035</td>\n",
       "      <td>22</td>\n",
       "    </tr>\n",
       "    <tr>\n",
       "      <td>14</td>\n",
       "      <td>3.158000</td>\n",
       "      <td>0.040685</td>\n",
       "      <td>0.009998</td>\n",
       "      <td>0.002944</td>\n",
       "      <td>l2</td>\n",
       "      <td>None</td>\n",
       "      <td>10</td>\n",
       "      <td>NaN</td>\n",
       "      <td>{'lr__C': 10.0, 'lr__penalty': 'l2', 'scaler':...</td>\n",
       "      <td>0.761675</td>\n",
       "      <td>0.767917</td>\n",
       "      <td>0.761308</td>\n",
       "      <td>0.763633</td>\n",
       "      <td>0.003033</td>\n",
       "      <td>22</td>\n",
       "    </tr>\n",
       "    <tr>\n",
       "      <td>40</td>\n",
       "      <td>3.186169</td>\n",
       "      <td>0.228037</td>\n",
       "      <td>0.008334</td>\n",
       "      <td>0.001247</td>\n",
       "      <td>elasticnet</td>\n",
       "      <td>None</td>\n",
       "      <td>100</td>\n",
       "      <td>0.5</td>\n",
       "      <td>{'lr__C': 100.0, 'lr__l1_ratio': 0.5, 'lr__pen...</td>\n",
       "      <td>0.761562</td>\n",
       "      <td>0.767974</td>\n",
       "      <td>0.761251</td>\n",
       "      <td>0.763595</td>\n",
       "      <td>0.003099</td>\n",
       "      <td>24</td>\n",
       "    </tr>\n",
       "    <tr>\n",
       "      <td>12</td>\n",
       "      <td>3.830427</td>\n",
       "      <td>0.029777</td>\n",
       "      <td>0.007666</td>\n",
       "      <td>0.000944</td>\n",
       "      <td>l1</td>\n",
       "      <td>None</td>\n",
       "      <td>1</td>\n",
       "      <td>NaN</td>\n",
       "      <td>{'lr__C': 1.0, 'lr__penalty': 'l1', 'scaler': ...</td>\n",
       "      <td>0.761505</td>\n",
       "      <td>0.768030</td>\n",
       "      <td>0.761251</td>\n",
       "      <td>0.763595</td>\n",
       "      <td>0.003138</td>\n",
       "      <td>24</td>\n",
       "    </tr>\n",
       "    <tr>\n",
       "      <td>10</td>\n",
       "      <td>3.166566</td>\n",
       "      <td>0.068674</td>\n",
       "      <td>0.011001</td>\n",
       "      <td>0.002161</td>\n",
       "      <td>l2</td>\n",
       "      <td>None</td>\n",
       "      <td>1</td>\n",
       "      <td>NaN</td>\n",
       "      <td>{'lr__C': 1.0, 'lr__penalty': 'l2', 'scaler': ...</td>\n",
       "      <td>0.761562</td>\n",
       "      <td>0.767917</td>\n",
       "      <td>0.761251</td>\n",
       "      <td>0.763577</td>\n",
       "      <td>0.003072</td>\n",
       "      <td>26</td>\n",
       "    </tr>\n",
       "    <tr>\n",
       "      <td>38</td>\n",
       "      <td>2.694666</td>\n",
       "      <td>0.055102</td>\n",
       "      <td>0.006667</td>\n",
       "      <td>0.000471</td>\n",
       "      <td>elasticnet</td>\n",
       "      <td>None</td>\n",
       "      <td>100</td>\n",
       "      <td>0.2</td>\n",
       "      <td>{'lr__C': 100.0, 'lr__l1_ratio': 0.2, 'lr__pen...</td>\n",
       "      <td>0.761448</td>\n",
       "      <td>0.767917</td>\n",
       "      <td>0.761364</td>\n",
       "      <td>0.763577</td>\n",
       "      <td>0.003069</td>\n",
       "      <td>26</td>\n",
       "    </tr>\n",
       "    <tr>\n",
       "      <td>0</td>\n",
       "      <td>3.089783</td>\n",
       "      <td>0.018429</td>\n",
       "      <td>0.010001</td>\n",
       "      <td>0.002828</td>\n",
       "      <td>none</td>\n",
       "      <td>None</td>\n",
       "      <td>NaN</td>\n",
       "      <td>NaN</td>\n",
       "      <td>{'lr__penalty': 'none', 'scaler': None}</td>\n",
       "      <td>0.761562</td>\n",
       "      <td>0.767917</td>\n",
       "      <td>0.761251</td>\n",
       "      <td>0.763577</td>\n",
       "      <td>0.003072</td>\n",
       "      <td>26</td>\n",
       "    </tr>\n",
       "    <tr>\n",
       "      <td>16</td>\n",
       "      <td>3.566767</td>\n",
       "      <td>0.399591</td>\n",
       "      <td>0.009661</td>\n",
       "      <td>0.002634</td>\n",
       "      <td>l1</td>\n",
       "      <td>None</td>\n",
       "      <td>10</td>\n",
       "      <td>NaN</td>\n",
       "      <td>{'lr__C': 10.0, 'lr__penalty': 'l1', 'scaler':...</td>\n",
       "      <td>0.761618</td>\n",
       "      <td>0.767917</td>\n",
       "      <td>0.761194</td>\n",
       "      <td>0.763577</td>\n",
       "      <td>0.003074</td>\n",
       "      <td>26</td>\n",
       "    </tr>\n",
       "    <tr>\n",
       "      <td>34</td>\n",
       "      <td>4.358075</td>\n",
       "      <td>0.280215</td>\n",
       "      <td>0.012001</td>\n",
       "      <td>0.000816</td>\n",
       "      <td>elasticnet</td>\n",
       "      <td>None</td>\n",
       "      <td>10</td>\n",
       "      <td>0.2</td>\n",
       "      <td>{'lr__C': 10.0, 'lr__l1_ratio': 0.2, 'lr__pena...</td>\n",
       "      <td>0.761562</td>\n",
       "      <td>0.767917</td>\n",
       "      <td>0.761194</td>\n",
       "      <td>0.763558</td>\n",
       "      <td>0.003086</td>\n",
       "      <td>30</td>\n",
       "    </tr>\n",
       "  </tbody>\n",
       "</table>\n",
       "</div>"
      ],
      "text/plain": [
       "    mean_fit_time  std_fit_time  mean_score_time  std_score_time  \\\n",
       "31       4.234011      0.052675         0.019333        0.000942   \n",
       "11       3.245447      0.080858         0.019327        0.004196   \n",
       "33       3.981206      0.044284         0.016666        0.001248   \n",
       "7        3.510552      0.197643         0.019000        0.000817   \n",
       "17       2.295497      0.041671         0.012655        0.000477   \n",
       "15       3.375569      0.019455         0.018667        0.000472   \n",
       "13       3.721699      0.030911         0.019001        0.002161   \n",
       "19       1.941539      0.005567         0.012988        0.000009   \n",
       "41       3.305775      0.020480         0.015667        0.001700   \n",
       "37       2.835766      0.030908         0.013333        0.000471   \n",
       "39       3.335335      0.501178         0.014326        0.001253   \n",
       "1        3.187688      0.049372         0.024001        0.004321   \n",
       "35       3.752724      0.327173         0.016660        0.002619   \n",
       "21       2.274346      0.038681         0.012989        0.000008   \n",
       "27       2.410673      0.017152         0.012328        0.000475   \n",
       "9        3.720840      0.040298         0.018665        0.001247   \n",
       "29       3.588248      0.854733         0.016660        0.002861   \n",
       "3        1.759682      0.649829         0.013000        0.000815   \n",
       "23       2.245085      1.210565         0.017999        0.006482   \n",
       "25       1.577675      0.745905         0.012667        0.000472   \n",
       "5        2.610677      1.246193         0.021001        0.004967   \n",
       "20       2.280346      0.084610         0.006320        0.000468   \n",
       "14       3.158000      0.040685         0.009998        0.002944   \n",
       "40       3.186169      0.228037         0.008334        0.001247   \n",
       "12       3.830427      0.029777         0.007666        0.000944   \n",
       "10       3.166566      0.068674         0.011001        0.002161   \n",
       "38       2.694666      0.055102         0.006667        0.000471   \n",
       "0        3.089783      0.018429         0.010001        0.002828   \n",
       "16       3.566767      0.399591         0.009661        0.002634   \n",
       "34       4.358075      0.280215         0.012001        0.000816   \n",
       "\n",
       "   param_lr__penalty                                       param_scaler  \\\n",
       "31        elasticnet  StandardScaler(copy=True, with_mean=True, with...   \n",
       "11                l2  StandardScaler(copy=True, with_mean=True, with...   \n",
       "33        elasticnet  StandardScaler(copy=True, with_mean=True, with...   \n",
       "7                 l2  StandardScaler(copy=True, with_mean=True, with...   \n",
       "17                l1  StandardScaler(copy=True, with_mean=True, with...   \n",
       "15                l2  StandardScaler(copy=True, with_mean=True, with...   \n",
       "13                l1  StandardScaler(copy=True, with_mean=True, with...   \n",
       "19                l2  StandardScaler(copy=True, with_mean=True, with...   \n",
       "41        elasticnet  StandardScaler(copy=True, with_mean=True, with...   \n",
       "37        elasticnet  StandardScaler(copy=True, with_mean=True, with...   \n",
       "39        elasticnet  StandardScaler(copy=True, with_mean=True, with...   \n",
       "1               none  StandardScaler(copy=True, with_mean=True, with...   \n",
       "35        elasticnet  StandardScaler(copy=True, with_mean=True, with...   \n",
       "21                l1  StandardScaler(copy=True, with_mean=True, with...   \n",
       "27        elasticnet  StandardScaler(copy=True, with_mean=True, with...   \n",
       "9                 l1  StandardScaler(copy=True, with_mean=True, with...   \n",
       "29        elasticnet  StandardScaler(copy=True, with_mean=True, with...   \n",
       "3                 l2  StandardScaler(copy=True, with_mean=True, with...   \n",
       "23        elasticnet  StandardScaler(copy=True, with_mean=True, with...   \n",
       "25        elasticnet  StandardScaler(copy=True, with_mean=True, with...   \n",
       "5                 l1  StandardScaler(copy=True, with_mean=True, with...   \n",
       "20                l1                                               None   \n",
       "14                l2                                               None   \n",
       "40        elasticnet                                               None   \n",
       "12                l1                                               None   \n",
       "10                l2                                               None   \n",
       "38        elasticnet                                               None   \n",
       "0               none                                               None   \n",
       "16                l1                                               None   \n",
       "34        elasticnet                                               None   \n",
       "\n",
       "   param_lr__C param_lr__l1_ratio  \\\n",
       "31           1                0.2   \n",
       "11           1                NaN   \n",
       "33           1                0.5   \n",
       "7          0.1                NaN   \n",
       "17          10                NaN   \n",
       "15          10                NaN   \n",
       "13           1                NaN   \n",
       "19         100                NaN   \n",
       "41         100                0.5   \n",
       "37          10                0.5   \n",
       "39         100                0.2   \n",
       "1          NaN                NaN   \n",
       "35          10                0.2   \n",
       "21         100                NaN   \n",
       "27         0.1                0.2   \n",
       "9          0.1                NaN   \n",
       "29         0.1                0.5   \n",
       "3         0.01                NaN   \n",
       "23        0.01                0.2   \n",
       "25        0.01                0.5   \n",
       "5         0.01                NaN   \n",
       "20         100                NaN   \n",
       "14          10                NaN   \n",
       "40         100                0.5   \n",
       "12           1                NaN   \n",
       "10           1                NaN   \n",
       "38         100                0.2   \n",
       "0          NaN                NaN   \n",
       "16          10                NaN   \n",
       "34          10                0.2   \n",
       "\n",
       "                                               params  split0_test_score  \\\n",
       "31  {'lr__C': 1.0, 'lr__l1_ratio': 0.2, 'lr__penal...           0.797197   \n",
       "11  {'lr__C': 1.0, 'lr__penalty': 'l2', 'scaler': ...           0.797083   \n",
       "33  {'lr__C': 1.0, 'lr__l1_ratio': 0.5, 'lr__penal...           0.796970   \n",
       "7   {'lr__C': 0.1, 'lr__penalty': 'l2', 'scaler': ...           0.796800   \n",
       "17  {'lr__C': 10.0, 'lr__penalty': 'l1', 'scaler':...           0.796970   \n",
       "15  {'lr__C': 10.0, 'lr__penalty': 'l2', 'scaler':...           0.796970   \n",
       "13  {'lr__C': 1.0, 'lr__penalty': 'l1', 'scaler': ...           0.796856   \n",
       "19  {'lr__C': 100.0, 'lr__penalty': 'l2', 'scaler'...           0.796970   \n",
       "41  {'lr__C': 100.0, 'lr__l1_ratio': 0.5, 'lr__pen...           0.796970   \n",
       "37  {'lr__C': 10.0, 'lr__l1_ratio': 0.5, 'lr__pena...           0.796970   \n",
       "39  {'lr__C': 100.0, 'lr__l1_ratio': 0.2, 'lr__pen...           0.796970   \n",
       "1   {'lr__penalty': 'none', 'scaler': StandardScal...           0.796970   \n",
       "35  {'lr__C': 10.0, 'lr__l1_ratio': 0.2, 'lr__pena...           0.796970   \n",
       "21  {'lr__C': 100.0, 'lr__penalty': 'l1', 'scaler'...           0.796970   \n",
       "27  {'lr__C': 0.1, 'lr__l1_ratio': 0.2, 'lr__penal...           0.796686   \n",
       "9   {'lr__C': 0.1, 'lr__penalty': 'l1', 'scaler': ...           0.796629   \n",
       "29  {'lr__C': 0.1, 'lr__l1_ratio': 0.5, 'lr__penal...           0.796629   \n",
       "3   {'lr__C': 0.01, 'lr__penalty': 'l2', 'scaler':...           0.795438   \n",
       "23  {'lr__C': 0.01, 'lr__l1_ratio': 0.2, 'lr__pena...           0.795097   \n",
       "25  {'lr__C': 0.01, 'lr__l1_ratio': 0.5, 'lr__pena...           0.795154   \n",
       "5   {'lr__C': 0.01, 'lr__penalty': 'l1', 'scaler':...           0.793452   \n",
       "20  {'lr__C': 100.0, 'lr__penalty': 'l1', 'scaler'...           0.761732   \n",
       "14  {'lr__C': 10.0, 'lr__penalty': 'l2', 'scaler':...           0.761675   \n",
       "40  {'lr__C': 100.0, 'lr__l1_ratio': 0.5, 'lr__pen...           0.761562   \n",
       "12  {'lr__C': 1.0, 'lr__penalty': 'l1', 'scaler': ...           0.761505   \n",
       "10  {'lr__C': 1.0, 'lr__penalty': 'l2', 'scaler': ...           0.761562   \n",
       "38  {'lr__C': 100.0, 'lr__l1_ratio': 0.2, 'lr__pen...           0.761448   \n",
       "0             {'lr__penalty': 'none', 'scaler': None}           0.761562   \n",
       "16  {'lr__C': 10.0, 'lr__penalty': 'l1', 'scaler':...           0.761618   \n",
       "34  {'lr__C': 10.0, 'lr__l1_ratio': 0.2, 'lr__pena...           0.761562   \n",
       "\n",
       "    split1_test_score  split2_test_score  mean_test_score  std_test_score  \\\n",
       "31           0.796062           0.790591         0.794617        0.002884   \n",
       "11           0.796062           0.790591         0.794579        0.002851   \n",
       "33           0.796175           0.790534         0.794560        0.002865   \n",
       "7            0.796232           0.790648         0.794560        0.002776   \n",
       "17           0.796005           0.790591         0.794522        0.002807   \n",
       "15           0.796005           0.790591         0.794522        0.002807   \n",
       "13           0.796175           0.790534         0.794522        0.002834   \n",
       "19           0.796005           0.790591         0.794522        0.002807   \n",
       "41           0.796005           0.790591         0.794522        0.002807   \n",
       "37           0.796005           0.790591         0.794522        0.002807   \n",
       "39           0.796005           0.790591         0.794522        0.002807   \n",
       "1            0.796005           0.790591         0.794522        0.002807   \n",
       "35           0.796005           0.790591         0.794522        0.002807   \n",
       "21           0.796005           0.790591         0.794522        0.002807   \n",
       "27           0.796175           0.790364         0.794409        0.002868   \n",
       "9            0.796289           0.790023         0.794314        0.003037   \n",
       "29           0.795835           0.790080         0.794182        0.002918   \n",
       "3            0.794984           0.790307         0.793576        0.002319   \n",
       "23           0.794814           0.789399         0.793103        0.002622   \n",
       "25           0.794133           0.788775         0.792687        0.002798   \n",
       "5            0.792941           0.789569         0.791987        0.001722   \n",
       "20           0.767917           0.761251         0.763633        0.003035   \n",
       "14           0.767917           0.761308         0.763633        0.003033   \n",
       "40           0.767974           0.761251         0.763595        0.003099   \n",
       "12           0.768030           0.761251         0.763595        0.003138   \n",
       "10           0.767917           0.761251         0.763577        0.003072   \n",
       "38           0.767917           0.761364         0.763577        0.003069   \n",
       "0            0.767917           0.761251         0.763577        0.003072   \n",
       "16           0.767917           0.761194         0.763577        0.003074   \n",
       "34           0.767917           0.761194         0.763558        0.003086   \n",
       "\n",
       "    rank_test_score  \n",
       "31                1  \n",
       "11                2  \n",
       "33                3  \n",
       "7                 3  \n",
       "17                5  \n",
       "15                5  \n",
       "13                5  \n",
       "19                5  \n",
       "41                5  \n",
       "37                5  \n",
       "39                5  \n",
       "1                 5  \n",
       "35                5  \n",
       "21                5  \n",
       "27               15  \n",
       "9                16  \n",
       "29               17  \n",
       "3                18  \n",
       "23               19  \n",
       "25               20  \n",
       "5                21  \n",
       "20               22  \n",
       "14               22  \n",
       "40               24  \n",
       "12               24  \n",
       "10               26  \n",
       "38               26  \n",
       "0                26  \n",
       "16               26  \n",
       "34               30  "
      ]
     },
     "execution_count": 990,
     "metadata": {},
     "output_type": "execute_result"
    }
   ],
   "source": [
    "result.head(30)"
   ]
  },
  {
   "cell_type": "markdown",
   "metadata": {},
   "source": [
    "- Andiamo a prendere i parametri dei tre modelli testati che hanno ottenuto i valori \"rank_test_score\" più alti"
   ]
  },
  {
   "cell_type": "code",
   "execution_count": 991,
   "metadata": {},
   "outputs": [],
   "source": [
    "result.reset_index(inplace=True)"
   ]
  },
  {
   "cell_type": "markdown",
   "metadata": {},
   "source": [
    "- Primo in classifica"
   ]
  },
  {
   "cell_type": "code",
   "execution_count": 992,
   "metadata": {},
   "outputs": [
    {
     "data": {
      "text/plain": [
       "{'lr__C': 1.0,\n",
       " 'lr__l1_ratio': 0.2,\n",
       " 'lr__penalty': 'elasticnet',\n",
       " 'scaler': StandardScaler(copy=True, with_mean=True, with_std=True)}"
      ]
     },
     "execution_count": 992,
     "metadata": {},
     "output_type": "execute_result"
    }
   ],
   "source": [
    "result.loc[0, 'params']"
   ]
  },
  {
   "cell_type": "markdown",
   "metadata": {},
   "source": [
    "- Secondo in classifica"
   ]
  },
  {
   "cell_type": "code",
   "execution_count": 993,
   "metadata": {},
   "outputs": [
    {
     "data": {
      "text/plain": [
       "{'lr__C': 1.0,\n",
       " 'lr__penalty': 'l2',\n",
       " 'scaler': StandardScaler(copy=True, with_mean=True, with_std=True)}"
      ]
     },
     "execution_count": 993,
     "metadata": {},
     "output_type": "execute_result"
    }
   ],
   "source": [
    "result.loc[1, 'params']"
   ]
  },
  {
   "cell_type": "markdown",
   "metadata": {},
   "source": [
    "- Terzo in classifica"
   ]
  },
  {
   "cell_type": "code",
   "execution_count": 994,
   "metadata": {},
   "outputs": [
    {
     "data": {
      "text/plain": [
       "{'lr__C': 0.1,\n",
       " 'lr__penalty': 'l2',\n",
       " 'scaler': StandardScaler(copy=True, with_mean=True, with_std=True)}"
      ]
     },
     "execution_count": 994,
     "metadata": {},
     "output_type": "execute_result"
    }
   ],
   "source": [
    "result.loc[3, 'params']"
   ]
  },
  {
   "cell_type": "markdown",
   "metadata": {},
   "source": [
    "- Dai parametri mostrati genero tre modelli, i tre modelli ipoteticamente migliori"
   ]
  },
  {
   "cell_type": "code",
   "execution_count": 995,
   "metadata": {},
   "outputs": [],
   "source": [
    "import copy\n",
    "model_1 = copy.deepcopy(gs.best_estimator_.set_params(**result.loc[0, 'params']))\n",
    "model_2 = copy.deepcopy(gs.best_estimator_.set_params(**result.loc[1, 'params']))\n",
    "model_3 = copy.deepcopy(gs.best_estimator_.set_params(**result.loc[2, 'params']))"
   ]
  },
  {
   "cell_type": "code",
   "execution_count": 996,
   "metadata": {},
   "outputs": [
    {
     "data": {
      "text/plain": [
       "{'memory': None,\n",
       " 'steps': [('scaler',\n",
       "   StandardScaler(copy=True, with_mean=True, with_std=True)),\n",
       "  ('lr',\n",
       "   LogisticRegression(C=1.0, class_weight=None, dual=False, fit_intercept=True,\n",
       "                      intercept_scaling=1, l1_ratio=0.2, max_iter=100,\n",
       "                      multi_class='warn', n_jobs=None, penalty='elasticnet',\n",
       "                      random_state=None, solver='saga', tol=0.0001, verbose=0,\n",
       "                      warm_start=False))],\n",
       " 'verbose': False}"
      ]
     },
     "execution_count": 996,
     "metadata": {},
     "output_type": "execute_result"
    }
   ],
   "source": [
    "model_1.get_params(deep=False)"
   ]
  },
  {
   "cell_type": "code",
   "execution_count": 997,
   "metadata": {},
   "outputs": [
    {
     "data": {
      "text/plain": [
       "{'memory': None,\n",
       " 'steps': [('scaler',\n",
       "   StandardScaler(copy=True, with_mean=True, with_std=True)),\n",
       "  ('lr',\n",
       "   LogisticRegression(C=1.0, class_weight=None, dual=False, fit_intercept=True,\n",
       "                      intercept_scaling=1, l1_ratio=0.2, max_iter=100,\n",
       "                      multi_class='warn', n_jobs=None, penalty='l2',\n",
       "                      random_state=None, solver='saga', tol=0.0001, verbose=0,\n",
       "                      warm_start=False))],\n",
       " 'verbose': False}"
      ]
     },
     "execution_count": 997,
     "metadata": {},
     "output_type": "execute_result"
    }
   ],
   "source": [
    "model_2.get_params(deep=False)"
   ]
  },
  {
   "cell_type": "code",
   "execution_count": 998,
   "metadata": {},
   "outputs": [
    {
     "data": {
      "text/plain": [
       "{'memory': None,\n",
       " 'steps': [('scaler',\n",
       "   StandardScaler(copy=True, with_mean=True, with_std=True)),\n",
       "  ('lr',\n",
       "   LogisticRegression(C=1.0, class_weight=None, dual=False, fit_intercept=True,\n",
       "                      intercept_scaling=1, l1_ratio=0.5, max_iter=100,\n",
       "                      multi_class='warn', n_jobs=None, penalty='elasticnet',\n",
       "                      random_state=None, solver='saga', tol=0.0001, verbose=0,\n",
       "                      warm_start=False))],\n",
       " 'verbose': False}"
      ]
     },
     "execution_count": 998,
     "metadata": {},
     "output_type": "execute_result"
    }
   ],
   "source": [
    "model_3.get_params(deep=False)"
   ]
  },
  {
   "cell_type": "markdown",
   "metadata": {},
   "source": [
    "- Inoltre teniamo in considerazione anche, per puro confronto, il primo modello ottenuto "
   ]
  },
  {
   "cell_type": "code",
   "execution_count": 999,
   "metadata": {},
   "outputs": [
    {
     "data": {
      "text/plain": [
       "{'C': 1.0,\n",
       " 'class_weight': None,\n",
       " 'dual': False,\n",
       " 'fit_intercept': True,\n",
       " 'intercept_scaling': 1,\n",
       " 'l1_ratio': None,\n",
       " 'max_iter': 100,\n",
       " 'multi_class': 'warn',\n",
       " 'n_jobs': None,\n",
       " 'penalty': 'l2',\n",
       " 'random_state': 42,\n",
       " 'solver': 'saga',\n",
       " 'tol': 0.0001,\n",
       " 'verbose': 0,\n",
       " 'warm_start': False}"
      ]
     },
     "execution_count": 999,
     "metadata": {},
     "output_type": "execute_result"
    }
   ],
   "source": [
    "model.get_params(deep=False)"
   ]
  },
  {
   "cell_type": "markdown",
   "metadata": {},
   "source": [
    "## Valutazione dei modelli di classificazione"
   ]
  },
  {
   "cell_type": "markdown",
   "metadata": {},
   "source": [
    "### Intervallo di confidenza sui modelli"
   ]
  },
  {
   "cell_type": "code",
   "execution_count": 1000,
   "metadata": {},
   "outputs": [],
   "source": [
    "from scipy.stats import norm"
   ]
  },
  {
   "cell_type": "markdown",
   "metadata": {},
   "source": [
    "- Definiamo una funzione `conf_interval` che calcoli gli estremi dell'intervallo di confidenza e restituisca una tupla con i due estremi, dove:\n",
    "  - $a$ è l'accuratezza del modello misurata sul validation set\n",
    "  - N è il numero di osservazioni nel validation set\n",
    "  - Z è il valore tale per cui l'area sottesa dalla densità di probabilità $\\varphi(x)$ della distribuzione normale standard tra -Z e Z sia il livello di confidenza 1-𝛼\n",
    "  \n",
    "- Poichè a noi interessa valutare i modelli con una condifidenza del 95%, possiamo ricavare dalle apposite tabelle di valori che, per 1-𝛼 = 0.95 (𝛼=0.05), Z = 1.96"
   ]
  },
  {
   "cell_type": "code",
   "execution_count": 1001,
   "metadata": {},
   "outputs": [],
   "source": [
    "def conf_interval(a, N, Z=1.96):\n",
    "    c = (2 * N * a + Z**2) / (2 * (N + Z**2))\n",
    "    d = Z * np.sqrt(Z**2 + 4*N*a - 4*N*a**2) / (2 * (N + Z**2))\n",
    "    return c - d, c + d"
   ]
  },
  {
   "cell_type": "markdown",
   "metadata": {},
   "source": [
    "- Definisco ora una funzione `model_conf_interval` in modo che:\n",
    "  - prenda in input un modello addestrato `model`, un validation set `X, y` e un livello di confidenza `level` (default 0.95)\n",
    "  - restituisca l'intervallo di confidenza dell'accuratezza del modello, servendosi della funzione `conf_interval` sopra\n"
   ]
  },
  {
   "cell_type": "code",
   "execution_count": 1002,
   "metadata": {},
   "outputs": [],
   "source": [
    "def model_conf_interval(model, X, y, level=0.95):\n",
    "    a = model.score(X, y)\n",
    "    N = X.shape[0]\n",
    "    Z = norm.ppf((1 + level) / 2)\n",
    "    return conf_interval(a, N, Z)"
   ]
  },
  {
   "cell_type": "markdown",
   "metadata": {},
   "source": [
    "- Usiamo la funzione `model_conf_interval` per calcolare l'intervallo di confidenza al 95% dell'accuratezza dei tre modelli ottenuti stimata sul validation set  "
   ]
  },
  {
   "cell_type": "code",
   "execution_count": 1003,
   "metadata": {},
   "outputs": [
    {
     "data": {
      "text/plain": [
       "(0.7910816625559801, 0.8007972177366173)"
      ]
     },
     "execution_count": 1003,
     "metadata": {},
     "output_type": "execute_result"
    }
   ],
   "source": [
    "model_conf_interval(model_1, X_val, y_val)"
   ]
  },
  {
   "cell_type": "code",
   "execution_count": 1004,
   "metadata": {},
   "outputs": [
    {
     "data": {
      "text/plain": [
       "(0.7910435031512163, 0.8007597280002393)"
      ]
     },
     "execution_count": 1004,
     "metadata": {},
     "output_type": "execute_result"
    }
   ],
   "source": [
    "model_conf_interval(model_2, X_val, y_val)"
   ]
  },
  {
   "cell_type": "code",
   "execution_count": 1005,
   "metadata": {},
   "outputs": [
    {
     "data": {
      "text/plain": [
       "(0.7910816625559801, 0.8007972177366173)"
      ]
     },
     "execution_count": 1005,
     "metadata": {},
     "output_type": "execute_result"
    }
   ],
   "source": [
    "model_conf_interval(model_3, X_val, y_val)"
   ]
  },
  {
   "cell_type": "markdown",
   "metadata": {},
   "source": [
    "- Allo stesso modo calcolo l'intervallo di confidenza del primo modello ottenuto "
   ]
  },
  {
   "cell_type": "code",
   "execution_count": 1006,
   "metadata": {
    "scrolled": true
   },
   "outputs": [
    {
     "data": {
      "text/plain": [
       "(0.7657577032108837, 0.7758901473636303)"
      ]
     },
     "execution_count": 1006,
     "metadata": {},
     "output_type": "execute_result"
    }
   ],
   "source": [
    "model_conf_interval(model, X_val, y_val)"
   ]
  },
  {
   "cell_type": "markdown",
   "metadata": {},
   "source": [
    "### Confronto tra modelli"
   ]
  },
  {
   "cell_type": "markdown",
   "metadata": {},
   "source": [
    "- Dati due modelli diversi, vogliamo poter valutare se l'accuratezza  𝑎1  misurata su uno sia significativamente migliore della  𝑎2  misurata sull'altro.\n",
    "\n",
    "- Implementiamo la funzione `diff_interval` in modo che\n",
    "  - prenda in input le accuratezze `a1` e `a2`, i numeri di osservazioni `N1` e `N2` e il coefficiente `Z`\n",
    "  - calcoli l'intervallo di confidenza della differenza tra due modelli secondo la formula sopra"
   ]
  },
  {
   "cell_type": "code",
   "execution_count": 1007,
   "metadata": {},
   "outputs": [],
   "source": [
    "def diff_interval(a1, a2, N1, N2, Z):\n",
    "    d = abs(a1 - a2)\n",
    "    sd = np.sqrt(a1 * (1-a1) / N1 + a2 * (1-a2) / N2)\n",
    "    return d - Z * sd, d + Z * sd"
   ]
  },
  {
   "cell_type": "markdown",
   "metadata": {},
   "source": [
    "- Implementiamo la funzione `model_diff_interval` in modo che\n",
    "  - prenda in input due modelli `m1, m2`, un validation set `X, y` e un livello di confidenza `level` (default 0.95)\n",
    "  - restituisca l'intervallo di confidenza della differenza di accuratezza tra i due modelli, valutati entrambi sul validation set dato"
   ]
  },
  {
   "cell_type": "code",
   "execution_count": 1008,
   "metadata": {},
   "outputs": [],
   "source": [
    "def model_diff_interval(m1, m2, X, y, level=0.95):\n",
    "    a1 = m1.score(X, y)\n",
    "    a2 = m2.score(X, y)\n",
    "    N = len(X)\n",
    "    Z = norm.ppf((1 + level) / 2)\n",
    "    return diff_interval(a1, a2, N, N, Z)"
   ]
  },
  {
   "cell_type": "markdown",
   "metadata": {},
   "source": [
    "- Utilizziamo `model_diff_interval` per calcolare l'intervallo al 95\\% della differenza di accurateza sul validation set tra i tre modelli ottenuti"
   ]
  },
  {
   "cell_type": "code",
   "execution_count": 1009,
   "metadata": {},
   "outputs": [
    {
     "data": {
      "text/plain": [
       "(-0.006832571620323254, 0.0069082317549982244)"
      ]
     },
     "execution_count": 1009,
     "metadata": {},
     "output_type": "execute_result"
    }
   ],
   "source": [
    "model_diff_interval(model_1, model_2, X_val, y_val)"
   ]
  },
  {
   "cell_type": "code",
   "execution_count": 1010,
   "metadata": {},
   "outputs": [
    {
     "data": {
      "text/plain": [
       "(-0.006832571620323254, 0.0069082317549982244)"
      ]
     },
     "execution_count": 1010,
     "metadata": {},
     "output_type": "execute_result"
    }
   ],
   "source": [
    "model_diff_interval(model_2, model_3, X_val, y_val)"
   ]
  },
  {
   "cell_type": "code",
   "execution_count": 1011,
   "metadata": {},
   "outputs": [
    {
     "data": {
      "text/plain": [
       "(-0.006870164859158817, 0.006870164859158817)"
      ]
     },
     "execution_count": 1011,
     "metadata": {},
     "output_type": "execute_result"
    }
   ],
   "source": [
    "model_diff_interval(model_1, model_3, X_val, y_val)"
   ]
  },
  {
   "cell_type": "markdown",
   "metadata": {},
   "source": [
    "- In nessuno dei tre casi abbiamo la certezza che un modello sia meglio dell'altro\n",
    "\n",
    "- Poichè l'intervallo ottenuto include lo zero (l'estremo inferiore è negativo), non abbiamo la certezza al 95\\% (o altro livello di confidenza) che il modello con accuratezza stimata maggiore sia effettivamente migliore\n",
    "\n",
    "- Per puro confronto calcoliamo allo stesso modo la differenza di accuratezza tra i tre modelli ottenuti dalla GridSearch e il primo modello ottenuto"
   ]
  },
  {
   "cell_type": "code",
   "execution_count": 1012,
   "metadata": {},
   "outputs": [
    {
     "data": {
      "text/plain": [
       "(0.01810002163937538, 0.03213830778485097)"
      ]
     },
     "execution_count": 1012,
     "metadata": {},
     "output_type": "execute_result"
    }
   ],
   "source": [
    "model_diff_interval(model, model_1, X_val, y_val)"
   ]
  },
  {
   "cell_type": "code",
   "execution_count": 1013,
   "metadata": {},
   "outputs": [
    {
     "data": {
      "text/plain": [
       "(0.018061959769948597, 0.032100709519602776)"
      ]
     },
     "execution_count": 1013,
     "metadata": {},
     "output_type": "execute_result"
    }
   ],
   "source": [
    "model_diff_interval(model, model_2, X_val, y_val)"
   ]
  },
  {
   "cell_type": "code",
   "execution_count": 1014,
   "metadata": {},
   "outputs": [
    {
     "data": {
      "text/plain": [
       "(0.01810002163937538, 0.03213830778485097)"
      ]
     },
     "execution_count": 1014,
     "metadata": {},
     "output_type": "execute_result"
    }
   ],
   "source": [
    "model_diff_interval(model, model_3, X_val, y_val)"
   ]
  },
  {
   "cell_type": "markdown",
   "metadata": {},
   "source": [
    "- In tutti e tre i casi, poichè l'intervallo ottenuto non include lo zero, abbiamo la certezza al 95% che il primo modello ottenuto è peggiore di tutti gli altri"
   ]
  },
  {
   "cell_type": "markdown",
   "metadata": {},
   "source": [
    "### Matrice di confusione, precision e recall"
   ]
  },
  {
   "cell_type": "markdown",
   "metadata": {},
   "source": [
    "- Oltre all'accuratezza come percentuale di classificazioni corrette, esistono altri modi per valutare l'accuratezza di un classificatore\n",
    "    - particolarmente utili in caso di sbilanciamento tra le classi, per cui l'accuratezza può non essere un indicatore affidabile\n",
    "- Confrontando le classi predette da un classificatore su un set di dati con quelle reali, possiamo ottenere una matrice di confusione\n",
    "- Otteniamo la matrice col metodo confusion_matrix, passando i vettori di classi reali e predette"
   ]
  },
  {
   "cell_type": "code",
   "execution_count": 1015,
   "metadata": {},
   "outputs": [
    {
     "data": {
      "text/html": [
       "<div>\n",
       "<style scoped>\n",
       "    .dataframe tbody tr th:only-of-type {\n",
       "        vertical-align: middle;\n",
       "    }\n",
       "\n",
       "    .dataframe tbody tr th {\n",
       "        vertical-align: top;\n",
       "    }\n",
       "\n",
       "    .dataframe thead th {\n",
       "        text-align: right;\n",
       "    }\n",
       "</style>\n",
       "<table border=\"1\" class=\"dataframe\">\n",
       "  <thead>\n",
       "    <tr style=\"text-align: right;\">\n",
       "      <th></th>\n",
       "      <th>0</th>\n",
       "      <th>1</th>\n",
       "    </tr>\n",
       "  </thead>\n",
       "  <tbody>\n",
       "    <tr>\n",
       "      <td>0</td>\n",
       "      <td>14415</td>\n",
       "      <td>960</td>\n",
       "    </tr>\n",
       "    <tr>\n",
       "      <td>1</td>\n",
       "      <td>4433</td>\n",
       "      <td>6626</td>\n",
       "    </tr>\n",
       "  </tbody>\n",
       "</table>\n",
       "</div>"
      ],
      "text/plain": [
       "       0     1\n",
       "0  14415   960\n",
       "1   4433  6626"
      ]
     },
     "execution_count": 1015,
     "metadata": {},
     "output_type": "execute_result"
    }
   ],
   "source": [
    "from sklearn.metrics import confusion_matrix\n",
    "y_pred = model_1.predict(X_val)\n",
    "cm = confusion_matrix(y_val, y_pred)\n",
    "pd.DataFrame(cm, index=model.classes_, columns=model.classes_)"
   ]
  },
  {
   "cell_type": "code",
   "execution_count": 1016,
   "metadata": {},
   "outputs": [],
   "source": [
    "from sklearn.metrics import precision_score, recall_score, f1_score"
   ]
  },
  {
   "cell_type": "code",
   "execution_count": 1017,
   "metadata": {},
   "outputs": [
    {
     "data": {
      "text/plain": [
       "0.7648026315789473"
      ]
     },
     "execution_count": 1017,
     "metadata": {},
     "output_type": "execute_result"
    }
   ],
   "source": [
    "precision_score(y_val, y_pred, pos_label=0)"
   ]
  },
  {
   "cell_type": "code",
   "execution_count": 1018,
   "metadata": {},
   "outputs": [
    {
     "data": {
      "text/plain": [
       "0.937560975609756"
      ]
     },
     "execution_count": 1018,
     "metadata": {},
     "output_type": "execute_result"
    }
   ],
   "source": [
    "recall_score(y_val, y_pred, pos_label=0)"
   ]
  },
  {
   "cell_type": "code",
   "execution_count": 1019,
   "metadata": {},
   "outputs": [
    {
     "data": {
      "text/plain": [
       "array([0.84241592, 0.71075355])"
      ]
     },
     "execution_count": 1019,
     "metadata": {},
     "output_type": "execute_result"
    }
   ],
   "source": [
    "f1_score(y_val, y_pred, average=None)"
   ]
  },
  {
   "cell_type": "code",
   "execution_count": 1020,
   "metadata": {},
   "outputs": [
    {
     "data": {
      "text/plain": [
       "0.7765847361750753"
      ]
     },
     "execution_count": 1020,
     "metadata": {},
     "output_type": "execute_result"
    }
   ],
   "source": [
    "f1_score(y_val, y_pred, average=\"macro\")"
   ]
  },
  {
   "cell_type": "code",
   "execution_count": null,
   "metadata": {},
   "outputs": [],
   "source": []
  },
  {
   "cell_type": "markdown",
   "metadata": {},
   "source": [
    "### Interpretazione della conoscenza appresa\n",
    "\n",
    "- Interpretiamo ora la conoscenza appresa attraverso l'analisi dei parametri appresi (coefficienti degli iperpiani)\n",
    "\n",
    "- Analizziamo quali feature sono più positivamente o negativamente correlate ed in che misura con la variabile da predire\n",
    "\n",
    "- Poichè dei tre migliori modelli ottenuti non abbiamo certezza che uno sia migliore degli altri, prendiamo il primo"
   ]
  },
  {
   "cell_type": "code",
   "execution_count": 1021,
   "metadata": {},
   "outputs": [
    {
     "data": {
      "text/plain": [
       "Pipeline(memory=None,\n",
       "         steps=[('scaler',\n",
       "                 StandardScaler(copy=True, with_mean=True, with_std=True)),\n",
       "                ('lr',\n",
       "                 LogisticRegression(C=1.0, class_weight=None, dual=False,\n",
       "                                    fit_intercept=True, intercept_scaling=1,\n",
       "                                    l1_ratio=0.2, max_iter=100,\n",
       "                                    multi_class='warn', n_jobs=None,\n",
       "                                    penalty='elasticnet', random_state=None,\n",
       "                                    solver='saga', tol=0.0001, verbose=0,\n",
       "                                    warm_start=False))],\n",
       "         verbose=False)"
      ]
     },
     "execution_count": 1021,
     "metadata": {},
     "output_type": "execute_result"
    }
   ],
   "source": [
    "model_1"
   ]
  },
  {
   "cell_type": "markdown",
   "metadata": {},
   "source": [
    "- Visualizziamo le classi possibili"
   ]
  },
  {
   "cell_type": "code",
   "execution_count": 1022,
   "metadata": {},
   "outputs": [
    {
     "data": {
      "text/plain": [
       "array([0, 1], dtype=int64)"
      ]
     },
     "execution_count": 1022,
     "metadata": {},
     "output_type": "execute_result"
    }
   ],
   "source": [
    "model_1.classes_"
   ]
  },
  {
   "cell_type": "markdown",
   "metadata": {},
   "source": [
    "- La classe `0` rappresenta la classe positiva, ovvero la classe che si ottiene se la probabilità supera il 50%, viceversa per la classe `1`"
   ]
  },
  {
   "cell_type": "code",
   "execution_count": 1023,
   "metadata": {},
   "outputs": [
    {
     "data": {
      "text/plain": [
       "array([1, 1, 0], dtype=int64)"
      ]
     },
     "execution_count": 1023,
     "metadata": {},
     "output_type": "execute_result"
    }
   ],
   "source": [
    "model.predict(X_val[:3])"
   ]
  },
  {
   "cell_type": "code",
   "execution_count": 1024,
   "metadata": {},
   "outputs": [
    {
     "data": {
      "text/plain": [
       "array([[0.37051605, 0.62948395],\n",
       "       [0.22656757, 0.77343243],\n",
       "       [0.84086221, 0.15913779]])"
      ]
     },
     "execution_count": 1024,
     "metadata": {},
     "output_type": "execute_result"
    }
   ],
   "source": [
    "model.predict_proba(X_val[:3])"
   ]
  },
  {
   "cell_type": "markdown",
   "metadata": {},
   "source": [
    "- Visualizziamo prima di tutto l'intercetta di questo modello"
   ]
  },
  {
   "cell_type": "code",
   "execution_count": 1063,
   "metadata": {},
   "outputs": [
    {
     "data": {
      "text/plain": [
       "array([0.05157759])"
      ]
     },
     "execution_count": 1063,
     "metadata": {},
     "output_type": "execute_result"
    }
   ],
   "source": [
    "model_1.named_steps[\"lr\"].intercept_"
   ]
  },
  {
   "cell_type": "markdown",
   "metadata": {},
   "source": [
    "- La probabilità di partenza è molto vicina ad 1 (ovvero la classe `0`)\n",
    "\n",
    "- Visualizziamo il resto dei coefficienti"
   ]
  },
  {
   "cell_type": "code",
   "execution_count": 1026,
   "metadata": {},
   "outputs": [
    {
     "data": {
      "text/plain": [
       "lead_time                         0.327977\n",
       "arrival_date_month                0.021433\n",
       "arrival_date_week_number         -0.040337\n",
       "arrival_date_day_of_month         0.006515\n",
       "stays_in_weekend_nights           0.071078\n",
       "stays_in_week_nights              0.144749\n",
       "adults                            0.080014\n",
       "children                          0.064836\n",
       "babies                            0.010728\n",
       "meal                              0.189425\n",
       "country                          -0.041219\n",
       "market_segment                    0.040346\n",
       "distribution_channel             -0.269741\n",
       "is_repeated_guest                -0.009853\n",
       "previous_cancellations            0.954622\n",
       "previous_bookings_not_canceled   -0.840167\n",
       "reserved_room_type                0.588553\n",
       "assigned_room_type               -0.720210\n",
       "booking_changes                  -0.214807\n",
       "deposit_type                      2.173688\n",
       "agent                            -0.005327\n",
       "company                           0.013296\n",
       "days_in_waiting_list             -0.034100\n",
       "customer_type                    -0.239582\n",
       "adr                               0.278408\n",
       "required_car_parking_spaces      -0.947280\n",
       "total_of_special_requests        -0.537172\n",
       "dtype: float64"
      ]
     },
     "execution_count": 1026,
     "metadata": {},
     "output_type": "execute_result"
    }
   ],
   "source": [
    "pd.Series(model_1.named_steps[\"lr\"].coef_[0], index=X.columns)"
   ]
  },
  {
   "cell_type": "markdown",
   "metadata": {},
   "source": [
    "- Le variabili che presentano una maggiore influenza sul risultato sono:\n",
    "    - lead_time (-): all'aumentare del valore di lead_time la probabilità che una prenotazione venga cancellata diminuisce\n",
    "    - arrival_date_year (+): \n",
    "    - adults\n",
    "    - country\n",
    "    - reserved_room_type\n",
    "    - assigned_room_type\n",
    "    - deposit_type\n",
    "    - adr\n",
    "    - require_car_parking_spaces\n",
    "\n",
    "- Interessante notare come, essendo utilizzata la regressione Lasso, alcuni parametri sono stati azzerati.\n",
    "    - Queste variabili sono state considerate dal modello come irrilevanti per la predizione, quindi le ha scartate\n",
    "    - Le variabili in questione sono:\n",
    "        - is_repeated_guest\n",
    "        - previous_cancellations\n",
    "        - previous_bookings_not_canceled\n",
    "    - Queste variabili non hanno alcun tipo di correlazione con la possibilità che una prenotazione venga o no cancellata"
   ]
  },
  {
   "cell_type": "code",
   "execution_count": null,
   "metadata": {},
   "outputs": [],
   "source": []
  },
  {
   "cell_type": "code",
   "execution_count": null,
   "metadata": {},
   "outputs": [],
   "source": []
  },
  {
   "cell_type": "code",
   "execution_count": null,
   "metadata": {},
   "outputs": [],
   "source": []
  },
  {
   "cell_type": "code",
   "execution_count": null,
   "metadata": {},
   "outputs": [],
   "source": []
  },
  {
   "cell_type": "code",
   "execution_count": null,
   "metadata": {},
   "outputs": [],
   "source": []
  },
  {
   "cell_type": "code",
   "execution_count": null,
   "metadata": {},
   "outputs": [],
   "source": []
  },
  {
   "cell_type": "code",
   "execution_count": null,
   "metadata": {},
   "outputs": [],
   "source": []
  },
  {
   "cell_type": "code",
   "execution_count": null,
   "metadata": {},
   "outputs": [],
   "source": []
  },
  {
   "cell_type": "code",
   "execution_count": null,
   "metadata": {},
   "outputs": [],
   "source": []
  },
  {
   "cell_type": "code",
   "execution_count": null,
   "metadata": {},
   "outputs": [],
   "source": []
  },
  {
   "cell_type": "code",
   "execution_count": null,
   "metadata": {},
   "outputs": [],
   "source": []
  },
  {
   "cell_type": "code",
   "execution_count": null,
   "metadata": {},
   "outputs": [],
   "source": []
  },
  {
   "cell_type": "code",
   "execution_count": null,
   "metadata": {},
   "outputs": [],
   "source": []
  },
  {
   "cell_type": "code",
   "execution_count": 506,
   "metadata": {},
   "outputs": [
    {
     "name": "stderr",
     "output_type": "stream",
     "text": [
      "C:\\Users\\alessandr.lombardin3\\AppData\\Local\\Continuum\\anaconda3\\lib\\site-packages\\sklearn\\linear_model\\sag.py:337: ConvergenceWarning: The max_iter was reached which means the coef_ did not converge\n",
      "  \"the coef_ did not converge\", ConvergenceWarning)\n",
      "C:\\Users\\alessandr.lombardin3\\AppData\\Local\\Continuum\\anaconda3\\lib\\site-packages\\sklearn\\linear_model\\sag.py:337: ConvergenceWarning: The max_iter was reached which means the coef_ did not converge\n",
      "  \"the coef_ did not converge\", ConvergenceWarning)\n",
      "C:\\Users\\alessandr.lombardin3\\AppData\\Local\\Continuum\\anaconda3\\lib\\site-packages\\sklearn\\linear_model\\sag.py:337: ConvergenceWarning: The max_iter was reached which means the coef_ did not converge\n",
      "  \"the coef_ did not converge\", ConvergenceWarning)\n",
      "C:\\Users\\alessandr.lombardin3\\AppData\\Local\\Continuum\\anaconda3\\lib\\site-packages\\sklearn\\linear_model\\sag.py:337: ConvergenceWarning: The max_iter was reached which means the coef_ did not converge\n",
      "  \"the coef_ did not converge\", ConvergenceWarning)\n",
      "C:\\Users\\alessandr.lombardin3\\AppData\\Local\\Continuum\\anaconda3\\lib\\site-packages\\sklearn\\linear_model\\sag.py:337: ConvergenceWarning: The max_iter was reached which means the coef_ did not converge\n",
      "  \"the coef_ did not converge\", ConvergenceWarning)\n",
      "C:\\Users\\alessandr.lombardin3\\AppData\\Local\\Continuum\\anaconda3\\lib\\site-packages\\sklearn\\linear_model\\sag.py:337: ConvergenceWarning: The max_iter was reached which means the coef_ did not converge\n",
      "  \"the coef_ did not converge\", ConvergenceWarning)\n",
      "C:\\Users\\alessandr.lombardin3\\AppData\\Local\\Continuum\\anaconda3\\lib\\site-packages\\sklearn\\linear_model\\sag.py:337: ConvergenceWarning: The max_iter was reached which means the coef_ did not converge\n",
      "  \"the coef_ did not converge\", ConvergenceWarning)\n",
      "C:\\Users\\alessandr.lombardin3\\AppData\\Local\\Continuum\\anaconda3\\lib\\site-packages\\sklearn\\linear_model\\sag.py:337: ConvergenceWarning: The max_iter was reached which means the coef_ did not converge\n",
      "  \"the coef_ did not converge\", ConvergenceWarning)\n",
      "C:\\Users\\alessandr.lombardin3\\AppData\\Local\\Continuum\\anaconda3\\lib\\site-packages\\sklearn\\linear_model\\sag.py:337: ConvergenceWarning: The max_iter was reached which means the coef_ did not converge\n",
      "  \"the coef_ did not converge\", ConvergenceWarning)\n",
      "C:\\Users\\alessandr.lombardin3\\AppData\\Local\\Continuum\\anaconda3\\lib\\site-packages\\sklearn\\linear_model\\sag.py:337: ConvergenceWarning: The max_iter was reached which means the coef_ did not converge\n",
      "  \"the coef_ did not converge\", ConvergenceWarning)\n",
      "C:\\Users\\alessandr.lombardin3\\AppData\\Local\\Continuum\\anaconda3\\lib\\site-packages\\sklearn\\linear_model\\sag.py:337: ConvergenceWarning: The max_iter was reached which means the coef_ did not converge\n",
      "  \"the coef_ did not converge\", ConvergenceWarning)\n",
      "C:\\Users\\alessandr.lombardin3\\AppData\\Local\\Continuum\\anaconda3\\lib\\site-packages\\sklearn\\linear_model\\sag.py:337: ConvergenceWarning: The max_iter was reached which means the coef_ did not converge\n",
      "  \"the coef_ did not converge\", ConvergenceWarning)\n",
      "C:\\Users\\alessandr.lombardin3\\AppData\\Local\\Continuum\\anaconda3\\lib\\site-packages\\sklearn\\linear_model\\sag.py:337: ConvergenceWarning: The max_iter was reached which means the coef_ did not converge\n",
      "  \"the coef_ did not converge\", ConvergenceWarning)\n",
      "C:\\Users\\alessandr.lombardin3\\AppData\\Local\\Continuum\\anaconda3\\lib\\site-packages\\sklearn\\linear_model\\sag.py:337: ConvergenceWarning: The max_iter was reached which means the coef_ did not converge\n",
      "  \"the coef_ did not converge\", ConvergenceWarning)\n",
      "C:\\Users\\alessandr.lombardin3\\AppData\\Local\\Continuum\\anaconda3\\lib\\site-packages\\sklearn\\linear_model\\sag.py:337: ConvergenceWarning: The max_iter was reached which means the coef_ did not converge\n",
      "  \"the coef_ did not converge\", ConvergenceWarning)\n",
      "C:\\Users\\alessandr.lombardin3\\AppData\\Local\\Continuum\\anaconda3\\lib\\site-packages\\sklearn\\linear_model\\sag.py:337: ConvergenceWarning: The max_iter was reached which means the coef_ did not converge\n",
      "  \"the coef_ did not converge\", ConvergenceWarning)\n",
      "C:\\Users\\alessandr.lombardin3\\AppData\\Local\\Continuum\\anaconda3\\lib\\site-packages\\sklearn\\linear_model\\sag.py:337: ConvergenceWarning: The max_iter was reached which means the coef_ did not converge\n",
      "  \"the coef_ did not converge\", ConvergenceWarning)\n",
      "C:\\Users\\alessandr.lombardin3\\AppData\\Local\\Continuum\\anaconda3\\lib\\site-packages\\sklearn\\linear_model\\sag.py:337: ConvergenceWarning: The max_iter was reached which means the coef_ did not converge\n",
      "  \"the coef_ did not converge\", ConvergenceWarning)\n",
      "C:\\Users\\alessandr.lombardin3\\AppData\\Local\\Continuum\\anaconda3\\lib\\site-packages\\sklearn\\linear_model\\sag.py:337: ConvergenceWarning: The max_iter was reached which means the coef_ did not converge\n",
      "  \"the coef_ did not converge\", ConvergenceWarning)\n",
      "C:\\Users\\alessandr.lombardin3\\AppData\\Local\\Continuum\\anaconda3\\lib\\site-packages\\sklearn\\linear_model\\sag.py:337: ConvergenceWarning: The max_iter was reached which means the coef_ did not converge\n",
      "  \"the coef_ did not converge\", ConvergenceWarning)\n",
      "C:\\Users\\alessandr.lombardin3\\AppData\\Local\\Continuum\\anaconda3\\lib\\site-packages\\sklearn\\linear_model\\sag.py:337: ConvergenceWarning: The max_iter was reached which means the coef_ did not converge\n",
      "  \"the coef_ did not converge\", ConvergenceWarning)\n",
      "C:\\Users\\alessandr.lombardin3\\AppData\\Local\\Continuum\\anaconda3\\lib\\site-packages\\sklearn\\linear_model\\sag.py:337: ConvergenceWarning: The max_iter was reached which means the coef_ did not converge\n",
      "  \"the coef_ did not converge\", ConvergenceWarning)\n",
      "C:\\Users\\alessandr.lombardin3\\AppData\\Local\\Continuum\\anaconda3\\lib\\site-packages\\sklearn\\linear_model\\sag.py:337: ConvergenceWarning: The max_iter was reached which means the coef_ did not converge\n",
      "  \"the coef_ did not converge\", ConvergenceWarning)\n",
      "C:\\Users\\alessandr.lombardin3\\AppData\\Local\\Continuum\\anaconda3\\lib\\site-packages\\sklearn\\linear_model\\sag.py:337: ConvergenceWarning: The max_iter was reached which means the coef_ did not converge\n",
      "  \"the coef_ did not converge\", ConvergenceWarning)\n",
      "C:\\Users\\alessandr.lombardin3\\AppData\\Local\\Continuum\\anaconda3\\lib\\site-packages\\sklearn\\linear_model\\sag.py:337: ConvergenceWarning: The max_iter was reached which means the coef_ did not converge\n",
      "  \"the coef_ did not converge\", ConvergenceWarning)\n",
      "C:\\Users\\alessandr.lombardin3\\AppData\\Local\\Continuum\\anaconda3\\lib\\site-packages\\sklearn\\linear_model\\sag.py:337: ConvergenceWarning: The max_iter was reached which means the coef_ did not converge\n",
      "  \"the coef_ did not converge\", ConvergenceWarning)\n",
      "C:\\Users\\alessandr.lombardin3\\AppData\\Local\\Continuum\\anaconda3\\lib\\site-packages\\sklearn\\linear_model\\sag.py:337: ConvergenceWarning: The max_iter was reached which means the coef_ did not converge\n",
      "  \"the coef_ did not converge\", ConvergenceWarning)\n",
      "C:\\Users\\alessandr.lombardin3\\AppData\\Local\\Continuum\\anaconda3\\lib\\site-packages\\sklearn\\linear_model\\sag.py:337: ConvergenceWarning: The max_iter was reached which means the coef_ did not converge\n",
      "  \"the coef_ did not converge\", ConvergenceWarning)\n",
      "C:\\Users\\alessandr.lombardin3\\AppData\\Local\\Continuum\\anaconda3\\lib\\site-packages\\sklearn\\linear_model\\sag.py:337: ConvergenceWarning: The max_iter was reached which means the coef_ did not converge\n",
      "  \"the coef_ did not converge\", ConvergenceWarning)\n",
      "C:\\Users\\alessandr.lombardin3\\AppData\\Local\\Continuum\\anaconda3\\lib\\site-packages\\sklearn\\linear_model\\sag.py:337: ConvergenceWarning: The max_iter was reached which means the coef_ did not converge\n",
      "  \"the coef_ did not converge\", ConvergenceWarning)\n",
      "C:\\Users\\alessandr.lombardin3\\AppData\\Local\\Continuum\\anaconda3\\lib\\site-packages\\sklearn\\linear_model\\sag.py:337: ConvergenceWarning: The max_iter was reached which means the coef_ did not converge\n",
      "  \"the coef_ did not converge\", ConvergenceWarning)\n",
      "C:\\Users\\alessandr.lombardin3\\AppData\\Local\\Continuum\\anaconda3\\lib\\site-packages\\sklearn\\linear_model\\sag.py:337: ConvergenceWarning: The max_iter was reached which means the coef_ did not converge\n",
      "  \"the coef_ did not converge\", ConvergenceWarning)\n",
      "C:\\Users\\alessandr.lombardin3\\AppData\\Local\\Continuum\\anaconda3\\lib\\site-packages\\sklearn\\linear_model\\sag.py:337: ConvergenceWarning: The max_iter was reached which means the coef_ did not converge\n",
      "  \"the coef_ did not converge\", ConvergenceWarning)\n",
      "C:\\Users\\alessandr.lombardin3\\AppData\\Local\\Continuum\\anaconda3\\lib\\site-packages\\sklearn\\linear_model\\sag.py:337: ConvergenceWarning: The max_iter was reached which means the coef_ did not converge\n",
      "  \"the coef_ did not converge\", ConvergenceWarning)\n",
      "C:\\Users\\alessandr.lombardin3\\AppData\\Local\\Continuum\\anaconda3\\lib\\site-packages\\sklearn\\linear_model\\sag.py:337: ConvergenceWarning: The max_iter was reached which means the coef_ did not converge\n",
      "  \"the coef_ did not converge\", ConvergenceWarning)\n",
      "C:\\Users\\alessandr.lombardin3\\AppData\\Local\\Continuum\\anaconda3\\lib\\site-packages\\sklearn\\linear_model\\sag.py:337: ConvergenceWarning: The max_iter was reached which means the coef_ did not converge\n",
      "  \"the coef_ did not converge\", ConvergenceWarning)\n"
     ]
    },
    {
     "name": "stderr",
     "output_type": "stream",
     "text": [
      "C:\\Users\\alessandr.lombardin3\\AppData\\Local\\Continuum\\anaconda3\\lib\\site-packages\\sklearn\\linear_model\\sag.py:337: ConvergenceWarning: The max_iter was reached which means the coef_ did not converge\n",
      "  \"the coef_ did not converge\", ConvergenceWarning)\n",
      "C:\\Users\\alessandr.lombardin3\\AppData\\Local\\Continuum\\anaconda3\\lib\\site-packages\\sklearn\\linear_model\\sag.py:337: ConvergenceWarning: The max_iter was reached which means the coef_ did not converge\n",
      "  \"the coef_ did not converge\", ConvergenceWarning)\n",
      "C:\\Users\\alessandr.lombardin3\\AppData\\Local\\Continuum\\anaconda3\\lib\\site-packages\\sklearn\\linear_model\\sag.py:337: ConvergenceWarning: The max_iter was reached which means the coef_ did not converge\n",
      "  \"the coef_ did not converge\", ConvergenceWarning)\n",
      "C:\\Users\\alessandr.lombardin3\\AppData\\Local\\Continuum\\anaconda3\\lib\\site-packages\\sklearn\\linear_model\\sag.py:337: ConvergenceWarning: The max_iter was reached which means the coef_ did not converge\n",
      "  \"the coef_ did not converge\", ConvergenceWarning)\n",
      "C:\\Users\\alessandr.lombardin3\\AppData\\Local\\Continuum\\anaconda3\\lib\\site-packages\\sklearn\\linear_model\\sag.py:337: ConvergenceWarning: The max_iter was reached which means the coef_ did not converge\n",
      "  \"the coef_ did not converge\", ConvergenceWarning)\n",
      "C:\\Users\\alessandr.lombardin3\\AppData\\Local\\Continuum\\anaconda3\\lib\\site-packages\\sklearn\\linear_model\\sag.py:337: ConvergenceWarning: The max_iter was reached which means the coef_ did not converge\n",
      "  \"the coef_ did not converge\", ConvergenceWarning)\n",
      "C:\\Users\\alessandr.lombardin3\\AppData\\Local\\Continuum\\anaconda3\\lib\\site-packages\\sklearn\\linear_model\\sag.py:337: ConvergenceWarning: The max_iter was reached which means the coef_ did not converge\n",
      "  \"the coef_ did not converge\", ConvergenceWarning)\n",
      "C:\\Users\\alessandr.lombardin3\\AppData\\Local\\Continuum\\anaconda3\\lib\\site-packages\\sklearn\\linear_model\\sag.py:337: ConvergenceWarning: The max_iter was reached which means the coef_ did not converge\n",
      "  \"the coef_ did not converge\", ConvergenceWarning)\n",
      "C:\\Users\\alessandr.lombardin3\\AppData\\Local\\Continuum\\anaconda3\\lib\\site-packages\\sklearn\\linear_model\\sag.py:337: ConvergenceWarning: The max_iter was reached which means the coef_ did not converge\n",
      "  \"the coef_ did not converge\", ConvergenceWarning)\n",
      "C:\\Users\\alessandr.lombardin3\\AppData\\Local\\Continuum\\anaconda3\\lib\\site-packages\\sklearn\\linear_model\\sag.py:337: ConvergenceWarning: The max_iter was reached which means the coef_ did not converge\n",
      "  \"the coef_ did not converge\", ConvergenceWarning)\n",
      "C:\\Users\\alessandr.lombardin3\\AppData\\Local\\Continuum\\anaconda3\\lib\\site-packages\\sklearn\\linear_model\\sag.py:337: ConvergenceWarning: The max_iter was reached which means the coef_ did not converge\n",
      "  \"the coef_ did not converge\", ConvergenceWarning)\n",
      "C:\\Users\\alessandr.lombardin3\\AppData\\Local\\Continuum\\anaconda3\\lib\\site-packages\\sklearn\\linear_model\\sag.py:337: ConvergenceWarning: The max_iter was reached which means the coef_ did not converge\n",
      "  \"the coef_ did not converge\", ConvergenceWarning)\n",
      "C:\\Users\\alessandr.lombardin3\\AppData\\Local\\Continuum\\anaconda3\\lib\\site-packages\\sklearn\\linear_model\\sag.py:337: ConvergenceWarning: The max_iter was reached which means the coef_ did not converge\n",
      "  \"the coef_ did not converge\", ConvergenceWarning)\n",
      "C:\\Users\\alessandr.lombardin3\\AppData\\Local\\Continuum\\anaconda3\\lib\\site-packages\\sklearn\\linear_model\\sag.py:337: ConvergenceWarning: The max_iter was reached which means the coef_ did not converge\n",
      "  \"the coef_ did not converge\", ConvergenceWarning)\n",
      "C:\\Users\\alessandr.lombardin3\\AppData\\Local\\Continuum\\anaconda3\\lib\\site-packages\\sklearn\\linear_model\\sag.py:337: ConvergenceWarning: The max_iter was reached which means the coef_ did not converge\n",
      "  \"the coef_ did not converge\", ConvergenceWarning)\n",
      "C:\\Users\\alessandr.lombardin3\\AppData\\Local\\Continuum\\anaconda3\\lib\\site-packages\\sklearn\\linear_model\\sag.py:337: ConvergenceWarning: The max_iter was reached which means the coef_ did not converge\n",
      "  \"the coef_ did not converge\", ConvergenceWarning)\n",
      "C:\\Users\\alessandr.lombardin3\\AppData\\Local\\Continuum\\anaconda3\\lib\\site-packages\\sklearn\\linear_model\\sag.py:337: ConvergenceWarning: The max_iter was reached which means the coef_ did not converge\n",
      "  \"the coef_ did not converge\", ConvergenceWarning)\n",
      "C:\\Users\\alessandr.lombardin3\\AppData\\Local\\Continuum\\anaconda3\\lib\\site-packages\\sklearn\\linear_model\\sag.py:337: ConvergenceWarning: The max_iter was reached which means the coef_ did not converge\n",
      "  \"the coef_ did not converge\", ConvergenceWarning)\n",
      "C:\\Users\\alessandr.lombardin3\\AppData\\Local\\Continuum\\anaconda3\\lib\\site-packages\\sklearn\\linear_model\\sag.py:337: ConvergenceWarning: The max_iter was reached which means the coef_ did not converge\n",
      "  \"the coef_ did not converge\", ConvergenceWarning)\n",
      "C:\\Users\\alessandr.lombardin3\\AppData\\Local\\Continuum\\anaconda3\\lib\\site-packages\\sklearn\\linear_model\\sag.py:337: ConvergenceWarning: The max_iter was reached which means the coef_ did not converge\n",
      "  \"the coef_ did not converge\", ConvergenceWarning)\n",
      "C:\\Users\\alessandr.lombardin3\\AppData\\Local\\Continuum\\anaconda3\\lib\\site-packages\\sklearn\\linear_model\\sag.py:337: ConvergenceWarning: The max_iter was reached which means the coef_ did not converge\n",
      "  \"the coef_ did not converge\", ConvergenceWarning)\n",
      "C:\\Users\\alessandr.lombardin3\\AppData\\Local\\Continuum\\anaconda3\\lib\\site-packages\\sklearn\\linear_model\\sag.py:337: ConvergenceWarning: The max_iter was reached which means the coef_ did not converge\n",
      "  \"the coef_ did not converge\", ConvergenceWarning)\n",
      "C:\\Users\\alessandr.lombardin3\\AppData\\Local\\Continuum\\anaconda3\\lib\\site-packages\\sklearn\\linear_model\\sag.py:337: ConvergenceWarning: The max_iter was reached which means the coef_ did not converge\n",
      "  \"the coef_ did not converge\", ConvergenceWarning)\n",
      "C:\\Users\\alessandr.lombardin3\\AppData\\Local\\Continuum\\anaconda3\\lib\\site-packages\\sklearn\\linear_model\\sag.py:337: ConvergenceWarning: The max_iter was reached which means the coef_ did not converge\n",
      "  \"the coef_ did not converge\", ConvergenceWarning)\n",
      "C:\\Users\\alessandr.lombardin3\\AppData\\Local\\Continuum\\anaconda3\\lib\\site-packages\\sklearn\\linear_model\\sag.py:337: ConvergenceWarning: The max_iter was reached which means the coef_ did not converge\n",
      "  \"the coef_ did not converge\", ConvergenceWarning)\n",
      "C:\\Users\\alessandr.lombardin3\\AppData\\Local\\Continuum\\anaconda3\\lib\\site-packages\\sklearn\\linear_model\\sag.py:337: ConvergenceWarning: The max_iter was reached which means the coef_ did not converge\n",
      "  \"the coef_ did not converge\", ConvergenceWarning)\n",
      "C:\\Users\\alessandr.lombardin3\\AppData\\Local\\Continuum\\anaconda3\\lib\\site-packages\\sklearn\\linear_model\\sag.py:337: ConvergenceWarning: The max_iter was reached which means the coef_ did not converge\n",
      "  \"the coef_ did not converge\", ConvergenceWarning)\n",
      "C:\\Users\\alessandr.lombardin3\\AppData\\Local\\Continuum\\anaconda3\\lib\\site-packages\\sklearn\\linear_model\\sag.py:337: ConvergenceWarning: The max_iter was reached which means the coef_ did not converge\n",
      "  \"the coef_ did not converge\", ConvergenceWarning)\n",
      "C:\\Users\\alessandr.lombardin3\\AppData\\Local\\Continuum\\anaconda3\\lib\\site-packages\\sklearn\\linear_model\\sag.py:337: ConvergenceWarning: The max_iter was reached which means the coef_ did not converge\n",
      "  \"the coef_ did not converge\", ConvergenceWarning)\n",
      "C:\\Users\\alessandr.lombardin3\\AppData\\Local\\Continuum\\anaconda3\\lib\\site-packages\\sklearn\\linear_model\\sag.py:337: ConvergenceWarning: The max_iter was reached which means the coef_ did not converge\n",
      "  \"the coef_ did not converge\", ConvergenceWarning)\n",
      "C:\\Users\\alessandr.lombardin3\\AppData\\Local\\Continuum\\anaconda3\\lib\\site-packages\\sklearn\\linear_model\\sag.py:337: ConvergenceWarning: The max_iter was reached which means the coef_ did not converge\n",
      "  \"the coef_ did not converge\", ConvergenceWarning)\n",
      "C:\\Users\\alessandr.lombardin3\\AppData\\Local\\Continuum\\anaconda3\\lib\\site-packages\\sklearn\\linear_model\\sag.py:337: ConvergenceWarning: The max_iter was reached which means the coef_ did not converge\n",
      "  \"the coef_ did not converge\", ConvergenceWarning)\n",
      "C:\\Users\\alessandr.lombardin3\\AppData\\Local\\Continuum\\anaconda3\\lib\\site-packages\\sklearn\\linear_model\\sag.py:337: ConvergenceWarning: The max_iter was reached which means the coef_ did not converge\n",
      "  \"the coef_ did not converge\", ConvergenceWarning)\n"
     ]
    },
    {
     "name": "stderr",
     "output_type": "stream",
     "text": [
      "C:\\Users\\alessandr.lombardin3\\AppData\\Local\\Continuum\\anaconda3\\lib\\site-packages\\sklearn\\linear_model\\sag.py:337: ConvergenceWarning: The max_iter was reached which means the coef_ did not converge\n",
      "  \"the coef_ did not converge\", ConvergenceWarning)\n",
      "C:\\Users\\alessandr.lombardin3\\AppData\\Local\\Continuum\\anaconda3\\lib\\site-packages\\sklearn\\linear_model\\sag.py:337: ConvergenceWarning: The max_iter was reached which means the coef_ did not converge\n",
      "  \"the coef_ did not converge\", ConvergenceWarning)\n",
      "C:\\Users\\alessandr.lombardin3\\AppData\\Local\\Continuum\\anaconda3\\lib\\site-packages\\sklearn\\linear_model\\sag.py:337: ConvergenceWarning: The max_iter was reached which means the coef_ did not converge\n",
      "  \"the coef_ did not converge\", ConvergenceWarning)\n",
      "C:\\Users\\alessandr.lombardin3\\AppData\\Local\\Continuum\\anaconda3\\lib\\site-packages\\sklearn\\linear_model\\sag.py:337: ConvergenceWarning: The max_iter was reached which means the coef_ did not converge\n",
      "  \"the coef_ did not converge\", ConvergenceWarning)\n",
      "C:\\Users\\alessandr.lombardin3\\AppData\\Local\\Continuum\\anaconda3\\lib\\site-packages\\sklearn\\linear_model\\sag.py:337: ConvergenceWarning: The max_iter was reached which means the coef_ did not converge\n",
      "  \"the coef_ did not converge\", ConvergenceWarning)\n",
      "C:\\Users\\alessandr.lombardin3\\AppData\\Local\\Continuum\\anaconda3\\lib\\site-packages\\sklearn\\linear_model\\sag.py:337: ConvergenceWarning: The max_iter was reached which means the coef_ did not converge\n",
      "  \"the coef_ did not converge\", ConvergenceWarning)\n",
      "C:\\Users\\alessandr.lombardin3\\AppData\\Local\\Continuum\\anaconda3\\lib\\site-packages\\sklearn\\linear_model\\sag.py:337: ConvergenceWarning: The max_iter was reached which means the coef_ did not converge\n",
      "  \"the coef_ did not converge\", ConvergenceWarning)\n",
      "C:\\Users\\alessandr.lombardin3\\AppData\\Local\\Continuum\\anaconda3\\lib\\site-packages\\sklearn\\linear_model\\sag.py:337: ConvergenceWarning: The max_iter was reached which means the coef_ did not converge\n",
      "  \"the coef_ did not converge\", ConvergenceWarning)\n",
      "C:\\Users\\alessandr.lombardin3\\AppData\\Local\\Continuum\\anaconda3\\lib\\site-packages\\sklearn\\linear_model\\sag.py:337: ConvergenceWarning: The max_iter was reached which means the coef_ did not converge\n",
      "  \"the coef_ did not converge\", ConvergenceWarning)\n",
      "C:\\Users\\alessandr.lombardin3\\AppData\\Local\\Continuum\\anaconda3\\lib\\site-packages\\sklearn\\linear_model\\sag.py:337: ConvergenceWarning: The max_iter was reached which means the coef_ did not converge\n",
      "  \"the coef_ did not converge\", ConvergenceWarning)\n",
      "C:\\Users\\alessandr.lombardin3\\AppData\\Local\\Continuum\\anaconda3\\lib\\site-packages\\sklearn\\linear_model\\sag.py:337: ConvergenceWarning: The max_iter was reached which means the coef_ did not converge\n",
      "  \"the coef_ did not converge\", ConvergenceWarning)\n",
      "C:\\Users\\alessandr.lombardin3\\AppData\\Local\\Continuum\\anaconda3\\lib\\site-packages\\sklearn\\linear_model\\sag.py:337: ConvergenceWarning: The max_iter was reached which means the coef_ did not converge\n",
      "  \"the coef_ did not converge\", ConvergenceWarning)\n",
      "C:\\Users\\alessandr.lombardin3\\AppData\\Local\\Continuum\\anaconda3\\lib\\site-packages\\sklearn\\linear_model\\sag.py:337: ConvergenceWarning: The max_iter was reached which means the coef_ did not converge\n",
      "  \"the coef_ did not converge\", ConvergenceWarning)\n",
      "C:\\Users\\alessandr.lombardin3\\AppData\\Local\\Continuum\\anaconda3\\lib\\site-packages\\sklearn\\linear_model\\sag.py:337: ConvergenceWarning: The max_iter was reached which means the coef_ did not converge\n",
      "  \"the coef_ did not converge\", ConvergenceWarning)\n",
      "C:\\Users\\alessandr.lombardin3\\AppData\\Local\\Continuum\\anaconda3\\lib\\site-packages\\sklearn\\linear_model\\sag.py:337: ConvergenceWarning: The max_iter was reached which means the coef_ did not converge\n",
      "  \"the coef_ did not converge\", ConvergenceWarning)\n",
      "C:\\Users\\alessandr.lombardin3\\AppData\\Local\\Continuum\\anaconda3\\lib\\site-packages\\sklearn\\linear_model\\sag.py:337: ConvergenceWarning: The max_iter was reached which means the coef_ did not converge\n",
      "  \"the coef_ did not converge\", ConvergenceWarning)\n",
      "C:\\Users\\alessandr.lombardin3\\AppData\\Local\\Continuum\\anaconda3\\lib\\site-packages\\sklearn\\linear_model\\sag.py:337: ConvergenceWarning: The max_iter was reached which means the coef_ did not converge\n",
      "  \"the coef_ did not converge\", ConvergenceWarning)\n",
      "C:\\Users\\alessandr.lombardin3\\AppData\\Local\\Continuum\\anaconda3\\lib\\site-packages\\sklearn\\linear_model\\sag.py:337: ConvergenceWarning: The max_iter was reached which means the coef_ did not converge\n",
      "  \"the coef_ did not converge\", ConvergenceWarning)\n",
      "C:\\Users\\alessandr.lombardin3\\AppData\\Local\\Continuum\\anaconda3\\lib\\site-packages\\sklearn\\linear_model\\sag.py:337: ConvergenceWarning: The max_iter was reached which means the coef_ did not converge\n",
      "  \"the coef_ did not converge\", ConvergenceWarning)\n",
      "C:\\Users\\alessandr.lombardin3\\AppData\\Local\\Continuum\\anaconda3\\lib\\site-packages\\sklearn\\linear_model\\sag.py:337: ConvergenceWarning: The max_iter was reached which means the coef_ did not converge\n",
      "  \"the coef_ did not converge\", ConvergenceWarning)\n",
      "C:\\Users\\alessandr.lombardin3\\AppData\\Local\\Continuum\\anaconda3\\lib\\site-packages\\sklearn\\linear_model\\sag.py:337: ConvergenceWarning: The max_iter was reached which means the coef_ did not converge\n",
      "  \"the coef_ did not converge\", ConvergenceWarning)\n",
      "C:\\Users\\alessandr.lombardin3\\AppData\\Local\\Continuum\\anaconda3\\lib\\site-packages\\sklearn\\linear_model\\sag.py:337: ConvergenceWarning: The max_iter was reached which means the coef_ did not converge\n",
      "  \"the coef_ did not converge\", ConvergenceWarning)\n",
      "C:\\Users\\alessandr.lombardin3\\AppData\\Local\\Continuum\\anaconda3\\lib\\site-packages\\sklearn\\linear_model\\sag.py:337: ConvergenceWarning: The max_iter was reached which means the coef_ did not converge\n",
      "  \"the coef_ did not converge\", ConvergenceWarning)\n",
      "C:\\Users\\alessandr.lombardin3\\AppData\\Local\\Continuum\\anaconda3\\lib\\site-packages\\sklearn\\linear_model\\sag.py:337: ConvergenceWarning: The max_iter was reached which means the coef_ did not converge\n",
      "  \"the coef_ did not converge\", ConvergenceWarning)\n",
      "C:\\Users\\alessandr.lombardin3\\AppData\\Local\\Continuum\\anaconda3\\lib\\site-packages\\sklearn\\linear_model\\sag.py:337: ConvergenceWarning: The max_iter was reached which means the coef_ did not converge\n",
      "  \"the coef_ did not converge\", ConvergenceWarning)\n",
      "C:\\Users\\alessandr.lombardin3\\AppData\\Local\\Continuum\\anaconda3\\lib\\site-packages\\sklearn\\linear_model\\sag.py:337: ConvergenceWarning: The max_iter was reached which means the coef_ did not converge\n",
      "  \"the coef_ did not converge\", ConvergenceWarning)\n",
      "C:\\Users\\alessandr.lombardin3\\AppData\\Local\\Continuum\\anaconda3\\lib\\site-packages\\sklearn\\linear_model\\sag.py:337: ConvergenceWarning: The max_iter was reached which means the coef_ did not converge\n",
      "  \"the coef_ did not converge\", ConvergenceWarning)\n",
      "C:\\Users\\alessandr.lombardin3\\AppData\\Local\\Continuum\\anaconda3\\lib\\site-packages\\sklearn\\linear_model\\sag.py:337: ConvergenceWarning: The max_iter was reached which means the coef_ did not converge\n",
      "  \"the coef_ did not converge\", ConvergenceWarning)\n",
      "C:\\Users\\alessandr.lombardin3\\AppData\\Local\\Continuum\\anaconda3\\lib\\site-packages\\sklearn\\linear_model\\sag.py:337: ConvergenceWarning: The max_iter was reached which means the coef_ did not converge\n",
      "  \"the coef_ did not converge\", ConvergenceWarning)\n",
      "C:\\Users\\alessandr.lombardin3\\AppData\\Local\\Continuum\\anaconda3\\lib\\site-packages\\sklearn\\linear_model\\sag.py:337: ConvergenceWarning: The max_iter was reached which means the coef_ did not converge\n",
      "  \"the coef_ did not converge\", ConvergenceWarning)\n",
      "C:\\Users\\alessandr.lombardin3\\AppData\\Local\\Continuum\\anaconda3\\lib\\site-packages\\sklearn\\linear_model\\sag.py:337: ConvergenceWarning: The max_iter was reached which means the coef_ did not converge\n",
      "  \"the coef_ did not converge\", ConvergenceWarning)\n",
      "C:\\Users\\alessandr.lombardin3\\AppData\\Local\\Continuum\\anaconda3\\lib\\site-packages\\sklearn\\linear_model\\sag.py:337: ConvergenceWarning: The max_iter was reached which means the coef_ did not converge\n",
      "  \"the coef_ did not converge\", ConvergenceWarning)\n",
      "C:\\Users\\alessandr.lombardin3\\AppData\\Local\\Continuum\\anaconda3\\lib\\site-packages\\sklearn\\linear_model\\sag.py:337: ConvergenceWarning: The max_iter was reached which means the coef_ did not converge\n",
      "  \"the coef_ did not converge\", ConvergenceWarning)\n"
     ]
    },
    {
     "name": "stderr",
     "output_type": "stream",
     "text": [
      "C:\\Users\\alessandr.lombardin3\\AppData\\Local\\Continuum\\anaconda3\\lib\\site-packages\\sklearn\\linear_model\\sag.py:337: ConvergenceWarning: The max_iter was reached which means the coef_ did not converge\n",
      "  \"the coef_ did not converge\", ConvergenceWarning)\n",
      "C:\\Users\\alessandr.lombardin3\\AppData\\Local\\Continuum\\anaconda3\\lib\\site-packages\\sklearn\\linear_model\\sag.py:337: ConvergenceWarning: The max_iter was reached which means the coef_ did not converge\n",
      "  \"the coef_ did not converge\", ConvergenceWarning)\n",
      "C:\\Users\\alessandr.lombardin3\\AppData\\Local\\Continuum\\anaconda3\\lib\\site-packages\\sklearn\\linear_model\\sag.py:337: ConvergenceWarning: The max_iter was reached which means the coef_ did not converge\n",
      "  \"the coef_ did not converge\", ConvergenceWarning)\n",
      "C:\\Users\\alessandr.lombardin3\\AppData\\Local\\Continuum\\anaconda3\\lib\\site-packages\\sklearn\\linear_model\\sag.py:337: ConvergenceWarning: The max_iter was reached which means the coef_ did not converge\n",
      "  \"the coef_ did not converge\", ConvergenceWarning)\n",
      "C:\\Users\\alessandr.lombardin3\\AppData\\Local\\Continuum\\anaconda3\\lib\\site-packages\\sklearn\\linear_model\\sag.py:337: ConvergenceWarning: The max_iter was reached which means the coef_ did not converge\n",
      "  \"the coef_ did not converge\", ConvergenceWarning)\n",
      "C:\\Users\\alessandr.lombardin3\\AppData\\Local\\Continuum\\anaconda3\\lib\\site-packages\\sklearn\\linear_model\\sag.py:337: ConvergenceWarning: The max_iter was reached which means the coef_ did not converge\n",
      "  \"the coef_ did not converge\", ConvergenceWarning)\n",
      "C:\\Users\\alessandr.lombardin3\\AppData\\Local\\Continuum\\anaconda3\\lib\\site-packages\\sklearn\\linear_model\\sag.py:337: ConvergenceWarning: The max_iter was reached which means the coef_ did not converge\n",
      "  \"the coef_ did not converge\", ConvergenceWarning)\n",
      "C:\\Users\\alessandr.lombardin3\\AppData\\Local\\Continuum\\anaconda3\\lib\\site-packages\\sklearn\\linear_model\\sag.py:337: ConvergenceWarning: The max_iter was reached which means the coef_ did not converge\n",
      "  \"the coef_ did not converge\", ConvergenceWarning)\n",
      "C:\\Users\\alessandr.lombardin3\\AppData\\Local\\Continuum\\anaconda3\\lib\\site-packages\\sklearn\\linear_model\\sag.py:337: ConvergenceWarning: The max_iter was reached which means the coef_ did not converge\n",
      "  \"the coef_ did not converge\", ConvergenceWarning)\n",
      "C:\\Users\\alessandr.lombardin3\\AppData\\Local\\Continuum\\anaconda3\\lib\\site-packages\\sklearn\\linear_model\\sag.py:337: ConvergenceWarning: The max_iter was reached which means the coef_ did not converge\n",
      "  \"the coef_ did not converge\", ConvergenceWarning)\n",
      "C:\\Users\\alessandr.lombardin3\\AppData\\Local\\Continuum\\anaconda3\\lib\\site-packages\\sklearn\\linear_model\\sag.py:337: ConvergenceWarning: The max_iter was reached which means the coef_ did not converge\n",
      "  \"the coef_ did not converge\", ConvergenceWarning)\n",
      "C:\\Users\\alessandr.lombardin3\\AppData\\Local\\Continuum\\anaconda3\\lib\\site-packages\\sklearn\\linear_model\\sag.py:337: ConvergenceWarning: The max_iter was reached which means the coef_ did not converge\n",
      "  \"the coef_ did not converge\", ConvergenceWarning)\n",
      "C:\\Users\\alessandr.lombardin3\\AppData\\Local\\Continuum\\anaconda3\\lib\\site-packages\\sklearn\\linear_model\\sag.py:337: ConvergenceWarning: The max_iter was reached which means the coef_ did not converge\n",
      "  \"the coef_ did not converge\", ConvergenceWarning)\n",
      "C:\\Users\\alessandr.lombardin3\\AppData\\Local\\Continuum\\anaconda3\\lib\\site-packages\\sklearn\\linear_model\\sag.py:337: ConvergenceWarning: The max_iter was reached which means the coef_ did not converge\n",
      "  \"the coef_ did not converge\", ConvergenceWarning)\n",
      "C:\\Users\\alessandr.lombardin3\\AppData\\Local\\Continuum\\anaconda3\\lib\\site-packages\\sklearn\\linear_model\\sag.py:337: ConvergenceWarning: The max_iter was reached which means the coef_ did not converge\n",
      "  \"the coef_ did not converge\", ConvergenceWarning)\n",
      "C:\\Users\\alessandr.lombardin3\\AppData\\Local\\Continuum\\anaconda3\\lib\\site-packages\\sklearn\\linear_model\\sag.py:337: ConvergenceWarning: The max_iter was reached which means the coef_ did not converge\n",
      "  \"the coef_ did not converge\", ConvergenceWarning)\n",
      "C:\\Users\\alessandr.lombardin3\\AppData\\Local\\Continuum\\anaconda3\\lib\\site-packages\\sklearn\\linear_model\\sag.py:337: ConvergenceWarning: The max_iter was reached which means the coef_ did not converge\n",
      "  \"the coef_ did not converge\", ConvergenceWarning)\n",
      "C:\\Users\\alessandr.lombardin3\\AppData\\Local\\Continuum\\anaconda3\\lib\\site-packages\\sklearn\\linear_model\\sag.py:337: ConvergenceWarning: The max_iter was reached which means the coef_ did not converge\n",
      "  \"the coef_ did not converge\", ConvergenceWarning)\n",
      "C:\\Users\\alessandr.lombardin3\\AppData\\Local\\Continuum\\anaconda3\\lib\\site-packages\\sklearn\\linear_model\\sag.py:337: ConvergenceWarning: The max_iter was reached which means the coef_ did not converge\n",
      "  \"the coef_ did not converge\", ConvergenceWarning)\n",
      "C:\\Users\\alessandr.lombardin3\\AppData\\Local\\Continuum\\anaconda3\\lib\\site-packages\\sklearn\\linear_model\\sag.py:337: ConvergenceWarning: The max_iter was reached which means the coef_ did not converge\n",
      "  \"the coef_ did not converge\", ConvergenceWarning)\n",
      "C:\\Users\\alessandr.lombardin3\\AppData\\Local\\Continuum\\anaconda3\\lib\\site-packages\\sklearn\\linear_model\\sag.py:337: ConvergenceWarning: The max_iter was reached which means the coef_ did not converge\n",
      "  \"the coef_ did not converge\", ConvergenceWarning)\n",
      "C:\\Users\\alessandr.lombardin3\\AppData\\Local\\Continuum\\anaconda3\\lib\\site-packages\\sklearn\\linear_model\\sag.py:337: ConvergenceWarning: The max_iter was reached which means the coef_ did not converge\n",
      "  \"the coef_ did not converge\", ConvergenceWarning)\n",
      "C:\\Users\\alessandr.lombardin3\\AppData\\Local\\Continuum\\anaconda3\\lib\\site-packages\\sklearn\\linear_model\\sag.py:337: ConvergenceWarning: The max_iter was reached which means the coef_ did not converge\n",
      "  \"the coef_ did not converge\", ConvergenceWarning)\n",
      "C:\\Users\\alessandr.lombardin3\\AppData\\Local\\Continuum\\anaconda3\\lib\\site-packages\\sklearn\\linear_model\\sag.py:337: ConvergenceWarning: The max_iter was reached which means the coef_ did not converge\n",
      "  \"the coef_ did not converge\", ConvergenceWarning)\n",
      "C:\\Users\\alessandr.lombardin3\\AppData\\Local\\Continuum\\anaconda3\\lib\\site-packages\\sklearn\\linear_model\\sag.py:337: ConvergenceWarning: The max_iter was reached which means the coef_ did not converge\n",
      "  \"the coef_ did not converge\", ConvergenceWarning)\n",
      "C:\\Users\\alessandr.lombardin3\\AppData\\Local\\Continuum\\anaconda3\\lib\\site-packages\\sklearn\\linear_model\\sag.py:337: ConvergenceWarning: The max_iter was reached which means the coef_ did not converge\n",
      "  \"the coef_ did not converge\", ConvergenceWarning)\n",
      "C:\\Users\\alessandr.lombardin3\\AppData\\Local\\Continuum\\anaconda3\\lib\\site-packages\\sklearn\\linear_model\\sag.py:337: ConvergenceWarning: The max_iter was reached which means the coef_ did not converge\n",
      "  \"the coef_ did not converge\", ConvergenceWarning)\n",
      "C:\\Users\\alessandr.lombardin3\\AppData\\Local\\Continuum\\anaconda3\\lib\\site-packages\\sklearn\\linear_model\\sag.py:337: ConvergenceWarning: The max_iter was reached which means the coef_ did not converge\n",
      "  \"the coef_ did not converge\", ConvergenceWarning)\n",
      "C:\\Users\\alessandr.lombardin3\\AppData\\Local\\Continuum\\anaconda3\\lib\\site-packages\\sklearn\\linear_model\\sag.py:337: ConvergenceWarning: The max_iter was reached which means the coef_ did not converge\n",
      "  \"the coef_ did not converge\", ConvergenceWarning)\n",
      "C:\\Users\\alessandr.lombardin3\\AppData\\Local\\Continuum\\anaconda3\\lib\\site-packages\\sklearn\\linear_model\\sag.py:337: ConvergenceWarning: The max_iter was reached which means the coef_ did not converge\n",
      "  \"the coef_ did not converge\", ConvergenceWarning)\n",
      "C:\\Users\\alessandr.lombardin3\\AppData\\Local\\Continuum\\anaconda3\\lib\\site-packages\\sklearn\\linear_model\\sag.py:337: ConvergenceWarning: The max_iter was reached which means the coef_ did not converge\n",
      "  \"the coef_ did not converge\", ConvergenceWarning)\n",
      "C:\\Users\\alessandr.lombardin3\\AppData\\Local\\Continuum\\anaconda3\\lib\\site-packages\\sklearn\\linear_model\\sag.py:337: ConvergenceWarning: The max_iter was reached which means the coef_ did not converge\n",
      "  \"the coef_ did not converge\", ConvergenceWarning)\n",
      "C:\\Users\\alessandr.lombardin3\\AppData\\Local\\Continuum\\anaconda3\\lib\\site-packages\\sklearn\\linear_model\\sag.py:337: ConvergenceWarning: The max_iter was reached which means the coef_ did not converge\n",
      "  \"the coef_ did not converge\", ConvergenceWarning)\n",
      "C:\\Users\\alessandr.lombardin3\\AppData\\Local\\Continuum\\anaconda3\\lib\\site-packages\\sklearn\\linear_model\\sag.py:337: ConvergenceWarning: The max_iter was reached which means the coef_ did not converge\n",
      "  \"the coef_ did not converge\", ConvergenceWarning)\n",
      "C:\\Users\\alessandr.lombardin3\\AppData\\Local\\Continuum\\anaconda3\\lib\\site-packages\\sklearn\\linear_model\\sag.py:337: ConvergenceWarning: The max_iter was reached which means the coef_ did not converge\n",
      "  \"the coef_ did not converge\", ConvergenceWarning)\n",
      "C:\\Users\\alessandr.lombardin3\\AppData\\Local\\Continuum\\anaconda3\\lib\\site-packages\\sklearn\\linear_model\\sag.py:337: ConvergenceWarning: The max_iter was reached which means the coef_ did not converge\n",
      "  \"the coef_ did not converge\", ConvergenceWarning)\n"
     ]
    },
    {
     "name": "stderr",
     "output_type": "stream",
     "text": [
      "C:\\Users\\alessandr.lombardin3\\AppData\\Local\\Continuum\\anaconda3\\lib\\site-packages\\sklearn\\linear_model\\sag.py:337: ConvergenceWarning: The max_iter was reached which means the coef_ did not converge\n",
      "  \"the coef_ did not converge\", ConvergenceWarning)\n",
      "C:\\Users\\alessandr.lombardin3\\AppData\\Local\\Continuum\\anaconda3\\lib\\site-packages\\sklearn\\linear_model\\sag.py:337: ConvergenceWarning: The max_iter was reached which means the coef_ did not converge\n",
      "  \"the coef_ did not converge\", ConvergenceWarning)\n",
      "C:\\Users\\alessandr.lombardin3\\AppData\\Local\\Continuum\\anaconda3\\lib\\site-packages\\sklearn\\linear_model\\sag.py:337: ConvergenceWarning: The max_iter was reached which means the coef_ did not converge\n",
      "  \"the coef_ did not converge\", ConvergenceWarning)\n",
      "C:\\Users\\alessandr.lombardin3\\AppData\\Local\\Continuum\\anaconda3\\lib\\site-packages\\sklearn\\linear_model\\sag.py:337: ConvergenceWarning: The max_iter was reached which means the coef_ did not converge\n",
      "  \"the coef_ did not converge\", ConvergenceWarning)\n",
      "C:\\Users\\alessandr.lombardin3\\AppData\\Local\\Continuum\\anaconda3\\lib\\site-packages\\sklearn\\linear_model\\sag.py:337: ConvergenceWarning: The max_iter was reached which means the coef_ did not converge\n",
      "  \"the coef_ did not converge\", ConvergenceWarning)\n",
      "C:\\Users\\alessandr.lombardin3\\AppData\\Local\\Continuum\\anaconda3\\lib\\site-packages\\sklearn\\linear_model\\sag.py:337: ConvergenceWarning: The max_iter was reached which means the coef_ did not converge\n",
      "  \"the coef_ did not converge\", ConvergenceWarning)\n",
      "C:\\Users\\alessandr.lombardin3\\AppData\\Local\\Continuum\\anaconda3\\lib\\site-packages\\sklearn\\linear_model\\sag.py:337: ConvergenceWarning: The max_iter was reached which means the coef_ did not converge\n",
      "  \"the coef_ did not converge\", ConvergenceWarning)\n",
      "C:\\Users\\alessandr.lombardin3\\AppData\\Local\\Continuum\\anaconda3\\lib\\site-packages\\sklearn\\linear_model\\sag.py:337: ConvergenceWarning: The max_iter was reached which means the coef_ did not converge\n",
      "  \"the coef_ did not converge\", ConvergenceWarning)\n",
      "C:\\Users\\alessandr.lombardin3\\AppData\\Local\\Continuum\\anaconda3\\lib\\site-packages\\sklearn\\linear_model\\sag.py:337: ConvergenceWarning: The max_iter was reached which means the coef_ did not converge\n",
      "  \"the coef_ did not converge\", ConvergenceWarning)\n",
      "C:\\Users\\alessandr.lombardin3\\AppData\\Local\\Continuum\\anaconda3\\lib\\site-packages\\sklearn\\linear_model\\sag.py:337: ConvergenceWarning: The max_iter was reached which means the coef_ did not converge\n",
      "  \"the coef_ did not converge\", ConvergenceWarning)\n",
      "C:\\Users\\alessandr.lombardin3\\AppData\\Local\\Continuum\\anaconda3\\lib\\site-packages\\sklearn\\linear_model\\sag.py:337: ConvergenceWarning: The max_iter was reached which means the coef_ did not converge\n",
      "  \"the coef_ did not converge\", ConvergenceWarning)\n",
      "C:\\Users\\alessandr.lombardin3\\AppData\\Local\\Continuum\\anaconda3\\lib\\site-packages\\sklearn\\linear_model\\sag.py:337: ConvergenceWarning: The max_iter was reached which means the coef_ did not converge\n",
      "  \"the coef_ did not converge\", ConvergenceWarning)\n",
      "C:\\Users\\alessandr.lombardin3\\AppData\\Local\\Continuum\\anaconda3\\lib\\site-packages\\sklearn\\linear_model\\sag.py:337: ConvergenceWarning: The max_iter was reached which means the coef_ did not converge\n",
      "  \"the coef_ did not converge\", ConvergenceWarning)\n",
      "C:\\Users\\alessandr.lombardin3\\AppData\\Local\\Continuum\\anaconda3\\lib\\site-packages\\sklearn\\linear_model\\sag.py:337: ConvergenceWarning: The max_iter was reached which means the coef_ did not converge\n",
      "  \"the coef_ did not converge\", ConvergenceWarning)\n",
      "C:\\Users\\alessandr.lombardin3\\AppData\\Local\\Continuum\\anaconda3\\lib\\site-packages\\sklearn\\linear_model\\sag.py:337: ConvergenceWarning: The max_iter was reached which means the coef_ did not converge\n",
      "  \"the coef_ did not converge\", ConvergenceWarning)\n",
      "C:\\Users\\alessandr.lombardin3\\AppData\\Local\\Continuum\\anaconda3\\lib\\site-packages\\sklearn\\linear_model\\sag.py:337: ConvergenceWarning: The max_iter was reached which means the coef_ did not converge\n",
      "  \"the coef_ did not converge\", ConvergenceWarning)\n",
      "C:\\Users\\alessandr.lombardin3\\AppData\\Local\\Continuum\\anaconda3\\lib\\site-packages\\sklearn\\linear_model\\sag.py:337: ConvergenceWarning: The max_iter was reached which means the coef_ did not converge\n",
      "  \"the coef_ did not converge\", ConvergenceWarning)\n",
      "C:\\Users\\alessandr.lombardin3\\AppData\\Local\\Continuum\\anaconda3\\lib\\site-packages\\sklearn\\linear_model\\sag.py:337: ConvergenceWarning: The max_iter was reached which means the coef_ did not converge\n",
      "  \"the coef_ did not converge\", ConvergenceWarning)\n",
      "C:\\Users\\alessandr.lombardin3\\AppData\\Local\\Continuum\\anaconda3\\lib\\site-packages\\sklearn\\linear_model\\sag.py:337: ConvergenceWarning: The max_iter was reached which means the coef_ did not converge\n",
      "  \"the coef_ did not converge\", ConvergenceWarning)\n",
      "C:\\Users\\alessandr.lombardin3\\AppData\\Local\\Continuum\\anaconda3\\lib\\site-packages\\sklearn\\linear_model\\sag.py:337: ConvergenceWarning: The max_iter was reached which means the coef_ did not converge\n",
      "  \"the coef_ did not converge\", ConvergenceWarning)\n",
      "C:\\Users\\alessandr.lombardin3\\AppData\\Local\\Continuum\\anaconda3\\lib\\site-packages\\sklearn\\linear_model\\sag.py:337: ConvergenceWarning: The max_iter was reached which means the coef_ did not converge\n",
      "  \"the coef_ did not converge\", ConvergenceWarning)\n",
      "C:\\Users\\alessandr.lombardin3\\AppData\\Local\\Continuum\\anaconda3\\lib\\site-packages\\sklearn\\linear_model\\sag.py:337: ConvergenceWarning: The max_iter was reached which means the coef_ did not converge\n",
      "  \"the coef_ did not converge\", ConvergenceWarning)\n"
     ]
    },
    {
     "data": {
      "text/html": [
       "<div>\n",
       "<style scoped>\n",
       "    .dataframe tbody tr th:only-of-type {\n",
       "        vertical-align: middle;\n",
       "    }\n",
       "\n",
       "    .dataframe tbody tr th {\n",
       "        vertical-align: top;\n",
       "    }\n",
       "\n",
       "    .dataframe thead th {\n",
       "        text-align: right;\n",
       "    }\n",
       "</style>\n",
       "<table border=\"1\" class=\"dataframe\">\n",
       "  <thead>\n",
       "    <tr style=\"text-align: right;\">\n",
       "      <th></th>\n",
       "      <th>mean_fit_time</th>\n",
       "      <th>std_fit_time</th>\n",
       "      <th>mean_score_time</th>\n",
       "      <th>std_score_time</th>\n",
       "      <th>param_lr__C</th>\n",
       "      <th>param_lr__multi_class</th>\n",
       "      <th>param_lr__penalty</th>\n",
       "      <th>param_polynomial</th>\n",
       "      <th>param_scaler</th>\n",
       "      <th>params</th>\n",
       "      <th>split0_test_score</th>\n",
       "      <th>split1_test_score</th>\n",
       "      <th>split2_test_score</th>\n",
       "      <th>mean_test_score</th>\n",
       "      <th>std_test_score</th>\n",
       "      <th>rank_test_score</th>\n",
       "    </tr>\n",
       "  </thead>\n",
       "  <tbody>\n",
       "    <tr>\n",
       "      <td>62</td>\n",
       "      <td>0.435665</td>\n",
       "      <td>0.009526</td>\n",
       "      <td>0.006334</td>\n",
       "      <td>0.000470</td>\n",
       "      <td>10</td>\n",
       "      <td>multinomial</td>\n",
       "      <td>l1</td>\n",
       "      <td>PolynomialFeatures(degree=2, include_bias=Fals...</td>\n",
       "      <td>None</td>\n",
       "      <td>{'lr__C': 10, 'lr__multi_class': 'multinomial'...</td>\n",
       "      <td>0.845577</td>\n",
       "      <td>0.842579</td>\n",
       "      <td>0.828571</td>\n",
       "      <td>0.838919</td>\n",
       "      <td>0.007408</td>\n",
       "      <td>1</td>\n",
       "    </tr>\n",
       "    <tr>\n",
       "      <td>54</td>\n",
       "      <td>0.312342</td>\n",
       "      <td>0.008265</td>\n",
       "      <td>0.006997</td>\n",
       "      <td>0.000005</td>\n",
       "      <td>10</td>\n",
       "      <td>ovr</td>\n",
       "      <td>l1</td>\n",
       "      <td>PolynomialFeatures(degree=2, include_bias=Fals...</td>\n",
       "      <td>None</td>\n",
       "      <td>{'lr__C': 10, 'lr__multi_class': 'ovr', 'lr__p...</td>\n",
       "      <td>0.845577</td>\n",
       "      <td>0.842579</td>\n",
       "      <td>0.828571</td>\n",
       "      <td>0.838919</td>\n",
       "      <td>0.007408</td>\n",
       "      <td>1</td>\n",
       "    </tr>\n",
       "    <tr>\n",
       "      <td>46</td>\n",
       "      <td>0.259673</td>\n",
       "      <td>0.000944</td>\n",
       "      <td>0.006331</td>\n",
       "      <td>0.000473</td>\n",
       "      <td>1</td>\n",
       "      <td>multinomial</td>\n",
       "      <td>l1</td>\n",
       "      <td>PolynomialFeatures(degree=2, include_bias=Fals...</td>\n",
       "      <td>None</td>\n",
       "      <td>{'lr__C': 1, 'lr__multi_class': 'multinomial',...</td>\n",
       "      <td>0.844078</td>\n",
       "      <td>0.844078</td>\n",
       "      <td>0.822556</td>\n",
       "      <td>0.836918</td>\n",
       "      <td>0.010140</td>\n",
       "      <td>3</td>\n",
       "    </tr>\n",
       "    <tr>\n",
       "      <td>34</td>\n",
       "      <td>0.099995</td>\n",
       "      <td>0.002444</td>\n",
       "      <td>0.007340</td>\n",
       "      <td>0.000472</td>\n",
       "      <td>1</td>\n",
       "      <td>ovr</td>\n",
       "      <td>l2</td>\n",
       "      <td>PolynomialFeatures(degree=2, include_bias=Fals...</td>\n",
       "      <td>None</td>\n",
       "      <td>{'lr__C': 1, 'lr__multi_class': 'ovr', 'lr__pe...</td>\n",
       "      <td>0.844078</td>\n",
       "      <td>0.839580</td>\n",
       "      <td>0.827068</td>\n",
       "      <td>0.836918</td>\n",
       "      <td>0.007194</td>\n",
       "      <td>3</td>\n",
       "    </tr>\n",
       "    <tr>\n",
       "      <td>42</td>\n",
       "      <td>0.165998</td>\n",
       "      <td>0.001633</td>\n",
       "      <td>0.006002</td>\n",
       "      <td>0.000003</td>\n",
       "      <td>1</td>\n",
       "      <td>multinomial</td>\n",
       "      <td>l2</td>\n",
       "      <td>PolynomialFeatures(degree=2, include_bias=Fals...</td>\n",
       "      <td>None</td>\n",
       "      <td>{'lr__C': 1, 'lr__multi_class': 'multinomial',...</td>\n",
       "      <td>0.839580</td>\n",
       "      <td>0.842579</td>\n",
       "      <td>0.827068</td>\n",
       "      <td>0.836418</td>\n",
       "      <td>0.006715</td>\n",
       "      <td>5</td>\n",
       "    </tr>\n",
       "  </tbody>\n",
       "</table>\n",
       "</div>"
      ],
      "text/plain": [
       "    mean_fit_time  std_fit_time  mean_score_time  std_score_time param_lr__C  \\\n",
       "62       0.435665      0.009526         0.006334        0.000470          10   \n",
       "54       0.312342      0.008265         0.006997        0.000005          10   \n",
       "46       0.259673      0.000944         0.006331        0.000473           1   \n",
       "34       0.099995      0.002444         0.007340        0.000472           1   \n",
       "42       0.165998      0.001633         0.006002        0.000003           1   \n",
       "\n",
       "   param_lr__multi_class param_lr__penalty  \\\n",
       "62           multinomial                l1   \n",
       "54                   ovr                l1   \n",
       "46           multinomial                l1   \n",
       "34                   ovr                l2   \n",
       "42           multinomial                l2   \n",
       "\n",
       "                                     param_polynomial param_scaler  \\\n",
       "62  PolynomialFeatures(degree=2, include_bias=Fals...         None   \n",
       "54  PolynomialFeatures(degree=2, include_bias=Fals...         None   \n",
       "46  PolynomialFeatures(degree=2, include_bias=Fals...         None   \n",
       "34  PolynomialFeatures(degree=2, include_bias=Fals...         None   \n",
       "42  PolynomialFeatures(degree=2, include_bias=Fals...         None   \n",
       "\n",
       "                                               params  split0_test_score  \\\n",
       "62  {'lr__C': 10, 'lr__multi_class': 'multinomial'...           0.845577   \n",
       "54  {'lr__C': 10, 'lr__multi_class': 'ovr', 'lr__p...           0.845577   \n",
       "46  {'lr__C': 1, 'lr__multi_class': 'multinomial',...           0.844078   \n",
       "34  {'lr__C': 1, 'lr__multi_class': 'ovr', 'lr__pe...           0.844078   \n",
       "42  {'lr__C': 1, 'lr__multi_class': 'multinomial',...           0.839580   \n",
       "\n",
       "    split1_test_score  split2_test_score  mean_test_score  std_test_score  \\\n",
       "62           0.842579           0.828571         0.838919        0.007408   \n",
       "54           0.842579           0.828571         0.838919        0.007408   \n",
       "46           0.844078           0.822556         0.836918        0.010140   \n",
       "34           0.839580           0.827068         0.836918        0.007194   \n",
       "42           0.842579           0.827068         0.836418        0.006715   \n",
       "\n",
       "    rank_test_score  \n",
       "62                1  \n",
       "54                1  \n",
       "46                3  \n",
       "34                3  \n",
       "42                5  "
      ]
     },
     "execution_count": 506,
     "metadata": {},
     "output_type": "execute_result"
    }
   ],
   "source": [
    "categorical_features = ['meal',\n",
    "                        'country',\n",
    "                       'market_segment',\n",
    "                       'distribution_channel',\n",
    "                       'reserved_room_type',\n",
    "                       'assigned_room_type',\n",
    "                       'deposit_type',\n",
    "                       'customer_type']\n",
    "\n",
    "from sklearn.compose import ColumnTransformer\n",
    "from sklearn.preprocessing import StandardScaler\n",
    "from sklearn.pipeline import Pipeline\n",
    "from sklearn.preprocessing import OneHotEncoder\n",
    "\n",
    "from sklearn.preprocessing import PolynomialFeatures\n",
    "\n",
    "categorical_transformer = OneHotEncoder(handle_unknown='ignore')\n",
    "preprocessor = ColumnTransformer([('categorical', categorical_transformer, categorical_features)])\n",
    "\n",
    "model = Pipeline([\n",
    "    ('preprocessor', preprocessor),\n",
    "    (\"scaler\", None),\n",
    "    (\"polynomial\", None),\n",
    "    (\"lr\", LogisticRegression(solver=\"saga\"))\n",
    "])\n",
    "grid = [\n",
    "    {\n",
    "        \"scaler\": [None, StandardScaler(with_mean=False)],\n",
    "        \"polynomial\": [None, PolynomialFeatures(degree=2, include_bias=False)],\n",
    "        \"lr__penalty\": [\"l2\", \"l1\"],\n",
    "        \"lr__C\": [0.01,0.1,1,10],\n",
    "        \"lr__multi_class\": [\"ovr\",\"multinomial\"]\n",
    "    }\n",
    "]\n",
    "gs = GridSearchCV(model, grid, cv=skf)\n",
    "gs.fit(X_train, y_train)\n",
    "pd.DataFrame(gs.cv_results_).sort_values(\"rank_test_score\").head(5)"
   ]
  }
 ],
 "metadata": {
  "kernelspec": {
   "display_name": "Python 3",
   "language": "python",
   "name": "python3"
  },
  "language_info": {
   "codemirror_mode": {
    "name": "ipython",
    "version": 3
   },
   "file_extension": ".py",
   "mimetype": "text/x-python",
   "name": "python",
   "nbconvert_exporter": "python",
   "pygments_lexer": "ipython3",
   "version": "3.7.4"
  }
 },
 "nbformat": 4,
 "nbformat_minor": 2
}
